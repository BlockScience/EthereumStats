{
 "cells": [
  {
   "cell_type": "markdown",
   "metadata": {},
   "source": [
    "# Ethereum Blockchain Explorer\n",
    "Some functions to help explore the ethereum blockchain using JSON RPC on the BlockScience geth node"
   ]
  },
  {
   "cell_type": "code",
   "execution_count": null,
   "metadata": {
    "collapsed": true
   },
   "outputs": [],
   "source": [
    "import requests, json\n",
    "import pandas as pd\n",
    "import numpy as np\n",
    "SESSION = requests.Session()\n",
    "f = open(\"node_ip.txt\",\"r\")\n",
    "RPC_HOST = f.readline()\n",
    "RPC_HOST = str.replace(RPC_HOST,'\\n','')\n",
    "RPC_PORT = '8545'\n",
    "RPC_URL = 'http://'+RPC_HOST+':'+RPC_PORT"
   ]
  },
  {
   "cell_type": "markdown",
   "metadata": {},
   "source": [
    "## Basic JSON downloading"
   ]
  },
  {
   "cell_type": "code",
   "execution_count": null,
   "metadata": {
    "collapsed": true
   },
   "outputs": [],
   "source": [
    "def getJSON(url, d=None):\n",
    "    h = {\"Content-Type\": \"application/json\"}\n",
    "    if d is None:\n",
    "        r = SESSION.get(url, headers=h)\n",
    "    else:\n",
    "        r = SESSION.post(url, data=d, headers=h)\n",
    "    json_data = r.text\n",
    "    response = json.loads(json_data)\n",
    "    return response"
   ]
  },
  {
   "cell_type": "code",
   "execution_count": null,
   "metadata": {
    "collapsed": true
   },
   "outputs": [],
   "source": [
    "def getRawJSON(url, d=None):\n",
    "    h = {\"Content-Type\": \"application/json\"}\n",
    "    if d is None:\n",
    "        r = SESSION.get(url, headers=h)\n",
    "    else:\n",
    "        r = SESSION.post(url, data=d, headers=h)\n",
    "    json_data = r.text\n",
    "    return json_data"
   ]
  },
  {
   "cell_type": "code",
   "execution_count": null,
   "metadata": {
    "collapsed": true
   },
   "outputs": [],
   "source": [
    "# test if the getJSON function supports GET requests\n",
    "# getJSON('https://api.etherscan.io/api?module=account&action=balance&address=0xde0b295669a9fd93d5f28d9ec85e40f4cb697bae&tag=latest&apikey=YourApiKeyToken')"
   ]
  },
  {
   "cell_type": "code",
   "execution_count": null,
   "metadata": {
    "collapsed": true
   },
   "outputs": [],
   "source": [
    "# test if the getJSON function supports POST requests\n",
    "# getJSON(RPC_URL,'{\"jsonrpc\":\"2.0\",\"method\":\"eth_syncing\",\"params\":[],\"id\":1}')"
   ]
  },
  {
   "cell_type": "markdown",
   "metadata": {},
   "source": [
    "## Consensys EthJsonRpc Package"
   ]
  },
  {
   "cell_type": "markdown",
   "metadata": {},
   "source": [
    "I wasn't able to quickly make the package work on Python 3"
   ]
  },
  {
   "cell_type": "code",
   "execution_count": null,
   "metadata": {
    "collapsed": true
   },
   "outputs": [],
   "source": [
    "# from ethjsonrpc import EthJsonRpc\n",
    "# c = EthJsonRpc('35.196.250.157', 8545)\n",
    "# print(c.net_version())\n",
    "# print(c.web3_clientVersion())\n",
    "# print(c.eth_gasPrice())"
   ]
  },
  {
   "cell_type": "markdown",
   "metadata": {},
   "source": [
    "So I began copying their functions. Most of them still need testing. Ideally we should fork and make our own package compatible with Python 3"
   ]
  },
  {
   "cell_type": "code",
   "execution_count": null,
   "metadata": {
    "collapsed": true
   },
   "outputs": [],
   "source": [
    "# FROM https://github.com/ConsenSys/ethjsonrpc/blob/master/ethjsonrpc/utils.py\n",
    "def hex_to_dec(x):\n",
    "    '''\n",
    "    Convert hex to decimal\n",
    "    '''\n",
    "    return int(x, 16)"
   ]
  },
  {
   "cell_type": "code",
   "execution_count": null,
   "metadata": {
    "collapsed": true
   },
   "outputs": [],
   "source": [
    "# FROM https://github.com/ConsenSys/ethjsonrpc/blob/master/ethjsonrpc/utils.py\n",
    "def clean_hex(d):\n",
    "    '''\n",
    "    Convert decimal to hex and remove the \"L\" suffix that is appended to large\n",
    "    numbers\n",
    "    '''\n",
    "    return hex(d).rstrip('L')"
   ]
  },
  {
   "cell_type": "code",
   "execution_count": null,
   "metadata": {
    "collapsed": true
   },
   "outputs": [],
   "source": [
    "# FROM https://github.com/ConsenSys/ethjsonrpc/blob/master/ethjsonrpc/utils.py\n",
    "def validate_block(block):\n",
    "#     doesn't work on Python 3\n",
    "#     if isinstance(block, basestring):\n",
    "#         if block not in BLOCK_TAGS:\n",
    "#             raise ValueError('invalid block tag')\n",
    "    if isinstance(block, int):\n",
    "        block = hex(block)\n",
    "    return block"
   ]
  },
  {
   "cell_type": "code",
   "execution_count": null,
   "metadata": {
    "collapsed": true
   },
   "outputs": [],
   "source": [
    "# FROM https://github.com/ConsenSys/ethjsonrpc/blob/master/ethjsonrpc/utils.py\n",
    "def wei_to_ether(wei):\n",
    "    '''\n",
    "    Convert wei to ether\n",
    "    '''\n",
    "    return 1.0 * wei / 10**18"
   ]
  },
  {
   "cell_type": "code",
   "execution_count": null,
   "metadata": {
    "collapsed": true
   },
   "outputs": [],
   "source": [
    "# FROM https://github.com/ConsenSys/ethjsonrpc/blob/master/ethjsonrpc/utils.py\n",
    "def ether_to_wei(ether):\n",
    "    '''\n",
    "    Convert ether to wei\n",
    "    '''\n",
    "    return ether * 10**18"
   ]
  },
  {
   "cell_type": "code",
   "execution_count": null,
   "metadata": {
    "collapsed": true
   },
   "outputs": [],
   "source": [
    "# FROM: https://github.com/ConsenSys/ethjsonrpc/blob/master/ethjsonrpc/exceptions.py\n",
    "class EthJsonRpcError(Exception):\n",
    "    pass\n",
    "class ConnectionError(EthJsonRpcError):\n",
    "    pass\n",
    "class BadStatusCodeError(EthJsonRpcError):\n",
    "    pass\n",
    "class BadJsonError(EthJsonRpcError):\n",
    "    pass\n",
    "class BadResponseError(EthJsonRpcError):\n",
    "    pass"
   ]
  },
  {
   "cell_type": "code",
   "execution_count": null,
   "metadata": {
    "collapsed": true
   },
   "outputs": [],
   "source": [
    "# FROM: https://github.com/ConsenSys/ethjsonrpc/blob/master/ethjsonrpc/client.py\n",
    "BLOCK_TAG_EARLIEST = 'earliest'\n",
    "BLOCK_TAG_LATEST   = 'latest'\n",
    "BLOCK_TAG_PENDING  = 'pending'\n",
    "BLOCK_TAGS = (\n",
    "    BLOCK_TAG_EARLIEST,\n",
    "    BLOCK_TAG_LATEST,\n",
    "    BLOCK_TAG_PENDING,\n",
    ")"
   ]
  },
  {
   "cell_type": "code",
   "execution_count": null,
   "metadata": {
    "collapsed": true
   },
   "outputs": [],
   "source": [
    "# FROM: https://github.com/ConsenSys/ethjsonrpc/blob/master/ethjsonrpc/client.py\n",
    "def _call(method, params=None, _id=1):\n",
    "    params = params or []\n",
    "    data = {\n",
    "        'jsonrpc': '2.0',\n",
    "        'method':  method,\n",
    "        'params':  params,\n",
    "        'id':      _id,\n",
    "    }\n",
    "    scheme = 'http'\n",
    "#     if tls:\n",
    "#         scheme += 's'\n",
    "    url = '{}://{}:{}'.format(scheme, RPC_HOST, RPC_PORT)\n",
    "    headers = {'Content-Type': 'application/json'}\n",
    "    try:\n",
    "        r = SESSION.post(url, headers=headers, data=json.dumps(data))\n",
    "    except RequestsConnectionError:\n",
    "        raise ConnectionError\n",
    "    if r.status_code / 100 != 2:\n",
    "        raise BadStatusCodeError(r.status_code)\n",
    "    try:\n",
    "        response = r.json()\n",
    "    except ValueError:\n",
    "        raise BadJsonError(r.text)\n",
    "    try:\n",
    "        return response['result']\n",
    "    except KeyError:\n",
    "        raise BadResponseError(response)"
   ]
  },
  {
   "cell_type": "code",
   "execution_count": null,
   "metadata": {
    "collapsed": true
   },
   "outputs": [],
   "source": [
    "################################################################################\n",
    "# high-level methods\n",
    "################################################################################"
   ]
  },
  {
   "cell_type": "code",
   "execution_count": null,
   "metadata": {
    "collapsed": true
   },
   "outputs": [],
   "source": [
    "# FROM: https://github.com/ConsenSys/ethjsonrpc/blob/master/ethjsonrpc/client.py\n",
    "def transfer(from_, to, amount):\n",
    "    '''\n",
    "    Send wei from one address to another\n",
    "    '''\n",
    "    return eth_sendTransaction(from_address=from_, to_address=to, value=amount)"
   ]
  },
  {
   "cell_type": "code",
   "execution_count": null,
   "metadata": {
    "collapsed": true
   },
   "outputs": [],
   "source": [
    "# FROM: https://github.com/ConsenSys/ethjsonrpc/blob/master/ethjsonrpc/client.py\n",
    "def create_contract(from_, code, gas, sig=None, args=None):\n",
    "    '''\n",
    "    Create a contract on the blockchain from compiled EVM code. Returns the\n",
    "    transaction hash.\n",
    "    '''\n",
    "    from_ = from_ or eth_coinbase()\n",
    "    if sig is not None and args is not None:\n",
    "         types = sig[sig.find('(') + 1: sig.find(')')].split(',')\n",
    "         encoded_params = encode_abi(types, args)\n",
    "         code += encoded_params.encode('hex')\n",
    "    return eth_sendTransaction(from_address=from_, gas=gas, data=code)"
   ]
  },
  {
   "cell_type": "code",
   "execution_count": null,
   "metadata": {
    "collapsed": true
   },
   "outputs": [],
   "source": [
    "# FROM: https://github.com/ConsenSys/ethjsonrpc/blob/master/ethjsonrpc/client.py\n",
    "def get_contract_address(tx):\n",
    "    '''\n",
    "    Get the address for a contract from the transaction that created it\n",
    "    '''\n",
    "    receipt = eth_getTransactionReceipt(tx)\n",
    "    return receipt['contractAddress']"
   ]
  },
  {
   "cell_type": "code",
   "execution_count": null,
   "metadata": {
    "collapsed": true
   },
   "outputs": [],
   "source": [
    "# FROM: https://github.com/ConsenSys/ethjsonrpc/blob/master/ethjsonrpc/client.py\n",
    "def call(address, sig, args, result_types):\n",
    "    '''\n",
    "    Call a contract function on the RPC server, without sending a\n",
    "    transaction (useful for reading data)\n",
    "    '''\n",
    "    data = _encode_function(sig, args)\n",
    "    data_hex = data.encode('hex')\n",
    "    response = eth_call(to_address=address, data=data_hex)\n",
    "    return decode_abi(result_types, response[2:].decode('hex'))"
   ]
  },
  {
   "cell_type": "code",
   "execution_count": null,
   "metadata": {
    "collapsed": true
   },
   "outputs": [],
   "source": [
    "# FROM: https://github.com/ConsenSys/ethjsonrpc/blob/master/ethjsonrpc/client.py\n",
    "def call_with_transaction(from_, address, sig, args, gas=None, gas_price=None, value=None):\n",
    "    '''\n",
    "    Call a contract function by sending a transaction (useful for storing\n",
    "    data)\n",
    "    '''\n",
    "    gas = gas or DEFAULT_GAS_PER_TX\n",
    "    gas_price = gas_price or DEFAULT_GAS_PRICE\n",
    "    data = _encode_function(sig, args)\n",
    "    data_hex = data.encode('hex')\n",
    "    return eth_sendTransaction(from_address=from_, to_address=address, data=data_hex, gas=gas,\n",
    "                                    gas_price=gas_price, value=value)"
   ]
  },
  {
   "cell_type": "code",
   "execution_count": null,
   "metadata": {
    "collapsed": true
   },
   "outputs": [],
   "source": [
    "################################################################################\n",
    "# JSON-RPC methods\n",
    "################################################################################"
   ]
  },
  {
   "cell_type": "code",
   "execution_count": null,
   "metadata": {
    "collapsed": true
   },
   "outputs": [],
   "source": [
    "# FROM: https://github.com/ConsenSys/ethjsonrpc/blob/master/ethjsonrpc/client.py\n",
    "def web3_clientVersion():\n",
    "    '''\n",
    "    https://github.com/ethereum/wiki/wiki/JSON-RPC#web3_clientversion\n",
    "    NEEDS TESTING\n",
    "    '''\n",
    "    return _call('web3_clientVersion')"
   ]
  },
  {
   "cell_type": "code",
   "execution_count": null,
   "metadata": {
    "collapsed": true
   },
   "outputs": [],
   "source": [
    "# FROM: https://github.com/ConsenSys/ethjsonrpc/blob/master/ethjsonrpc/client.py\n",
    "def web3_sha3(data):\n",
    "    '''\n",
    "    https://github.com/ethereum/wiki/wiki/JSON-RPC#web3_sha3\n",
    "    NEEDS TESTING\n",
    "    '''\n",
    "    data = str(data).encode('hex')\n",
    "    return _call('web3_sha3', [data])"
   ]
  },
  {
   "cell_type": "code",
   "execution_count": null,
   "metadata": {
    "collapsed": true
   },
   "outputs": [],
   "source": [
    "# FROM: https://github.com/ConsenSys/ethjsonrpc/blob/master/ethjsonrpc/client.py\n",
    "def net_version():\n",
    "    '''\n",
    "    https://github.com/ethereum/wiki/wiki/JSON-RPC#net_version\n",
    "    NEEDS TESTING\n",
    "    '''\n",
    "    return _call('net_version')"
   ]
  },
  {
   "cell_type": "code",
   "execution_count": null,
   "metadata": {
    "collapsed": true
   },
   "outputs": [],
   "source": [
    "# FROM: https://github.com/ConsenSys/ethjsonrpc/blob/master/ethjsonrpc/client.py\n",
    "def net_listening():\n",
    "    '''\n",
    "    https://github.com/ethereum/wiki/wiki/JSON-RPC#net_listening\n",
    "    NEEDS TESTING\n",
    "    '''\n",
    "    return _call('net_listening')"
   ]
  },
  {
   "cell_type": "code",
   "execution_count": null,
   "metadata": {
    "collapsed": true
   },
   "outputs": [],
   "source": [
    "# FROM: https://github.com/ConsenSys/ethjsonrpc/blob/master/ethjsonrpc/client.py\n",
    "def net_peerCount():\n",
    "    '''\n",
    "    https://github.com/ethereum/wiki/wiki/JSON-RPC#net_peercount\n",
    "    NEEDS TESTING\n",
    "    '''\n",
    "    return hex_to_dec(_call('net_peerCount'))"
   ]
  },
  {
   "cell_type": "code",
   "execution_count": null,
   "metadata": {
    "collapsed": true
   },
   "outputs": [],
   "source": [
    "def eth_protocolVersion():\n",
    "    '''\n",
    "    https://github.com/ethereum/wiki/wiki/JSON-RPC#eth_protocolversion\n",
    "    NEEDS TESTING\n",
    "    '''\n",
    "    return _call('eth_protocolVersion')"
   ]
  },
  {
   "cell_type": "code",
   "execution_count": null,
   "metadata": {
    "collapsed": true
   },
   "outputs": [],
   "source": [
    "# FROM: https://github.com/ConsenSys/ethjsonrpc/blob/master/ethjsonrpc/client.py\n",
    "def eth_syncing():\n",
    "    '''\n",
    "    https://github.com/ethereum/wiki/wiki/JSON-RPC#eth_syncing\n",
    "    TESTED - MARKUS 2018-02-07\n",
    "    '''\n",
    "    return _call('eth_syncing')"
   ]
  },
  {
   "cell_type": "code",
   "execution_count": null,
   "metadata": {
    "collapsed": true
   },
   "outputs": [],
   "source": [
    "# FROM: https://github.com/ConsenSys/ethjsonrpc/blob/master/ethjsonrpc/client.py\n",
    "def eth_coinbase():\n",
    "    '''\n",
    "    https://github.com/ethereum/wiki/wiki/JSON-RPC#eth_coinbase\n",
    "    NEEDS TESTING\n",
    "    '''\n",
    "    return _call('eth_coinbase')"
   ]
  },
  {
   "cell_type": "code",
   "execution_count": null,
   "metadata": {
    "collapsed": true
   },
   "outputs": [],
   "source": [
    "# FROM: https://github.com/ConsenSys/ethjsonrpc/blob/master/ethjsonrpc/client.py\n",
    "def eth_mining():\n",
    "    '''\n",
    "    https://github.com/ethereum/wiki/wiki/JSON-RPC#eth_mining\n",
    "    NEEDS TESTING\n",
    "    '''\n",
    "    return _call('eth_mining')"
   ]
  },
  {
   "cell_type": "code",
   "execution_count": null,
   "metadata": {
    "collapsed": true
   },
   "outputs": [],
   "source": [
    "# FROM: https://github.com/ConsenSys/ethjsonrpc/blob/master/ethjsonrpc/client.py\n",
    "def eth_hashrate():\n",
    "    '''\n",
    "    https://github.com/ethereum/wiki/wiki/JSON-RPC#eth_hashrate\n",
    "    NEEDS TESTING\n",
    "    '''\n",
    "    return hex_to_dec(_call('eth_hashrate'))"
   ]
  },
  {
   "cell_type": "code",
   "execution_count": null,
   "metadata": {
    "collapsed": true
   },
   "outputs": [],
   "source": [
    "# FROM: https://github.com/ConsenSys/ethjsonrpc/blob/master/ethjsonrpc/client.py\n",
    "def eth_gasPrice():\n",
    "    '''\n",
    "    https://github.com/ethereum/wiki/wiki/JSON-RPC#eth_gasprice\n",
    "    NEEDS TESTING\n",
    "    '''\n",
    "    return hex_to_dec(_call('eth_gasPrice'))"
   ]
  },
  {
   "cell_type": "code",
   "execution_count": null,
   "metadata": {
    "collapsed": true
   },
   "outputs": [],
   "source": [
    "# FROM: https://github.com/ConsenSys/ethjsonrpc/blob/master/ethjsonrpc/client.py\n",
    "def eth_accounts():\n",
    "    '''\n",
    "    https://github.com/ethereum/wiki/wiki/JSON-RPC#eth_accounts\n",
    "    NEEDS TESTING\n",
    "    '''\n",
    "    return _call('eth_accounts')"
   ]
  },
  {
   "cell_type": "code",
   "execution_count": null,
   "metadata": {
    "collapsed": true
   },
   "outputs": [],
   "source": [
    "# FROM: https://github.com/ConsenSys/ethjsonrpc/blob/master/ethjsonrpc/client.py\n",
    "def eth_blockNumber():\n",
    "    '''\n",
    "    https://github.com/ethereum/wiki/wiki/JSON-RPC#eth_blocknumber\n",
    "    TESTED - MARKUS 2018-02-07\n",
    "    '''\n",
    "    return hex_to_dec(_call('eth_blockNumber'))"
   ]
  },
  {
   "cell_type": "code",
   "execution_count": null,
   "metadata": {
    "collapsed": true
   },
   "outputs": [],
   "source": [
    "# FROM: https://github.com/ConsenSys/ethjsonrpc/blob/master/ethjsonrpc/client.py\n",
    "def eth_getBalance(address=None, block=BLOCK_TAG_LATEST):\n",
    "    '''\n",
    "    https://github.com/ethereum/wiki/wiki/JSON-RPC#eth_getbalance\n",
    "    TESTED - MARKUS 2018-02-07\n",
    "    '''\n",
    "    address = address or eth_coinbase()\n",
    "    block = validate_block(block)\n",
    "    return hex_to_dec(_call('eth_getBalance', [address, block]))"
   ]
  },
  {
   "cell_type": "code",
   "execution_count": null,
   "metadata": {
    "collapsed": true
   },
   "outputs": [],
   "source": [
    "# FROM: https://github.com/ConsenSys/ethjsonrpc/blob/master/ethjsonrpc/client.py\n",
    "def eth_getStorageAt(address=None, position=0, block=BLOCK_TAG_LATEST):\n",
    "    '''\n",
    "    https://github.com/ethereum/wiki/wiki/JSON-RPC#eth_getstorageat\n",
    "    NEEDS TESTING\n",
    "    '''\n",
    "    block = validate_block(block)\n",
    "    return _call('eth_getStorageAt', [address, hex(position), block])"
   ]
  },
  {
   "cell_type": "code",
   "execution_count": null,
   "metadata": {
    "collapsed": true
   },
   "outputs": [],
   "source": [
    "# FROM: https://github.com/ConsenSys/ethjsonrpc/blob/master/ethjsonrpc/client.py\n",
    "def eth_getTransactionCount(address, block=BLOCK_TAG_LATEST):\n",
    "    '''\n",
    "    https://github.com/ethereum/wiki/wiki/JSON-RPC#eth_gettransactioncount\n",
    "    TESTED - MARKUS 2018-02-07\n",
    "    '''\n",
    "    block = validate_block(block)\n",
    "    return hex_to_dec(_call('eth_getTransactionCount', [address, block]))"
   ]
  },
  {
   "cell_type": "code",
   "execution_count": null,
   "metadata": {
    "collapsed": true
   },
   "outputs": [],
   "source": [
    "# FROM: https://github.com/ConsenSys/ethjsonrpc/blob/master/ethjsonrpc/client.py\n",
    "def eth_getBlockTransactionCountByHash(block_hash):\n",
    "    '''\n",
    "    https://github.com/ethereum/wiki/wiki/JSON-RPC#eth_getblocktransactioncountbyhash\n",
    "    NEEDS TESTING\n",
    "    '''\n",
    "    return hex_to_dec(_call('eth_getBlockTransactionCountByHash', [block_hash]))"
   ]
  },
  {
   "cell_type": "code",
   "execution_count": null,
   "metadata": {
    "collapsed": true
   },
   "outputs": [],
   "source": [
    "# FROM: https://github.com/ConsenSys/ethjsonrpc/blob/master/ethjsonrpc/client.py\n",
    "def eth_getBlockTransactionCountByNumber(block=BLOCK_TAG_LATEST):\n",
    "    '''\n",
    "    https://github.com/ethereum/wiki/wiki/JSON-RPC#eth_getblocktransactioncountbynumber\n",
    "    NEEDS TESTING\n",
    "    '''\n",
    "    block = validate_block(block)\n",
    "    return hex_to_dec(_call('eth_getBlockTransactionCountByNumber', [block]))"
   ]
  },
  {
   "cell_type": "code",
   "execution_count": null,
   "metadata": {
    "collapsed": true
   },
   "outputs": [],
   "source": [
    "# FROM: https://github.com/ConsenSys/ethjsonrpc/blob/master/ethjsonrpc/client.py\n",
    "def eth_getUncleCountByBlockHash(block_hash):\n",
    "    '''\n",
    "    https://github.com/ethereum/wiki/wiki/JSON-RPC#eth_getunclecountbyblockhash\n",
    "    NEEDS TESTING\n",
    "    '''\n",
    "    return hex_to_dec(_call('eth_getUncleCountByBlockHash', [block_hash]))"
   ]
  },
  {
   "cell_type": "code",
   "execution_count": null,
   "metadata": {
    "collapsed": true
   },
   "outputs": [],
   "source": [
    "# FROM: https://github.com/ConsenSys/ethjsonrpc/blob/master/ethjsonrpc/client.py\n",
    "def eth_getUncleCountByBlockNumber(block=BLOCK_TAG_LATEST):\n",
    "    '''\n",
    "    https://github.com/ethereum/wiki/wiki/JSON-RPC#eth_getunclecountbyblocknumber\n",
    "    NEEDS TESTING\n",
    "    '''\n",
    "    block = validate_block(block)\n",
    "    return hex_to_dec(_call('eth_getUncleCountByBlockNumber', [block]))"
   ]
  },
  {
   "cell_type": "code",
   "execution_count": null,
   "metadata": {
    "collapsed": true
   },
   "outputs": [],
   "source": [
    "# FROM: https://github.com/ConsenSys/ethjsonrpc/blob/master/ethjsonrpc/client.py\n",
    "def eth_getCode(address, default_block=BLOCK_TAG_LATEST):\n",
    "    '''\n",
    "    https://github.com/ethereum/wiki/wiki/JSON-RPC#eth_getcode\n",
    "    NEEDS TESTING\n",
    "    '''\n",
    "#     doesn't work on Python 3\n",
    "#     if isinstance(default_block, basestring):\n",
    "#         if default_block not in BLOCK_TAGS:\n",
    "#             raise ValueError\n",
    "    return _call('eth_getCode', [address, default_block])"
   ]
  },
  {
   "cell_type": "code",
   "execution_count": null,
   "metadata": {
    "collapsed": true
   },
   "outputs": [],
   "source": [
    "# FROM: https://github.com/ConsenSys/ethjsonrpc/blob/master/ethjsonrpc/client.py\n",
    "def eth_sign(address, data):\n",
    "    '''\n",
    "    https://github.com/ethereum/wiki/wiki/JSON-RPC#eth_sign\n",
    "    NEEDS TESTING\n",
    "    '''\n",
    "    return _call('eth_sign', [address, data])"
   ]
  },
  {
   "cell_type": "code",
   "execution_count": null,
   "metadata": {
    "collapsed": true
   },
   "outputs": [],
   "source": [
    "# FROM: https://github.com/ConsenSys/ethjsonrpc/blob/master/ethjsonrpc/client.py\n",
    "def eth_sendTransaction(to_address=None, from_address=None, gas=None, gas_price=None, value=None, data=None,\n",
    "                        nonce=None):\n",
    "    '''\n",
    "    https://github.com/ethereum/wiki/wiki/JSON-RPC#eth_sendtransaction\n",
    "    NEEDS TESTING\n",
    "    '''\n",
    "    params = {}\n",
    "    params['from'] = from_address or eth_coinbase()\n",
    "    if to_address is not None:\n",
    "        params['to'] = to_address\n",
    "    if gas is not None:\n",
    "        params['gas'] = hex(gas)\n",
    "    if gas_price is not None:\n",
    "        params['gasPrice'] = clean_hex(gas_price)\n",
    "    if value is not None:\n",
    "        params['value'] = clean_hex(value)\n",
    "    if data is not None:\n",
    "        params['data'] = data\n",
    "    if nonce is not None:\n",
    "        params['nonce'] = hex(nonce)\n",
    "    return _call('eth_sendTransaction', [params])"
   ]
  },
  {
   "cell_type": "code",
   "execution_count": null,
   "metadata": {
    "collapsed": true
   },
   "outputs": [],
   "source": [
    "# FROM: https://github.com/ConsenSys/ethjsonrpc/blob/master/ethjsonrpc/client.py\n",
    "def eth_sendRawTransaction(data):\n",
    "    '''\n",
    "    https://github.com/ethereum/wiki/wiki/JSON-RPC#eth_sendrawtransaction\n",
    "    NEEDS TESTING\n",
    "    '''\n",
    "    return _call('eth_sendRawTransaction', [data])"
   ]
  },
  {
   "cell_type": "code",
   "execution_count": null,
   "metadata": {
    "collapsed": true
   },
   "outputs": [],
   "source": [
    "# FROM: https://github.com/ConsenSys/ethjsonrpc/blob/master/ethjsonrpc/client.py\n",
    "def eth_call(to_address, from_address=None, gas=None, gas_price=None, value=None, data=None,\n",
    "             default_block=BLOCK_TAG_LATEST):\n",
    "    '''\n",
    "    https://github.com/ethereum/wiki/wiki/JSON-RPC#eth_call\n",
    "    NEEDS TESTING\n",
    "    '''\n",
    "#     doesn't work on Python 3\n",
    "#     if isinstance(default_block, basestring):\n",
    "#         if default_block not in BLOCK_TAGS:\n",
    "#             raise ValueError\n",
    "    obj = {}\n",
    "    obj['to'] = to_address\n",
    "    if from_address is not None:\n",
    "        obj['from'] = from_address\n",
    "    if gas is not None:\n",
    "        obj['gas'] = hex(gas)\n",
    "    if gas_price is not None:\n",
    "        obj['gasPrice'] = clean_hex(gas_price)\n",
    "    if value is not None:\n",
    "        obj['value'] = value\n",
    "    if data is not None:\n",
    "        obj['data'] = data\n",
    "    return _call('eth_call', [obj, default_block])"
   ]
  },
  {
   "cell_type": "code",
   "execution_count": null,
   "metadata": {
    "collapsed": true
   },
   "outputs": [],
   "source": [
    "# FROM: https://github.com/ConsenSys/ethjsonrpc/blob/master/ethjsonrpc/client.py\n",
    "def eth_estimateGas(to_address=None, from_address=None, gas=None, gas_price=None, value=None, data=None,\n",
    "                    default_block=BLOCK_TAG_LATEST):\n",
    "    '''\n",
    "    https://github.com/ethereum/wiki/wiki/JSON-RPC#eth_estimategas\n",
    "    NEEDS TESTING\n",
    "    '''\n",
    "#     doesn't work on Python 3\n",
    "#     if isinstance(default_block, basestring):\n",
    "#         if default_block not in BLOCK_TAGS:\n",
    "#             raise ValueError\n",
    "    obj = {}\n",
    "    if to_address is not None:\n",
    "        obj['to'] = to_address\n",
    "    if from_address is not None:\n",
    "        obj['from'] = from_address\n",
    "    if gas is not None:\n",
    "        obj['gas'] = hex(gas)\n",
    "    if gas_price is not None:\n",
    "        obj['gasPrice'] = clean_hex(gas_price)\n",
    "    if value is not None:\n",
    "        obj['value'] = value\n",
    "    if data is not None:\n",
    "        obj['data'] = data\n",
    "    return hex_to_dec(_call('eth_estimateGas', [obj, default_block]))"
   ]
  },
  {
   "cell_type": "code",
   "execution_count": null,
   "metadata": {
    "collapsed": true
   },
   "outputs": [],
   "source": [
    "# FROM: https://github.com/ConsenSys/ethjsonrpc/blob/master/ethjsonrpc/client.py\n",
    "def eth_getBlockByHash(block_hash, tx_objects=True):\n",
    "    '''\n",
    "    https://github.com/ethereum/wiki/wiki/JSON-RPC#eth_getblockbyhash\n",
    "    NEEDS TESTING\n",
    "    '''\n",
    "    return _call('eth_getBlockByHash', [block_hash, tx_objects])"
   ]
  },
  {
   "cell_type": "code",
   "execution_count": null,
   "metadata": {
    "collapsed": true
   },
   "outputs": [],
   "source": [
    "# FROM: https://github.com/ConsenSys/ethjsonrpc/blob/master/ethjsonrpc/client.py\n",
    "def eth_getBlockByNumber(block=BLOCK_TAG_LATEST, tx_objects=True):\n",
    "    '''\n",
    "    https://github.com/ethereum/wiki/wiki/JSON-RPC#eth_getblockbynumber\n",
    "    NEEDS TESTING\n",
    "    '''\n",
    "    block = validate_block(block)\n",
    "    return _call('eth_getBlockByNumber', [block, tx_objects])"
   ]
  },
  {
   "cell_type": "code",
   "execution_count": null,
   "metadata": {
    "collapsed": true
   },
   "outputs": [],
   "source": [
    "# FROM: https://github.com/ConsenSys/ethjsonrpc/blob/master/ethjsonrpc/client.py\n",
    "def eth_getTransactionByHash(tx_hash):\n",
    "    '''\n",
    "    https://github.com/ethereum/wiki/wiki/JSON-RPC#eth_gettransactionbyhash\n",
    "    NEEDS TESTING\n",
    "    '''\n",
    "    return _call('eth_getTransactionByHash', [tx_hash])"
   ]
  },
  {
   "cell_type": "code",
   "execution_count": null,
   "metadata": {
    "collapsed": true
   },
   "outputs": [],
   "source": [
    "# FROM: https://github.com/ConsenSys/ethjsonrpc/blob/master/ethjsonrpc/client.py\n",
    "def eth_getTransactionByBlockHashAndIndex(block_hash, index=0):\n",
    "    '''\n",
    "    https://github.com/ethereum/wiki/wiki/JSON-RPC#eth_gettransactionbyblockhashandindex\n",
    "    NEEDS TESTING\n",
    "    '''\n",
    "    return _call('eth_getTransactionByBlockHashAndIndex', [block_hash, hex(index)])"
   ]
  },
  {
   "cell_type": "code",
   "execution_count": null,
   "metadata": {
    "collapsed": true
   },
   "outputs": [],
   "source": [
    "# FROM: https://github.com/ConsenSys/ethjsonrpc/blob/master/ethjsonrpc/client.py\n",
    "def eth_getTransactionByBlockNumberAndIndex(block=BLOCK_TAG_LATEST, index=0):\n",
    "    '''\n",
    "    https://github.com/ethereum/wiki/wiki/JSON-RPC#eth_gettransactionbyblocknumberandindex\n",
    "    NEEDS TESTING\n",
    "    '''\n",
    "    block = validate_block(block)\n",
    "    return _call('eth_getTransactionByBlockNumberAndIndex', [block, hex(index)])"
   ]
  },
  {
   "cell_type": "code",
   "execution_count": null,
   "metadata": {
    "collapsed": true
   },
   "outputs": [],
   "source": [
    "# FROM: https://github.com/ConsenSys/ethjsonrpc/blob/master/ethjsonrpc/client.py\n",
    "def eth_getTransactionReceipt(tx_hash):\n",
    "    '''\n",
    "    https://github.com/ethereum/wiki/wiki/JSON-RPC#eth_gettransactionreceipt\n",
    "    NEEDS TESTING\n",
    "    '''\n",
    "    return _call('eth_getTransactionReceipt', [tx_hash])"
   ]
  },
  {
   "cell_type": "code",
   "execution_count": null,
   "metadata": {
    "collapsed": true
   },
   "outputs": [],
   "source": [
    "# FROM: https://github.com/ConsenSys/ethjsonrpc/blob/master/ethjsonrpc/client.py\n",
    "def eth_getUncleByBlockHashAndIndex(block_hash, index=0):\n",
    "    '''\n",
    "    https://github.com/ethereum/wiki/wiki/JSON-RPC#eth_getunclebyblockhashandindex\n",
    "    NEEDS TESTING\n",
    "    '''\n",
    "    return _call('eth_getUncleByBlockHashAndIndex', [block_hash, hex(index)])"
   ]
  },
  {
   "cell_type": "code",
   "execution_count": null,
   "metadata": {
    "collapsed": true
   },
   "outputs": [],
   "source": [
    "# FROM: https://github.com/ConsenSys/ethjsonrpc/blob/master/ethjsonrpc/client.py\n",
    "def eth_getUncleByBlockNumberAndIndex(block=BLOCK_TAG_LATEST, index=0):\n",
    "    '''\n",
    "    https://github.com/ethereum/wiki/wiki/JSON-RPC#eth_getunclebyblocknumberandindex\n",
    "    NEEDS TESTING\n",
    "    '''\n",
    "    block = validate_block(block)\n",
    "    return _call('eth_getUncleByBlockNumberAndIndex', [block, hex(index)])"
   ]
  },
  {
   "cell_type": "code",
   "execution_count": null,
   "metadata": {
    "collapsed": true
   },
   "outputs": [],
   "source": [
    "# FROM: https://github.com/ConsenSys/ethjsonrpc/blob/master/ethjsonrpc/client.py\n",
    "def eth_getCompilers():\n",
    "    '''\n",
    "    https://github.com/ethereum/wiki/wiki/JSON-RPC#eth_getcompilers\n",
    "    NEEDS TESTING\n",
    "    '''\n",
    "    return _call('eth_getCompilers')"
   ]
  },
  {
   "cell_type": "code",
   "execution_count": null,
   "metadata": {
    "collapsed": true
   },
   "outputs": [],
   "source": [
    "# FROM: https://github.com/ConsenSys/ethjsonrpc/blob/master/ethjsonrpc/client.py\n",
    "def eth_compileSolidity(code):\n",
    "    '''\n",
    "    https://github.com/ethereum/wiki/wiki/JSON-RPC#eth_compilesolidity\n",
    "    NEEDS TESTING\n",
    "    '''\n",
    "    return _call('eth_compileSolidity', [code])"
   ]
  },
  {
   "cell_type": "code",
   "execution_count": null,
   "metadata": {
    "collapsed": true
   },
   "outputs": [],
   "source": [
    "# FROM: https://github.com/ConsenSys/ethjsonrpc/blob/master/ethjsonrpc/client.py\n",
    "def eth_compileLLL(code):\n",
    "    '''\n",
    "    https://github.com/ethereum/wiki/wiki/JSON-RPC#eth_compilelll\n",
    "    N/A\n",
    "    '''\n",
    "    return _call('eth_compileLLL', [code])"
   ]
  },
  {
   "cell_type": "code",
   "execution_count": null,
   "metadata": {
    "collapsed": true
   },
   "outputs": [],
   "source": [
    "# FROM: https://github.com/ConsenSys/ethjsonrpc/blob/master/ethjsonrpc/client.py\n",
    "def eth_compileSerpent(code):\n",
    "    '''\n",
    "    https://github.com/ethereum/wiki/wiki/JSON-RPC#eth_compileserpent\n",
    "    N/A\n",
    "    '''\n",
    "    return _call('eth_compileSerpent', [code])"
   ]
  },
  {
   "cell_type": "code",
   "execution_count": null,
   "metadata": {
    "collapsed": true
   },
   "outputs": [],
   "source": [
    "# FROM: https://github.com/ConsenSys/ethjsonrpc/blob/master/ethjsonrpc/client.py\n",
    "def eth_newFilter(from_block=BLOCK_TAG_LATEST, to_block=BLOCK_TAG_LATEST, address=None, topics=None):\n",
    "    '''\n",
    "    https://github.com/ethereum/wiki/wiki/JSON-RPC#eth_newfilter\n",
    "    NEEDS TESTING\n",
    "    '''\n",
    "    _filter = {\n",
    "        'fromBlock': from_block,\n",
    "        'toBlock':   to_block,\n",
    "        'address':   address,\n",
    "        'topics':    topics,\n",
    "    }\n",
    "    return _call('eth_newFilter', [_filter])"
   ]
  },
  {
   "cell_type": "code",
   "execution_count": null,
   "metadata": {
    "collapsed": true
   },
   "outputs": [],
   "source": [
    "# FROM: https://github.com/ConsenSys/ethjsonrpc/blob/master/ethjsonrpc/client.py\n",
    "def eth_newBlockFilter():\n",
    "    '''\n",
    "    https://github.com/ethereum/wiki/wiki/JSON-RPC#eth_newblockfilter\n",
    "    NEEDS TESTING\n",
    "    '''\n",
    "    return _call('eth_newBlockFilter')"
   ]
  },
  {
   "cell_type": "code",
   "execution_count": null,
   "metadata": {
    "collapsed": true
   },
   "outputs": [],
   "source": [
    "# FROM: https://github.com/ConsenSys/ethjsonrpc/blob/master/ethjsonrpc/client.py\n",
    "def eth_newPendingTransactionFilter():\n",
    "    '''\n",
    "    https://github.com/ethereum/wiki/wiki/JSON-RPC#eth_newpendingtransactionfilter\n",
    "    NEEDS TESTING\n",
    "    '''\n",
    "    return hex_to_dec(_call('eth_newPendingTransactionFilter'))"
   ]
  },
  {
   "cell_type": "code",
   "execution_count": null,
   "metadata": {
    "collapsed": true
   },
   "outputs": [],
   "source": [
    "# FROM: https://github.com/ConsenSys/ethjsonrpc/blob/master/ethjsonrpc/client.py\n",
    "def eth_uninstallFilter(filter_id):\n",
    "    '''\n",
    "    https://github.com/ethereum/wiki/wiki/JSON-RPC#eth_uninstallfilter\n",
    "    NEEDS TESTING\n",
    "    '''\n",
    "    return _call('eth_uninstallFilter', [filter_id])"
   ]
  },
  {
   "cell_type": "code",
   "execution_count": null,
   "metadata": {
    "collapsed": true
   },
   "outputs": [],
   "source": [
    "# FROM: https://github.com/ConsenSys/ethjsonrpc/blob/master/ethjsonrpc/client.py\n",
    "def eth_getFilterChanges(filter_id):\n",
    "    '''\n",
    "    https://github.com/ethereum/wiki/wiki/JSON-RPC#eth_getfilterchanges\n",
    "    NEEDS TESTING\n",
    "    '''\n",
    "    return _call('eth_getFilterChanges', [filter_id])"
   ]
  },
  {
   "cell_type": "code",
   "execution_count": null,
   "metadata": {
    "collapsed": true
   },
   "outputs": [],
   "source": [
    "# FROM: https://github.com/ConsenSys/ethjsonrpc/blob/master/ethjsonrpc/client.py\n",
    "def eth_getFilterLogs(filter_id):\n",
    "    '''\n",
    "    https://github.com/ethereum/wiki/wiki/JSON-RPC#eth_getfilterlogs\n",
    "    NEEDS TESTING\n",
    "    '''\n",
    "    return _call('eth_getFilterLogs', [filter_id])"
   ]
  },
  {
   "cell_type": "code",
   "execution_count": null,
   "metadata": {
    "collapsed": true
   },
   "outputs": [],
   "source": [
    "#FROM: https://github.com/ConsenSys/ethjsonrpc/blob/master/ethjsonrpc/client.py\n",
    "#def eth_getLogs(filter_object):\n",
    "#    return _call('eth_getLogs', [filter_object])\n",
    "\n",
    "# redefined by Markus 2018-02-08\n",
    "def eth_getLogs(from_block=BLOCK_TAG_LATEST, to_block=BLOCK_TAG_LATEST, address=None, topics=None):\n",
    "    '''\n",
    "    https://github.com/ethereum/wiki/wiki/JSON-RPC#eth_getlogs\n",
    "    TESTED - MARKUS 2018-02-08\n",
    "    '''\n",
    "    _filter = {\n",
    "        'fromBlock': from_block,\n",
    "        'toBlock':   to_block,\n",
    "        'address':   address,\n",
    "        'topics':    topics,\n",
    "    }\n",
    "    return _call('eth_getLogs', [_filter])"
   ]
  },
  {
   "cell_type": "code",
   "execution_count": null,
   "metadata": {
    "collapsed": true
   },
   "outputs": [],
   "source": [
    "# FROM: https://github.com/ConsenSys/ethjsonrpc/blob/master/ethjsonrpc/client.py\n",
    "def eth_getWork():\n",
    "    '''\n",
    "    https://github.com/ethereum/wiki/wiki/JSON-RPC#eth_getwork\n",
    "    NEEDS TESTING\n",
    "    '''\n",
    "    return _call('eth_getWork')"
   ]
  },
  {
   "cell_type": "code",
   "execution_count": null,
   "metadata": {
    "collapsed": true
   },
   "outputs": [],
   "source": [
    "# FROM: https://github.com/ConsenSys/ethjsonrpc/blob/master/ethjsonrpc/client.py\n",
    "def eth_submitWork(nonce, header, mix_digest):\n",
    "    '''\n",
    "    https://github.com/ethereum/wiki/wiki/JSON-RPC#eth_submitwork\n",
    "    NEEDS TESTING\n",
    "    '''\n",
    "    return _call('eth_submitWork', [nonce, header, mix_digest])"
   ]
  },
  {
   "cell_type": "code",
   "execution_count": null,
   "metadata": {
    "collapsed": true
   },
   "outputs": [],
   "source": [
    "# FROM: https://github.com/ConsenSys/ethjsonrpc/blob/master/ethjsonrpc/client.py\n",
    "def eth_submitHashrate(hash_rate, client_id):\n",
    "    '''\n",
    "    https://github.com/ethereum/wiki/wiki/JSON-RPC#eth_submithashrate\n",
    "    NEEDS TESTING\n",
    "    '''\n",
    "    return _call('eth_submitHashrate', [hex(hash_rate), client_id])"
   ]
  },
  {
   "cell_type": "code",
   "execution_count": null,
   "metadata": {
    "collapsed": true
   },
   "outputs": [],
   "source": [
    "# FROM: https://github.com/ConsenSys/ethjsonrpc/blob/master/ethjsonrpc/client.py\n",
    "def shh_version():\n",
    "    '''\n",
    "    https://github.com/ethereum/wiki/wiki/JSON-RPC#shh_version\n",
    "    N/A\n",
    "    '''\n",
    "    return _call('shh_version')"
   ]
  },
  {
   "cell_type": "code",
   "execution_count": null,
   "metadata": {
    "collapsed": true
   },
   "outputs": [],
   "source": [
    "# FROM: https://github.com/ConsenSys/ethjsonrpc/blob/master/ethjsonrpc/client.py\n",
    "def shh_post(topics, payload, priority, ttl, from_=None, to=None):\n",
    "    '''\n",
    "    https://github.com/ethereum/wiki/wiki/JSON-RPC#shh_post\n",
    "    NEEDS TESTING\n",
    "    '''\n",
    "    whisper_object = {\n",
    "        'from':     from_,\n",
    "        'to':       to,\n",
    "        'topics':   topics,\n",
    "        'payload':  payload,\n",
    "        'priority': hex(priority),\n",
    "        'ttl':      hex(ttl),\n",
    "    }\n",
    "    return _call('shh_post', [whisper_object])"
   ]
  },
  {
   "cell_type": "code",
   "execution_count": null,
   "metadata": {
    "collapsed": true
   },
   "outputs": [],
   "source": [
    "# FROM: https://github.com/ConsenSys/ethjsonrpc/blob/master/ethjsonrpc/client.py\n",
    "def shh_newIdentity():\n",
    "    '''\n",
    "    https://github.com/ethereum/wiki/wiki/JSON-RPC#shh_newidentity\n",
    "    N/A\n",
    "    '''\n",
    "    return _call('shh_newIdentity')"
   ]
  },
  {
   "cell_type": "code",
   "execution_count": null,
   "metadata": {
    "collapsed": true
   },
   "outputs": [],
   "source": [
    "# FROM: https://github.com/ConsenSys/ethjsonrpc/blob/master/ethjsonrpc/client.py\n",
    "def shh_hasIdentity(address):\n",
    "    '''\n",
    "    https://github.com/ethereum/wiki/wiki/JSON-RPC#shh_hasidentity\n",
    "    NEEDS TESTING\n",
    "    '''\n",
    "    return _call('shh_hasIdentity', [address])"
   ]
  },
  {
   "cell_type": "code",
   "execution_count": null,
   "metadata": {
    "collapsed": true
   },
   "outputs": [],
   "source": [
    "# FROM: https://github.com/ConsenSys/ethjsonrpc/blob/master/ethjsonrpc/client.py\n",
    "def shh_newGroup():\n",
    "    '''\n",
    "    https://github.com/ethereum/wiki/wiki/JSON-RPC#shh_newgroup\n",
    "    N/A\n",
    "    '''\n",
    "    return _call('shh_newGroup')"
   ]
  },
  {
   "cell_type": "code",
   "execution_count": null,
   "metadata": {
    "collapsed": true
   },
   "outputs": [],
   "source": [
    "# FROM: https://github.com/ConsenSys/ethjsonrpc/blob/master/ethjsonrpc/client.py\n",
    "def shh_addToGroup():\n",
    "    '''\n",
    "    https://github.com/ethereum/wiki/wiki/JSON-RPC#shh_addtogroup\n",
    "    NEEDS TESTING\n",
    "    '''\n",
    "    return _call('shh_addToGroup')"
   ]
  },
  {
   "cell_type": "code",
   "execution_count": null,
   "metadata": {
    "collapsed": true
   },
   "outputs": [],
   "source": [
    "# FROM: https://github.com/ConsenSys/ethjsonrpc/blob/master/ethjsonrpc/client.py\n",
    "def shh_newFilter(to, topics):\n",
    "    '''\n",
    "    https://github.com/ethereum/wiki/wiki/JSON-RPC#shh_newfilter\n",
    "    NEEDS TESTING\n",
    "    '''\n",
    "    _filter = {\n",
    "        'to':     to,\n",
    "        'topics': topics,\n",
    "    }\n",
    "    return _call('shh_newFilter', [_filter])"
   ]
  },
  {
   "cell_type": "code",
   "execution_count": null,
   "metadata": {
    "collapsed": true
   },
   "outputs": [],
   "source": [
    "# FROM: https://github.com/ConsenSys/ethjsonrpc/blob/master/ethjsonrpc/client.py\n",
    "def shh_uninstallFilter(filter_id):\n",
    "    '''\n",
    "    https://github.com/ethereum/wiki/wiki/JSON-RPC#shh_uninstallfilter\n",
    "    NEEDS TESTING\n",
    "    '''\n",
    "    return _call('shh_uninstallFilter', [filter_id])"
   ]
  },
  {
   "cell_type": "code",
   "execution_count": null,
   "metadata": {
    "collapsed": true
   },
   "outputs": [],
   "source": [
    "# FROM: https://github.com/ConsenSys/ethjsonrpc/blob/master/ethjsonrpc/client.py\n",
    "def shh_getFilterChanges(filter_id):\n",
    "    '''\n",
    "    https://github.com/ethereum/wiki/wiki/JSON-RPC#shh_getfilterchanges\n",
    "    NEEDS TESTING\n",
    "    '''\n",
    "    return _call('shh_getFilterChanges', [filter_id])"
   ]
  },
  {
   "cell_type": "code",
   "execution_count": null,
   "metadata": {
    "collapsed": true
   },
   "outputs": [],
   "source": [
    "# FROM: https://github.com/ConsenSys/ethjsonrpc/blob/master/ethjsonrpc/client.py\n",
    "def shh_getMessages(filter_id):\n",
    "    '''\n",
    "    https://github.com/ethereum/wiki/wiki/JSON-RPC#shh_getmessages\n",
    "    NEEDS TESTING\n",
    "    '''\n",
    "    return _call('shh_getMessages', [filter_id])    "
   ]
  },
  {
   "cell_type": "code",
   "execution_count": null,
   "metadata": {},
   "outputs": [],
   "source": [
    "eth_syncing()"
   ]
  },
  {
   "cell_type": "code",
   "execution_count": null,
   "metadata": {},
   "outputs": [],
   "source": [
    "eth_blockNumber()"
   ]
  },
  {
   "cell_type": "code",
   "execution_count": null,
   "metadata": {},
   "outputs": [],
   "source": [
    "eth_getBalance(address='0x267be1C1D684F78cb4F6a176C4911b741E4Ffdc0')"
   ]
  },
  {
   "cell_type": "code",
   "execution_count": null,
   "metadata": {},
   "outputs": [],
   "source": [
    "eth_getTransactionCount('0x267be1C1D684F78cb4F6a176C4911b741E4Ffdc0')"
   ]
  },
  {
   "cell_type": "code",
   "execution_count": null,
   "metadata": {},
   "outputs": [],
   "source": [
    "MEW_TOKENS = getJSON('https://raw.githubusercontent.com/MyEtherWallet/ethereum-lists/master/tokens/tokens-eth.json')\n",
    "MEW_TOKENS = pd.DataFrame.from_dict(MEW_TOKENS)\n",
    "MEW_TOKENS.head()"
   ]
  },
  {
   "cell_type": "code",
   "execution_count": null,
   "metadata": {},
   "outputs": [],
   "source": [
    "tokens_of_interest = {\n",
    "    'DAI': '',\n",
    "    'MKR': ''\n",
    "}\n",
    "for token in tokens_of_interest:\n",
    "    tokens_of_interest[token] = MEW_TOKENS[MEW_TOKENS['symbol']==token]['address'].to_string(index=False)\n",
    "tokens_of_interest"
   ]
  },
  {
   "cell_type": "code",
   "execution_count": null,
   "metadata": {
    "collapsed": true
   },
   "outputs": [],
   "source": [
    "def getTokenTransfers(address, from_block, to_block):\n",
    "    ERC20_transfer_signature = '0xddf252ad1be2c89b69c2b068fc378daa952ba7f163c4a11628f55a4df523b3ef'\n",
    "    json = eth_getLogs(from_block=from_block, \n",
    "                       to_block=to_block,\n",
    "                       address=address,\n",
    "                       topics=[ERC20_transfer_signature])\n",
    "    df = pd.DataFrame.from_dict(json)\n",
    "    #TODO: get decimals from MEW\n",
    "    df['amount'] = df['data'].apply(lambda x: float.fromhex(x)*1e-18)\n",
    "    df['from'] = df['topics'].apply(lambda x: x[1][:2]+x[1][-40:])\n",
    "    df['to'] = df['topics'].apply(lambda x: x[2][:2]+x[2][-40:])\n",
    "    return df\n",
    "\n",
    "from_block = hex(eth_blockNumber() - 10000)\n",
    "to_block = hex(eth_blockNumber())\n",
    "txns = None\n",
    "for token in tokens_of_interest:\n",
    "    tmp = getTokenTransfers(tokens_of_interest[token],\n",
    "                            from_block,\n",
    "                            to_block)\n",
    "    if tmp is None:\n",
    "        continue\n",
    "    tmp['token'] = token\n",
    "    tmp['token_address'] = tokens_of_interest[token]\n",
    "    if txns is None:\n",
    "        txns = tmp\n",
    "    else:\n",
    "        txns = txns.append(tmp, ignore_index=True)"
   ]
  },
  {
   "cell_type": "code",
   "execution_count": null,
   "metadata": {},
   "outputs": [],
   "source": [
    "txns.head()"
   ]
  },
  {
   "cell_type": "code",
   "execution_count": null,
   "metadata": {},
   "outputs": [],
   "source": [
    "txns.tail()"
   ]
  },
  {
   "cell_type": "code",
   "execution_count": null,
   "metadata": {},
   "outputs": [],
   "source": [
    "txns[txns['token']=='DAI'].describe()"
   ]
  },
  {
   "cell_type": "code",
   "execution_count": null,
   "metadata": {},
   "outputs": [],
   "source": [
    "txns[txns['token']=='MKR'].describe()"
   ]
  },
  {
   "cell_type": "code",
   "execution_count": null,
   "metadata": {
    "collapsed": true
   },
   "outputs": [],
   "source": [
    "%matplotlib inline"
   ]
  },
  {
   "cell_type": "code",
   "execution_count": null,
   "metadata": {},
   "outputs": [],
   "source": [
    "txns[txns['token']=='DAI'].amount.apply(lambda x: np.log(x)).hist()"
   ]
  },
  {
   "cell_type": "code",
   "execution_count": null,
   "metadata": {},
   "outputs": [],
   "source": [
    "txns[txns['token']=='DAI'].amount.apply(lambda x: np.clip(np.log(x), -5,15)).hist()"
   ]
  }
 ],
 "metadata": {
  "kernelspec": {
   "display_name": "Python 3",
   "language": "python",
   "name": "python3"
  },
  "language_info": {
   "codemirror_mode": {
    "name": "ipython",
    "version": 3
   },
   "file_extension": ".py",
   "mimetype": "text/x-python",
   "name": "python",
   "nbconvert_exporter": "python",
   "pygments_lexer": "ipython3",
   "version": "3.6.3"
  }
 },
 "nbformat": 4,
 "nbformat_minor": 2
}
