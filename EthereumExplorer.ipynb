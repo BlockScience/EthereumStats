{
 "cells": [
  {
   "cell_type": "markdown",
   "metadata": {},
   "source": [
    "# Ethereum Blockchain Explorer\n",
    "Some functions to help explore the ethereum blockchain using JSON RPC on the BlockScience geth node"
   ]
  },
  {
   "cell_type": "code",
   "execution_count": 345,
   "metadata": {
    "collapsed": true
   },
   "outputs": [],
   "source": [
    "import requests, json\n",
    "import pandas as pd\n",
    "import numpy as np\n",
    "SESSION = requests.Session()\n",
    "f = open(\"node_ip.txt\",\"r\")\n",
    "RPC_HOST = f.readline()\n",
    "RPC_HOST = str.replace(RPC_HOST,'\\n','')\n",
    "RPC_PORT = '8545'\n",
    "RPC_URL = 'http://'+RPC_HOST+':'+RPC_PORT"
   ]
  },
  {
   "cell_type": "markdown",
   "metadata": {},
   "source": [
    "## Basic JSON downloading"
   ]
  },
  {
   "cell_type": "code",
   "execution_count": 249,
   "metadata": {
    "collapsed": true
   },
   "outputs": [],
   "source": [
    "def getJSON(url, d=None):\n",
    "    h = {\"Content-Type\": \"application/json\"}\n",
    "    if d is None:\n",
    "        r = SESSION.get(url, headers=h)\n",
    "    else:\n",
    "        r = SESSION.post(url, data=d, headers=h)\n",
    "    json_data = r.text\n",
    "    response = json.loads(json_data)\n",
    "    return response"
   ]
  },
  {
   "cell_type": "code",
   "execution_count": 250,
   "metadata": {
    "collapsed": true
   },
   "outputs": [],
   "source": [
    "def getRawJSON(url, d=None):\n",
    "    h = {\"Content-Type\": \"application/json\"}\n",
    "    if d is None:\n",
    "        r = SESSION.get(url, headers=h)\n",
    "    else:\n",
    "        r = SESSION.post(url, data=d, headers=h)\n",
    "    json_data = r.text\n",
    "    return json_data"
   ]
  },
  {
   "cell_type": "code",
   "execution_count": 251,
   "metadata": {
    "collapsed": true
   },
   "outputs": [],
   "source": [
    "# test if the getJSON function supports GET requests\n",
    "# getJSON('https://api.etherscan.io/api?module=account&action=balance&address=0xde0b295669a9fd93d5f28d9ec85e40f4cb697bae&tag=latest&apikey=YourApiKeyToken')"
   ]
  },
  {
   "cell_type": "code",
   "execution_count": 252,
   "metadata": {
    "collapsed": true
   },
   "outputs": [],
   "source": [
    "# test if the getJSON function supports POST requests\n",
    "# getJSON(RPC_URL,'{\"jsonrpc\":\"2.0\",\"method\":\"eth_syncing\",\"params\":[],\"id\":1}')"
   ]
  },
  {
   "cell_type": "markdown",
   "metadata": {},
   "source": [
    "## Consensys EthJsonRpc Package"
   ]
  },
  {
   "cell_type": "markdown",
   "metadata": {},
   "source": [
    "I wasn't able to quickly make the package work on Python 3"
   ]
  },
  {
   "cell_type": "code",
   "execution_count": 253,
   "metadata": {
    "collapsed": true
   },
   "outputs": [],
   "source": [
    "# from ethjsonrpc import EthJsonRpc\n",
    "# c = EthJsonRpc('35.196.250.157', 8545)\n",
    "# print(c.net_version())\n",
    "# print(c.web3_clientVersion())\n",
    "# print(c.eth_gasPrice())"
   ]
  },
  {
   "cell_type": "markdown",
   "metadata": {},
   "source": [
    "So I began copying their functions. Most of them still need testing. Ideally we should fork and make our own package compatible with Python 3"
   ]
  },
  {
   "cell_type": "code",
   "execution_count": 254,
   "metadata": {
    "collapsed": true
   },
   "outputs": [],
   "source": [
    "# FROM https://github.com/ConsenSys/ethjsonrpc/blob/master/ethjsonrpc/utils.py\n",
    "def hex_to_dec(x):\n",
    "    '''\n",
    "    Convert hex to decimal\n",
    "    '''\n",
    "    return int(x, 16)"
   ]
  },
  {
   "cell_type": "code",
   "execution_count": 255,
   "metadata": {
    "collapsed": true
   },
   "outputs": [],
   "source": [
    "# FROM https://github.com/ConsenSys/ethjsonrpc/blob/master/ethjsonrpc/utils.py\n",
    "def clean_hex(d):\n",
    "    '''\n",
    "    Convert decimal to hex and remove the \"L\" suffix that is appended to large\n",
    "    numbers\n",
    "    '''\n",
    "    return hex(d).rstrip('L')"
   ]
  },
  {
   "cell_type": "code",
   "execution_count": 256,
   "metadata": {
    "collapsed": true
   },
   "outputs": [],
   "source": [
    "# FROM https://github.com/ConsenSys/ethjsonrpc/blob/master/ethjsonrpc/utils.py\n",
    "def validate_block(block):\n",
    "#     doesn't work on Python 3\n",
    "#     if isinstance(block, basestring):\n",
    "#         if block not in BLOCK_TAGS:\n",
    "#             raise ValueError('invalid block tag')\n",
    "    if isinstance(block, int):\n",
    "        block = hex(block)\n",
    "    return block"
   ]
  },
  {
   "cell_type": "code",
   "execution_count": 257,
   "metadata": {
    "collapsed": true
   },
   "outputs": [],
   "source": [
    "# FROM https://github.com/ConsenSys/ethjsonrpc/blob/master/ethjsonrpc/utils.py\n",
    "def wei_to_ether(wei):\n",
    "    '''\n",
    "    Convert wei to ether\n",
    "    '''\n",
    "    return 1.0 * wei / 10**18"
   ]
  },
  {
   "cell_type": "code",
   "execution_count": 258,
   "metadata": {
    "collapsed": true
   },
   "outputs": [],
   "source": [
    "# FROM https://github.com/ConsenSys/ethjsonrpc/blob/master/ethjsonrpc/utils.py\n",
    "def ether_to_wei(ether):\n",
    "    '''\n",
    "    Convert ether to wei\n",
    "    '''\n",
    "    return ether * 10**18"
   ]
  },
  {
   "cell_type": "code",
   "execution_count": 259,
   "metadata": {
    "collapsed": true
   },
   "outputs": [],
   "source": [
    "# FROM: https://github.com/ConsenSys/ethjsonrpc/blob/master/ethjsonrpc/exceptions.py\n",
    "class EthJsonRpcError(Exception):\n",
    "    pass\n",
    "class ConnectionError(EthJsonRpcError):\n",
    "    pass\n",
    "class BadStatusCodeError(EthJsonRpcError):\n",
    "    pass\n",
    "class BadJsonError(EthJsonRpcError):\n",
    "    pass\n",
    "class BadResponseError(EthJsonRpcError):\n",
    "    pass"
   ]
  },
  {
   "cell_type": "code",
   "execution_count": 260,
   "metadata": {
    "collapsed": true
   },
   "outputs": [],
   "source": [
    "# FROM: https://github.com/ConsenSys/ethjsonrpc/blob/master/ethjsonrpc/client.py\n",
    "BLOCK_TAG_EARLIEST = 'earliest'\n",
    "BLOCK_TAG_LATEST   = 'latest'\n",
    "BLOCK_TAG_PENDING  = 'pending'\n",
    "BLOCK_TAGS = (\n",
    "    BLOCK_TAG_EARLIEST,\n",
    "    BLOCK_TAG_LATEST,\n",
    "    BLOCK_TAG_PENDING,\n",
    ")"
   ]
  },
  {
   "cell_type": "code",
   "execution_count": 261,
   "metadata": {
    "collapsed": true
   },
   "outputs": [],
   "source": [
    "# FROM: https://github.com/ConsenSys/ethjsonrpc/blob/master/ethjsonrpc/client.py\n",
    "def _call(method, params=None, _id=1):\n",
    "    params = params or []\n",
    "    data = {\n",
    "        'jsonrpc': '2.0',\n",
    "        'method':  method,\n",
    "        'params':  params,\n",
    "        'id':      _id,\n",
    "    }\n",
    "    scheme = 'http'\n",
    "#     if tls:\n",
    "#         scheme += 's'\n",
    "    url = '{}://{}:{}'.format(scheme, RPC_HOST, RPC_PORT)\n",
    "    headers = {'Content-Type': 'application/json'}\n",
    "    try:\n",
    "        r = SESSION.post(url, headers=headers, data=json.dumps(data))\n",
    "    except RequestsConnectionError:\n",
    "        raise ConnectionError\n",
    "    if r.status_code / 100 != 2:\n",
    "        raise BadStatusCodeError(r.status_code)\n",
    "    try:\n",
    "        response = r.json()\n",
    "    except ValueError:\n",
    "        raise BadJsonError(r.text)\n",
    "    try:\n",
    "        return response['result']\n",
    "    except KeyError:\n",
    "        raise BadResponseError(response)"
   ]
  },
  {
   "cell_type": "code",
   "execution_count": 262,
   "metadata": {
    "collapsed": true
   },
   "outputs": [],
   "source": [
    "################################################################################\n",
    "# high-level methods\n",
    "################################################################################"
   ]
  },
  {
   "cell_type": "code",
   "execution_count": 263,
   "metadata": {
    "collapsed": true
   },
   "outputs": [],
   "source": [
    "# FROM: https://github.com/ConsenSys/ethjsonrpc/blob/master/ethjsonrpc/client.py\n",
    "def transfer(from_, to, amount):\n",
    "    '''\n",
    "    Send wei from one address to another\n",
    "    '''\n",
    "    return eth_sendTransaction(from_address=from_, to_address=to, value=amount)"
   ]
  },
  {
   "cell_type": "code",
   "execution_count": 264,
   "metadata": {
    "collapsed": true
   },
   "outputs": [],
   "source": [
    "# FROM: https://github.com/ConsenSys/ethjsonrpc/blob/master/ethjsonrpc/client.py\n",
    "def create_contract(from_, code, gas, sig=None, args=None):\n",
    "    '''\n",
    "    Create a contract on the blockchain from compiled EVM code. Returns the\n",
    "    transaction hash.\n",
    "    '''\n",
    "    from_ = from_ or eth_coinbase()\n",
    "    if sig is not None and args is not None:\n",
    "         types = sig[sig.find('(') + 1: sig.find(')')].split(',')\n",
    "         encoded_params = encode_abi(types, args)\n",
    "         code += encoded_params.encode('hex')\n",
    "    return eth_sendTransaction(from_address=from_, gas=gas, data=code)"
   ]
  },
  {
   "cell_type": "code",
   "execution_count": 265,
   "metadata": {
    "collapsed": true
   },
   "outputs": [],
   "source": [
    "# FROM: https://github.com/ConsenSys/ethjsonrpc/blob/master/ethjsonrpc/client.py\n",
    "def get_contract_address(tx):\n",
    "    '''\n",
    "    Get the address for a contract from the transaction that created it\n",
    "    '''\n",
    "    receipt = eth_getTransactionReceipt(tx)\n",
    "    return receipt['contractAddress']"
   ]
  },
  {
   "cell_type": "code",
   "execution_count": 266,
   "metadata": {
    "collapsed": true
   },
   "outputs": [],
   "source": [
    "# FROM: https://github.com/ConsenSys/ethjsonrpc/blob/master/ethjsonrpc/client.py\n",
    "def call(address, sig, args, result_types):\n",
    "    '''\n",
    "    Call a contract function on the RPC server, without sending a\n",
    "    transaction (useful for reading data)\n",
    "    '''\n",
    "    data = _encode_function(sig, args)\n",
    "    data_hex = data.encode('hex')\n",
    "    response = eth_call(to_address=address, data=data_hex)\n",
    "    return decode_abi(result_types, response[2:].decode('hex'))"
   ]
  },
  {
   "cell_type": "code",
   "execution_count": 267,
   "metadata": {
    "collapsed": true
   },
   "outputs": [],
   "source": [
    "# FROM: https://github.com/ConsenSys/ethjsonrpc/blob/master/ethjsonrpc/client.py\n",
    "def call_with_transaction(from_, address, sig, args, gas=None, gas_price=None, value=None):\n",
    "    '''\n",
    "    Call a contract function by sending a transaction (useful for storing\n",
    "    data)\n",
    "    '''\n",
    "    gas = gas or DEFAULT_GAS_PER_TX\n",
    "    gas_price = gas_price or DEFAULT_GAS_PRICE\n",
    "    data = _encode_function(sig, args)\n",
    "    data_hex = data.encode('hex')\n",
    "    return eth_sendTransaction(from_address=from_, to_address=address, data=data_hex, gas=gas,\n",
    "                                    gas_price=gas_price, value=value)"
   ]
  },
  {
   "cell_type": "code",
   "execution_count": 268,
   "metadata": {
    "collapsed": true
   },
   "outputs": [],
   "source": [
    "################################################################################\n",
    "# JSON-RPC methods\n",
    "################################################################################"
   ]
  },
  {
   "cell_type": "code",
   "execution_count": 269,
   "metadata": {
    "collapsed": true
   },
   "outputs": [],
   "source": [
    "# FROM: https://github.com/ConsenSys/ethjsonrpc/blob/master/ethjsonrpc/client.py\n",
    "def web3_clientVersion():\n",
    "    '''\n",
    "    https://github.com/ethereum/wiki/wiki/JSON-RPC#web3_clientversion\n",
    "    NEEDS TESTING\n",
    "    '''\n",
    "    return _call('web3_clientVersion')"
   ]
  },
  {
   "cell_type": "code",
   "execution_count": 270,
   "metadata": {
    "collapsed": true
   },
   "outputs": [],
   "source": [
    "# FROM: https://github.com/ConsenSys/ethjsonrpc/blob/master/ethjsonrpc/client.py\n",
    "def web3_sha3(data):\n",
    "    '''\n",
    "    https://github.com/ethereum/wiki/wiki/JSON-RPC#web3_sha3\n",
    "    NEEDS TESTING\n",
    "    '''\n",
    "    data = str(data).encode('hex')\n",
    "    return _call('web3_sha3', [data])"
   ]
  },
  {
   "cell_type": "code",
   "execution_count": 271,
   "metadata": {
    "collapsed": true
   },
   "outputs": [],
   "source": [
    "# FROM: https://github.com/ConsenSys/ethjsonrpc/blob/master/ethjsonrpc/client.py\n",
    "def net_version():\n",
    "    '''\n",
    "    https://github.com/ethereum/wiki/wiki/JSON-RPC#net_version\n",
    "    NEEDS TESTING\n",
    "    '''\n",
    "    return _call('net_version')"
   ]
  },
  {
   "cell_type": "code",
   "execution_count": 272,
   "metadata": {
    "collapsed": true
   },
   "outputs": [],
   "source": [
    "# FROM: https://github.com/ConsenSys/ethjsonrpc/blob/master/ethjsonrpc/client.py\n",
    "def net_listening():\n",
    "    '''\n",
    "    https://github.com/ethereum/wiki/wiki/JSON-RPC#net_listening\n",
    "    NEEDS TESTING\n",
    "    '''\n",
    "    return _call('net_listening')"
   ]
  },
  {
   "cell_type": "code",
   "execution_count": 273,
   "metadata": {
    "collapsed": true
   },
   "outputs": [],
   "source": [
    "# FROM: https://github.com/ConsenSys/ethjsonrpc/blob/master/ethjsonrpc/client.py\n",
    "def net_peerCount():\n",
    "    '''\n",
    "    https://github.com/ethereum/wiki/wiki/JSON-RPC#net_peercount\n",
    "    NEEDS TESTING\n",
    "    '''\n",
    "    return hex_to_dec(_call('net_peerCount'))"
   ]
  },
  {
   "cell_type": "code",
   "execution_count": 274,
   "metadata": {
    "collapsed": true
   },
   "outputs": [],
   "source": [
    "def eth_protocolVersion():\n",
    "    '''\n",
    "    https://github.com/ethereum/wiki/wiki/JSON-RPC#eth_protocolversion\n",
    "    NEEDS TESTING\n",
    "    '''\n",
    "    return _call('eth_protocolVersion')"
   ]
  },
  {
   "cell_type": "code",
   "execution_count": 275,
   "metadata": {
    "collapsed": true
   },
   "outputs": [],
   "source": [
    "# FROM: https://github.com/ConsenSys/ethjsonrpc/blob/master/ethjsonrpc/client.py\n",
    "def eth_syncing():\n",
    "    '''\n",
    "    https://github.com/ethereum/wiki/wiki/JSON-RPC#eth_syncing\n",
    "    TESTED - MARKUS 2018-02-07\n",
    "    '''\n",
    "    return _call('eth_syncing')"
   ]
  },
  {
   "cell_type": "code",
   "execution_count": 276,
   "metadata": {
    "collapsed": true
   },
   "outputs": [],
   "source": [
    "# FROM: https://github.com/ConsenSys/ethjsonrpc/blob/master/ethjsonrpc/client.py\n",
    "def eth_coinbase():\n",
    "    '''\n",
    "    https://github.com/ethereum/wiki/wiki/JSON-RPC#eth_coinbase\n",
    "    NEEDS TESTING\n",
    "    '''\n",
    "    return _call('eth_coinbase')"
   ]
  },
  {
   "cell_type": "code",
   "execution_count": 277,
   "metadata": {
    "collapsed": true
   },
   "outputs": [],
   "source": [
    "# FROM: https://github.com/ConsenSys/ethjsonrpc/blob/master/ethjsonrpc/client.py\n",
    "def eth_mining():\n",
    "    '''\n",
    "    https://github.com/ethereum/wiki/wiki/JSON-RPC#eth_mining\n",
    "    NEEDS TESTING\n",
    "    '''\n",
    "    return _call('eth_mining')"
   ]
  },
  {
   "cell_type": "code",
   "execution_count": 278,
   "metadata": {
    "collapsed": true
   },
   "outputs": [],
   "source": [
    "# FROM: https://github.com/ConsenSys/ethjsonrpc/blob/master/ethjsonrpc/client.py\n",
    "def eth_hashrate():\n",
    "    '''\n",
    "    https://github.com/ethereum/wiki/wiki/JSON-RPC#eth_hashrate\n",
    "    NEEDS TESTING\n",
    "    '''\n",
    "    return hex_to_dec(_call('eth_hashrate'))"
   ]
  },
  {
   "cell_type": "code",
   "execution_count": 279,
   "metadata": {
    "collapsed": true
   },
   "outputs": [],
   "source": [
    "# FROM: https://github.com/ConsenSys/ethjsonrpc/blob/master/ethjsonrpc/client.py\n",
    "def eth_gasPrice():\n",
    "    '''\n",
    "    https://github.com/ethereum/wiki/wiki/JSON-RPC#eth_gasprice\n",
    "    NEEDS TESTING\n",
    "    '''\n",
    "    return hex_to_dec(_call('eth_gasPrice'))"
   ]
  },
  {
   "cell_type": "code",
   "execution_count": 280,
   "metadata": {
    "collapsed": true
   },
   "outputs": [],
   "source": [
    "# FROM: https://github.com/ConsenSys/ethjsonrpc/blob/master/ethjsonrpc/client.py\n",
    "def eth_accounts():\n",
    "    '''\n",
    "    https://github.com/ethereum/wiki/wiki/JSON-RPC#eth_accounts\n",
    "    NEEDS TESTING\n",
    "    '''\n",
    "    return _call('eth_accounts')"
   ]
  },
  {
   "cell_type": "code",
   "execution_count": 281,
   "metadata": {
    "collapsed": true
   },
   "outputs": [],
   "source": [
    "# FROM: https://github.com/ConsenSys/ethjsonrpc/blob/master/ethjsonrpc/client.py\n",
    "def eth_blockNumber():\n",
    "    '''\n",
    "    https://github.com/ethereum/wiki/wiki/JSON-RPC#eth_blocknumber\n",
    "    TESTED - MARKUS 2018-02-07\n",
    "    '''\n",
    "    return hex_to_dec(_call('eth_blockNumber'))"
   ]
  },
  {
   "cell_type": "code",
   "execution_count": 282,
   "metadata": {
    "collapsed": true
   },
   "outputs": [],
   "source": [
    "# FROM: https://github.com/ConsenSys/ethjsonrpc/blob/master/ethjsonrpc/client.py\n",
    "def eth_getBalance(address=None, block=BLOCK_TAG_LATEST):\n",
    "    '''\n",
    "    https://github.com/ethereum/wiki/wiki/JSON-RPC#eth_getbalance\n",
    "    TESTED - MARKUS 2018-02-07\n",
    "    '''\n",
    "    address = address or eth_coinbase()\n",
    "    block = validate_block(block)\n",
    "    return hex_to_dec(_call('eth_getBalance', [address, block]))"
   ]
  },
  {
   "cell_type": "code",
   "execution_count": 283,
   "metadata": {
    "collapsed": true
   },
   "outputs": [],
   "source": [
    "# FROM: https://github.com/ConsenSys/ethjsonrpc/blob/master/ethjsonrpc/client.py\n",
    "def eth_getStorageAt(address=None, position=0, block=BLOCK_TAG_LATEST):\n",
    "    '''\n",
    "    https://github.com/ethereum/wiki/wiki/JSON-RPC#eth_getstorageat\n",
    "    NEEDS TESTING\n",
    "    '''\n",
    "    block = validate_block(block)\n",
    "    return _call('eth_getStorageAt', [address, hex(position), block])"
   ]
  },
  {
   "cell_type": "code",
   "execution_count": 284,
   "metadata": {
    "collapsed": true
   },
   "outputs": [],
   "source": [
    "# FROM: https://github.com/ConsenSys/ethjsonrpc/blob/master/ethjsonrpc/client.py\n",
    "def eth_getTransactionCount(address, block=BLOCK_TAG_LATEST):\n",
    "    '''\n",
    "    https://github.com/ethereum/wiki/wiki/JSON-RPC#eth_gettransactioncount\n",
    "    TESTED - MARKUS 2018-02-07\n",
    "    '''\n",
    "    block = validate_block(block)\n",
    "    return hex_to_dec(_call('eth_getTransactionCount', [address, block]))"
   ]
  },
  {
   "cell_type": "code",
   "execution_count": 285,
   "metadata": {
    "collapsed": true
   },
   "outputs": [],
   "source": [
    "# FROM: https://github.com/ConsenSys/ethjsonrpc/blob/master/ethjsonrpc/client.py\n",
    "def eth_getBlockTransactionCountByHash(block_hash):\n",
    "    '''\n",
    "    https://github.com/ethereum/wiki/wiki/JSON-RPC#eth_getblocktransactioncountbyhash\n",
    "    NEEDS TESTING\n",
    "    '''\n",
    "    return hex_to_dec(_call('eth_getBlockTransactionCountByHash', [block_hash]))"
   ]
  },
  {
   "cell_type": "code",
   "execution_count": 286,
   "metadata": {
    "collapsed": true
   },
   "outputs": [],
   "source": [
    "# FROM: https://github.com/ConsenSys/ethjsonrpc/blob/master/ethjsonrpc/client.py\n",
    "def eth_getBlockTransactionCountByNumber(block=BLOCK_TAG_LATEST):\n",
    "    '''\n",
    "    https://github.com/ethereum/wiki/wiki/JSON-RPC#eth_getblocktransactioncountbynumber\n",
    "    NEEDS TESTING\n",
    "    '''\n",
    "    block = validate_block(block)\n",
    "    return hex_to_dec(_call('eth_getBlockTransactionCountByNumber', [block]))"
   ]
  },
  {
   "cell_type": "code",
   "execution_count": 287,
   "metadata": {
    "collapsed": true
   },
   "outputs": [],
   "source": [
    "# FROM: https://github.com/ConsenSys/ethjsonrpc/blob/master/ethjsonrpc/client.py\n",
    "def eth_getUncleCountByBlockHash(block_hash):\n",
    "    '''\n",
    "    https://github.com/ethereum/wiki/wiki/JSON-RPC#eth_getunclecountbyblockhash\n",
    "    NEEDS TESTING\n",
    "    '''\n",
    "    return hex_to_dec(_call('eth_getUncleCountByBlockHash', [block_hash]))"
   ]
  },
  {
   "cell_type": "code",
   "execution_count": 288,
   "metadata": {
    "collapsed": true
   },
   "outputs": [],
   "source": [
    "# FROM: https://github.com/ConsenSys/ethjsonrpc/blob/master/ethjsonrpc/client.py\n",
    "def eth_getUncleCountByBlockNumber(block=BLOCK_TAG_LATEST):\n",
    "    '''\n",
    "    https://github.com/ethereum/wiki/wiki/JSON-RPC#eth_getunclecountbyblocknumber\n",
    "    NEEDS TESTING\n",
    "    '''\n",
    "    block = validate_block(block)\n",
    "    return hex_to_dec(_call('eth_getUncleCountByBlockNumber', [block]))"
   ]
  },
  {
   "cell_type": "code",
   "execution_count": 289,
   "metadata": {
    "collapsed": true
   },
   "outputs": [],
   "source": [
    "# FROM: https://github.com/ConsenSys/ethjsonrpc/blob/master/ethjsonrpc/client.py\n",
    "def eth_getCode(address, default_block=BLOCK_TAG_LATEST):\n",
    "    '''\n",
    "    https://github.com/ethereum/wiki/wiki/JSON-RPC#eth_getcode\n",
    "    NEEDS TESTING\n",
    "    '''\n",
    "#     doesn't work on Python 3\n",
    "#     if isinstance(default_block, basestring):\n",
    "#         if default_block not in BLOCK_TAGS:\n",
    "#             raise ValueError\n",
    "    return _call('eth_getCode', [address, default_block])"
   ]
  },
  {
   "cell_type": "code",
   "execution_count": 290,
   "metadata": {
    "collapsed": true
   },
   "outputs": [],
   "source": [
    "# FROM: https://github.com/ConsenSys/ethjsonrpc/blob/master/ethjsonrpc/client.py\n",
    "def eth_sign(address, data):\n",
    "    '''\n",
    "    https://github.com/ethereum/wiki/wiki/JSON-RPC#eth_sign\n",
    "    NEEDS TESTING\n",
    "    '''\n",
    "    return _call('eth_sign', [address, data])"
   ]
  },
  {
   "cell_type": "code",
   "execution_count": 291,
   "metadata": {
    "collapsed": true
   },
   "outputs": [],
   "source": [
    "# FROM: https://github.com/ConsenSys/ethjsonrpc/blob/master/ethjsonrpc/client.py\n",
    "def eth_sendTransaction(to_address=None, from_address=None, gas=None, gas_price=None, value=None, data=None,\n",
    "                        nonce=None):\n",
    "    '''\n",
    "    https://github.com/ethereum/wiki/wiki/JSON-RPC#eth_sendtransaction\n",
    "    NEEDS TESTING\n",
    "    '''\n",
    "    params = {}\n",
    "    params['from'] = from_address or eth_coinbase()\n",
    "    if to_address is not None:\n",
    "        params['to'] = to_address\n",
    "    if gas is not None:\n",
    "        params['gas'] = hex(gas)\n",
    "    if gas_price is not None:\n",
    "        params['gasPrice'] = clean_hex(gas_price)\n",
    "    if value is not None:\n",
    "        params['value'] = clean_hex(value)\n",
    "    if data is not None:\n",
    "        params['data'] = data\n",
    "    if nonce is not None:\n",
    "        params['nonce'] = hex(nonce)\n",
    "    return _call('eth_sendTransaction', [params])"
   ]
  },
  {
   "cell_type": "code",
   "execution_count": 292,
   "metadata": {
    "collapsed": true
   },
   "outputs": [],
   "source": [
    "# FROM: https://github.com/ConsenSys/ethjsonrpc/blob/master/ethjsonrpc/client.py\n",
    "def eth_sendRawTransaction(data):\n",
    "    '''\n",
    "    https://github.com/ethereum/wiki/wiki/JSON-RPC#eth_sendrawtransaction\n",
    "    NEEDS TESTING\n",
    "    '''\n",
    "    return _call('eth_sendRawTransaction', [data])"
   ]
  },
  {
   "cell_type": "code",
   "execution_count": 293,
   "metadata": {
    "collapsed": true
   },
   "outputs": [],
   "source": [
    "# FROM: https://github.com/ConsenSys/ethjsonrpc/blob/master/ethjsonrpc/client.py\n",
    "def eth_call(to_address, from_address=None, gas=None, gas_price=None, value=None, data=None,\n",
    "             default_block=BLOCK_TAG_LATEST):\n",
    "    '''\n",
    "    https://github.com/ethereum/wiki/wiki/JSON-RPC#eth_call\n",
    "    NEEDS TESTING\n",
    "    '''\n",
    "#     doesn't work on Python 3\n",
    "#     if isinstance(default_block, basestring):\n",
    "#         if default_block not in BLOCK_TAGS:\n",
    "#             raise ValueError\n",
    "    obj = {}\n",
    "    obj['to'] = to_address\n",
    "    if from_address is not None:\n",
    "        obj['from'] = from_address\n",
    "    if gas is not None:\n",
    "        obj['gas'] = hex(gas)\n",
    "    if gas_price is not None:\n",
    "        obj['gasPrice'] = clean_hex(gas_price)\n",
    "    if value is not None:\n",
    "        obj['value'] = value\n",
    "    if data is not None:\n",
    "        obj['data'] = data\n",
    "    return _call('eth_call', [obj, default_block])"
   ]
  },
  {
   "cell_type": "code",
   "execution_count": 294,
   "metadata": {
    "collapsed": true
   },
   "outputs": [],
   "source": [
    "# FROM: https://github.com/ConsenSys/ethjsonrpc/blob/master/ethjsonrpc/client.py\n",
    "def eth_estimateGas(to_address=None, from_address=None, gas=None, gas_price=None, value=None, data=None,\n",
    "                    default_block=BLOCK_TAG_LATEST):\n",
    "    '''\n",
    "    https://github.com/ethereum/wiki/wiki/JSON-RPC#eth_estimategas\n",
    "    NEEDS TESTING\n",
    "    '''\n",
    "#     doesn't work on Python 3\n",
    "#     if isinstance(default_block, basestring):\n",
    "#         if default_block not in BLOCK_TAGS:\n",
    "#             raise ValueError\n",
    "    obj = {}\n",
    "    if to_address is not None:\n",
    "        obj['to'] = to_address\n",
    "    if from_address is not None:\n",
    "        obj['from'] = from_address\n",
    "    if gas is not None:\n",
    "        obj['gas'] = hex(gas)\n",
    "    if gas_price is not None:\n",
    "        obj['gasPrice'] = clean_hex(gas_price)\n",
    "    if value is not None:\n",
    "        obj['value'] = value\n",
    "    if data is not None:\n",
    "        obj['data'] = data\n",
    "    return hex_to_dec(_call('eth_estimateGas', [obj, default_block]))"
   ]
  },
  {
   "cell_type": "code",
   "execution_count": 295,
   "metadata": {
    "collapsed": true
   },
   "outputs": [],
   "source": [
    "# FROM: https://github.com/ConsenSys/ethjsonrpc/blob/master/ethjsonrpc/client.py\n",
    "def eth_getBlockByHash(block_hash, tx_objects=True):\n",
    "    '''\n",
    "    https://github.com/ethereum/wiki/wiki/JSON-RPC#eth_getblockbyhash\n",
    "    NEEDS TESTING\n",
    "    '''\n",
    "    return _call('eth_getBlockByHash', [block_hash, tx_objects])"
   ]
  },
  {
   "cell_type": "code",
   "execution_count": 296,
   "metadata": {
    "collapsed": true
   },
   "outputs": [],
   "source": [
    "# FROM: https://github.com/ConsenSys/ethjsonrpc/blob/master/ethjsonrpc/client.py\n",
    "def eth_getBlockByNumber(block=BLOCK_TAG_LATEST, tx_objects=True):\n",
    "    '''\n",
    "    https://github.com/ethereum/wiki/wiki/JSON-RPC#eth_getblockbynumber\n",
    "    NEEDS TESTING\n",
    "    '''\n",
    "    block = validate_block(block)\n",
    "    return _call('eth_getBlockByNumber', [block, tx_objects])"
   ]
  },
  {
   "cell_type": "code",
   "execution_count": 297,
   "metadata": {
    "collapsed": true
   },
   "outputs": [],
   "source": [
    "# FROM: https://github.com/ConsenSys/ethjsonrpc/blob/master/ethjsonrpc/client.py\n",
    "def eth_getTransactionByHash(tx_hash):\n",
    "    '''\n",
    "    https://github.com/ethereum/wiki/wiki/JSON-RPC#eth_gettransactionbyhash\n",
    "    NEEDS TESTING\n",
    "    '''\n",
    "    return _call('eth_getTransactionByHash', [tx_hash])"
   ]
  },
  {
   "cell_type": "code",
   "execution_count": 298,
   "metadata": {
    "collapsed": true
   },
   "outputs": [],
   "source": [
    "# FROM: https://github.com/ConsenSys/ethjsonrpc/blob/master/ethjsonrpc/client.py\n",
    "def eth_getTransactionByBlockHashAndIndex(block_hash, index=0):\n",
    "    '''\n",
    "    https://github.com/ethereum/wiki/wiki/JSON-RPC#eth_gettransactionbyblockhashandindex\n",
    "    NEEDS TESTING\n",
    "    '''\n",
    "    return _call('eth_getTransactionByBlockHashAndIndex', [block_hash, hex(index)])"
   ]
  },
  {
   "cell_type": "code",
   "execution_count": 299,
   "metadata": {
    "collapsed": true
   },
   "outputs": [],
   "source": [
    "# FROM: https://github.com/ConsenSys/ethjsonrpc/blob/master/ethjsonrpc/client.py\n",
    "def eth_getTransactionByBlockNumberAndIndex(block=BLOCK_TAG_LATEST, index=0):\n",
    "    '''\n",
    "    https://github.com/ethereum/wiki/wiki/JSON-RPC#eth_gettransactionbyblocknumberandindex\n",
    "    NEEDS TESTING\n",
    "    '''\n",
    "    block = validate_block(block)\n",
    "    return _call('eth_getTransactionByBlockNumberAndIndex', [block, hex(index)])"
   ]
  },
  {
   "cell_type": "code",
   "execution_count": 300,
   "metadata": {
    "collapsed": true
   },
   "outputs": [],
   "source": [
    "# FROM: https://github.com/ConsenSys/ethjsonrpc/blob/master/ethjsonrpc/client.py\n",
    "def eth_getTransactionReceipt(tx_hash):\n",
    "    '''\n",
    "    https://github.com/ethereum/wiki/wiki/JSON-RPC#eth_gettransactionreceipt\n",
    "    NEEDS TESTING\n",
    "    '''\n",
    "    return _call('eth_getTransactionReceipt', [tx_hash])"
   ]
  },
  {
   "cell_type": "code",
   "execution_count": 301,
   "metadata": {
    "collapsed": true
   },
   "outputs": [],
   "source": [
    "# FROM: https://github.com/ConsenSys/ethjsonrpc/blob/master/ethjsonrpc/client.py\n",
    "def eth_getUncleByBlockHashAndIndex(block_hash, index=0):\n",
    "    '''\n",
    "    https://github.com/ethereum/wiki/wiki/JSON-RPC#eth_getunclebyblockhashandindex\n",
    "    NEEDS TESTING\n",
    "    '''\n",
    "    return _call('eth_getUncleByBlockHashAndIndex', [block_hash, hex(index)])"
   ]
  },
  {
   "cell_type": "code",
   "execution_count": 302,
   "metadata": {
    "collapsed": true
   },
   "outputs": [],
   "source": [
    "# FROM: https://github.com/ConsenSys/ethjsonrpc/blob/master/ethjsonrpc/client.py\n",
    "def eth_getUncleByBlockNumberAndIndex(block=BLOCK_TAG_LATEST, index=0):\n",
    "    '''\n",
    "    https://github.com/ethereum/wiki/wiki/JSON-RPC#eth_getunclebyblocknumberandindex\n",
    "    NEEDS TESTING\n",
    "    '''\n",
    "    block = validate_block(block)\n",
    "    return _call('eth_getUncleByBlockNumberAndIndex', [block, hex(index)])"
   ]
  },
  {
   "cell_type": "code",
   "execution_count": 303,
   "metadata": {
    "collapsed": true
   },
   "outputs": [],
   "source": [
    "# FROM: https://github.com/ConsenSys/ethjsonrpc/blob/master/ethjsonrpc/client.py\n",
    "def eth_getCompilers():\n",
    "    '''\n",
    "    https://github.com/ethereum/wiki/wiki/JSON-RPC#eth_getcompilers\n",
    "    NEEDS TESTING\n",
    "    '''\n",
    "    return _call('eth_getCompilers')"
   ]
  },
  {
   "cell_type": "code",
   "execution_count": 304,
   "metadata": {
    "collapsed": true
   },
   "outputs": [],
   "source": [
    "# FROM: https://github.com/ConsenSys/ethjsonrpc/blob/master/ethjsonrpc/client.py\n",
    "def eth_compileSolidity(code):\n",
    "    '''\n",
    "    https://github.com/ethereum/wiki/wiki/JSON-RPC#eth_compilesolidity\n",
    "    NEEDS TESTING\n",
    "    '''\n",
    "    return _call('eth_compileSolidity', [code])"
   ]
  },
  {
   "cell_type": "code",
   "execution_count": 305,
   "metadata": {
    "collapsed": true
   },
   "outputs": [],
   "source": [
    "# FROM: https://github.com/ConsenSys/ethjsonrpc/blob/master/ethjsonrpc/client.py\n",
    "def eth_compileLLL(code):\n",
    "    '''\n",
    "    https://github.com/ethereum/wiki/wiki/JSON-RPC#eth_compilelll\n",
    "    N/A\n",
    "    '''\n",
    "    return _call('eth_compileLLL', [code])"
   ]
  },
  {
   "cell_type": "code",
   "execution_count": 306,
   "metadata": {
    "collapsed": true
   },
   "outputs": [],
   "source": [
    "# FROM: https://github.com/ConsenSys/ethjsonrpc/blob/master/ethjsonrpc/client.py\n",
    "def eth_compileSerpent(code):\n",
    "    '''\n",
    "    https://github.com/ethereum/wiki/wiki/JSON-RPC#eth_compileserpent\n",
    "    N/A\n",
    "    '''\n",
    "    return _call('eth_compileSerpent', [code])"
   ]
  },
  {
   "cell_type": "code",
   "execution_count": 307,
   "metadata": {
    "collapsed": true
   },
   "outputs": [],
   "source": [
    "# FROM: https://github.com/ConsenSys/ethjsonrpc/blob/master/ethjsonrpc/client.py\n",
    "def eth_newFilter(from_block=BLOCK_TAG_LATEST, to_block=BLOCK_TAG_LATEST, address=None, topics=None):\n",
    "    '''\n",
    "    https://github.com/ethereum/wiki/wiki/JSON-RPC#eth_newfilter\n",
    "    NEEDS TESTING\n",
    "    '''\n",
    "    _filter = {\n",
    "        'fromBlock': from_block,\n",
    "        'toBlock':   to_block,\n",
    "        'address':   address,\n",
    "        'topics':    topics,\n",
    "    }\n",
    "    return _call('eth_newFilter', [_filter])"
   ]
  },
  {
   "cell_type": "code",
   "execution_count": 308,
   "metadata": {
    "collapsed": true
   },
   "outputs": [],
   "source": [
    "# FROM: https://github.com/ConsenSys/ethjsonrpc/blob/master/ethjsonrpc/client.py\n",
    "def eth_newBlockFilter():\n",
    "    '''\n",
    "    https://github.com/ethereum/wiki/wiki/JSON-RPC#eth_newblockfilter\n",
    "    NEEDS TESTING\n",
    "    '''\n",
    "    return _call('eth_newBlockFilter')"
   ]
  },
  {
   "cell_type": "code",
   "execution_count": 309,
   "metadata": {
    "collapsed": true
   },
   "outputs": [],
   "source": [
    "# FROM: https://github.com/ConsenSys/ethjsonrpc/blob/master/ethjsonrpc/client.py\n",
    "def eth_newPendingTransactionFilter():\n",
    "    '''\n",
    "    https://github.com/ethereum/wiki/wiki/JSON-RPC#eth_newpendingtransactionfilter\n",
    "    NEEDS TESTING\n",
    "    '''\n",
    "    return hex_to_dec(_call('eth_newPendingTransactionFilter'))"
   ]
  },
  {
   "cell_type": "code",
   "execution_count": 310,
   "metadata": {
    "collapsed": true
   },
   "outputs": [],
   "source": [
    "# FROM: https://github.com/ConsenSys/ethjsonrpc/blob/master/ethjsonrpc/client.py\n",
    "def eth_uninstallFilter(filter_id):\n",
    "    '''\n",
    "    https://github.com/ethereum/wiki/wiki/JSON-RPC#eth_uninstallfilter\n",
    "    NEEDS TESTING\n",
    "    '''\n",
    "    return _call('eth_uninstallFilter', [filter_id])"
   ]
  },
  {
   "cell_type": "code",
   "execution_count": 311,
   "metadata": {
    "collapsed": true
   },
   "outputs": [],
   "source": [
    "# FROM: https://github.com/ConsenSys/ethjsonrpc/blob/master/ethjsonrpc/client.py\n",
    "def eth_getFilterChanges(filter_id):\n",
    "    '''\n",
    "    https://github.com/ethereum/wiki/wiki/JSON-RPC#eth_getfilterchanges\n",
    "    NEEDS TESTING\n",
    "    '''\n",
    "    return _call('eth_getFilterChanges', [filter_id])"
   ]
  },
  {
   "cell_type": "code",
   "execution_count": 312,
   "metadata": {
    "collapsed": true
   },
   "outputs": [],
   "source": [
    "# FROM: https://github.com/ConsenSys/ethjsonrpc/blob/master/ethjsonrpc/client.py\n",
    "def eth_getFilterLogs(filter_id):\n",
    "    '''\n",
    "    https://github.com/ethereum/wiki/wiki/JSON-RPC#eth_getfilterlogs\n",
    "    NEEDS TESTING\n",
    "    '''\n",
    "    return _call('eth_getFilterLogs', [filter_id])"
   ]
  },
  {
   "cell_type": "code",
   "execution_count": 313,
   "metadata": {
    "collapsed": true
   },
   "outputs": [],
   "source": [
    "#FROM: https://github.com/ConsenSys/ethjsonrpc/blob/master/ethjsonrpc/client.py\n",
    "#def eth_getLogs(filter_object):\n",
    "#    return _call('eth_getLogs', [filter_object])\n",
    "\n",
    "# redefined by Markus 2018-02-08\n",
    "def eth_getLogs(from_block=BLOCK_TAG_LATEST, to_block=BLOCK_TAG_LATEST, address=None, topics=None):\n",
    "    '''\n",
    "    https://github.com/ethereum/wiki/wiki/JSON-RPC#eth_getlogs\n",
    "    TESTED - MARKUS 2018-02-08\n",
    "    '''\n",
    "    _filter = {\n",
    "        'fromBlock': from_block,\n",
    "        'toBlock':   to_block,\n",
    "        'address':   address,\n",
    "        'topics':    topics,\n",
    "    }\n",
    "    return _call('eth_getLogs', [_filter])"
   ]
  },
  {
   "cell_type": "code",
   "execution_count": 314,
   "metadata": {
    "collapsed": true
   },
   "outputs": [],
   "source": [
    "# FROM: https://github.com/ConsenSys/ethjsonrpc/blob/master/ethjsonrpc/client.py\n",
    "def eth_getWork():\n",
    "    '''\n",
    "    https://github.com/ethereum/wiki/wiki/JSON-RPC#eth_getwork\n",
    "    NEEDS TESTING\n",
    "    '''\n",
    "    return _call('eth_getWork')"
   ]
  },
  {
   "cell_type": "code",
   "execution_count": 315,
   "metadata": {
    "collapsed": true
   },
   "outputs": [],
   "source": [
    "# FROM: https://github.com/ConsenSys/ethjsonrpc/blob/master/ethjsonrpc/client.py\n",
    "def eth_submitWork(nonce, header, mix_digest):\n",
    "    '''\n",
    "    https://github.com/ethereum/wiki/wiki/JSON-RPC#eth_submitwork\n",
    "    NEEDS TESTING\n",
    "    '''\n",
    "    return _call('eth_submitWork', [nonce, header, mix_digest])"
   ]
  },
  {
   "cell_type": "code",
   "execution_count": 316,
   "metadata": {
    "collapsed": true
   },
   "outputs": [],
   "source": [
    "# FROM: https://github.com/ConsenSys/ethjsonrpc/blob/master/ethjsonrpc/client.py\n",
    "def eth_submitHashrate(hash_rate, client_id):\n",
    "    '''\n",
    "    https://github.com/ethereum/wiki/wiki/JSON-RPC#eth_submithashrate\n",
    "    NEEDS TESTING\n",
    "    '''\n",
    "    return _call('eth_submitHashrate', [hex(hash_rate), client_id])"
   ]
  },
  {
   "cell_type": "code",
   "execution_count": 317,
   "metadata": {
    "collapsed": true
   },
   "outputs": [],
   "source": [
    "# FROM: https://github.com/ConsenSys/ethjsonrpc/blob/master/ethjsonrpc/client.py\n",
    "def shh_version():\n",
    "    '''\n",
    "    https://github.com/ethereum/wiki/wiki/JSON-RPC#shh_version\n",
    "    N/A\n",
    "    '''\n",
    "    return _call('shh_version')"
   ]
  },
  {
   "cell_type": "code",
   "execution_count": 318,
   "metadata": {
    "collapsed": true
   },
   "outputs": [],
   "source": [
    "# FROM: https://github.com/ConsenSys/ethjsonrpc/blob/master/ethjsonrpc/client.py\n",
    "def shh_post(topics, payload, priority, ttl, from_=None, to=None):\n",
    "    '''\n",
    "    https://github.com/ethereum/wiki/wiki/JSON-RPC#shh_post\n",
    "    NEEDS TESTING\n",
    "    '''\n",
    "    whisper_object = {\n",
    "        'from':     from_,\n",
    "        'to':       to,\n",
    "        'topics':   topics,\n",
    "        'payload':  payload,\n",
    "        'priority': hex(priority),\n",
    "        'ttl':      hex(ttl),\n",
    "    }\n",
    "    return _call('shh_post', [whisper_object])"
   ]
  },
  {
   "cell_type": "code",
   "execution_count": 319,
   "metadata": {
    "collapsed": true
   },
   "outputs": [],
   "source": [
    "# FROM: https://github.com/ConsenSys/ethjsonrpc/blob/master/ethjsonrpc/client.py\n",
    "def shh_newIdentity():\n",
    "    '''\n",
    "    https://github.com/ethereum/wiki/wiki/JSON-RPC#shh_newidentity\n",
    "    N/A\n",
    "    '''\n",
    "    return _call('shh_newIdentity')"
   ]
  },
  {
   "cell_type": "code",
   "execution_count": 320,
   "metadata": {
    "collapsed": true
   },
   "outputs": [],
   "source": [
    "# FROM: https://github.com/ConsenSys/ethjsonrpc/blob/master/ethjsonrpc/client.py\n",
    "def shh_hasIdentity(address):\n",
    "    '''\n",
    "    https://github.com/ethereum/wiki/wiki/JSON-RPC#shh_hasidentity\n",
    "    NEEDS TESTING\n",
    "    '''\n",
    "    return _call('shh_hasIdentity', [address])"
   ]
  },
  {
   "cell_type": "code",
   "execution_count": 321,
   "metadata": {
    "collapsed": true
   },
   "outputs": [],
   "source": [
    "# FROM: https://github.com/ConsenSys/ethjsonrpc/blob/master/ethjsonrpc/client.py\n",
    "def shh_newGroup():\n",
    "    '''\n",
    "    https://github.com/ethereum/wiki/wiki/JSON-RPC#shh_newgroup\n",
    "    N/A\n",
    "    '''\n",
    "    return _call('shh_newGroup')"
   ]
  },
  {
   "cell_type": "code",
   "execution_count": 322,
   "metadata": {
    "collapsed": true
   },
   "outputs": [],
   "source": [
    "# FROM: https://github.com/ConsenSys/ethjsonrpc/blob/master/ethjsonrpc/client.py\n",
    "def shh_addToGroup():\n",
    "    '''\n",
    "    https://github.com/ethereum/wiki/wiki/JSON-RPC#shh_addtogroup\n",
    "    NEEDS TESTING\n",
    "    '''\n",
    "    return _call('shh_addToGroup')"
   ]
  },
  {
   "cell_type": "code",
   "execution_count": 323,
   "metadata": {
    "collapsed": true
   },
   "outputs": [],
   "source": [
    "# FROM: https://github.com/ConsenSys/ethjsonrpc/blob/master/ethjsonrpc/client.py\n",
    "def shh_newFilter(to, topics):\n",
    "    '''\n",
    "    https://github.com/ethereum/wiki/wiki/JSON-RPC#shh_newfilter\n",
    "    NEEDS TESTING\n",
    "    '''\n",
    "    _filter = {\n",
    "        'to':     to,\n",
    "        'topics': topics,\n",
    "    }\n",
    "    return _call('shh_newFilter', [_filter])"
   ]
  },
  {
   "cell_type": "code",
   "execution_count": 324,
   "metadata": {
    "collapsed": true
   },
   "outputs": [],
   "source": [
    "# FROM: https://github.com/ConsenSys/ethjsonrpc/blob/master/ethjsonrpc/client.py\n",
    "def shh_uninstallFilter(filter_id):\n",
    "    '''\n",
    "    https://github.com/ethereum/wiki/wiki/JSON-RPC#shh_uninstallfilter\n",
    "    NEEDS TESTING\n",
    "    '''\n",
    "    return _call('shh_uninstallFilter', [filter_id])"
   ]
  },
  {
   "cell_type": "code",
   "execution_count": 325,
   "metadata": {
    "collapsed": true
   },
   "outputs": [],
   "source": [
    "# FROM: https://github.com/ConsenSys/ethjsonrpc/blob/master/ethjsonrpc/client.py\n",
    "def shh_getFilterChanges(filter_id):\n",
    "    '''\n",
    "    https://github.com/ethereum/wiki/wiki/JSON-RPC#shh_getfilterchanges\n",
    "    NEEDS TESTING\n",
    "    '''\n",
    "    return _call('shh_getFilterChanges', [filter_id])"
   ]
  },
  {
   "cell_type": "code",
   "execution_count": 326,
   "metadata": {
    "collapsed": true
   },
   "outputs": [],
   "source": [
    "# FROM: https://github.com/ConsenSys/ethjsonrpc/blob/master/ethjsonrpc/client.py\n",
    "def shh_getMessages(filter_id):\n",
    "    '''\n",
    "    https://github.com/ethereum/wiki/wiki/JSON-RPC#shh_getmessages\n",
    "    NEEDS TESTING\n",
    "    '''\n",
    "    return _call('shh_getMessages', [filter_id])    "
   ]
  },
  {
   "cell_type": "code",
   "execution_count": 327,
   "metadata": {},
   "outputs": [
    {
     "data": {
      "text/plain": [
       "False"
      ]
     },
     "execution_count": 327,
     "metadata": {},
     "output_type": "execute_result"
    }
   ],
   "source": [
    "eth_syncing()"
   ]
  },
  {
   "cell_type": "code",
   "execution_count": 328,
   "metadata": {},
   "outputs": [
    {
     "data": {
      "text/plain": [
       "5054920"
      ]
     },
     "execution_count": 328,
     "metadata": {},
     "output_type": "execute_result"
    }
   ],
   "source": [
    "eth_blockNumber()"
   ]
  },
  {
   "cell_type": "code",
   "execution_count": 329,
   "metadata": {},
   "outputs": [
    {
     "data": {
      "text/plain": [
       "130690668423755103961362"
      ]
     },
     "execution_count": 329,
     "metadata": {},
     "output_type": "execute_result"
    }
   ],
   "source": [
    "eth_getBalance(address='0x267be1C1D684F78cb4F6a176C4911b741E4Ffdc0')"
   ]
  },
  {
   "cell_type": "code",
   "execution_count": 330,
   "metadata": {},
   "outputs": [
    {
     "data": {
      "text/plain": [
       "762653"
      ]
     },
     "execution_count": 330,
     "metadata": {},
     "output_type": "execute_result"
    }
   ],
   "source": [
    "eth_getTransactionCount('0x267be1C1D684F78cb4F6a176C4911b741E4Ffdc0')"
   ]
  },
  {
   "cell_type": "code",
   "execution_count": null,
   "metadata": {
    "collapsed": true
   },
   "outputs": [],
   "source": [
    "MEW_TOKENS = getJSON('https://raw.githubusercontent.com/MyEtherWallet/ethereum-lists/master/tokens/tokens-eth.json')\n",
    "MEW_TOKENS = pd.DataFrame.from_dict(MEW_TOKENS)\n",
    "MEW_TOKENS.head()"
   ]
  },
  {
   "cell_type": "code",
   "execution_count": 372,
   "metadata": {},
   "outputs": [
    {
     "data": {
      "text/plain": [
       "{'DAI': '0x89d24A6b4CcB1B6fAA2625fE562bDD9a23260359',\n",
       " 'MKR': '0x9f8F72aA9304c8B593d555F12eF6589cC3A579A2'}"
      ]
     },
     "execution_count": 372,
     "metadata": {},
     "output_type": "execute_result"
    }
   ],
   "source": [
    "tokens_of_interest = {\n",
    "    'DAI': '',\n",
    "    'MKR': ''\n",
    "}\n",
    "for token in tokens_of_interest:\n",
    "    tokens_of_interest[token] = MEW_TOKENS[MEW_TOKENS['symbol']==token]['address'].to_string(index=False)\n",
    "tokens_of_interest"
   ]
  },
  {
   "cell_type": "code",
   "execution_count": 392,
   "metadata": {
    "collapsed": true
   },
   "outputs": [],
   "source": [
    "def getTokenTransfers(address, from_block, to_block):\n",
    "    ERC20_transfer_signature = '0xddf252ad1be2c89b69c2b068fc378daa952ba7f163c4a11628f55a4df523b3ef'\n",
    "    json = eth_getLogs(from_block=from_block, \n",
    "                       to_block=to_block,\n",
    "                       address=address,\n",
    "                       topics=[ERC20_transfer_signature])\n",
    "    df = pd.DataFrame.from_dict(json)\n",
    "    #TODO: get decimals from MEW\n",
    "    df['amount'] = recent_DAI_transfers['data'].apply(lambda x: float.fromhex(x)*1e-18)\n",
    "    df['from'] = recent_DAI_transfers['topics'].apply(lambda x: x[1][:2]+x[1][-40:])\n",
    "    df['to'] = recent_DAI_transfers['topics'].apply(lambda x: x[2][:2]+x[2][-40:])\n",
    "    return df\n",
    "\n",
    "from_block = hex(eth_blockNumber() - 10000)\n",
    "to_block = hex(eth_blockNumber())\n",
    "txns = None\n",
    "for token in tokens_of_interest:\n",
    "    tmp = getTokenTransfers(tokens_of_interest[token],\n",
    "                            from_block,\n",
    "                            to_block)\n",
    "    if tmp is None:\n",
    "        continue\n",
    "    tmp['token'] = token\n",
    "    tmp['token_address'] = tokens_of_interest[token]\n",
    "    if txns is None:\n",
    "        txns = tmp\n",
    "    else:\n",
    "        txns = txns.append(tmp, ignore_index=True)"
   ]
  },
  {
   "cell_type": "code",
   "execution_count": 393,
   "metadata": {},
   "outputs": [
    {
     "data": {
      "text/html": [
       "<div>\n",
       "<style>\n",
       "    .dataframe thead tr:only-child th {\n",
       "        text-align: right;\n",
       "    }\n",
       "\n",
       "    .dataframe thead th {\n",
       "        text-align: left;\n",
       "    }\n",
       "\n",
       "    .dataframe tbody tr th {\n",
       "        vertical-align: top;\n",
       "    }\n",
       "</style>\n",
       "<table border=\"1\" class=\"dataframe\">\n",
       "  <thead>\n",
       "    <tr style=\"text-align: right;\">\n",
       "      <th></th>\n",
       "      <th>address</th>\n",
       "      <th>blockHash</th>\n",
       "      <th>blockNumber</th>\n",
       "      <th>data</th>\n",
       "      <th>logIndex</th>\n",
       "      <th>removed</th>\n",
       "      <th>topics</th>\n",
       "      <th>transactionHash</th>\n",
       "      <th>transactionIndex</th>\n",
       "      <th>amount</th>\n",
       "      <th>from</th>\n",
       "      <th>to</th>\n",
       "      <th>token</th>\n",
       "      <th>token_address</th>\n",
       "    </tr>\n",
       "  </thead>\n",
       "  <tbody>\n",
       "    <tr>\n",
       "      <th>0</th>\n",
       "      <td>0x89d24a6b4ccb1b6faa2625fe562bdd9a23260359</td>\n",
       "      <td>0x0a40dadcac5d78ba83a22c583a2ece43c2692a543abd...</td>\n",
       "      <td>0x4cff8e</td>\n",
       "      <td>0x00000000000000000000000000000000000000000000...</td>\n",
       "      <td>0x30</td>\n",
       "      <td>False</td>\n",
       "      <td>[0xddf252ad1be2c89b69c2b068fc378daa952ba7f163c...</td>\n",
       "      <td>0x6cf89c28bd9b3b329f876301fa1cf36abfd5dfbba3b1...</td>\n",
       "      <td>0x5f</td>\n",
       "      <td>3625.0</td>\n",
       "      <td>0x14fbca95be7e99c15cc2996c6c9d841e54b79425</td>\n",
       "      <td>0x746e17548b63b0689e054d84a09abe1f5b70672c</td>\n",
       "      <td>DAI</td>\n",
       "      <td>0x89d24A6b4CcB1B6fAA2625fE562bDD9a23260359</td>\n",
       "    </tr>\n",
       "    <tr>\n",
       "      <th>1</th>\n",
       "      <td>0x89d24a6b4ccb1b6faa2625fe562bdd9a23260359</td>\n",
       "      <td>0x1339d414bf6ce64f950129b1a7498df680784747fc52...</td>\n",
       "      <td>0x4cff94</td>\n",
       "      <td>0x00000000000000000000000000000000000000000000...</td>\n",
       "      <td>0xb</td>\n",
       "      <td>False</td>\n",
       "      <td>[0xddf252ad1be2c89b69c2b068fc378daa952ba7f163c...</td>\n",
       "      <td>0x4305f166fe8adfd5e8dba816125c01571ac59e79eacf...</td>\n",
       "      <td>0x77</td>\n",
       "      <td>3625.0</td>\n",
       "      <td>0x746e17548b63b0689e054d84a09abe1f5b70672c</td>\n",
       "      <td>0xb950f5c190472049762e0a250e10d94b81e15ddd</td>\n",
       "      <td>DAI</td>\n",
       "      <td>0x89d24A6b4CcB1B6fAA2625fE562bDD9a23260359</td>\n",
       "    </tr>\n",
       "    <tr>\n",
       "      <th>2</th>\n",
       "      <td>0x89d24a6b4ccb1b6faa2625fe562bdd9a23260359</td>\n",
       "      <td>0x6be818f4cf7265bed33970456cea54547cb5ef14c551...</td>\n",
       "      <td>0x4cffb7</td>\n",
       "      <td>0x00000000000000000000000000000000000000000000...</td>\n",
       "      <td>0x25</td>\n",
       "      <td>False</td>\n",
       "      <td>[0xddf252ad1be2c89b69c2b068fc378daa952ba7f163c...</td>\n",
       "      <td>0x794c1d578bfa0381dee9fb3da23860f5691f6cf61a0d...</td>\n",
       "      <td>0x72</td>\n",
       "      <td>24000.0</td>\n",
       "      <td>0x14fbca95be7e99c15cc2996c6c9d841e54b79425</td>\n",
       "      <td>0x004075e4d4b1ce6c48c81cc940e2bad24b489e64</td>\n",
       "      <td>DAI</td>\n",
       "      <td>0x89d24A6b4CcB1B6fAA2625fE562bDD9a23260359</td>\n",
       "    </tr>\n",
       "    <tr>\n",
       "      <th>3</th>\n",
       "      <td>0x89d24a6b4ccb1b6faa2625fe562bdd9a23260359</td>\n",
       "      <td>0x06d6c83500d7e0f14d08b9e2bdb4a8be6ffe6f9e9d9f...</td>\n",
       "      <td>0x4cffb9</td>\n",
       "      <td>0x00000000000000000000000000000000000000000000...</td>\n",
       "      <td>0x92</td>\n",
       "      <td>False</td>\n",
       "      <td>[0xddf252ad1be2c89b69c2b068fc378daa952ba7f163c...</td>\n",
       "      <td>0xaa75b2605e6cea3649ba1af7e47a48bf5e2357909b3c...</td>\n",
       "      <td>0x62</td>\n",
       "      <td>40000.0</td>\n",
       "      <td>0x14fbca95be7e99c15cc2996c6c9d841e54b79425</td>\n",
       "      <td>0x0005abcbb9533cf6f9370505ffef25393e0d2852</td>\n",
       "      <td>DAI</td>\n",
       "      <td>0x89d24A6b4CcB1B6fAA2625fE562bDD9a23260359</td>\n",
       "    </tr>\n",
       "    <tr>\n",
       "      <th>4</th>\n",
       "      <td>0x89d24a6b4ccb1b6faa2625fe562bdd9a23260359</td>\n",
       "      <td>0xa89e220ca09395684a681372ec9abff6d06f02e03044...</td>\n",
       "      <td>0x4cffe9</td>\n",
       "      <td>0x00000000000000000000000000000000000000000000...</td>\n",
       "      <td>0x23</td>\n",
       "      <td>False</td>\n",
       "      <td>[0xddf252ad1be2c89b69c2b068fc378daa952ba7f163c...</td>\n",
       "      <td>0xb8fdac8d8f1e1db5b45300ec55bde6521540ecfecf88...</td>\n",
       "      <td>0x93</td>\n",
       "      <td>40000.0</td>\n",
       "      <td>0x0005abcbb9533cf6f9370505ffef25393e0d2852</td>\n",
       "      <td>0x14fbca95be7e99c15cc2996c6c9d841e54b79425</td>\n",
       "      <td>DAI</td>\n",
       "      <td>0x89d24A6b4CcB1B6fAA2625fE562bDD9a23260359</td>\n",
       "    </tr>\n",
       "  </tbody>\n",
       "</table>\n",
       "</div>"
      ],
      "text/plain": [
       "                                      address  \\\n",
       "0  0x89d24a6b4ccb1b6faa2625fe562bdd9a23260359   \n",
       "1  0x89d24a6b4ccb1b6faa2625fe562bdd9a23260359   \n",
       "2  0x89d24a6b4ccb1b6faa2625fe562bdd9a23260359   \n",
       "3  0x89d24a6b4ccb1b6faa2625fe562bdd9a23260359   \n",
       "4  0x89d24a6b4ccb1b6faa2625fe562bdd9a23260359   \n",
       "\n",
       "                                           blockHash blockNumber  \\\n",
       "0  0x0a40dadcac5d78ba83a22c583a2ece43c2692a543abd...    0x4cff8e   \n",
       "1  0x1339d414bf6ce64f950129b1a7498df680784747fc52...    0x4cff94   \n",
       "2  0x6be818f4cf7265bed33970456cea54547cb5ef14c551...    0x4cffb7   \n",
       "3  0x06d6c83500d7e0f14d08b9e2bdb4a8be6ffe6f9e9d9f...    0x4cffb9   \n",
       "4  0xa89e220ca09395684a681372ec9abff6d06f02e03044...    0x4cffe9   \n",
       "\n",
       "                                                data logIndex  removed  \\\n",
       "0  0x00000000000000000000000000000000000000000000...     0x30    False   \n",
       "1  0x00000000000000000000000000000000000000000000...      0xb    False   \n",
       "2  0x00000000000000000000000000000000000000000000...     0x25    False   \n",
       "3  0x00000000000000000000000000000000000000000000...     0x92    False   \n",
       "4  0x00000000000000000000000000000000000000000000...     0x23    False   \n",
       "\n",
       "                                              topics  \\\n",
       "0  [0xddf252ad1be2c89b69c2b068fc378daa952ba7f163c...   \n",
       "1  [0xddf252ad1be2c89b69c2b068fc378daa952ba7f163c...   \n",
       "2  [0xddf252ad1be2c89b69c2b068fc378daa952ba7f163c...   \n",
       "3  [0xddf252ad1be2c89b69c2b068fc378daa952ba7f163c...   \n",
       "4  [0xddf252ad1be2c89b69c2b068fc378daa952ba7f163c...   \n",
       "\n",
       "                                     transactionHash transactionIndex  \\\n",
       "0  0x6cf89c28bd9b3b329f876301fa1cf36abfd5dfbba3b1...             0x5f   \n",
       "1  0x4305f166fe8adfd5e8dba816125c01571ac59e79eacf...             0x77   \n",
       "2  0x794c1d578bfa0381dee9fb3da23860f5691f6cf61a0d...             0x72   \n",
       "3  0xaa75b2605e6cea3649ba1af7e47a48bf5e2357909b3c...             0x62   \n",
       "4  0xb8fdac8d8f1e1db5b45300ec55bde6521540ecfecf88...             0x93   \n",
       "\n",
       "    amount                                        from  \\\n",
       "0   3625.0  0x14fbca95be7e99c15cc2996c6c9d841e54b79425   \n",
       "1   3625.0  0x746e17548b63b0689e054d84a09abe1f5b70672c   \n",
       "2  24000.0  0x14fbca95be7e99c15cc2996c6c9d841e54b79425   \n",
       "3  40000.0  0x14fbca95be7e99c15cc2996c6c9d841e54b79425   \n",
       "4  40000.0  0x0005abcbb9533cf6f9370505ffef25393e0d2852   \n",
       "\n",
       "                                           to token  \\\n",
       "0  0x746e17548b63b0689e054d84a09abe1f5b70672c   DAI   \n",
       "1  0xb950f5c190472049762e0a250e10d94b81e15ddd   DAI   \n",
       "2  0x004075e4d4b1ce6c48c81cc940e2bad24b489e64   DAI   \n",
       "3  0x0005abcbb9533cf6f9370505ffef25393e0d2852   DAI   \n",
       "4  0x14fbca95be7e99c15cc2996c6c9d841e54b79425   DAI   \n",
       "\n",
       "                                token_address  \n",
       "0  0x89d24A6b4CcB1B6fAA2625fE562bDD9a23260359  \n",
       "1  0x89d24A6b4CcB1B6fAA2625fE562bDD9a23260359  \n",
       "2  0x89d24A6b4CcB1B6fAA2625fE562bDD9a23260359  \n",
       "3  0x89d24A6b4CcB1B6fAA2625fE562bDD9a23260359  \n",
       "4  0x89d24A6b4CcB1B6fAA2625fE562bDD9a23260359  "
      ]
     },
     "execution_count": 393,
     "metadata": {},
     "output_type": "execute_result"
    }
   ],
   "source": [
    "txns.head()"
   ]
  },
  {
   "cell_type": "code",
   "execution_count": 394,
   "metadata": {},
   "outputs": [
    {
     "data": {
      "text/html": [
       "<div>\n",
       "<style>\n",
       "    .dataframe thead tr:only-child th {\n",
       "        text-align: right;\n",
       "    }\n",
       "\n",
       "    .dataframe thead th {\n",
       "        text-align: left;\n",
       "    }\n",
       "\n",
       "    .dataframe tbody tr th {\n",
       "        vertical-align: top;\n",
       "    }\n",
       "</style>\n",
       "<table border=\"1\" class=\"dataframe\">\n",
       "  <thead>\n",
       "    <tr style=\"text-align: right;\">\n",
       "      <th></th>\n",
       "      <th>address</th>\n",
       "      <th>blockHash</th>\n",
       "      <th>blockNumber</th>\n",
       "      <th>data</th>\n",
       "      <th>logIndex</th>\n",
       "      <th>removed</th>\n",
       "      <th>topics</th>\n",
       "      <th>transactionHash</th>\n",
       "      <th>transactionIndex</th>\n",
       "      <th>amount</th>\n",
       "      <th>from</th>\n",
       "      <th>to</th>\n",
       "      <th>token</th>\n",
       "      <th>token_address</th>\n",
       "    </tr>\n",
       "  </thead>\n",
       "  <tbody>\n",
       "    <tr>\n",
       "      <th>1315</th>\n",
       "      <td>0x9f8f72aa9304c8b593d555f12ef6589cc3a579a2</td>\n",
       "      <td>0xcca2068a2b339225936d6b7fecff501d4b5b2380b9bd...</td>\n",
       "      <td>0x4d263c</td>\n",
       "      <td>0x00000000000000000000000000000000000000000000...</td>\n",
       "      <td>0x5d</td>\n",
       "      <td>False</td>\n",
       "      <td>[0xddf252ad1be2c89b69c2b068fc378daa952ba7f163c...</td>\n",
       "      <td>0x8e5321ca2e4a1973918b47ce8660ae54fdf160a96731...</td>\n",
       "      <td>0x9b</td>\n",
       "      <td>4000.000000</td>\n",
       "      <td>0xf87a7ec94884f44d9de33d36b73f42c7c0dd38b1</td>\n",
       "      <td>0x578f3c8454f316293dbd31d8c7806050f3b3e2d8</td>\n",
       "      <td>MKR</td>\n",
       "      <td>0x9f8F72aA9304c8B593d555F12eF6589cC3A579A2</td>\n",
       "    </tr>\n",
       "    <tr>\n",
       "      <th>1316</th>\n",
       "      <td>0x9f8f72aa9304c8b593d555f12ef6589cc3a579a2</td>\n",
       "      <td>0x1930f515faef5aa5968917e823e3360a2227632f76b7...</td>\n",
       "      <td>0x4d263d</td>\n",
       "      <td>0x00000000000000000000000000000000000000000000...</td>\n",
       "      <td>0xf</td>\n",
       "      <td>False</td>\n",
       "      <td>[0xddf252ad1be2c89b69c2b068fc378daa952ba7f163c...</td>\n",
       "      <td>0x11c513fb031e5fe7841459ec0e8a1f3363e6471aa8c9...</td>\n",
       "      <td>0x4b</td>\n",
       "      <td>10.000000</td>\n",
       "      <td>0x578f3c8454f316293dbd31d8c7806050f3b3e2d8</td>\n",
       "      <td>0xf87a7ec94884f44d9de33d36b73f42c7c0dd38b1</td>\n",
       "      <td>MKR</td>\n",
       "      <td>0x9f8F72aA9304c8B593d555F12eF6589cC3A579A2</td>\n",
       "    </tr>\n",
       "    <tr>\n",
       "      <th>1317</th>\n",
       "      <td>0x9f8f72aa9304c8b593d555f12ef6589cc3a579a2</td>\n",
       "      <td>0x9a2c514732b947aa1bd83287b5365a9f8e06de47147b...</td>\n",
       "      <td>0x4d267d</td>\n",
       "      <td>0x00000000000000000000000000000000000000000000...</td>\n",
       "      <td>0x1f</td>\n",
       "      <td>False</td>\n",
       "      <td>[0xddf252ad1be2c89b69c2b068fc378daa952ba7f163c...</td>\n",
       "      <td>0x64e3c2fb3a35d9842d5870e8acedc11224add8d8af6e...</td>\n",
       "      <td>0x45</td>\n",
       "      <td>10.000000</td>\n",
       "      <td>0xf87a7ec94884f44d9de33d36b73f42c7c0dd38b1</td>\n",
       "      <td>0xbc8d737414a6742f5fc39dd76fefad00ecedd0ca</td>\n",
       "      <td>MKR</td>\n",
       "      <td>0x9f8F72aA9304c8B593d555F12eF6589cC3A579A2</td>\n",
       "    </tr>\n",
       "    <tr>\n",
       "      <th>1318</th>\n",
       "      <td>0x9f8f72aa9304c8b593d555f12ef6589cc3a579a2</td>\n",
       "      <td>0x38325b9480803bcbdaeb9d7c77a062a6f64477f8da68...</td>\n",
       "      <td>0x4d2685</td>\n",
       "      <td>0x00000000000000000000000000000000000000000000...</td>\n",
       "      <td>0x37</td>\n",
       "      <td>False</td>\n",
       "      <td>[0xddf252ad1be2c89b69c2b068fc378daa952ba7f163c...</td>\n",
       "      <td>0x126bbecf41f5f2ee936727065a3552fa352e4cf36800...</td>\n",
       "      <td>0x71</td>\n",
       "      <td>4900.000000</td>\n",
       "      <td>0x14fbca95be7e99c15cc2996c6c9d841e54b79425</td>\n",
       "      <td>0x034670c537896b8b1b6bc178b264617179e75ea8</td>\n",
       "      <td>MKR</td>\n",
       "      <td>0x9f8F72aA9304c8B593d555F12eF6589cC3A579A2</td>\n",
       "    </tr>\n",
       "    <tr>\n",
       "      <th>1319</th>\n",
       "      <td>0x9f8f72aa9304c8b593d555f12ef6589cc3a579a2</td>\n",
       "      <td>0x1ee8e4886d3ea4af910bd0f876c523ec504107737125...</td>\n",
       "      <td>0x4d268c</td>\n",
       "      <td>0x00000000000000000000000000000000000000000000...</td>\n",
       "      <td>0x1c</td>\n",
       "      <td>False</td>\n",
       "      <td>[0xddf252ad1be2c89b69c2b068fc378daa952ba7f163c...</td>\n",
       "      <td>0x94749e73515dfa78c02a4d13381b1e099eed30699043...</td>\n",
       "      <td>0x20</td>\n",
       "      <td>2070.608913</td>\n",
       "      <td>0x14fbca95be7e99c15cc2996c6c9d841e54b79425</td>\n",
       "      <td>0x4ae44ad16ab618b7f4db41474970c37d38c44fd7</td>\n",
       "      <td>MKR</td>\n",
       "      <td>0x9f8F72aA9304c8B593d555F12eF6589cC3A579A2</td>\n",
       "    </tr>\n",
       "  </tbody>\n",
       "</table>\n",
       "</div>"
      ],
      "text/plain": [
       "                                         address  \\\n",
       "1315  0x9f8f72aa9304c8b593d555f12ef6589cc3a579a2   \n",
       "1316  0x9f8f72aa9304c8b593d555f12ef6589cc3a579a2   \n",
       "1317  0x9f8f72aa9304c8b593d555f12ef6589cc3a579a2   \n",
       "1318  0x9f8f72aa9304c8b593d555f12ef6589cc3a579a2   \n",
       "1319  0x9f8f72aa9304c8b593d555f12ef6589cc3a579a2   \n",
       "\n",
       "                                              blockHash blockNumber  \\\n",
       "1315  0xcca2068a2b339225936d6b7fecff501d4b5b2380b9bd...    0x4d263c   \n",
       "1316  0x1930f515faef5aa5968917e823e3360a2227632f76b7...    0x4d263d   \n",
       "1317  0x9a2c514732b947aa1bd83287b5365a9f8e06de47147b...    0x4d267d   \n",
       "1318  0x38325b9480803bcbdaeb9d7c77a062a6f64477f8da68...    0x4d2685   \n",
       "1319  0x1ee8e4886d3ea4af910bd0f876c523ec504107737125...    0x4d268c   \n",
       "\n",
       "                                                   data logIndex  removed  \\\n",
       "1315  0x00000000000000000000000000000000000000000000...     0x5d    False   \n",
       "1316  0x00000000000000000000000000000000000000000000...      0xf    False   \n",
       "1317  0x00000000000000000000000000000000000000000000...     0x1f    False   \n",
       "1318  0x00000000000000000000000000000000000000000000...     0x37    False   \n",
       "1319  0x00000000000000000000000000000000000000000000...     0x1c    False   \n",
       "\n",
       "                                                 topics  \\\n",
       "1315  [0xddf252ad1be2c89b69c2b068fc378daa952ba7f163c...   \n",
       "1316  [0xddf252ad1be2c89b69c2b068fc378daa952ba7f163c...   \n",
       "1317  [0xddf252ad1be2c89b69c2b068fc378daa952ba7f163c...   \n",
       "1318  [0xddf252ad1be2c89b69c2b068fc378daa952ba7f163c...   \n",
       "1319  [0xddf252ad1be2c89b69c2b068fc378daa952ba7f163c...   \n",
       "\n",
       "                                        transactionHash transactionIndex  \\\n",
       "1315  0x8e5321ca2e4a1973918b47ce8660ae54fdf160a96731...             0x9b   \n",
       "1316  0x11c513fb031e5fe7841459ec0e8a1f3363e6471aa8c9...             0x4b   \n",
       "1317  0x64e3c2fb3a35d9842d5870e8acedc11224add8d8af6e...             0x45   \n",
       "1318  0x126bbecf41f5f2ee936727065a3552fa352e4cf36800...             0x71   \n",
       "1319  0x94749e73515dfa78c02a4d13381b1e099eed30699043...             0x20   \n",
       "\n",
       "           amount                                        from  \\\n",
       "1315  4000.000000  0xf87a7ec94884f44d9de33d36b73f42c7c0dd38b1   \n",
       "1316    10.000000  0x578f3c8454f316293dbd31d8c7806050f3b3e2d8   \n",
       "1317    10.000000  0xf87a7ec94884f44d9de33d36b73f42c7c0dd38b1   \n",
       "1318  4900.000000  0x14fbca95be7e99c15cc2996c6c9d841e54b79425   \n",
       "1319  2070.608913  0x14fbca95be7e99c15cc2996c6c9d841e54b79425   \n",
       "\n",
       "                                              to token  \\\n",
       "1315  0x578f3c8454f316293dbd31d8c7806050f3b3e2d8   MKR   \n",
       "1316  0xf87a7ec94884f44d9de33d36b73f42c7c0dd38b1   MKR   \n",
       "1317  0xbc8d737414a6742f5fc39dd76fefad00ecedd0ca   MKR   \n",
       "1318  0x034670c537896b8b1b6bc178b264617179e75ea8   MKR   \n",
       "1319  0x4ae44ad16ab618b7f4db41474970c37d38c44fd7   MKR   \n",
       "\n",
       "                                   token_address  \n",
       "1315  0x9f8F72aA9304c8B593d555F12eF6589cC3A579A2  \n",
       "1316  0x9f8F72aA9304c8B593d555F12eF6589cC3A579A2  \n",
       "1317  0x9f8F72aA9304c8B593d555F12eF6589cC3A579A2  \n",
       "1318  0x9f8F72aA9304c8B593d555F12eF6589cC3A579A2  \n",
       "1319  0x9f8F72aA9304c8B593d555F12eF6589cC3A579A2  "
      ]
     },
     "execution_count": 394,
     "metadata": {},
     "output_type": "execute_result"
    }
   ],
   "source": [
    "txns.tail()"
   ]
  },
  {
   "cell_type": "code",
   "execution_count": 395,
   "metadata": {},
   "outputs": [
    {
     "data": {
      "text/html": [
       "<div>\n",
       "<style>\n",
       "    .dataframe thead tr:only-child th {\n",
       "        text-align: right;\n",
       "    }\n",
       "\n",
       "    .dataframe thead th {\n",
       "        text-align: left;\n",
       "    }\n",
       "\n",
       "    .dataframe tbody tr th {\n",
       "        vertical-align: top;\n",
       "    }\n",
       "</style>\n",
       "<table border=\"1\" class=\"dataframe\">\n",
       "  <thead>\n",
       "    <tr style=\"text-align: right;\">\n",
       "      <th></th>\n",
       "      <th>amount</th>\n",
       "    </tr>\n",
       "  </thead>\n",
       "  <tbody>\n",
       "    <tr>\n",
       "      <th>count</th>\n",
       "      <td>1.129000e+03</td>\n",
       "    </tr>\n",
       "    <tr>\n",
       "      <th>mean</th>\n",
       "      <td>2.144124e+04</td>\n",
       "    </tr>\n",
       "    <tr>\n",
       "      <th>std</th>\n",
       "      <td>3.032764e+04</td>\n",
       "    </tr>\n",
       "    <tr>\n",
       "      <th>min</th>\n",
       "      <td>3.000000e-18</td>\n",
       "    </tr>\n",
       "    <tr>\n",
       "      <th>25%</th>\n",
       "      <td>1.043100e+03</td>\n",
       "    </tr>\n",
       "    <tr>\n",
       "      <th>50%</th>\n",
       "      <td>1.619965e+04</td>\n",
       "    </tr>\n",
       "    <tr>\n",
       "      <th>75%</th>\n",
       "      <td>4.000000e+04</td>\n",
       "    </tr>\n",
       "    <tr>\n",
       "      <th>max</th>\n",
       "      <td>5.000000e+05</td>\n",
       "    </tr>\n",
       "  </tbody>\n",
       "</table>\n",
       "</div>"
      ],
      "text/plain": [
       "             amount\n",
       "count  1.129000e+03\n",
       "mean   2.144124e+04\n",
       "std    3.032764e+04\n",
       "min    3.000000e-18\n",
       "25%    1.043100e+03\n",
       "50%    1.619965e+04\n",
       "75%    4.000000e+04\n",
       "max    5.000000e+05"
      ]
     },
     "execution_count": 395,
     "metadata": {},
     "output_type": "execute_result"
    }
   ],
   "source": [
    "txns[txns['token']=='DAI'].describe()"
   ]
  },
  {
   "cell_type": "code",
   "execution_count": 396,
   "metadata": {},
   "outputs": [
    {
     "data": {
      "text/html": [
       "<div>\n",
       "<style>\n",
       "    .dataframe thead tr:only-child th {\n",
       "        text-align: right;\n",
       "    }\n",
       "\n",
       "    .dataframe thead th {\n",
       "        text-align: left;\n",
       "    }\n",
       "\n",
       "    .dataframe tbody tr th {\n",
       "        vertical-align: top;\n",
       "    }\n",
       "</style>\n",
       "<table border=\"1\" class=\"dataframe\">\n",
       "  <thead>\n",
       "    <tr style=\"text-align: right;\">\n",
       "      <th></th>\n",
       "      <th>amount</th>\n",
       "    </tr>\n",
       "  </thead>\n",
       "  <tbody>\n",
       "    <tr>\n",
       "      <th>count</th>\n",
       "      <td>191.000000</td>\n",
       "    </tr>\n",
       "    <tr>\n",
       "      <th>mean</th>\n",
       "      <td>23039.690024</td>\n",
       "    </tr>\n",
       "    <tr>\n",
       "      <th>std</th>\n",
       "      <td>45598.081497</td>\n",
       "    </tr>\n",
       "    <tr>\n",
       "      <th>min</th>\n",
       "      <td>1.565926</td>\n",
       "    </tr>\n",
       "    <tr>\n",
       "      <th>25%</th>\n",
       "      <td>1068.504107</td>\n",
       "    </tr>\n",
       "    <tr>\n",
       "      <th>50%</th>\n",
       "      <td>11231.938000</td>\n",
       "    </tr>\n",
       "    <tr>\n",
       "      <th>75%</th>\n",
       "      <td>40000.000000</td>\n",
       "    </tr>\n",
       "    <tr>\n",
       "      <th>max</th>\n",
       "      <td>443021.250000</td>\n",
       "    </tr>\n",
       "  </tbody>\n",
       "</table>\n",
       "</div>"
      ],
      "text/plain": [
       "              amount\n",
       "count     191.000000\n",
       "mean    23039.690024\n",
       "std     45598.081497\n",
       "min         1.565926\n",
       "25%      1068.504107\n",
       "50%     11231.938000\n",
       "75%     40000.000000\n",
       "max    443021.250000"
      ]
     },
     "execution_count": 396,
     "metadata": {},
     "output_type": "execute_result"
    }
   ],
   "source": [
    "txns[txns['token']=='MKR'].describe()"
   ]
  },
  {
   "cell_type": "code",
   "execution_count": 397,
   "metadata": {
    "collapsed": true
   },
   "outputs": [],
   "source": [
    "%matplotlib inline"
   ]
  },
  {
   "cell_type": "code",
   "execution_count": 398,
   "metadata": {},
   "outputs": [
    {
     "data": {
      "text/plain": [
       "<matplotlib.axes._subplots.AxesSubplot at 0x10fce1898>"
      ]
     },
     "execution_count": 398,
     "metadata": {},
     "output_type": "execute_result"
    },
    {
     "data": {
      "image/png": "[encoded data removed]",
      "text/plain": [
       "<matplotlib.figure.Figure at 0x10fd25f28>"
      ]
     },
     "metadata": {},
     "output_type": "display_data"
    }
   ],
   "source": [
    "txns[txns['token']=='DAI'].amount.apply(lambda x: np.log(x)).hist()"
   ]
  },
  {
   "cell_type": "code",
   "execution_count": 399,
   "metadata": {},
   "outputs": [
    {
     "data": {
      "text/plain": [
       "<matplotlib.axes._subplots.AxesSubplot at 0x10b48af98>"
      ]
     },
     "execution_count": 399,
     "metadata": {},
     "output_type": "execute_result"
    },
    {
     "data": {
      "image/png": "[encoded data removed]",
      "text/plain": [
       "<matplotlib.figure.Figure at 0x10f634a20>"
      ]
     },
     "metadata": {},
     "output_type": "display_data"
    }
   ],
   "source": [
    "txns[txns['token']=='DAI'].amount.apply(lambda x: np.clip(np.log(x), -5,15)).hist()"
   ]
  }
 ],
 "metadata": {
  "kernelspec": {
   "display_name": "Python 3",
   "language": "python",
   "name": "python3"
  },
  "language_info": {
   "codemirror_mode": {
    "name": "ipython",
    "version": 3
   },
   "file_extension": ".py",
   "mimetype": "text/x-python",
   "name": "python",
   "nbconvert_exporter": "python",
   "pygments_lexer": "ipython3",
   "version": "3.6.3"
  }
 },
 "nbformat": 4,
 "nbformat_minor": 2
}
