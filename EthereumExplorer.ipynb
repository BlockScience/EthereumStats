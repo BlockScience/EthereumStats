{
 "cells": [
  {
   "cell_type": "markdown",
   "metadata": {},
   "source": [
    "# Ethereum Blockchain Explorer\n",
    "Some functions to help explore the ethereum blockchain using JSON RPC on the BlockScience geth node"
   ]
  },
  {
   "cell_type": "code",
   "execution_count": 1,
   "metadata": {
    "collapsed": true
   },
   "outputs": [],
   "source": [
    "import requests, json\n",
    "import pandas as pd\n",
    "import numpy as np\n",
    "SESSION = requests.Session()\n",
    "f = open(\"bs_node_ip.txt\",\"r\")\n",
    "RPC_HOST = f.readline()\n",
    "RPC_HOST = str.replace(RPC_HOST,'\\n','')\n",
    "RPC_PORT = '8545'\n",
    "RPC_URL = 'http://'+RPC_HOST+':'+RPC_PORT"
   ]
  },
  {
   "cell_type": "markdown",
   "metadata": {},
   "source": [
    "## Basic JSON downloading"
   ]
  },
  {
   "cell_type": "code",
   "execution_count": 2,
   "metadata": {
    "collapsed": true
   },
   "outputs": [],
   "source": [
    "def getJSON(url, d=None):\n",
    "    h = {\"Content-Type\": \"application/json\"}\n",
    "    if d is None:\n",
    "        r = SESSION.get(url, headers=h)\n",
    "    else:\n",
    "        r = SESSION.post(url, data=d, headers=h)\n",
    "    json_data = r.text\n",
    "    response = json.loads(json_data)\n",
    "    return response"
   ]
  },
  {
   "cell_type": "code",
   "execution_count": 3,
   "metadata": {
    "collapsed": true
   },
   "outputs": [],
   "source": [
    "def getRawJSON(url, d=None):\n",
    "    h = {\"Content-Type\": \"application/json\"}\n",
    "    if d is None:\n",
    "        r = SESSION.get(url, headers=h)\n",
    "    else:\n",
    "        r = SESSION.post(url, data=d, headers=h)\n",
    "    json_data = r.text\n",
    "    return json_data"
   ]
  },
  {
   "cell_type": "code",
   "execution_count": 4,
   "metadata": {
    "collapsed": true
   },
   "outputs": [],
   "source": [
    "# test if the getJSON function supports GET requests\n",
    "# getJSON('https://api.etherscan.io/api?module=account&action=balance&address=0xde0b295669a9fd93d5f28d9ec85e40f4cb697bae&tag=latest&apikey=YourApiKeyToken')"
   ]
  },
  {
   "cell_type": "code",
   "execution_count": 5,
   "metadata": {
    "collapsed": true
   },
   "outputs": [],
   "source": [
    "# test if the getJSON function supports POST requests\n",
    "# getJSON(RPC_URL,'{\"jsonrpc\":\"2.0\",\"method\":\"eth_syncing\",\"params\":[],\"id\":1}')"
   ]
  },
  {
   "cell_type": "markdown",
   "metadata": {},
   "source": [
    "## Consensys EthJsonRpc Package"
   ]
  },
  {
   "cell_type": "markdown",
   "metadata": {},
   "source": [
    "I wasn't able to quickly make the package work on Python 3"
   ]
  },
  {
   "cell_type": "code",
   "execution_count": 6,
   "metadata": {
    "collapsed": true
   },
   "outputs": [],
   "source": [
    "# from ethjsonrpc import EthJsonRpc\n",
    "# c = EthJsonRpc('35.196.250.157', 8545)\n",
    "# print(c.net_version())\n",
    "# print(c.web3_clientVersion())\n",
    "# print(c.eth_gasPrice())"
   ]
  },
  {
   "cell_type": "markdown",
   "metadata": {},
   "source": [
    "So I began copying their functions. Most of them still need testing. Ideally we should fork and make our own package compatible with Python 3"
   ]
  },
  {
   "cell_type": "code",
   "execution_count": 7,
   "metadata": {
    "collapsed": true
   },
   "outputs": [],
   "source": [
    "# FROM https://github.com/ConsenSys/ethjsonrpc/blob/master/ethjsonrpc/utils.py\n",
    "def hex_to_dec(x):\n",
    "    '''\n",
    "    Convert hex to decimal\n",
    "    '''\n",
    "    return int(x, 16)"
   ]
  },
  {
   "cell_type": "code",
   "execution_count": 8,
   "metadata": {
    "collapsed": true
   },
   "outputs": [],
   "source": [
    "# FROM https://github.com/ConsenSys/ethjsonrpc/blob/master/ethjsonrpc/utils.py\n",
    "def clean_hex(d):\n",
    "    '''\n",
    "    Convert decimal to hex and remove the \"L\" suffix that is appended to large\n",
    "    numbers\n",
    "    '''\n",
    "    return hex(d).rstrip('L')"
   ]
  },
  {
   "cell_type": "code",
   "execution_count": 9,
   "metadata": {
    "collapsed": true
   },
   "outputs": [],
   "source": [
    "# FROM https://github.com/ConsenSys/ethjsonrpc/blob/master/ethjsonrpc/utils.py\n",
    "def validate_block(block):\n",
    "#     doesn't work on Python 3\n",
    "#     if isinstance(block, basestring):\n",
    "#         if block not in BLOCK_TAGS:\n",
    "#             raise ValueError('invalid block tag')\n",
    "    if isinstance(block, int):\n",
    "        block = hex(block)\n",
    "    return block"
   ]
  },
  {
   "cell_type": "code",
   "execution_count": 10,
   "metadata": {
    "collapsed": true
   },
   "outputs": [],
   "source": [
    "# FROM https://github.com/ConsenSys/ethjsonrpc/blob/master/ethjsonrpc/utils.py\n",
    "def wei_to_ether(wei):\n",
    "    '''\n",
    "    Convert wei to ether\n",
    "    '''\n",
    "    return 1.0 * wei / 10**18"
   ]
  },
  {
   "cell_type": "code",
   "execution_count": 11,
   "metadata": {
    "collapsed": true
   },
   "outputs": [],
   "source": [
    "# FROM https://github.com/ConsenSys/ethjsonrpc/blob/master/ethjsonrpc/utils.py\n",
    "def ether_to_wei(ether):\n",
    "    '''\n",
    "    Convert ether to wei\n",
    "    '''\n",
    "    return ether * 10**18"
   ]
  },
  {
   "cell_type": "code",
   "execution_count": 12,
   "metadata": {
    "collapsed": true
   },
   "outputs": [],
   "source": [
    "# FROM: https://github.com/ConsenSys/ethjsonrpc/blob/master/ethjsonrpc/exceptions.py\n",
    "class EthJsonRpcError(Exception):\n",
    "    pass\n",
    "class ConnectionError(EthJsonRpcError):\n",
    "    pass\n",
    "class BadStatusCodeError(EthJsonRpcError):\n",
    "    pass\n",
    "class BadJsonError(EthJsonRpcError):\n",
    "    pass\n",
    "class BadResponseError(EthJsonRpcError):\n",
    "    pass"
   ]
  },
  {
   "cell_type": "code",
   "execution_count": 13,
   "metadata": {
    "collapsed": true
   },
   "outputs": [],
   "source": [
    "# FROM: https://github.com/ConsenSys/ethjsonrpc/blob/master/ethjsonrpc/client.py\n",
    "BLOCK_TAG_EARLIEST = 'earliest'\n",
    "BLOCK_TAG_LATEST   = 'latest'\n",
    "BLOCK_TAG_PENDING  = 'pending'\n",
    "BLOCK_TAGS = (\n",
    "    BLOCK_TAG_EARLIEST,\n",
    "    BLOCK_TAG_LATEST,\n",
    "    BLOCK_TAG_PENDING,\n",
    ")"
   ]
  },
  {
   "cell_type": "code",
   "execution_count": 14,
   "metadata": {
    "collapsed": true
   },
   "outputs": [],
   "source": [
    "# FROM: https://github.com/ConsenSys/ethjsonrpc/blob/master/ethjsonrpc/client.py\n",
    "def _call(method, params=None, _id=1):\n",
    "    params = params or []\n",
    "    data = {\n",
    "        'jsonrpc': '2.0',\n",
    "        'method':  method,\n",
    "        'params':  params,\n",
    "        'id':      _id,\n",
    "    }\n",
    "    scheme = 'http'\n",
    "#     if tls:\n",
    "#         scheme += 's'\n",
    "    url = '{}://{}:{}'.format(scheme, RPC_HOST, RPC_PORT)\n",
    "    headers = {'Content-Type': 'application/json'}\n",
    "    try:\n",
    "        r = SESSION.post(url, headers=headers, data=json.dumps(data))\n",
    "    except RequestsConnectionError:\n",
    "        raise ConnectionError\n",
    "    if r.status_code / 100 != 2:\n",
    "        raise BadStatusCodeError(r.status_code)\n",
    "    try:\n",
    "        response = r.json()\n",
    "    except ValueError:\n",
    "        raise BadJsonError(r.text)\n",
    "    try:\n",
    "        return response['result']\n",
    "    except KeyError:\n",
    "        raise BadResponseError(response)"
   ]
  },
  {
   "cell_type": "code",
   "execution_count": 15,
   "metadata": {
    "collapsed": true
   },
   "outputs": [],
   "source": [
    "################################################################################\n",
    "# high-level methods\n",
    "################################################################################"
   ]
  },
  {
   "cell_type": "code",
   "execution_count": 16,
   "metadata": {
    "collapsed": true
   },
   "outputs": [],
   "source": [
    "# FROM: https://github.com/ConsenSys/ethjsonrpc/blob/master/ethjsonrpc/client.py\n",
    "def transfer(from_, to, amount):\n",
    "    '''\n",
    "    Send wei from one address to another\n",
    "    '''\n",
    "    return eth_sendTransaction(from_address=from_, to_address=to, value=amount)"
   ]
  },
  {
   "cell_type": "code",
   "execution_count": 17,
   "metadata": {
    "collapsed": true
   },
   "outputs": [],
   "source": [
    "# FROM: https://github.com/ConsenSys/ethjsonrpc/blob/master/ethjsonrpc/client.py\n",
    "def create_contract(from_, code, gas, sig=None, args=None):\n",
    "    '''\n",
    "    Create a contract on the blockchain from compiled EVM code. Returns the\n",
    "    transaction hash.\n",
    "    '''\n",
    "    from_ = from_ or eth_coinbase()\n",
    "    if sig is not None and args is not None:\n",
    "         types = sig[sig.find('(') + 1: sig.find(')')].split(',')\n",
    "         encoded_params = encode_abi(types, args)\n",
    "         code += encoded_params.encode('hex')\n",
    "    return eth_sendTransaction(from_address=from_, gas=gas, data=code)"
   ]
  },
  {
   "cell_type": "code",
   "execution_count": 18,
   "metadata": {
    "collapsed": true
   },
   "outputs": [],
   "source": [
    "# FROM: https://github.com/ConsenSys/ethjsonrpc/blob/master/ethjsonrpc/client.py\n",
    "def get_contract_address(tx):\n",
    "    '''\n",
    "    Get the address for a contract from the transaction that created it\n",
    "    '''\n",
    "    receipt = eth_getTransactionReceipt(tx)\n",
    "    return receipt['contractAddress']"
   ]
  },
  {
   "cell_type": "code",
   "execution_count": 19,
   "metadata": {
    "collapsed": true
   },
   "outputs": [],
   "source": [
    "# FROM: https://github.com/ConsenSys/ethjsonrpc/blob/master/ethjsonrpc/client.py\n",
    "def call(address, sig, args, result_types):\n",
    "    '''\n",
    "    Call a contract function on the RPC server, without sending a\n",
    "    transaction (useful for reading data)\n",
    "    '''\n",
    "    data = _encode_function(sig, args)\n",
    "    data_hex = data.encode('hex')\n",
    "    response = eth_call(to_address=address, data=data_hex)\n",
    "    return decode_abi(result_types, response[2:].decode('hex'))"
   ]
  },
  {
   "cell_type": "code",
   "execution_count": 20,
   "metadata": {
    "collapsed": true
   },
   "outputs": [],
   "source": [
    "# FROM: https://github.com/ConsenSys/ethjsonrpc/blob/master/ethjsonrpc/client.py\n",
    "def call_with_transaction(from_, address, sig, args, gas=None, gas_price=None, value=None):\n",
    "    '''\n",
    "    Call a contract function by sending a transaction (useful for storing\n",
    "    data)\n",
    "    '''\n",
    "    gas = gas or DEFAULT_GAS_PER_TX\n",
    "    gas_price = gas_price or DEFAULT_GAS_PRICE\n",
    "    data = _encode_function(sig, args)\n",
    "    data_hex = data.encode('hex')\n",
    "    return eth_sendTransaction(from_address=from_, to_address=address, data=data_hex, gas=gas,\n",
    "                                    gas_price=gas_price, value=value)"
   ]
  },
  {
   "cell_type": "code",
   "execution_count": 21,
   "metadata": {
    "collapsed": true
   },
   "outputs": [],
   "source": [
    "################################################################################\n",
    "# JSON-RPC methods\n",
    "################################################################################"
   ]
  },
  {
   "cell_type": "code",
   "execution_count": 22,
   "metadata": {
    "collapsed": true
   },
   "outputs": [],
   "source": [
    "# FROM: https://github.com/ConsenSys/ethjsonrpc/blob/master/ethjsonrpc/client.py\n",
    "def web3_clientVersion():\n",
    "    '''\n",
    "    https://github.com/ethereum/wiki/wiki/JSON-RPC#web3_clientversion\n",
    "    NEEDS TESTING\n",
    "    '''\n",
    "    return _call('web3_clientVersion')"
   ]
  },
  {
   "cell_type": "code",
   "execution_count": 23,
   "metadata": {
    "collapsed": true
   },
   "outputs": [],
   "source": [
    "# FROM: https://github.com/ConsenSys/ethjsonrpc/blob/master/ethjsonrpc/client.py\n",
    "def web3_sha3(data):\n",
    "    '''\n",
    "    https://github.com/ethereum/wiki/wiki/JSON-RPC#web3_sha3\n",
    "    NEEDS TESTING\n",
    "    '''\n",
    "    data = str(data).encode('hex')\n",
    "    return _call('web3_sha3', [data])"
   ]
  },
  {
   "cell_type": "code",
   "execution_count": 24,
   "metadata": {
    "collapsed": true
   },
   "outputs": [],
   "source": [
    "# FROM: https://github.com/ConsenSys/ethjsonrpc/blob/master/ethjsonrpc/client.py\n",
    "def net_version():\n",
    "    '''\n",
    "    https://github.com/ethereum/wiki/wiki/JSON-RPC#net_version\n",
    "    NEEDS TESTING\n",
    "    '''\n",
    "    return _call('net_version')"
   ]
  },
  {
   "cell_type": "code",
   "execution_count": 25,
   "metadata": {
    "collapsed": true
   },
   "outputs": [],
   "source": [
    "# FROM: https://github.com/ConsenSys/ethjsonrpc/blob/master/ethjsonrpc/client.py\n",
    "def net_listening():\n",
    "    '''\n",
    "    https://github.com/ethereum/wiki/wiki/JSON-RPC#net_listening\n",
    "    NEEDS TESTING\n",
    "    '''\n",
    "    return _call('net_listening')"
   ]
  },
  {
   "cell_type": "code",
   "execution_count": 26,
   "metadata": {
    "collapsed": true
   },
   "outputs": [],
   "source": [
    "# FROM: https://github.com/ConsenSys/ethjsonrpc/blob/master/ethjsonrpc/client.py\n",
    "def net_peerCount():\n",
    "    '''\n",
    "    https://github.com/ethereum/wiki/wiki/JSON-RPC#net_peercount\n",
    "    NEEDS TESTING\n",
    "    '''\n",
    "    return hex_to_dec(_call('net_peerCount'))"
   ]
  },
  {
   "cell_type": "code",
   "execution_count": 27,
   "metadata": {
    "collapsed": true
   },
   "outputs": [],
   "source": [
    "def eth_protocolVersion():\n",
    "    '''\n",
    "    https://github.com/ethereum/wiki/wiki/JSON-RPC#eth_protocolversion\n",
    "    NEEDS TESTING\n",
    "    '''\n",
    "    return _call('eth_protocolVersion')"
   ]
  },
  {
   "cell_type": "code",
   "execution_count": 28,
   "metadata": {
    "collapsed": true
   },
   "outputs": [],
   "source": [
    "# FROM: https://github.com/ConsenSys/ethjsonrpc/blob/master/ethjsonrpc/client.py\n",
    "def eth_syncing():\n",
    "    '''\n",
    "    https://github.com/ethereum/wiki/wiki/JSON-RPC#eth_syncing\n",
    "    TESTED - MARKUS 2018-02-07\n",
    "    '''\n",
    "    return _call('eth_syncing')"
   ]
  },
  {
   "cell_type": "code",
   "execution_count": 29,
   "metadata": {
    "collapsed": true
   },
   "outputs": [],
   "source": [
    "# FROM: https://github.com/ConsenSys/ethjsonrpc/blob/master/ethjsonrpc/client.py\n",
    "def eth_coinbase():\n",
    "    '''\n",
    "    https://github.com/ethereum/wiki/wiki/JSON-RPC#eth_coinbase\n",
    "    NEEDS TESTING\n",
    "    '''\n",
    "    return _call('eth_coinbase')"
   ]
  },
  {
   "cell_type": "code",
   "execution_count": 30,
   "metadata": {
    "collapsed": true
   },
   "outputs": [],
   "source": [
    "# FROM: https://github.com/ConsenSys/ethjsonrpc/blob/master/ethjsonrpc/client.py\n",
    "def eth_mining():\n",
    "    '''\n",
    "    https://github.com/ethereum/wiki/wiki/JSON-RPC#eth_mining\n",
    "    NEEDS TESTING\n",
    "    '''\n",
    "    return _call('eth_mining')"
   ]
  },
  {
   "cell_type": "code",
   "execution_count": 31,
   "metadata": {
    "collapsed": true
   },
   "outputs": [],
   "source": [
    "# FROM: https://github.com/ConsenSys/ethjsonrpc/blob/master/ethjsonrpc/client.py\n",
    "def eth_hashrate():\n",
    "    '''\n",
    "    https://github.com/ethereum/wiki/wiki/JSON-RPC#eth_hashrate\n",
    "    NEEDS TESTING\n",
    "    '''\n",
    "    return hex_to_dec(_call('eth_hashrate'))"
   ]
  },
  {
   "cell_type": "code",
   "execution_count": 32,
   "metadata": {
    "collapsed": true
   },
   "outputs": [],
   "source": [
    "# FROM: https://github.com/ConsenSys/ethjsonrpc/blob/master/ethjsonrpc/client.py\n",
    "def eth_gasPrice():\n",
    "    '''\n",
    "    https://github.com/ethereum/wiki/wiki/JSON-RPC#eth_gasprice\n",
    "    NEEDS TESTING\n",
    "    '''\n",
    "    return hex_to_dec(_call('eth_gasPrice'))"
   ]
  },
  {
   "cell_type": "code",
   "execution_count": 33,
   "metadata": {
    "collapsed": true
   },
   "outputs": [],
   "source": [
    "# FROM: https://github.com/ConsenSys/ethjsonrpc/blob/master/ethjsonrpc/client.py\n",
    "def eth_accounts():\n",
    "    '''\n",
    "    https://github.com/ethereum/wiki/wiki/JSON-RPC#eth_accounts\n",
    "    NEEDS TESTING\n",
    "    '''\n",
    "    return _call('eth_accounts')"
   ]
  },
  {
   "cell_type": "code",
   "execution_count": 34,
   "metadata": {
    "collapsed": true
   },
   "outputs": [],
   "source": [
    "# FROM: https://github.com/ConsenSys/ethjsonrpc/blob/master/ethjsonrpc/client.py\n",
    "def eth_blockNumber():\n",
    "    '''\n",
    "    https://github.com/ethereum/wiki/wiki/JSON-RPC#eth_blocknumber\n",
    "    TESTED - MARKUS 2018-02-07\n",
    "    '''\n",
    "    return hex_to_dec(_call('eth_blockNumber'))"
   ]
  },
  {
   "cell_type": "code",
   "execution_count": 35,
   "metadata": {
    "collapsed": true
   },
   "outputs": [],
   "source": [
    "# FROM: https://github.com/ConsenSys/ethjsonrpc/blob/master/ethjsonrpc/client.py\n",
    "def eth_getBalance(address=None, block=BLOCK_TAG_LATEST):\n",
    "    '''\n",
    "    https://github.com/ethereum/wiki/wiki/JSON-RPC#eth_getbalance\n",
    "    TESTED - MARKUS 2018-02-07\n",
    "    '''\n",
    "    address = address or eth_coinbase()\n",
    "    block = validate_block(block)\n",
    "    return hex_to_dec(_call('eth_getBalance', [address, block]))"
   ]
  },
  {
   "cell_type": "code",
   "execution_count": 36,
   "metadata": {
    "collapsed": true
   },
   "outputs": [],
   "source": [
    "# FROM: https://github.com/ConsenSys/ethjsonrpc/blob/master/ethjsonrpc/client.py\n",
    "def eth_getStorageAt(address=None, position=0, block=BLOCK_TAG_LATEST):\n",
    "    '''\n",
    "    https://github.com/ethereum/wiki/wiki/JSON-RPC#eth_getstorageat\n",
    "    NEEDS TESTING\n",
    "    '''\n",
    "    block = validate_block(block)\n",
    "    return _call('eth_getStorageAt', [address, hex(position), block])"
   ]
  },
  {
   "cell_type": "code",
   "execution_count": 37,
   "metadata": {
    "collapsed": true
   },
   "outputs": [],
   "source": [
    "# FROM: https://github.com/ConsenSys/ethjsonrpc/blob/master/ethjsonrpc/client.py\n",
    "def eth_getTransactionCount(address, block=BLOCK_TAG_LATEST):\n",
    "    '''\n",
    "    https://github.com/ethereum/wiki/wiki/JSON-RPC#eth_gettransactioncount\n",
    "    TESTED - MARKUS 2018-02-07\n",
    "    '''\n",
    "    block = validate_block(block)\n",
    "    return hex_to_dec(_call('eth_getTransactionCount', [address, block]))"
   ]
  },
  {
   "cell_type": "code",
   "execution_count": 38,
   "metadata": {
    "collapsed": true
   },
   "outputs": [],
   "source": [
    "# FROM: https://github.com/ConsenSys/ethjsonrpc/blob/master/ethjsonrpc/client.py\n",
    "def eth_getBlockTransactionCountByHash(block_hash):\n",
    "    '''\n",
    "    https://github.com/ethereum/wiki/wiki/JSON-RPC#eth_getblocktransactioncountbyhash\n",
    "    NEEDS TESTING\n",
    "    '''\n",
    "    return hex_to_dec(_call('eth_getBlockTransactionCountByHash', [block_hash]))"
   ]
  },
  {
   "cell_type": "code",
   "execution_count": 39,
   "metadata": {
    "collapsed": true
   },
   "outputs": [],
   "source": [
    "# FROM: https://github.com/ConsenSys/ethjsonrpc/blob/master/ethjsonrpc/client.py\n",
    "def eth_getBlockTransactionCountByNumber(block=BLOCK_TAG_LATEST):\n",
    "    '''\n",
    "    https://github.com/ethereum/wiki/wiki/JSON-RPC#eth_getblocktransactioncountbynumber\n",
    "    NEEDS TESTING\n",
    "    '''\n",
    "    block = validate_block(block)\n",
    "    return hex_to_dec(_call('eth_getBlockTransactionCountByNumber', [block]))"
   ]
  },
  {
   "cell_type": "code",
   "execution_count": 40,
   "metadata": {
    "collapsed": true
   },
   "outputs": [],
   "source": [
    "# FROM: https://github.com/ConsenSys/ethjsonrpc/blob/master/ethjsonrpc/client.py\n",
    "def eth_getUncleCountByBlockHash(block_hash):\n",
    "    '''\n",
    "    https://github.com/ethereum/wiki/wiki/JSON-RPC#eth_getunclecountbyblockhash\n",
    "    NEEDS TESTING\n",
    "    '''\n",
    "    return hex_to_dec(_call('eth_getUncleCountByBlockHash', [block_hash]))"
   ]
  },
  {
   "cell_type": "code",
   "execution_count": 41,
   "metadata": {
    "collapsed": true
   },
   "outputs": [],
   "source": [
    "# FROM: https://github.com/ConsenSys/ethjsonrpc/blob/master/ethjsonrpc/client.py\n",
    "def eth_getUncleCountByBlockNumber(block=BLOCK_TAG_LATEST):\n",
    "    '''\n",
    "    https://github.com/ethereum/wiki/wiki/JSON-RPC#eth_getunclecountbyblocknumber\n",
    "    NEEDS TESTING\n",
    "    '''\n",
    "    block = validate_block(block)\n",
    "    return hex_to_dec(_call('eth_getUncleCountByBlockNumber', [block]))"
   ]
  },
  {
   "cell_type": "code",
   "execution_count": 42,
   "metadata": {
    "collapsed": true
   },
   "outputs": [],
   "source": [
    "# FROM: https://github.com/ConsenSys/ethjsonrpc/blob/master/ethjsonrpc/client.py\n",
    "def eth_getCode(address, default_block=BLOCK_TAG_LATEST):\n",
    "    '''\n",
    "    https://github.com/ethereum/wiki/wiki/JSON-RPC#eth_getcode\n",
    "    NEEDS TESTING\n",
    "    '''\n",
    "#     doesn't work on Python 3\n",
    "#     if isinstance(default_block, basestring):\n",
    "#         if default_block not in BLOCK_TAGS:\n",
    "#             raise ValueError\n",
    "    return _call('eth_getCode', [address, default_block])"
   ]
  },
  {
   "cell_type": "code",
   "execution_count": 43,
   "metadata": {
    "collapsed": true
   },
   "outputs": [],
   "source": [
    "# FROM: https://github.com/ConsenSys/ethjsonrpc/blob/master/ethjsonrpc/client.py\n",
    "def eth_sign(address, data):\n",
    "    '''\n",
    "    https://github.com/ethereum/wiki/wiki/JSON-RPC#eth_sign\n",
    "    NEEDS TESTING\n",
    "    '''\n",
    "    return _call('eth_sign', [address, data])"
   ]
  },
  {
   "cell_type": "code",
   "execution_count": 44,
   "metadata": {
    "collapsed": true
   },
   "outputs": [],
   "source": [
    "# FROM: https://github.com/ConsenSys/ethjsonrpc/blob/master/ethjsonrpc/client.py\n",
    "def eth_sendTransaction(to_address=None, from_address=None, gas=None, gas_price=None, value=None, data=None,\n",
    "                        nonce=None):\n",
    "    '''\n",
    "    https://github.com/ethereum/wiki/wiki/JSON-RPC#eth_sendtransaction\n",
    "    NEEDS TESTING\n",
    "    '''\n",
    "    params = {}\n",
    "    params['from'] = from_address or eth_coinbase()\n",
    "    if to_address is not None:\n",
    "        params['to'] = to_address\n",
    "    if gas is not None:\n",
    "        params['gas'] = hex(gas)\n",
    "    if gas_price is not None:\n",
    "        params['gasPrice'] = clean_hex(gas_price)\n",
    "    if value is not None:\n",
    "        params['value'] = clean_hex(value)\n",
    "    if data is not None:\n",
    "        params['data'] = data\n",
    "    if nonce is not None:\n",
    "        params['nonce'] = hex(nonce)\n",
    "    return _call('eth_sendTransaction', [params])"
   ]
  },
  {
   "cell_type": "code",
   "execution_count": 45,
   "metadata": {
    "collapsed": true
   },
   "outputs": [],
   "source": [
    "# FROM: https://github.com/ConsenSys/ethjsonrpc/blob/master/ethjsonrpc/client.py\n",
    "def eth_sendRawTransaction(data):\n",
    "    '''\n",
    "    https://github.com/ethereum/wiki/wiki/JSON-RPC#eth_sendrawtransaction\n",
    "    NEEDS TESTING\n",
    "    '''\n",
    "    return _call('eth_sendRawTransaction', [data])"
   ]
  },
  {
   "cell_type": "code",
   "execution_count": 46,
   "metadata": {
    "collapsed": true
   },
   "outputs": [],
   "source": [
    "# FROM: https://github.com/ConsenSys/ethjsonrpc/blob/master/ethjsonrpc/client.py\n",
    "def eth_call(to_address, from_address=None, gas=None, gas_price=None, value=None, data=None,\n",
    "             default_block=BLOCK_TAG_LATEST):\n",
    "    '''\n",
    "    https://github.com/ethereum/wiki/wiki/JSON-RPC#eth_call\n",
    "    NEEDS TESTING\n",
    "    '''\n",
    "#     doesn't work on Python 3\n",
    "#     if isinstance(default_block, basestring):\n",
    "#         if default_block not in BLOCK_TAGS:\n",
    "#             raise ValueError\n",
    "    obj = {}\n",
    "    obj['to'] = to_address\n",
    "    if from_address is not None:\n",
    "        obj['from'] = from_address\n",
    "    if gas is not None:\n",
    "        obj['gas'] = hex(gas)\n",
    "    if gas_price is not None:\n",
    "        obj['gasPrice'] = clean_hex(gas_price)\n",
    "    if value is not None:\n",
    "        obj['value'] = value\n",
    "    if data is not None:\n",
    "        obj['data'] = data\n",
    "    return _call('eth_call', [obj, default_block])"
   ]
  },
  {
   "cell_type": "code",
   "execution_count": 47,
   "metadata": {
    "collapsed": true
   },
   "outputs": [],
   "source": [
    "# FROM: https://github.com/ConsenSys/ethjsonrpc/blob/master/ethjsonrpc/client.py\n",
    "def eth_estimateGas(to_address=None, from_address=None, gas=None, gas_price=None, value=None, data=None,\n",
    "                    default_block=BLOCK_TAG_LATEST):\n",
    "    '''\n",
    "    https://github.com/ethereum/wiki/wiki/JSON-RPC#eth_estimategas\n",
    "    NEEDS TESTING\n",
    "    '''\n",
    "#     doesn't work on Python 3\n",
    "#     if isinstance(default_block, basestring):\n",
    "#         if default_block not in BLOCK_TAGS:\n",
    "#             raise ValueError\n",
    "    obj = {}\n",
    "    if to_address is not None:\n",
    "        obj['to'] = to_address\n",
    "    if from_address is not None:\n",
    "        obj['from'] = from_address\n",
    "    if gas is not None:\n",
    "        obj['gas'] = hex(gas)\n",
    "    if gas_price is not None:\n",
    "        obj['gasPrice'] = clean_hex(gas_price)\n",
    "    if value is not None:\n",
    "        obj['value'] = value\n",
    "    if data is not None:\n",
    "        obj['data'] = data\n",
    "    return hex_to_dec(_call('eth_estimateGas', [obj, default_block]))"
   ]
  },
  {
   "cell_type": "code",
   "execution_count": 48,
   "metadata": {
    "collapsed": true
   },
   "outputs": [],
   "source": [
    "# FROM: https://github.com/ConsenSys/ethjsonrpc/blob/master/ethjsonrpc/client.py\n",
    "def eth_getBlockByHash(block_hash, tx_objects=True):\n",
    "    '''\n",
    "    https://github.com/ethereum/wiki/wiki/JSON-RPC#eth_getblockbyhash\n",
    "    NEEDS TESTING\n",
    "    '''\n",
    "    return _call('eth_getBlockByHash', [block_hash, tx_objects])"
   ]
  },
  {
   "cell_type": "code",
   "execution_count": 49,
   "metadata": {
    "collapsed": true
   },
   "outputs": [],
   "source": [
    "# FROM: https://github.com/ConsenSys/ethjsonrpc/blob/master/ethjsonrpc/client.py\n",
    "def eth_getBlockByNumber(block=BLOCK_TAG_LATEST, tx_objects=True):\n",
    "    '''\n",
    "    https://github.com/ethereum/wiki/wiki/JSON-RPC#eth_getblockbynumber\n",
    "    NEEDS TESTING\n",
    "    '''\n",
    "    block = validate_block(block)\n",
    "    return _call('eth_getBlockByNumber', [block, tx_objects])"
   ]
  },
  {
   "cell_type": "code",
   "execution_count": 50,
   "metadata": {
    "collapsed": true
   },
   "outputs": [],
   "source": [
    "# FROM: https://github.com/ConsenSys/ethjsonrpc/blob/master/ethjsonrpc/client.py\n",
    "def eth_getTransactionByHash(tx_hash):\n",
    "    '''\n",
    "    https://github.com/ethereum/wiki/wiki/JSON-RPC#eth_gettransactionbyhash\n",
    "    NEEDS TESTING\n",
    "    '''\n",
    "    return _call('eth_getTransactionByHash', [tx_hash])"
   ]
  },
  {
   "cell_type": "code",
   "execution_count": 51,
   "metadata": {
    "collapsed": true
   },
   "outputs": [],
   "source": [
    "# FROM: https://github.com/ConsenSys/ethjsonrpc/blob/master/ethjsonrpc/client.py\n",
    "def eth_getTransactionByBlockHashAndIndex(block_hash, index=0):\n",
    "    '''\n",
    "    https://github.com/ethereum/wiki/wiki/JSON-RPC#eth_gettransactionbyblockhashandindex\n",
    "    NEEDS TESTING\n",
    "    '''\n",
    "    return _call('eth_getTransactionByBlockHashAndIndex', [block_hash, hex(index)])"
   ]
  },
  {
   "cell_type": "code",
   "execution_count": 52,
   "metadata": {
    "collapsed": true
   },
   "outputs": [],
   "source": [
    "# FROM: https://github.com/ConsenSys/ethjsonrpc/blob/master/ethjsonrpc/client.py\n",
    "def eth_getTransactionByBlockNumberAndIndex(block=BLOCK_TAG_LATEST, index=0):\n",
    "    '''\n",
    "    https://github.com/ethereum/wiki/wiki/JSON-RPC#eth_gettransactionbyblocknumberandindex\n",
    "    NEEDS TESTING\n",
    "    '''\n",
    "    block = validate_block(block)\n",
    "    return _call('eth_getTransactionByBlockNumberAndIndex', [block, hex(index)])"
   ]
  },
  {
   "cell_type": "code",
   "execution_count": 53,
   "metadata": {
    "collapsed": true
   },
   "outputs": [],
   "source": [
    "# FROM: https://github.com/ConsenSys/ethjsonrpc/blob/master/ethjsonrpc/client.py\n",
    "def eth_getTransactionReceipt(tx_hash):\n",
    "    '''\n",
    "    https://github.com/ethereum/wiki/wiki/JSON-RPC#eth_gettransactionreceipt\n",
    "    NEEDS TESTING\n",
    "    '''\n",
    "    return _call('eth_getTransactionReceipt', [tx_hash])"
   ]
  },
  {
   "cell_type": "code",
   "execution_count": 54,
   "metadata": {
    "collapsed": true
   },
   "outputs": [],
   "source": [
    "# FROM: https://github.com/ConsenSys/ethjsonrpc/blob/master/ethjsonrpc/client.py\n",
    "def eth_getUncleByBlockHashAndIndex(block_hash, index=0):\n",
    "    '''\n",
    "    https://github.com/ethereum/wiki/wiki/JSON-RPC#eth_getunclebyblockhashandindex\n",
    "    NEEDS TESTING\n",
    "    '''\n",
    "    return _call('eth_getUncleByBlockHashAndIndex', [block_hash, hex(index)])"
   ]
  },
  {
   "cell_type": "code",
   "execution_count": 55,
   "metadata": {
    "collapsed": true
   },
   "outputs": [],
   "source": [
    "# FROM: https://github.com/ConsenSys/ethjsonrpc/blob/master/ethjsonrpc/client.py\n",
    "def eth_getUncleByBlockNumberAndIndex(block=BLOCK_TAG_LATEST, index=0):\n",
    "    '''\n",
    "    https://github.com/ethereum/wiki/wiki/JSON-RPC#eth_getunclebyblocknumberandindex\n",
    "    NEEDS TESTING\n",
    "    '''\n",
    "    block = validate_block(block)\n",
    "    return _call('eth_getUncleByBlockNumberAndIndex', [block, hex(index)])"
   ]
  },
  {
   "cell_type": "code",
   "execution_count": 56,
   "metadata": {
    "collapsed": true
   },
   "outputs": [],
   "source": [
    "# FROM: https://github.com/ConsenSys/ethjsonrpc/blob/master/ethjsonrpc/client.py\n",
    "def eth_getCompilers():\n",
    "    '''\n",
    "    https://github.com/ethereum/wiki/wiki/JSON-RPC#eth_getcompilers\n",
    "    NEEDS TESTING\n",
    "    '''\n",
    "    return _call('eth_getCompilers')"
   ]
  },
  {
   "cell_type": "code",
   "execution_count": 57,
   "metadata": {
    "collapsed": true
   },
   "outputs": [],
   "source": [
    "# FROM: https://github.com/ConsenSys/ethjsonrpc/blob/master/ethjsonrpc/client.py\n",
    "def eth_compileSolidity(code):\n",
    "    '''\n",
    "    https://github.com/ethereum/wiki/wiki/JSON-RPC#eth_compilesolidity\n",
    "    NEEDS TESTING\n",
    "    '''\n",
    "    return _call('eth_compileSolidity', [code])"
   ]
  },
  {
   "cell_type": "code",
   "execution_count": 58,
   "metadata": {
    "collapsed": true
   },
   "outputs": [],
   "source": [
    "# FROM: https://github.com/ConsenSys/ethjsonrpc/blob/master/ethjsonrpc/client.py\n",
    "def eth_compileLLL(code):\n",
    "    '''\n",
    "    https://github.com/ethereum/wiki/wiki/JSON-RPC#eth_compilelll\n",
    "    N/A\n",
    "    '''\n",
    "    return _call('eth_compileLLL', [code])"
   ]
  },
  {
   "cell_type": "code",
   "execution_count": 59,
   "metadata": {
    "collapsed": true
   },
   "outputs": [],
   "source": [
    "# FROM: https://github.com/ConsenSys/ethjsonrpc/blob/master/ethjsonrpc/client.py\n",
    "def eth_compileSerpent(code):\n",
    "    '''\n",
    "    https://github.com/ethereum/wiki/wiki/JSON-RPC#eth_compileserpent\n",
    "    N/A\n",
    "    '''\n",
    "    return _call('eth_compileSerpent', [code])"
   ]
  },
  {
   "cell_type": "code",
   "execution_count": 60,
   "metadata": {
    "collapsed": true
   },
   "outputs": [],
   "source": [
    "# FROM: https://github.com/ConsenSys/ethjsonrpc/blob/master/ethjsonrpc/client.py\n",
    "def eth_newFilter(from_block=BLOCK_TAG_LATEST, to_block=BLOCK_TAG_LATEST, address=None, topics=None):\n",
    "    '''\n",
    "    https://github.com/ethereum/wiki/wiki/JSON-RPC#eth_newfilter\n",
    "    NEEDS TESTING\n",
    "    '''\n",
    "    _filter = {\n",
    "        'fromBlock': from_block,\n",
    "        'toBlock':   to_block,\n",
    "        'address':   address,\n",
    "        'topics':    topics,\n",
    "    }\n",
    "    return _call('eth_newFilter', [_filter])"
   ]
  },
  {
   "cell_type": "code",
   "execution_count": 61,
   "metadata": {
    "collapsed": true
   },
   "outputs": [],
   "source": [
    "# FROM: https://github.com/ConsenSys/ethjsonrpc/blob/master/ethjsonrpc/client.py\n",
    "def eth_newBlockFilter():\n",
    "    '''\n",
    "    https://github.com/ethereum/wiki/wiki/JSON-RPC#eth_newblockfilter\n",
    "    NEEDS TESTING\n",
    "    '''\n",
    "    return _call('eth_newBlockFilter')"
   ]
  },
  {
   "cell_type": "code",
   "execution_count": 62,
   "metadata": {
    "collapsed": true
   },
   "outputs": [],
   "source": [
    "# FROM: https://github.com/ConsenSys/ethjsonrpc/blob/master/ethjsonrpc/client.py\n",
    "def eth_newPendingTransactionFilter():\n",
    "    '''\n",
    "    https://github.com/ethereum/wiki/wiki/JSON-RPC#eth_newpendingtransactionfilter\n",
    "    NEEDS TESTING\n",
    "    '''\n",
    "    return hex_to_dec(_call('eth_newPendingTransactionFilter'))"
   ]
  },
  {
   "cell_type": "code",
   "execution_count": 63,
   "metadata": {
    "collapsed": true
   },
   "outputs": [],
   "source": [
    "# FROM: https://github.com/ConsenSys/ethjsonrpc/blob/master/ethjsonrpc/client.py\n",
    "def eth_uninstallFilter(filter_id):\n",
    "    '''\n",
    "    https://github.com/ethereum/wiki/wiki/JSON-RPC#eth_uninstallfilter\n",
    "    NEEDS TESTING\n",
    "    '''\n",
    "    return _call('eth_uninstallFilter', [filter_id])"
   ]
  },
  {
   "cell_type": "code",
   "execution_count": 64,
   "metadata": {
    "collapsed": true
   },
   "outputs": [],
   "source": [
    "# FROM: https://github.com/ConsenSys/ethjsonrpc/blob/master/ethjsonrpc/client.py\n",
    "def eth_getFilterChanges(filter_id):\n",
    "    '''\n",
    "    https://github.com/ethereum/wiki/wiki/JSON-RPC#eth_getfilterchanges\n",
    "    NEEDS TESTING\n",
    "    '''\n",
    "    return _call('eth_getFilterChanges', [filter_id])"
   ]
  },
  {
   "cell_type": "code",
   "execution_count": 65,
   "metadata": {
    "collapsed": true
   },
   "outputs": [],
   "source": [
    "# FROM: https://github.com/ConsenSys/ethjsonrpc/blob/master/ethjsonrpc/client.py\n",
    "def eth_getFilterLogs(filter_id):\n",
    "    '''\n",
    "    https://github.com/ethereum/wiki/wiki/JSON-RPC#eth_getfilterlogs\n",
    "    NEEDS TESTING\n",
    "    '''\n",
    "    return _call('eth_getFilterLogs', [filter_id])"
   ]
  },
  {
   "cell_type": "code",
   "execution_count": 66,
   "metadata": {
    "collapsed": true
   },
   "outputs": [],
   "source": [
    "#FROM: https://github.com/ConsenSys/ethjsonrpc/blob/master/ethjsonrpc/client.py\n",
    "#def eth_getLogs(filter_object):\n",
    "#    return _call('eth_getLogs', [filter_object])\n",
    "\n",
    "# redefined by Markus 2018-02-08\n",
    "def eth_getLogs(from_block=BLOCK_TAG_LATEST, to_block=BLOCK_TAG_LATEST, address=None, topics=None):\n",
    "    '''\n",
    "    https://github.com/ethereum/wiki/wiki/JSON-RPC#eth_getlogs\n",
    "    TESTED - MARKUS 2018-02-08\n",
    "    '''\n",
    "    _filter = {\n",
    "        'fromBlock': from_block,\n",
    "        'toBlock':   to_block,\n",
    "        'address':   address,\n",
    "        'topics':    topics,\n",
    "    }\n",
    "    return _call('eth_getLogs', [_filter])"
   ]
  },
  {
   "cell_type": "code",
   "execution_count": 67,
   "metadata": {
    "collapsed": true
   },
   "outputs": [],
   "source": [
    "# FROM: https://github.com/ConsenSys/ethjsonrpc/blob/master/ethjsonrpc/client.py\n",
    "def eth_getWork():\n",
    "    '''\n",
    "    https://github.com/ethereum/wiki/wiki/JSON-RPC#eth_getwork\n",
    "    NEEDS TESTING\n",
    "    '''\n",
    "    return _call('eth_getWork')"
   ]
  },
  {
   "cell_type": "code",
   "execution_count": 68,
   "metadata": {
    "collapsed": true
   },
   "outputs": [],
   "source": [
    "# FROM: https://github.com/ConsenSys/ethjsonrpc/blob/master/ethjsonrpc/client.py\n",
    "def eth_submitWork(nonce, header, mix_digest):\n",
    "    '''\n",
    "    https://github.com/ethereum/wiki/wiki/JSON-RPC#eth_submitwork\n",
    "    NEEDS TESTING\n",
    "    '''\n",
    "    return _call('eth_submitWork', [nonce, header, mix_digest])"
   ]
  },
  {
   "cell_type": "code",
   "execution_count": 69,
   "metadata": {
    "collapsed": true
   },
   "outputs": [],
   "source": [
    "# FROM: https://github.com/ConsenSys/ethjsonrpc/blob/master/ethjsonrpc/client.py\n",
    "def eth_submitHashrate(hash_rate, client_id):\n",
    "    '''\n",
    "    https://github.com/ethereum/wiki/wiki/JSON-RPC#eth_submithashrate\n",
    "    NEEDS TESTING\n",
    "    '''\n",
    "    return _call('eth_submitHashrate', [hex(hash_rate), client_id])"
   ]
  },
  {
   "cell_type": "code",
   "execution_count": 70,
   "metadata": {
    "collapsed": true
   },
   "outputs": [],
   "source": [
    "# FROM: https://github.com/ConsenSys/ethjsonrpc/blob/master/ethjsonrpc/client.py\n",
    "def shh_version():\n",
    "    '''\n",
    "    https://github.com/ethereum/wiki/wiki/JSON-RPC#shh_version\n",
    "    N/A\n",
    "    '''\n",
    "    return _call('shh_version')"
   ]
  },
  {
   "cell_type": "code",
   "execution_count": 71,
   "metadata": {
    "collapsed": true
   },
   "outputs": [],
   "source": [
    "# FROM: https://github.com/ConsenSys/ethjsonrpc/blob/master/ethjsonrpc/client.py\n",
    "def shh_post(topics, payload, priority, ttl, from_=None, to=None):\n",
    "    '''\n",
    "    https://github.com/ethereum/wiki/wiki/JSON-RPC#shh_post\n",
    "    NEEDS TESTING\n",
    "    '''\n",
    "    whisper_object = {\n",
    "        'from':     from_,\n",
    "        'to':       to,\n",
    "        'topics':   topics,\n",
    "        'payload':  payload,\n",
    "        'priority': hex(priority),\n",
    "        'ttl':      hex(ttl),\n",
    "    }\n",
    "    return _call('shh_post', [whisper_object])"
   ]
  },
  {
   "cell_type": "code",
   "execution_count": 72,
   "metadata": {
    "collapsed": true
   },
   "outputs": [],
   "source": [
    "# FROM: https://github.com/ConsenSys/ethjsonrpc/blob/master/ethjsonrpc/client.py\n",
    "def shh_newIdentity():\n",
    "    '''\n",
    "    https://github.com/ethereum/wiki/wiki/JSON-RPC#shh_newidentity\n",
    "    N/A\n",
    "    '''\n",
    "    return _call('shh_newIdentity')"
   ]
  },
  {
   "cell_type": "code",
   "execution_count": 73,
   "metadata": {
    "collapsed": true
   },
   "outputs": [],
   "source": [
    "# FROM: https://github.com/ConsenSys/ethjsonrpc/blob/master/ethjsonrpc/client.py\n",
    "def shh_hasIdentity(address):\n",
    "    '''\n",
    "    https://github.com/ethereum/wiki/wiki/JSON-RPC#shh_hasidentity\n",
    "    NEEDS TESTING\n",
    "    '''\n",
    "    return _call('shh_hasIdentity', [address])"
   ]
  },
  {
   "cell_type": "code",
   "execution_count": 74,
   "metadata": {
    "collapsed": true
   },
   "outputs": [],
   "source": [
    "# FROM: https://github.com/ConsenSys/ethjsonrpc/blob/master/ethjsonrpc/client.py\n",
    "def shh_newGroup():\n",
    "    '''\n",
    "    https://github.com/ethereum/wiki/wiki/JSON-RPC#shh_newgroup\n",
    "    N/A\n",
    "    '''\n",
    "    return _call('shh_newGroup')"
   ]
  },
  {
   "cell_type": "code",
   "execution_count": 75,
   "metadata": {
    "collapsed": true
   },
   "outputs": [],
   "source": [
    "# FROM: https://github.com/ConsenSys/ethjsonrpc/blob/master/ethjsonrpc/client.py\n",
    "def shh_addToGroup():\n",
    "    '''\n",
    "    https://github.com/ethereum/wiki/wiki/JSON-RPC#shh_addtogroup\n",
    "    NEEDS TESTING\n",
    "    '''\n",
    "    return _call('shh_addToGroup')"
   ]
  },
  {
   "cell_type": "code",
   "execution_count": 76,
   "metadata": {
    "collapsed": true
   },
   "outputs": [],
   "source": [
    "# FROM: https://github.com/ConsenSys/ethjsonrpc/blob/master/ethjsonrpc/client.py\n",
    "def shh_newFilter(to, topics):\n",
    "    '''\n",
    "    https://github.com/ethereum/wiki/wiki/JSON-RPC#shh_newfilter\n",
    "    NEEDS TESTING\n",
    "    '''\n",
    "    _filter = {\n",
    "        'to':     to,\n",
    "        'topics': topics,\n",
    "    }\n",
    "    return _call('shh_newFilter', [_filter])"
   ]
  },
  {
   "cell_type": "code",
   "execution_count": 77,
   "metadata": {
    "collapsed": true
   },
   "outputs": [],
   "source": [
    "# FROM: https://github.com/ConsenSys/ethjsonrpc/blob/master/ethjsonrpc/client.py\n",
    "def shh_uninstallFilter(filter_id):\n",
    "    '''\n",
    "    https://github.com/ethereum/wiki/wiki/JSON-RPC#shh_uninstallfilter\n",
    "    NEEDS TESTING\n",
    "    '''\n",
    "    return _call('shh_uninstallFilter', [filter_id])"
   ]
  },
  {
   "cell_type": "code",
   "execution_count": 78,
   "metadata": {
    "collapsed": true
   },
   "outputs": [],
   "source": [
    "# FROM: https://github.com/ConsenSys/ethjsonrpc/blob/master/ethjsonrpc/client.py\n",
    "def shh_getFilterChanges(filter_id):\n",
    "    '''\n",
    "    https://github.com/ethereum/wiki/wiki/JSON-RPC#shh_getfilterchanges\n",
    "    NEEDS TESTING\n",
    "    '''\n",
    "    return _call('shh_getFilterChanges', [filter_id])"
   ]
  },
  {
   "cell_type": "code",
   "execution_count": 79,
   "metadata": {
    "collapsed": true
   },
   "outputs": [],
   "source": [
    "# FROM: https://github.com/ConsenSys/ethjsonrpc/blob/master/ethjsonrpc/client.py\n",
    "def shh_getMessages(filter_id):\n",
    "    '''\n",
    "    https://github.com/ethereum/wiki/wiki/JSON-RPC#shh_getmessages\n",
    "    NEEDS TESTING\n",
    "    '''\n",
    "    return _call('shh_getMessages', [filter_id])    "
   ]
  },
  {
   "cell_type": "code",
   "execution_count": 80,
   "metadata": {},
   "outputs": [
    {
     "data": {
      "text/plain": [
       "{'currentBlock': '0x4e1452',\n",
       " 'highestBlock': '0x4e553a',\n",
       " 'knownStates': '0x0',\n",
       " 'pulledStates': '0x0',\n",
       " 'startingBlock': '0x4dff0b'}"
      ]
     },
     "execution_count": 80,
     "metadata": {},
     "output_type": "execute_result"
    }
   ],
   "source": [
    "eth_syncing()"
   ]
  },
  {
   "cell_type": "code",
   "execution_count": 81,
   "metadata": {},
   "outputs": [
    {
     "data": {
      "text/plain": [
       "5117010"
      ]
     },
     "execution_count": 81,
     "metadata": {},
     "output_type": "execute_result"
    }
   ],
   "source": [
    "eth_blockNumber()"
   ]
  },
  {
   "cell_type": "code",
   "execution_count": 82,
   "metadata": {},
   "outputs": [
    {
     "data": {
      "text/plain": [
       "61030933335777254757505"
      ]
     },
     "execution_count": 82,
     "metadata": {},
     "output_type": "execute_result"
    }
   ],
   "source": [
    "eth_getBalance(address='0x267be1C1D684F78cb4F6a176C4911b741E4Ffdc0')"
   ]
  },
  {
   "cell_type": "code",
   "execution_count": 83,
   "metadata": {},
   "outputs": [
    {
     "data": {
      "text/plain": [
       "783654"
      ]
     },
     "execution_count": 83,
     "metadata": {},
     "output_type": "execute_result"
    }
   ],
   "source": [
    "eth_getTransactionCount('0x267be1C1D684F78cb4F6a176C4911b741E4Ffdc0')"
   ]
  },
  {
   "cell_type": "code",
   "execution_count": 84,
   "metadata": {},
   "outputs": [
    {
     "data": {
      "text/html": [
       "<div>\n",
       "<style>\n",
       "    .dataframe thead tr:only-child th {\n",
       "        text-align: right;\n",
       "    }\n",
       "\n",
       "    .dataframe thead th {\n",
       "        text-align: left;\n",
       "    }\n",
       "\n",
       "    .dataframe tbody tr th {\n",
       "        vertical-align: top;\n",
       "    }\n",
       "</style>\n",
       "<table border=\"1\" class=\"dataframe\">\n",
       "  <thead>\n",
       "    <tr style=\"text-align: right;\">\n",
       "      <th></th>\n",
       "      <th>address</th>\n",
       "      <th>decimals</th>\n",
       "      <th>ens_address</th>\n",
       "      <th>logo</th>\n",
       "      <th>name</th>\n",
       "      <th>social</th>\n",
       "      <th>support</th>\n",
       "      <th>symbol</th>\n",
       "      <th>website</th>\n",
       "    </tr>\n",
       "  </thead>\n",
       "  <tbody>\n",
       "    <tr>\n",
       "      <th>0</th>\n",
       "      <td>0xAf30D2a7E90d7DC361c8C4585e9BB7D2F6f15bc7</td>\n",
       "      <td>18</td>\n",
       "      <td></td>\n",
       "      <td>{'src': '', 'width': '', 'height': '', 'ipfs_h...</td>\n",
       "      <td>FirstBlood</td>\n",
       "      <td>{'blog': '', 'chat': '', 'facebook': '', 'foru...</td>\n",
       "      <td>{'email': '', 'url': ''}</td>\n",
       "      <td>1ST</td>\n",
       "      <td>https://firstblood.io</td>\n",
       "    </tr>\n",
       "    <tr>\n",
       "      <th>1</th>\n",
       "      <td>0xfdbc1adc26f0f8f8606a5d63b7d3a3cd21c22b23</td>\n",
       "      <td>8</td>\n",
       "      <td></td>\n",
       "      <td>{'src': '', 'width': '', 'height': '', 'ipfs_h...</td>\n",
       "      <td>1WO</td>\n",
       "      <td>{'blog': '', 'chat': '', 'facebook': 'https://...</td>\n",
       "      <td>{'email': 'support@1worldonline.com', 'url': ''}</td>\n",
       "      <td>1WO</td>\n",
       "      <td>https://ico.1worldonline.com</td>\n",
       "    </tr>\n",
       "    <tr>\n",
       "      <th>2</th>\n",
       "      <td>0xaEc98A708810414878c3BCDF46Aad31dEd4a4557</td>\n",
       "      <td>18</td>\n",
       "      <td></td>\n",
       "      <td>{'src': '', 'width': '', 'height': '', 'ipfs_h...</td>\n",
       "      <td>300 Token Sparta</td>\n",
       "      <td>{'blog': '', 'chat': '', 'facebook': '', 'foru...</td>\n",
       "      <td>{'email': '', 'url': ''}</td>\n",
       "      <td>300</td>\n",
       "      <td>https://300tokensparta.com</td>\n",
       "    </tr>\n",
       "    <tr>\n",
       "      <th>3</th>\n",
       "      <td>0xb98d4c97425d9908e66e53a6fdf673acca0be986</td>\n",
       "      <td>18</td>\n",
       "      <td></td>\n",
       "      <td>{'src': '', 'width': '', 'height': '', 'ipfs_h...</td>\n",
       "      <td>ArcBlock Token</td>\n",
       "      <td>{'blog': '', 'chat': '', 'facebook': '', 'foru...</td>\n",
       "      <td>{'email': 'contact@arcblock.io', 'url': ''}</td>\n",
       "      <td>ABT</td>\n",
       "      <td>https://www.arcblock.io</td>\n",
       "    </tr>\n",
       "    <tr>\n",
       "      <th>4</th>\n",
       "      <td>0x13f1b7fdfbe1fc66676d56483e21b1ecb40b58e2</td>\n",
       "      <td>18</td>\n",
       "      <td></td>\n",
       "      <td>{'src': '', 'width': '', 'height': '', 'ipfs_h...</td>\n",
       "      <td>Accelerator Network</td>\n",
       "      <td>{'blog': '', 'chat': '', 'facebook': '', 'foru...</td>\n",
       "      <td>{'email': 'help@accelerator.network', 'url': ''}</td>\n",
       "      <td>ACC</td>\n",
       "      <td>http://accelerator.network</td>\n",
       "    </tr>\n",
       "  </tbody>\n",
       "</table>\n",
       "</div>"
      ],
      "text/plain": [
       "                                      address decimals ens_address  \\\n",
       "0  0xAf30D2a7E90d7DC361c8C4585e9BB7D2F6f15bc7       18               \n",
       "1  0xfdbc1adc26f0f8f8606a5d63b7d3a3cd21c22b23        8               \n",
       "2  0xaEc98A708810414878c3BCDF46Aad31dEd4a4557       18               \n",
       "3  0xb98d4c97425d9908e66e53a6fdf673acca0be986       18               \n",
       "4  0x13f1b7fdfbe1fc66676d56483e21b1ecb40b58e2       18               \n",
       "\n",
       "                                                logo                 name  \\\n",
       "0  {'src': '', 'width': '', 'height': '', 'ipfs_h...           FirstBlood   \n",
       "1  {'src': '', 'width': '', 'height': '', 'ipfs_h...                  1WO   \n",
       "2  {'src': '', 'width': '', 'height': '', 'ipfs_h...     300 Token Sparta   \n",
       "3  {'src': '', 'width': '', 'height': '', 'ipfs_h...       ArcBlock Token   \n",
       "4  {'src': '', 'width': '', 'height': '', 'ipfs_h...  Accelerator Network   \n",
       "\n",
       "                                              social  \\\n",
       "0  {'blog': '', 'chat': '', 'facebook': '', 'foru...   \n",
       "1  {'blog': '', 'chat': '', 'facebook': 'https://...   \n",
       "2  {'blog': '', 'chat': '', 'facebook': '', 'foru...   \n",
       "3  {'blog': '', 'chat': '', 'facebook': '', 'foru...   \n",
       "4  {'blog': '', 'chat': '', 'facebook': '', 'foru...   \n",
       "\n",
       "                                            support symbol  \\\n",
       "0                          {'email': '', 'url': ''}    1ST   \n",
       "1  {'email': 'support@1worldonline.com', 'url': ''}    1WO   \n",
       "2                          {'email': '', 'url': ''}    300   \n",
       "3       {'email': 'contact@arcblock.io', 'url': ''}    ABT   \n",
       "4  {'email': 'help@accelerator.network', 'url': ''}    ACC   \n",
       "\n",
       "                        website  \n",
       "0         https://firstblood.io  \n",
       "1  https://ico.1worldonline.com  \n",
       "2    https://300tokensparta.com  \n",
       "3       https://www.arcblock.io  \n",
       "4    http://accelerator.network  "
      ]
     },
     "execution_count": 84,
     "metadata": {},
     "output_type": "execute_result"
    }
   ],
   "source": [
    "MEW_TOKENS = getJSON('https://raw.githubusercontent.com/MyEtherWallet/ethereum-lists/master/tokens/tokens-eth.json')\n",
    "MEW_TOKENS = pd.DataFrame.from_dict(MEW_TOKENS)\n",
    "MEW_TOKENS.head()"
   ]
  },
  {
   "cell_type": "code",
   "execution_count": 85,
   "metadata": {},
   "outputs": [
    {
     "data": {
      "text/plain": [
       "{'DAI': '0x89d24A6b4CcB1B6fAA2625fE562bDD9a23260359',\n",
       " 'MKR': '0x9f8F72aA9304c8B593d555F12eF6589cC3A579A2'}"
      ]
     },
     "execution_count": 85,
     "metadata": {},
     "output_type": "execute_result"
    }
   ],
   "source": [
    "tokens_of_interest = {\n",
    "    'DAI': '',\n",
    "    'MKR': ''\n",
    "}\n",
    "for token in tokens_of_interest:\n",
    "    tokens_of_interest[token] = MEW_TOKENS[MEW_TOKENS['symbol']==token]['address'].to_string(index=False)\n",
    "tokens_of_interest"
   ]
  },
  {
   "cell_type": "code",
   "execution_count": 86,
   "metadata": {
    "collapsed": true
   },
   "outputs": [],
   "source": [
    "def getTokenTransfers(address, from_block, to_block):\n",
    "    ERC20_transfer_signature = '0xddf252ad1be2c89b69c2b068fc378daa952ba7f163c4a11628f55a4df523b3ef'\n",
    "    json = eth_getLogs(from_block=from_block, \n",
    "                       to_block=to_block,\n",
    "                       address=address,\n",
    "                       topics=[ERC20_transfer_signature])\n",
    "    df = pd.DataFrame.from_dict(json)\n",
    "    #TODO: get decimals from MEW\n",
    "    df['amount'] = df['data'].apply(lambda x: float.fromhex(x)*1e-18)\n",
    "    df['from'] = df['topics'].apply(lambda x: x[1][:2]+x[1][-40:])\n",
    "    df['to'] = df['topics'].apply(lambda x: x[2][:2]+x[2][-40:])\n",
    "    return df\n",
    "\n",
    "from_block = hex(eth_blockNumber() - 10000)\n",
    "to_block = hex(eth_blockNumber())\n",
    "txns = None\n",
    "for token in tokens_of_interest:\n",
    "    tmp = getTokenTransfers(tokens_of_interest[token],\n",
    "                            from_block,\n",
    "                            to_block)\n",
    "    if tmp is None:\n",
    "        continue\n",
    "    tmp['token'] = token\n",
    "    tmp['token_address'] = tokens_of_interest[token]\n",
    "    if txns is None:\n",
    "        txns = tmp\n",
    "    else:\n",
    "        txns = txns.append(tmp, ignore_index=True)"
   ]
  },
  {
   "cell_type": "code",
   "execution_count": 87,
   "metadata": {},
   "outputs": [
    {
     "data": {
      "text/html": [
       "<div>\n",
       "<style>\n",
       "    .dataframe thead tr:only-child th {\n",
       "        text-align: right;\n",
       "    }\n",
       "\n",
       "    .dataframe thead th {\n",
       "        text-align: left;\n",
       "    }\n",
       "\n",
       "    .dataframe tbody tr th {\n",
       "        vertical-align: top;\n",
       "    }\n",
       "</style>\n",
       "<table border=\"1\" class=\"dataframe\">\n",
       "  <thead>\n",
       "    <tr style=\"text-align: right;\">\n",
       "      <th></th>\n",
       "      <th>address</th>\n",
       "      <th>blockHash</th>\n",
       "      <th>blockNumber</th>\n",
       "      <th>data</th>\n",
       "      <th>logIndex</th>\n",
       "      <th>removed</th>\n",
       "      <th>topics</th>\n",
       "      <th>transactionHash</th>\n",
       "      <th>transactionIndex</th>\n",
       "      <th>amount</th>\n",
       "      <th>from</th>\n",
       "      <th>to</th>\n",
       "      <th>token</th>\n",
       "      <th>token_address</th>\n",
       "    </tr>\n",
       "  </thead>\n",
       "  <tbody>\n",
       "    <tr>\n",
       "      <th>0</th>\n",
       "      <td>0x89d24a6b4ccb1b6faa2625fe562bdd9a23260359</td>\n",
       "      <td>0x3514c8b9898f26604e522a23aa55c496d98596c12c90...</td>\n",
       "      <td>0x4ded61</td>\n",
       "      <td>0x00000000000000000000000000000000000000000000...</td>\n",
       "      <td>0x16</td>\n",
       "      <td>False</td>\n",
       "      <td>[0xddf252ad1be2c89b69c2b068fc378daa952ba7f163c...</td>\n",
       "      <td>0x5d244b0218c23bf07f9c3f6dac43e23d58bb9737bda4...</td>\n",
       "      <td>0x2d</td>\n",
       "      <td>34000.000000</td>\n",
       "      <td>0x14fbca95be7e99c15cc2996c6c9d841e54b79425</td>\n",
       "      <td>0x0005abcbb9533cf6f9370505ffef25393e0d2852</td>\n",
       "      <td>DAI</td>\n",
       "      <td>0x89d24A6b4CcB1B6fAA2625fE562bDD9a23260359</td>\n",
       "    </tr>\n",
       "    <tr>\n",
       "      <th>1</th>\n",
       "      <td>0x89d24a6b4ccb1b6faa2625fe562bdd9a23260359</td>\n",
       "      <td>0xb82b165a19698ee6ca7d52be963d7d1c73a3d5ee8682...</td>\n",
       "      <td>0x4ded63</td>\n",
       "      <td>0x00000000000000000000000000000000000000000000...</td>\n",
       "      <td>0x3d</td>\n",
       "      <td>False</td>\n",
       "      <td>[0xddf252ad1be2c89b69c2b068fc378daa952ba7f163c...</td>\n",
       "      <td>0xef9c091bb67b6767b7be3eeae9b1252964efc80d1fd8...</td>\n",
       "      <td>0x82</td>\n",
       "      <td>34000.000000</td>\n",
       "      <td>0x0005abcbb9533cf6f9370505ffef25393e0d2852</td>\n",
       "      <td>0x14fbca95be7e99c15cc2996c6c9d841e54b79425</td>\n",
       "      <td>DAI</td>\n",
       "      <td>0x89d24A6b4CcB1B6fAA2625fE562bDD9a23260359</td>\n",
       "    </tr>\n",
       "    <tr>\n",
       "      <th>2</th>\n",
       "      <td>0x89d24a6b4ccb1b6faa2625fe562bdd9a23260359</td>\n",
       "      <td>0x5b40947a7b28f34e80339c7e49b368f4f345023234fb...</td>\n",
       "      <td>0x4ded6b</td>\n",
       "      <td>0x00000000000000000000000000000000000000000000...</td>\n",
       "      <td>0x37</td>\n",
       "      <td>False</td>\n",
       "      <td>[0xddf252ad1be2c89b69c2b068fc378daa952ba7f163c...</td>\n",
       "      <td>0x429e0a359c454718eb1c250335a05d2f52927408534f...</td>\n",
       "      <td>0x29</td>\n",
       "      <td>163.179093</td>\n",
       "      <td>0x578f3c8454f316293dbd31d8c7806050f3b3e2d8</td>\n",
       "      <td>0xf87a7ec94884f44d9de33d36b73f42c7c0dd38b1</td>\n",
       "      <td>DAI</td>\n",
       "      <td>0x89d24A6b4CcB1B6fAA2625fE562bDD9a23260359</td>\n",
       "    </tr>\n",
       "    <tr>\n",
       "      <th>3</th>\n",
       "      <td>0x89d24a6b4ccb1b6faa2625fe562bdd9a23260359</td>\n",
       "      <td>0x5b40947a7b28f34e80339c7e49b368f4f345023234fb...</td>\n",
       "      <td>0x4ded6b</td>\n",
       "      <td>0x00000000000000000000000000000000000000000000...</td>\n",
       "      <td>0x39</td>\n",
       "      <td>False</td>\n",
       "      <td>[0xddf252ad1be2c89b69c2b068fc378daa952ba7f163c...</td>\n",
       "      <td>0x429e0a359c454718eb1c250335a05d2f52927408534f...</td>\n",
       "      <td>0x29</td>\n",
       "      <td>163.179093</td>\n",
       "      <td>0xf87a7ec94884f44d9de33d36b73f42c7c0dd38b1</td>\n",
       "      <td>0xa53a742502a374b3916049067eada96a8da5c42c</td>\n",
       "      <td>DAI</td>\n",
       "      <td>0x89d24A6b4CcB1B6fAA2625fE562bDD9a23260359</td>\n",
       "    </tr>\n",
       "    <tr>\n",
       "      <th>4</th>\n",
       "      <td>0x89d24a6b4ccb1b6faa2625fe562bdd9a23260359</td>\n",
       "      <td>0x7a466ee834c72f700c32641d15c7892846746eb32833...</td>\n",
       "      <td>0x4dedac</td>\n",
       "      <td>0x00000000000000000000000000000000000000000000...</td>\n",
       "      <td>0x34</td>\n",
       "      <td>False</td>\n",
       "      <td>[0xddf252ad1be2c89b69c2b068fc378daa952ba7f163c...</td>\n",
       "      <td>0x26d1c14a33438bbb20717bfe3365fb4e381685c3c451...</td>\n",
       "      <td>0x5d</td>\n",
       "      <td>872.579827</td>\n",
       "      <td>0xf73c3c65bde10bf26c2e1763104e609a41702efe</td>\n",
       "      <td>0x6633feb7bd12733267833f8257a45b428a3904f6</td>\n",
       "      <td>DAI</td>\n",
       "      <td>0x89d24A6b4CcB1B6fAA2625fE562bDD9a23260359</td>\n",
       "    </tr>\n",
       "  </tbody>\n",
       "</table>\n",
       "</div>"
      ],
      "text/plain": [
       "                                      address  \\\n",
       "0  0x89d24a6b4ccb1b6faa2625fe562bdd9a23260359   \n",
       "1  0x89d24a6b4ccb1b6faa2625fe562bdd9a23260359   \n",
       "2  0x89d24a6b4ccb1b6faa2625fe562bdd9a23260359   \n",
       "3  0x89d24a6b4ccb1b6faa2625fe562bdd9a23260359   \n",
       "4  0x89d24a6b4ccb1b6faa2625fe562bdd9a23260359   \n",
       "\n",
       "                                           blockHash blockNumber  \\\n",
       "0  0x3514c8b9898f26604e522a23aa55c496d98596c12c90...    0x4ded61   \n",
       "1  0xb82b165a19698ee6ca7d52be963d7d1c73a3d5ee8682...    0x4ded63   \n",
       "2  0x5b40947a7b28f34e80339c7e49b368f4f345023234fb...    0x4ded6b   \n",
       "3  0x5b40947a7b28f34e80339c7e49b368f4f345023234fb...    0x4ded6b   \n",
       "4  0x7a466ee834c72f700c32641d15c7892846746eb32833...    0x4dedac   \n",
       "\n",
       "                                                data logIndex  removed  \\\n",
       "0  0x00000000000000000000000000000000000000000000...     0x16    False   \n",
       "1  0x00000000000000000000000000000000000000000000...     0x3d    False   \n",
       "2  0x00000000000000000000000000000000000000000000...     0x37    False   \n",
       "3  0x00000000000000000000000000000000000000000000...     0x39    False   \n",
       "4  0x00000000000000000000000000000000000000000000...     0x34    False   \n",
       "\n",
       "                                              topics  \\\n",
       "0  [0xddf252ad1be2c89b69c2b068fc378daa952ba7f163c...   \n",
       "1  [0xddf252ad1be2c89b69c2b068fc378daa952ba7f163c...   \n",
       "2  [0xddf252ad1be2c89b69c2b068fc378daa952ba7f163c...   \n",
       "3  [0xddf252ad1be2c89b69c2b068fc378daa952ba7f163c...   \n",
       "4  [0xddf252ad1be2c89b69c2b068fc378daa952ba7f163c...   \n",
       "\n",
       "                                     transactionHash transactionIndex  \\\n",
       "0  0x5d244b0218c23bf07f9c3f6dac43e23d58bb9737bda4...             0x2d   \n",
       "1  0xef9c091bb67b6767b7be3eeae9b1252964efc80d1fd8...             0x82   \n",
       "2  0x429e0a359c454718eb1c250335a05d2f52927408534f...             0x29   \n",
       "3  0x429e0a359c454718eb1c250335a05d2f52927408534f...             0x29   \n",
       "4  0x26d1c14a33438bbb20717bfe3365fb4e381685c3c451...             0x5d   \n",
       "\n",
       "         amount                                        from  \\\n",
       "0  34000.000000  0x14fbca95be7e99c15cc2996c6c9d841e54b79425   \n",
       "1  34000.000000  0x0005abcbb9533cf6f9370505ffef25393e0d2852   \n",
       "2    163.179093  0x578f3c8454f316293dbd31d8c7806050f3b3e2d8   \n",
       "3    163.179093  0xf87a7ec94884f44d9de33d36b73f42c7c0dd38b1   \n",
       "4    872.579827  0xf73c3c65bde10bf26c2e1763104e609a41702efe   \n",
       "\n",
       "                                           to token  \\\n",
       "0  0x0005abcbb9533cf6f9370505ffef25393e0d2852   DAI   \n",
       "1  0x14fbca95be7e99c15cc2996c6c9d841e54b79425   DAI   \n",
       "2  0xf87a7ec94884f44d9de33d36b73f42c7c0dd38b1   DAI   \n",
       "3  0xa53a742502a374b3916049067eada96a8da5c42c   DAI   \n",
       "4  0x6633feb7bd12733267833f8257a45b428a3904f6   DAI   \n",
       "\n",
       "                                token_address  \n",
       "0  0x89d24A6b4CcB1B6fAA2625fE562bDD9a23260359  \n",
       "1  0x89d24A6b4CcB1B6fAA2625fE562bDD9a23260359  \n",
       "2  0x89d24A6b4CcB1B6fAA2625fE562bDD9a23260359  \n",
       "3  0x89d24A6b4CcB1B6fAA2625fE562bDD9a23260359  \n",
       "4  0x89d24A6b4CcB1B6fAA2625fE562bDD9a23260359  "
      ]
     },
     "execution_count": 87,
     "metadata": {},
     "output_type": "execute_result"
    }
   ],
   "source": [
    "txns.head()"
   ]
  },
  {
   "cell_type": "code",
   "execution_count": 88,
   "metadata": {},
   "outputs": [
    {
     "data": {
      "text/html": [
       "<div>\n",
       "<style>\n",
       "    .dataframe thead tr:only-child th {\n",
       "        text-align: right;\n",
       "    }\n",
       "\n",
       "    .dataframe thead th {\n",
       "        text-align: left;\n",
       "    }\n",
       "\n",
       "    .dataframe tbody tr th {\n",
       "        vertical-align: top;\n",
       "    }\n",
       "</style>\n",
       "<table border=\"1\" class=\"dataframe\">\n",
       "  <thead>\n",
       "    <tr style=\"text-align: right;\">\n",
       "      <th></th>\n",
       "      <th>address</th>\n",
       "      <th>blockHash</th>\n",
       "      <th>blockNumber</th>\n",
       "      <th>data</th>\n",
       "      <th>logIndex</th>\n",
       "      <th>removed</th>\n",
       "      <th>topics</th>\n",
       "      <th>transactionHash</th>\n",
       "      <th>transactionIndex</th>\n",
       "      <th>amount</th>\n",
       "      <th>from</th>\n",
       "      <th>to</th>\n",
       "      <th>token</th>\n",
       "      <th>token_address</th>\n",
       "    </tr>\n",
       "  </thead>\n",
       "  <tbody>\n",
       "    <tr>\n",
       "      <th>914</th>\n",
       "      <td>0x9f8f72aa9304c8b593d555f12ef6589cc3a579a2</td>\n",
       "      <td>0x421c5d48d8f9a934cd2bf8e0dd214aded986408cb366...</td>\n",
       "      <td>0x4e10ab</td>\n",
       "      <td>0x00000000000000000000000000000000000000000000...</td>\n",
       "      <td>0x2f</td>\n",
       "      <td>False</td>\n",
       "      <td>[0xddf252ad1be2c89b69c2b068fc378daa952ba7f163c...</td>\n",
       "      <td>0x3a22ff68b42dbb3d818558ba7dad842de8705af0f427...</td>\n",
       "      <td>0x48</td>\n",
       "      <td>2.000000</td>\n",
       "      <td>0x3dc389e0a69d6364a66ab64ebd51234da9569284</td>\n",
       "      <td>0x14fbca95be7e99c15cc2996c6c9d841e54b79425</td>\n",
       "      <td>MKR</td>\n",
       "      <td>0x9f8F72aA9304c8B593d555F12eF6589cC3A579A2</td>\n",
       "    </tr>\n",
       "    <tr>\n",
       "      <th>915</th>\n",
       "      <td>0x9f8f72aa9304c8b593d555f12ef6589cc3a579a2</td>\n",
       "      <td>0x74700da0d8dbcebc42a8518fc8ab97a22b3075ee487b...</td>\n",
       "      <td>0x4e1140</td>\n",
       "      <td>0x00000000000000000000000000000000000000000000...</td>\n",
       "      <td>0x57</td>\n",
       "      <td>False</td>\n",
       "      <td>[0xddf252ad1be2c89b69c2b068fc378daa952ba7f163c...</td>\n",
       "      <td>0xabaad2ca67362893991cfb99c0be900427560a34962d...</td>\n",
       "      <td>0x6d</td>\n",
       "      <td>0.000004</td>\n",
       "      <td>0xa6248072f3f3aa2610c4e25a7d28294faaf3ae53</td>\n",
       "      <td>0x69076e44a9c70a67d5b79d95795aba299083c275</td>\n",
       "      <td>MKR</td>\n",
       "      <td>0x9f8F72aA9304c8B593d555F12eF6589cC3A579A2</td>\n",
       "    </tr>\n",
       "    <tr>\n",
       "      <th>916</th>\n",
       "      <td>0x9f8f72aa9304c8b593d555f12ef6589cc3a579a2</td>\n",
       "      <td>0xe1dafdacfabc852e7387e787ee0795abe7793de66a80...</td>\n",
       "      <td>0x4e116e</td>\n",
       "      <td>0x00000000000000000000000000000000000000000000...</td>\n",
       "      <td>0x14</td>\n",
       "      <td>False</td>\n",
       "      <td>[0xddf252ad1be2c89b69c2b068fc378daa952ba7f163c...</td>\n",
       "      <td>0xd51bc6bf20be318eb25232edf18269f831e156a45a32...</td>\n",
       "      <td>0x21</td>\n",
       "      <td>2.000000</td>\n",
       "      <td>0x14fbca95be7e99c15cc2996c6c9d841e54b79425</td>\n",
       "      <td>0x3dc389e0a69d6364a66ab64ebd51234da9569284</td>\n",
       "      <td>MKR</td>\n",
       "      <td>0x9f8F72aA9304c8B593d555F12eF6589cC3A579A2</td>\n",
       "    </tr>\n",
       "    <tr>\n",
       "      <th>917</th>\n",
       "      <td>0x9f8f72aa9304c8b593d555f12ef6589cc3a579a2</td>\n",
       "      <td>0xe7c38cf2f597e8946693e243c39c69d66f77af4b1e61...</td>\n",
       "      <td>0x4e1431</td>\n",
       "      <td>0x00000000000000000000000000000000000000000000...</td>\n",
       "      <td>0x40</td>\n",
       "      <td>False</td>\n",
       "      <td>[0xddf252ad1be2c89b69c2b068fc378daa952ba7f163c...</td>\n",
       "      <td>0xe44e66a8f2d56f11bbac9545416b0e004a693adcc21c...</td>\n",
       "      <td>0x66</td>\n",
       "      <td>10.330483</td>\n",
       "      <td>0x14fbca95be7e99c15cc2996c6c9d841e54b79425</td>\n",
       "      <td>0x567d22a7fbc98ee72318e14332c25d612a65c858</td>\n",
       "      <td>MKR</td>\n",
       "      <td>0x9f8F72aA9304c8B593d555F12eF6589cC3A579A2</td>\n",
       "    </tr>\n",
       "    <tr>\n",
       "      <th>918</th>\n",
       "      <td>0x9f8f72aa9304c8b593d555f12ef6589cc3a579a2</td>\n",
       "      <td>0xe72cbf7776945ef511d0123cde248c3109a73c17adcb...</td>\n",
       "      <td>0x4e143b</td>\n",
       "      <td>0x00000000000000000000000000000000000000000000...</td>\n",
       "      <td>0x9</td>\n",
       "      <td>False</td>\n",
       "      <td>[0xddf252ad1be2c89b69c2b068fc378daa952ba7f163c...</td>\n",
       "      <td>0x669921c1890a8ca9aa4c75bcab98db79cecf68d6b698...</td>\n",
       "      <td>0xb</td>\n",
       "      <td>0.392000</td>\n",
       "      <td>0xf73c3c65bde10bf26c2e1763104e609a41702efe</td>\n",
       "      <td>0x03dfcc240c6c86e42e9efe79a437b3fbb800f675</td>\n",
       "      <td>MKR</td>\n",
       "      <td>0x9f8F72aA9304c8B593d555F12eF6589cC3A579A2</td>\n",
       "    </tr>\n",
       "  </tbody>\n",
       "</table>\n",
       "</div>"
      ],
      "text/plain": [
       "                                        address  \\\n",
       "914  0x9f8f72aa9304c8b593d555f12ef6589cc3a579a2   \n",
       "915  0x9f8f72aa9304c8b593d555f12ef6589cc3a579a2   \n",
       "916  0x9f8f72aa9304c8b593d555f12ef6589cc3a579a2   \n",
       "917  0x9f8f72aa9304c8b593d555f12ef6589cc3a579a2   \n",
       "918  0x9f8f72aa9304c8b593d555f12ef6589cc3a579a2   \n",
       "\n",
       "                                             blockHash blockNumber  \\\n",
       "914  0x421c5d48d8f9a934cd2bf8e0dd214aded986408cb366...    0x4e10ab   \n",
       "915  0x74700da0d8dbcebc42a8518fc8ab97a22b3075ee487b...    0x4e1140   \n",
       "916  0xe1dafdacfabc852e7387e787ee0795abe7793de66a80...    0x4e116e   \n",
       "917  0xe7c38cf2f597e8946693e243c39c69d66f77af4b1e61...    0x4e1431   \n",
       "918  0xe72cbf7776945ef511d0123cde248c3109a73c17adcb...    0x4e143b   \n",
       "\n",
       "                                                  data logIndex  removed  \\\n",
       "914  0x00000000000000000000000000000000000000000000...     0x2f    False   \n",
       "915  0x00000000000000000000000000000000000000000000...     0x57    False   \n",
       "916  0x00000000000000000000000000000000000000000000...     0x14    False   \n",
       "917  0x00000000000000000000000000000000000000000000...     0x40    False   \n",
       "918  0x00000000000000000000000000000000000000000000...      0x9    False   \n",
       "\n",
       "                                                topics  \\\n",
       "914  [0xddf252ad1be2c89b69c2b068fc378daa952ba7f163c...   \n",
       "915  [0xddf252ad1be2c89b69c2b068fc378daa952ba7f163c...   \n",
       "916  [0xddf252ad1be2c89b69c2b068fc378daa952ba7f163c...   \n",
       "917  [0xddf252ad1be2c89b69c2b068fc378daa952ba7f163c...   \n",
       "918  [0xddf252ad1be2c89b69c2b068fc378daa952ba7f163c...   \n",
       "\n",
       "                                       transactionHash transactionIndex  \\\n",
       "914  0x3a22ff68b42dbb3d818558ba7dad842de8705af0f427...             0x48   \n",
       "915  0xabaad2ca67362893991cfb99c0be900427560a34962d...             0x6d   \n",
       "916  0xd51bc6bf20be318eb25232edf18269f831e156a45a32...             0x21   \n",
       "917  0xe44e66a8f2d56f11bbac9545416b0e004a693adcc21c...             0x66   \n",
       "918  0x669921c1890a8ca9aa4c75bcab98db79cecf68d6b698...              0xb   \n",
       "\n",
       "        amount                                        from  \\\n",
       "914   2.000000  0x3dc389e0a69d6364a66ab64ebd51234da9569284   \n",
       "915   0.000004  0xa6248072f3f3aa2610c4e25a7d28294faaf3ae53   \n",
       "916   2.000000  0x14fbca95be7e99c15cc2996c6c9d841e54b79425   \n",
       "917  10.330483  0x14fbca95be7e99c15cc2996c6c9d841e54b79425   \n",
       "918   0.392000  0xf73c3c65bde10bf26c2e1763104e609a41702efe   \n",
       "\n",
       "                                             to token  \\\n",
       "914  0x14fbca95be7e99c15cc2996c6c9d841e54b79425   MKR   \n",
       "915  0x69076e44a9c70a67d5b79d95795aba299083c275   MKR   \n",
       "916  0x3dc389e0a69d6364a66ab64ebd51234da9569284   MKR   \n",
       "917  0x567d22a7fbc98ee72318e14332c25d612a65c858   MKR   \n",
       "918  0x03dfcc240c6c86e42e9efe79a437b3fbb800f675   MKR   \n",
       "\n",
       "                                  token_address  \n",
       "914  0x9f8F72aA9304c8B593d555F12eF6589cC3A579A2  \n",
       "915  0x9f8F72aA9304c8B593d555F12eF6589cC3A579A2  \n",
       "916  0x9f8F72aA9304c8B593d555F12eF6589cC3A579A2  \n",
       "917  0x9f8F72aA9304c8B593d555F12eF6589cC3A579A2  \n",
       "918  0x9f8F72aA9304c8B593d555F12eF6589cC3A579A2  "
      ]
     },
     "execution_count": 88,
     "metadata": {},
     "output_type": "execute_result"
    }
   ],
   "source": [
    "txns.tail()"
   ]
  },
  {
   "cell_type": "code",
   "execution_count": 95,
   "metadata": {},
   "outputs": [
    {
     "data": {
      "text/html": [
       "<div>\n",
       "<style>\n",
       "    .dataframe thead tr:only-child th {\n",
       "        text-align: right;\n",
       "    }\n",
       "\n",
       "    .dataframe thead th {\n",
       "        text-align: left;\n",
       "    }\n",
       "\n",
       "    .dataframe tbody tr th {\n",
       "        vertical-align: top;\n",
       "    }\n",
       "</style>\n",
       "<table border=\"1\" class=\"dataframe\">\n",
       "  <thead>\n",
       "    <tr style=\"text-align: right;\">\n",
       "      <th></th>\n",
       "      <th>amount</th>\n",
       "    </tr>\n",
       "  </thead>\n",
       "  <tbody>\n",
       "    <tr>\n",
       "      <th>count</th>\n",
       "      <td>919.000000</td>\n",
       "    </tr>\n",
       "    <tr>\n",
       "      <th>mean</th>\n",
       "      <td>12519.638884</td>\n",
       "    </tr>\n",
       "    <tr>\n",
       "      <th>std</th>\n",
       "      <td>14858.223519</td>\n",
       "    </tr>\n",
       "    <tr>\n",
       "      <th>min</th>\n",
       "      <td>0.000000</td>\n",
       "    </tr>\n",
       "    <tr>\n",
       "      <th>25%</th>\n",
       "      <td>19.167463</td>\n",
       "    </tr>\n",
       "    <tr>\n",
       "      <th>50%</th>\n",
       "      <td>1878.000000</td>\n",
       "    </tr>\n",
       "    <tr>\n",
       "      <th>75%</th>\n",
       "      <td>33822.538323</td>\n",
       "    </tr>\n",
       "    <tr>\n",
       "      <th>max</th>\n",
       "      <td>100000.000000</td>\n",
       "    </tr>\n",
       "  </tbody>\n",
       "</table>\n",
       "</div>"
      ],
      "text/plain": [
       "              amount\n",
       "count     919.000000\n",
       "mean    12519.638884\n",
       "std     14858.223519\n",
       "min         0.000000\n",
       "25%        19.167463\n",
       "50%      1878.000000\n",
       "75%     33822.538323\n",
       "max    100000.000000"
      ]
     },
     "execution_count": 95,
     "metadata": {},
     "output_type": "execute_result"
    }
   ],
   "source": [
    "txns.describe()"
   ]
  },
  {
   "cell_type": "code",
   "execution_count": 89,
   "metadata": {},
   "outputs": [
    {
     "data": {
      "text/html": [
       "<div>\n",
       "<style>\n",
       "    .dataframe thead tr:only-child th {\n",
       "        text-align: right;\n",
       "    }\n",
       "\n",
       "    .dataframe thead th {\n",
       "        text-align: left;\n",
       "    }\n",
       "\n",
       "    .dataframe tbody tr th {\n",
       "        vertical-align: top;\n",
       "    }\n",
       "</style>\n",
       "<table border=\"1\" class=\"dataframe\">\n",
       "  <thead>\n",
       "    <tr style=\"text-align: right;\">\n",
       "      <th></th>\n",
       "      <th>amount</th>\n",
       "    </tr>\n",
       "  </thead>\n",
       "  <tbody>\n",
       "    <tr>\n",
       "      <th>count</th>\n",
       "      <td>721.000000</td>\n",
       "    </tr>\n",
       "    <tr>\n",
       "      <th>mean</th>\n",
       "      <td>15955.944106</td>\n",
       "    </tr>\n",
       "    <tr>\n",
       "      <th>std</th>\n",
       "      <td>15053.047231</td>\n",
       "    </tr>\n",
       "    <tr>\n",
       "      <th>min</th>\n",
       "      <td>0.000000</td>\n",
       "    </tr>\n",
       "    <tr>\n",
       "      <th>25%</th>\n",
       "      <td>946.773799</td>\n",
       "    </tr>\n",
       "    <tr>\n",
       "      <th>50%</th>\n",
       "      <td>11111.000000</td>\n",
       "    </tr>\n",
       "    <tr>\n",
       "      <th>75%</th>\n",
       "      <td>34000.000000</td>\n",
       "    </tr>\n",
       "    <tr>\n",
       "      <th>max</th>\n",
       "      <td>100000.000000</td>\n",
       "    </tr>\n",
       "  </tbody>\n",
       "</table>\n",
       "</div>"
      ],
      "text/plain": [
       "              amount\n",
       "count     721.000000\n",
       "mean    15955.944106\n",
       "std     15053.047231\n",
       "min         0.000000\n",
       "25%       946.773799\n",
       "50%     11111.000000\n",
       "75%     34000.000000\n",
       "max    100000.000000"
      ]
     },
     "execution_count": 89,
     "metadata": {},
     "output_type": "execute_result"
    }
   ],
   "source": [
    "txns[txns['token']=='DAI'].describe()"
   ]
  },
  {
   "cell_type": "code",
   "execution_count": 90,
   "metadata": {},
   "outputs": [
    {
     "data": {
      "text/html": [
       "<div>\n",
       "<style>\n",
       "    .dataframe thead tr:only-child th {\n",
       "        text-align: right;\n",
       "    }\n",
       "\n",
       "    .dataframe thead th {\n",
       "        text-align: left;\n",
       "    }\n",
       "\n",
       "    .dataframe tbody tr th {\n",
       "        vertical-align: top;\n",
       "    }\n",
       "</style>\n",
       "<table border=\"1\" class=\"dataframe\">\n",
       "  <thead>\n",
       "    <tr style=\"text-align: right;\">\n",
       "      <th></th>\n",
       "      <th>amount</th>\n",
       "    </tr>\n",
       "  </thead>\n",
       "  <tbody>\n",
       "    <tr>\n",
       "      <th>count</th>\n",
       "      <td>198.000000</td>\n",
       "    </tr>\n",
       "    <tr>\n",
       "      <th>mean</th>\n",
       "      <td>6.628454</td>\n",
       "    </tr>\n",
       "    <tr>\n",
       "      <th>std</th>\n",
       "      <td>47.209132</td>\n",
       "    </tr>\n",
       "    <tr>\n",
       "      <th>min</th>\n",
       "      <td>0.000000</td>\n",
       "    </tr>\n",
       "    <tr>\n",
       "      <th>25%</th>\n",
       "      <td>0.127000</td>\n",
       "    </tr>\n",
       "    <tr>\n",
       "      <th>50%</th>\n",
       "      <td>1.124710</td>\n",
       "    </tr>\n",
       "    <tr>\n",
       "      <th>75%</th>\n",
       "      <td>2.343300</td>\n",
       "    </tr>\n",
       "    <tr>\n",
       "      <th>max</th>\n",
       "      <td>660.614487</td>\n",
       "    </tr>\n",
       "  </tbody>\n",
       "</table>\n",
       "</div>"
      ],
      "text/plain": [
       "           amount\n",
       "count  198.000000\n",
       "mean     6.628454\n",
       "std     47.209132\n",
       "min      0.000000\n",
       "25%      0.127000\n",
       "50%      1.124710\n",
       "75%      2.343300\n",
       "max    660.614487"
      ]
     },
     "execution_count": 90,
     "metadata": {},
     "output_type": "execute_result"
    }
   ],
   "source": [
    "txns[txns['token']=='MKR'].describe()"
   ]
  },
  {
   "cell_type": "code",
   "execution_count": 91,
   "metadata": {
    "collapsed": true
   },
   "outputs": [],
   "source": [
    "%matplotlib inline"
   ]
  },
  {
   "cell_type": "code",
   "execution_count": 92,
   "metadata": {},
   "outputs": [
    {
     "data": {
      "text/plain": [
       "<matplotlib.axes._subplots.AxesSubplot at 0x1152aa198>"
      ]
     },
     "execution_count": 92,
     "metadata": {},
     "output_type": "execute_result"
    },
    {
     "data": {
      "image/png": "[encoded data removed]",
      "text/plain": [
       "<matplotlib.figure.Figure at 0x11529ca58>"
      ]
     },
     "metadata": {},
     "output_type": "display_data"
    }
   ],
   "source": [
    "txns[txns['token']=='DAI'].amount.apply(lambda x: np.clip(np.log(x), -5,15)).hist()"
   ]
  },
  {
   "cell_type": "code",
   "execution_count": 93,
   "metadata": {},
   "outputs": [
    {
     "data": {
      "text/plain": [
       "<matplotlib.axes._subplots.AxesSubplot at 0x1152aae80>"
      ]
     },
     "execution_count": 93,
     "metadata": {},
     "output_type": "execute_result"
    },
    {
     "data": {
      "image/png": "[encoded data removed]",
      "text/plain": [
       "<matplotlib.figure.Figure at 0x1152d3a90>"
      ]
     },
     "metadata": {},
     "output_type": "display_data"
    }
   ],
   "source": [
    "txns[txns['token']=='DAI'].amount.apply(lambda x: np.clip(np.log(x), -5,15)).hist()"
   ]
  },
  {
   "cell_type": "code",
   "execution_count": 100,
   "metadata": {
    "collapsed": true
   },
   "outputs": [],
   "source": [
    "ufrom =txns['from'].unique()\n",
    "uto = txns['to'].unique()\n",
    "\n",
    "uboth = [val for val in ufrom if val in uto]\n"
   ]
  },
  {
   "cell_type": "code",
   "execution_count": 101,
   "metadata": {},
   "outputs": [
    {
     "data": {
      "text/plain": [
       "0.36607142857142855"
      ]
     },
     "execution_count": 101,
     "metadata": {},
     "output_type": "execute_result"
    }
   ],
   "source": [
    "len(uboth)/float(len(ufrom)+len(uto)-len(uboth))"
   ]
  },
  {
   "cell_type": "code",
   "execution_count": null,
   "metadata": {
    "collapsed": true
   },
   "outputs": [],
   "source": []
  }
 ],
 "metadata": {
  "kernelspec": {
   "display_name": "Python 3",
   "language": "python",
   "name": "python3"
  },
  "language_info": {
   "codemirror_mode": {
    "name": "ipython",
    "version": 3
   },
   "file_extension": ".py",
   "mimetype": "text/x-python",
   "name": "python",
   "nbconvert_exporter": "python",
   "pygments_lexer": "ipython3",
   "version": "3.6.3"
  }
 },
 "nbformat": 4,
 "nbformat_minor": 2
}
