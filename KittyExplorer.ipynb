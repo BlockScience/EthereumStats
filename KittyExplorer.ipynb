{
 "cells": [
  {
   "cell_type": "code",
   "execution_count": 428,
   "metadata": {
    "collapsed": true
   },
   "outputs": [],
   "source": [
    "import requests, json\n",
    "import pandas as pd\n",
    "import numpy as np\n",
    "%matplotlib inline\n",
    "SESSION = requests.Session()\n",
    "f = open(\"bs_node_ip.txt\",\"r\")\n",
    "RPC_HOST = f.readline()\n",
    "RPC_HOST = str.replace(RPC_HOST,'\\n','')\n",
    "RPC_PORT = '8545'\n",
    "RPC_URL = 'http://'+RPC_HOST+':'+RPC_PORT\n",
    "pd.set_option('max_colwidth', 70)"
   ]
  },
  {
   "cell_type": "markdown",
   "metadata": {},
   "source": [
    "## Basic JSON downloading"
   ]
  },
  {
   "cell_type": "code",
   "execution_count": 333,
   "metadata": {
    "collapsed": true
   },
   "outputs": [],
   "source": [
    "def getJSON(url, d=None):\n",
    "    h = {\"Content-Type\": \"application/json\"}\n",
    "    if d is None:\n",
    "        r = SESSION.get(url, headers=h)\n",
    "    else:\n",
    "        r = SESSION.post(url, data=d, headers=h)\n",
    "    json_data = r.text\n",
    "    response = json.loads(json_data)\n",
    "    return response"
   ]
  },
  {
   "cell_type": "code",
   "execution_count": 334,
   "metadata": {
    "collapsed": true
   },
   "outputs": [],
   "source": [
    "def getRawJSON(url, d=None):\n",
    "    h = {\"Content-Type\": \"application/json\"}\n",
    "    if d is None:\n",
    "        r = SESSION.get(url, headers=h)\n",
    "    else:\n",
    "        r = SESSION.post(url, data=d, headers=h)\n",
    "    json_data = r.text\n",
    "    return json_data"
   ]
  },
  {
   "cell_type": "code",
   "execution_count": 335,
   "metadata": {
    "collapsed": true
   },
   "outputs": [],
   "source": [
    "# test if the getJSON function supports GET requests\n",
    "# getJSON('https://api.etherscan.io/api?module=account&action=balance&address=0xde0b295669a9fd93d5f28d9ec85e40f4cb697bae&tag=latest&apikey=YourApiKeyToken')"
   ]
  },
  {
   "cell_type": "code",
   "execution_count": 336,
   "metadata": {
    "collapsed": true
   },
   "outputs": [],
   "source": [
    "# test if the getJSON function supports POST requests\n",
    "# getJSON(RPC_URL,'{\"jsonrpc\":\"2.0\",\"method\":\"eth_syncing\",\"params\":[],\"id\":1}')"
   ]
  },
  {
   "cell_type": "markdown",
   "metadata": {},
   "source": [
    "## Consensys EthJsonRpc Package"
   ]
  },
  {
   "cell_type": "markdown",
   "metadata": {},
   "source": [
    "I wasn't able to quickly make the package work on Python 3"
   ]
  },
  {
   "cell_type": "code",
   "execution_count": 337,
   "metadata": {
    "collapsed": true
   },
   "outputs": [],
   "source": [
    "# from ethjsonrpc import EthJsonRpc\n",
    "# c = EthJsonRpc('35.196.250.157', 8545)\n",
    "# print(c.net_version())\n",
    "# print(c.web3_clientVersion())\n",
    "# print(c.eth_gasPrice())"
   ]
  },
  {
   "cell_type": "markdown",
   "metadata": {},
   "source": [
    "So I began copying their functions. Most of them still need testing. Ideally we should fork and make our own package compatible with Python 3"
   ]
  },
  {
   "cell_type": "code",
   "execution_count": 338,
   "metadata": {
    "collapsed": true
   },
   "outputs": [],
   "source": [
    "# FROM https://github.com/ConsenSys/ethjsonrpc/blob/master/ethjsonrpc/utils.py\n",
    "def hex_to_dec(x):\n",
    "    '''\n",
    "    Convert hex to decimal\n",
    "    '''\n",
    "    return int(x, 16)"
   ]
  },
  {
   "cell_type": "code",
   "execution_count": 339,
   "metadata": {
    "collapsed": true
   },
   "outputs": [],
   "source": [
    "# FROM https://github.com/ConsenSys/ethjsonrpc/blob/master/ethjsonrpc/utils.py\n",
    "def clean_hex(d):\n",
    "    '''\n",
    "    Convert decimal to hex and remove the \"L\" suffix that is appended to large\n",
    "    numbers\n",
    "    '''\n",
    "    return hex(d).rstrip('L')"
   ]
  },
  {
   "cell_type": "code",
   "execution_count": 340,
   "metadata": {
    "collapsed": true
   },
   "outputs": [],
   "source": [
    "# FROM https://github.com/ConsenSys/ethjsonrpc/blob/master/ethjsonrpc/utils.py\n",
    "def validate_block(block):\n",
    "#     doesn't work on Python 3\n",
    "#     if isinstance(block, basestring):\n",
    "#         if block not in BLOCK_TAGS:\n",
    "#             raise ValueError('invalid block tag')\n",
    "    if isinstance(block, int):\n",
    "        block = hex(block)\n",
    "    return block"
   ]
  },
  {
   "cell_type": "code",
   "execution_count": 341,
   "metadata": {
    "collapsed": true
   },
   "outputs": [],
   "source": [
    "# FROM https://github.com/ConsenSys/ethjsonrpc/blob/master/ethjsonrpc/utils.py\n",
    "def wei_to_ether(wei):\n",
    "    '''\n",
    "    Convert wei to ether\n",
    "    '''\n",
    "    return 1.0 * wei / 10**18"
   ]
  },
  {
   "cell_type": "code",
   "execution_count": 342,
   "metadata": {
    "collapsed": true
   },
   "outputs": [],
   "source": [
    "# FROM https://github.com/ConsenSys/ethjsonrpc/blob/master/ethjsonrpc/utils.py\n",
    "def ether_to_wei(ether):\n",
    "    '''\n",
    "    Convert ether to wei\n",
    "    '''\n",
    "    return ether * 10**18"
   ]
  },
  {
   "cell_type": "code",
   "execution_count": 343,
   "metadata": {
    "collapsed": true
   },
   "outputs": [],
   "source": [
    "# FROM: https://github.com/ConsenSys/ethjsonrpc/blob/master/ethjsonrpc/exceptions.py\n",
    "class EthJsonRpcError(Exception):\n",
    "    pass\n",
    "class ConnectionError(EthJsonRpcError):\n",
    "    pass\n",
    "class BadStatusCodeError(EthJsonRpcError):\n",
    "    pass\n",
    "class BadJsonError(EthJsonRpcError):\n",
    "    pass\n",
    "class BadResponseError(EthJsonRpcError):\n",
    "    pass"
   ]
  },
  {
   "cell_type": "code",
   "execution_count": 344,
   "metadata": {
    "collapsed": true
   },
   "outputs": [],
   "source": [
    "# FROM: https://github.com/ConsenSys/ethjsonrpc/blob/master/ethjsonrpc/client.py\n",
    "BLOCK_TAG_EARLIEST = 'earliest'\n",
    "BLOCK_TAG_LATEST   = 'latest'\n",
    "BLOCK_TAG_PENDING  = 'pending'\n",
    "BLOCK_TAGS = (\n",
    "    BLOCK_TAG_EARLIEST,\n",
    "    BLOCK_TAG_LATEST,\n",
    "    BLOCK_TAG_PENDING,\n",
    ")"
   ]
  },
  {
   "cell_type": "code",
   "execution_count": 345,
   "metadata": {
    "collapsed": true
   },
   "outputs": [],
   "source": [
    "# FROM: https://github.com/ConsenSys/ethjsonrpc/blob/master/ethjsonrpc/client.py\n",
    "def _call(method, params=None, _id=1):\n",
    "    params = params or []\n",
    "    data = {\n",
    "        'jsonrpc': '2.0',\n",
    "        'method':  method,\n",
    "        'params':  params,\n",
    "        'id':      _id,\n",
    "    }\n",
    "    scheme = 'http'\n",
    "#     if tls:\n",
    "#         scheme += 's'\n",
    "    url = '{}://{}:{}'.format(scheme, RPC_HOST, RPC_PORT)\n",
    "    headers = {'Content-Type': 'application/json'}\n",
    "    try:\n",
    "        r = SESSION.post(url, headers=headers, data=json.dumps(data))\n",
    "    except RequestsConnectionError:\n",
    "        raise ConnectionError\n",
    "    if r.status_code / 100 != 2:\n",
    "        raise BadStatusCodeError(r.status_code)\n",
    "    try:\n",
    "        response = r.json()\n",
    "    except ValueError:\n",
    "        raise BadJsonError(r.text)\n",
    "    try:\n",
    "        return response['result']\n",
    "    except KeyError:\n",
    "        raise BadResponseError(response)"
   ]
  },
  {
   "cell_type": "code",
   "execution_count": 346,
   "metadata": {
    "collapsed": true
   },
   "outputs": [],
   "source": [
    "################################################################################\n",
    "# high-level methods\n",
    "################################################################################"
   ]
  },
  {
   "cell_type": "code",
   "execution_count": 347,
   "metadata": {
    "collapsed": true
   },
   "outputs": [],
   "source": [
    "# FROM: https://github.com/ConsenSys/ethjsonrpc/blob/master/ethjsonrpc/client.py\n",
    "def transfer(from_, to, amount):\n",
    "    '''\n",
    "    Send wei from one address to another\n",
    "    '''\n",
    "    return eth_sendTransaction(from_address=from_, to_address=to, value=amount)"
   ]
  },
  {
   "cell_type": "code",
   "execution_count": 348,
   "metadata": {
    "collapsed": true
   },
   "outputs": [],
   "source": [
    "# FROM: https://github.com/ConsenSys/ethjsonrpc/blob/master/ethjsonrpc/client.py\n",
    "def create_contract(from_, code, gas, sig=None, args=None):\n",
    "    '''\n",
    "    Create a contract on the blockchain from compiled EVM code. Returns the\n",
    "    transaction hash.\n",
    "    '''\n",
    "    from_ = from_ or eth_coinbase()\n",
    "    if sig is not None and args is not None:\n",
    "         types = sig[sig.find('(') + 1: sig.find(')')].split(',')\n",
    "         encoded_params = encode_abi(types, args)\n",
    "         code += encoded_params.encode('hex')\n",
    "    return eth_sendTransaction(from_address=from_, gas=gas, data=code)"
   ]
  },
  {
   "cell_type": "code",
   "execution_count": 349,
   "metadata": {
    "collapsed": true
   },
   "outputs": [],
   "source": [
    "# FROM: https://github.com/ConsenSys/ethjsonrpc/blob/master/ethjsonrpc/client.py\n",
    "def get_contract_address(tx):\n",
    "    '''\n",
    "    Get the address for a contract from the transaction that created it\n",
    "    '''\n",
    "    receipt = eth_getTransactionReceipt(tx)\n",
    "    return receipt['contractAddress']"
   ]
  },
  {
   "cell_type": "code",
   "execution_count": 350,
   "metadata": {
    "collapsed": true
   },
   "outputs": [],
   "source": [
    "# FROM: https://github.com/ConsenSys/ethjsonrpc/blob/master/ethjsonrpc/client.py\n",
    "def call(address, sig, args, result_types):\n",
    "    '''\n",
    "    Call a contract function on the RPC server, without sending a\n",
    "    transaction (useful for reading data)\n",
    "    '''\n",
    "    data = _encode_function(sig, args)\n",
    "    data_hex = data.encode('hex')\n",
    "    response = eth_call(to_address=address, data=data_hex)\n",
    "    return decode_abi(result_types, response[2:].decode('hex'))"
   ]
  },
  {
   "cell_type": "code",
   "execution_count": 351,
   "metadata": {
    "collapsed": true
   },
   "outputs": [],
   "source": [
    "# FROM: https://github.com/ConsenSys/ethjsonrpc/blob/master/ethjsonrpc/client.py\n",
    "def call_with_transaction(from_, address, sig, args, gas=None, gas_price=None, value=None):\n",
    "    '''\n",
    "    Call a contract function by sending a transaction (useful for storing\n",
    "    data)\n",
    "    '''\n",
    "    gas = gas or DEFAULT_GAS_PER_TX\n",
    "    gas_price = gas_price or DEFAULT_GAS_PRICE\n",
    "    data = _encode_function(sig, args)\n",
    "    data_hex = data.encode('hex')\n",
    "    return eth_sendTransaction(from_address=from_, to_address=address, data=data_hex, gas=gas,\n",
    "                                    gas_price=gas_price, value=value)"
   ]
  },
  {
   "cell_type": "code",
   "execution_count": 352,
   "metadata": {
    "collapsed": true
   },
   "outputs": [],
   "source": [
    "################################################################################\n",
    "# JSON-RPC methods\n",
    "################################################################################"
   ]
  },
  {
   "cell_type": "code",
   "execution_count": 353,
   "metadata": {
    "collapsed": true
   },
   "outputs": [],
   "source": [
    "# FROM: https://github.com/ConsenSys/ethjsonrpc/blob/master/ethjsonrpc/client.py\n",
    "def web3_clientVersion():\n",
    "    '''\n",
    "    https://github.com/ethereum/wiki/wiki/JSON-RPC#web3_clientversion\n",
    "    NEEDS TESTING\n",
    "    '''\n",
    "    return _call('web3_clientVersion')"
   ]
  },
  {
   "cell_type": "code",
   "execution_count": 354,
   "metadata": {
    "collapsed": true
   },
   "outputs": [],
   "source": [
    "# FROM: https://github.com/ConsenSys/ethjsonrpc/blob/master/ethjsonrpc/client.py\n",
    "def web3_sha3(data):\n",
    "    '''\n",
    "    https://github.com/ethereum/wiki/wiki/JSON-RPC#web3_sha3\n",
    "    NEEDS TESTING\n",
    "    '''\n",
    "    data = str(data).encode('hex')\n",
    "    return _call('web3_sha3', [data])"
   ]
  },
  {
   "cell_type": "code",
   "execution_count": 355,
   "metadata": {
    "collapsed": true
   },
   "outputs": [],
   "source": [
    "# FROM: https://github.com/ConsenSys/ethjsonrpc/blob/master/ethjsonrpc/client.py\n",
    "def net_version():\n",
    "    '''\n",
    "    https://github.com/ethereum/wiki/wiki/JSON-RPC#net_version\n",
    "    NEEDS TESTING\n",
    "    '''\n",
    "    return _call('net_version')"
   ]
  },
  {
   "cell_type": "code",
   "execution_count": 356,
   "metadata": {
    "collapsed": true
   },
   "outputs": [],
   "source": [
    "# FROM: https://github.com/ConsenSys/ethjsonrpc/blob/master/ethjsonrpc/client.py\n",
    "def net_listening():\n",
    "    '''\n",
    "    https://github.com/ethereum/wiki/wiki/JSON-RPC#net_listening\n",
    "    NEEDS TESTING\n",
    "    '''\n",
    "    return _call('net_listening')"
   ]
  },
  {
   "cell_type": "code",
   "execution_count": 357,
   "metadata": {
    "collapsed": true
   },
   "outputs": [],
   "source": [
    "# FROM: https://github.com/ConsenSys/ethjsonrpc/blob/master/ethjsonrpc/client.py\n",
    "def net_peerCount():\n",
    "    '''\n",
    "    https://github.com/ethereum/wiki/wiki/JSON-RPC#net_peercount\n",
    "    NEEDS TESTING\n",
    "    '''\n",
    "    return hex_to_dec(_call('net_peerCount'))"
   ]
  },
  {
   "cell_type": "code",
   "execution_count": 358,
   "metadata": {
    "collapsed": true
   },
   "outputs": [],
   "source": [
    "def eth_protocolVersion():\n",
    "    '''\n",
    "    https://github.com/ethereum/wiki/wiki/JSON-RPC#eth_protocolversion\n",
    "    NEEDS TESTING\n",
    "    '''\n",
    "    return _call('eth_protocolVersion')"
   ]
  },
  {
   "cell_type": "code",
   "execution_count": 359,
   "metadata": {
    "collapsed": true
   },
   "outputs": [],
   "source": [
    "# FROM: https://github.com/ConsenSys/ethjsonrpc/blob/master/ethjsonrpc/client.py\n",
    "def eth_syncing():\n",
    "    '''\n",
    "    https://github.com/ethereum/wiki/wiki/JSON-RPC#eth_syncing\n",
    "    TESTED - MARKUS 2018-02-07\n",
    "    '''\n",
    "    return _call('eth_syncing')"
   ]
  },
  {
   "cell_type": "code",
   "execution_count": 360,
   "metadata": {
    "collapsed": true
   },
   "outputs": [],
   "source": [
    "# FROM: https://github.com/ConsenSys/ethjsonrpc/blob/master/ethjsonrpc/client.py\n",
    "def eth_coinbase():\n",
    "    '''\n",
    "    https://github.com/ethereum/wiki/wiki/JSON-RPC#eth_coinbase\n",
    "    NEEDS TESTING\n",
    "    '''\n",
    "    return _call('eth_coinbase')"
   ]
  },
  {
   "cell_type": "code",
   "execution_count": 361,
   "metadata": {
    "collapsed": true
   },
   "outputs": [],
   "source": [
    "# FROM: https://github.com/ConsenSys/ethjsonrpc/blob/master/ethjsonrpc/client.py\n",
    "def eth_mining():\n",
    "    '''\n",
    "    https://github.com/ethereum/wiki/wiki/JSON-RPC#eth_mining\n",
    "    NEEDS TESTING\n",
    "    '''\n",
    "    return _call('eth_mining')"
   ]
  },
  {
   "cell_type": "code",
   "execution_count": 362,
   "metadata": {
    "collapsed": true
   },
   "outputs": [],
   "source": [
    "# FROM: https://github.com/ConsenSys/ethjsonrpc/blob/master/ethjsonrpc/client.py\n",
    "def eth_hashrate():\n",
    "    '''\n",
    "    https://github.com/ethereum/wiki/wiki/JSON-RPC#eth_hashrate\n",
    "    NEEDS TESTING\n",
    "    '''\n",
    "    return hex_to_dec(_call('eth_hashrate'))"
   ]
  },
  {
   "cell_type": "code",
   "execution_count": 363,
   "metadata": {
    "collapsed": true
   },
   "outputs": [],
   "source": [
    "# FROM: https://github.com/ConsenSys/ethjsonrpc/blob/master/ethjsonrpc/client.py\n",
    "def eth_gasPrice():\n",
    "    '''\n",
    "    https://github.com/ethereum/wiki/wiki/JSON-RPC#eth_gasprice\n",
    "    NEEDS TESTING\n",
    "    '''\n",
    "    return hex_to_dec(_call('eth_gasPrice'))"
   ]
  },
  {
   "cell_type": "code",
   "execution_count": 364,
   "metadata": {
    "collapsed": true
   },
   "outputs": [],
   "source": [
    "# FROM: https://github.com/ConsenSys/ethjsonrpc/blob/master/ethjsonrpc/client.py\n",
    "def eth_accounts():\n",
    "    '''\n",
    "    https://github.com/ethereum/wiki/wiki/JSON-RPC#eth_accounts\n",
    "    NEEDS TESTING\n",
    "    '''\n",
    "    return _call('eth_accounts')"
   ]
  },
  {
   "cell_type": "code",
   "execution_count": 365,
   "metadata": {
    "collapsed": true
   },
   "outputs": [],
   "source": [
    "# FROM: https://github.com/ConsenSys/ethjsonrpc/blob/master/ethjsonrpc/client.py\n",
    "def eth_blockNumber():\n",
    "    '''\n",
    "    https://github.com/ethereum/wiki/wiki/JSON-RPC#eth_blocknumber\n",
    "    TESTED - MARKUS 2018-02-07\n",
    "    '''\n",
    "    return hex_to_dec(_call('eth_blockNumber'))"
   ]
  },
  {
   "cell_type": "code",
   "execution_count": 366,
   "metadata": {
    "collapsed": true
   },
   "outputs": [],
   "source": [
    "# FROM: https://github.com/ConsenSys/ethjsonrpc/blob/master/ethjsonrpc/client.py\n",
    "def eth_getBalance(address=None, block=BLOCK_TAG_LATEST):\n",
    "    '''\n",
    "    https://github.com/ethereum/wiki/wiki/JSON-RPC#eth_getbalance\n",
    "    TESTED - MARKUS 2018-02-07\n",
    "    '''\n",
    "    address = address or eth_coinbase()\n",
    "    block = validate_block(block)\n",
    "    return hex_to_dec(_call('eth_getBalance', [address, block]))"
   ]
  },
  {
   "cell_type": "code",
   "execution_count": 367,
   "metadata": {
    "collapsed": true
   },
   "outputs": [],
   "source": [
    "# FROM: https://github.com/ConsenSys/ethjsonrpc/blob/master/ethjsonrpc/client.py\n",
    "def eth_getStorageAt(address=None, position=0, block=BLOCK_TAG_LATEST):\n",
    "    '''\n",
    "    https://github.com/ethereum/wiki/wiki/JSON-RPC#eth_getstorageat\n",
    "    NEEDS TESTING\n",
    "    '''\n",
    "    block = validate_block(block)\n",
    "    return _call('eth_getStorageAt', [address, hex(position), block])"
   ]
  },
  {
   "cell_type": "code",
   "execution_count": 368,
   "metadata": {
    "collapsed": true
   },
   "outputs": [],
   "source": [
    "# FROM: https://github.com/ConsenSys/ethjsonrpc/blob/master/ethjsonrpc/client.py\n",
    "def eth_getTransactionCount(address, block=BLOCK_TAG_LATEST):\n",
    "    '''\n",
    "    https://github.com/ethereum/wiki/wiki/JSON-RPC#eth_gettransactioncount\n",
    "    TESTED - MARKUS 2018-02-07\n",
    "    '''\n",
    "    block = validate_block(block)\n",
    "    return hex_to_dec(_call('eth_getTransactionCount', [address, block]))"
   ]
  },
  {
   "cell_type": "code",
   "execution_count": 369,
   "metadata": {
    "collapsed": true
   },
   "outputs": [],
   "source": [
    "# FROM: https://github.com/ConsenSys/ethjsonrpc/blob/master/ethjsonrpc/client.py\n",
    "def eth_getBlockTransactionCountByHash(block_hash):\n",
    "    '''\n",
    "    https://github.com/ethereum/wiki/wiki/JSON-RPC#eth_getblocktransactioncountbyhash\n",
    "    NEEDS TESTING\n",
    "    '''\n",
    "    return hex_to_dec(_call('eth_getBlockTransactionCountByHash', [block_hash]))"
   ]
  },
  {
   "cell_type": "code",
   "execution_count": 370,
   "metadata": {
    "collapsed": true
   },
   "outputs": [],
   "source": [
    "# FROM: https://github.com/ConsenSys/ethjsonrpc/blob/master/ethjsonrpc/client.py\n",
    "def eth_getBlockTransactionCountByNumber(block=BLOCK_TAG_LATEST):\n",
    "    '''\n",
    "    https://github.com/ethereum/wiki/wiki/JSON-RPC#eth_getblocktransactioncountbynumber\n",
    "    NEEDS TESTING\n",
    "    '''\n",
    "    block = validate_block(block)\n",
    "    return hex_to_dec(_call('eth_getBlockTransactionCountByNumber', [block]))"
   ]
  },
  {
   "cell_type": "code",
   "execution_count": 371,
   "metadata": {
    "collapsed": true
   },
   "outputs": [],
   "source": [
    "# FROM: https://github.com/ConsenSys/ethjsonrpc/blob/master/ethjsonrpc/client.py\n",
    "def eth_getUncleCountByBlockHash(block_hash):\n",
    "    '''\n",
    "    https://github.com/ethereum/wiki/wiki/JSON-RPC#eth_getunclecountbyblockhash\n",
    "    NEEDS TESTING\n",
    "    '''\n",
    "    return hex_to_dec(_call('eth_getUncleCountByBlockHash', [block_hash]))"
   ]
  },
  {
   "cell_type": "code",
   "execution_count": 372,
   "metadata": {
    "collapsed": true
   },
   "outputs": [],
   "source": [
    "# FROM: https://github.com/ConsenSys/ethjsonrpc/blob/master/ethjsonrpc/client.py\n",
    "def eth_getUncleCountByBlockNumber(block=BLOCK_TAG_LATEST):\n",
    "    '''\n",
    "    https://github.com/ethereum/wiki/wiki/JSON-RPC#eth_getunclecountbyblocknumber\n",
    "    NEEDS TESTING\n",
    "    '''\n",
    "    block = validate_block(block)\n",
    "    return hex_to_dec(_call('eth_getUncleCountByBlockNumber', [block]))"
   ]
  },
  {
   "cell_type": "code",
   "execution_count": 373,
   "metadata": {
    "collapsed": true
   },
   "outputs": [],
   "source": [
    "# FROM: https://github.com/ConsenSys/ethjsonrpc/blob/master/ethjsonrpc/client.py\n",
    "def eth_getCode(address, default_block=BLOCK_TAG_LATEST):\n",
    "    '''\n",
    "    https://github.com/ethereum/wiki/wiki/JSON-RPC#eth_getcode\n",
    "    NEEDS TESTING\n",
    "    '''\n",
    "#     doesn't work on Python 3\n",
    "#     if isinstance(default_block, basestring):\n",
    "#         if default_block not in BLOCK_TAGS:\n",
    "#             raise ValueError\n",
    "    return _call('eth_getCode', [address, default_block])"
   ]
  },
  {
   "cell_type": "code",
   "execution_count": 374,
   "metadata": {
    "collapsed": true
   },
   "outputs": [],
   "source": [
    "# FROM: https://github.com/ConsenSys/ethjsonrpc/blob/master/ethjsonrpc/client.py\n",
    "def eth_sign(address, data):\n",
    "    '''\n",
    "    https://github.com/ethereum/wiki/wiki/JSON-RPC#eth_sign\n",
    "    NEEDS TESTING\n",
    "    '''\n",
    "    return _call('eth_sign', [address, data])"
   ]
  },
  {
   "cell_type": "code",
   "execution_count": 375,
   "metadata": {
    "collapsed": true
   },
   "outputs": [],
   "source": [
    "# FROM: https://github.com/ConsenSys/ethjsonrpc/blob/master/ethjsonrpc/client.py\n",
    "def eth_sendTransaction(to_address=None, from_address=None, gas=None, gas_price=None, value=None, data=None,\n",
    "                        nonce=None):\n",
    "    '''\n",
    "    https://github.com/ethereum/wiki/wiki/JSON-RPC#eth_sendtransaction\n",
    "    NEEDS TESTING\n",
    "    '''\n",
    "    params = {}\n",
    "    params['from'] = from_address or eth_coinbase()\n",
    "    if to_address is not None:\n",
    "        params['to'] = to_address\n",
    "    if gas is not None:\n",
    "        params['gas'] = hex(gas)\n",
    "    if gas_price is not None:\n",
    "        params['gasPrice'] = clean_hex(gas_price)\n",
    "    if value is not None:\n",
    "        params['value'] = clean_hex(value)\n",
    "    if data is not None:\n",
    "        params['data'] = data\n",
    "    if nonce is not None:\n",
    "        params['nonce'] = hex(nonce)\n",
    "    return _call('eth_sendTransaction', [params])"
   ]
  },
  {
   "cell_type": "code",
   "execution_count": 376,
   "metadata": {
    "collapsed": true
   },
   "outputs": [],
   "source": [
    "# FROM: https://github.com/ConsenSys/ethjsonrpc/blob/master/ethjsonrpc/client.py\n",
    "def eth_sendRawTransaction(data):\n",
    "    '''\n",
    "    https://github.com/ethereum/wiki/wiki/JSON-RPC#eth_sendrawtransaction\n",
    "    NEEDS TESTING\n",
    "    '''\n",
    "    return _call('eth_sendRawTransaction', [data])"
   ]
  },
  {
   "cell_type": "code",
   "execution_count": 377,
   "metadata": {
    "collapsed": true
   },
   "outputs": [],
   "source": [
    "# FROM: https://github.com/ConsenSys/ethjsonrpc/blob/master/ethjsonrpc/client.py\n",
    "def eth_call(to_address, from_address=None, gas=None, gas_price=None, value=None, data=None,\n",
    "             default_block=BLOCK_TAG_LATEST):\n",
    "    '''\n",
    "    https://github.com/ethereum/wiki/wiki/JSON-RPC#eth_call\n",
    "    NEEDS TESTING\n",
    "    '''\n",
    "#     doesn't work on Python 3\n",
    "#     if isinstance(default_block, basestring):\n",
    "#         if default_block not in BLOCK_TAGS:\n",
    "#             raise ValueError\n",
    "    obj = {}\n",
    "    obj['to'] = to_address\n",
    "    if from_address is not None:\n",
    "        obj['from'] = from_address\n",
    "    if gas is not None:\n",
    "        obj['gas'] = hex(gas)\n",
    "    if gas_price is not None:\n",
    "        obj['gasPrice'] = clean_hex(gas_price)\n",
    "    if value is not None:\n",
    "        obj['value'] = value\n",
    "    if data is not None:\n",
    "        obj['data'] = data\n",
    "    return _call('eth_call', [obj, default_block])"
   ]
  },
  {
   "cell_type": "code",
   "execution_count": 378,
   "metadata": {
    "collapsed": true
   },
   "outputs": [],
   "source": [
    "# FROM: https://github.com/ConsenSys/ethjsonrpc/blob/master/ethjsonrpc/client.py\n",
    "def eth_estimateGas(to_address=None, from_address=None, gas=None, gas_price=None, value=None, data=None,\n",
    "                    default_block=BLOCK_TAG_LATEST):\n",
    "    '''\n",
    "    https://github.com/ethereum/wiki/wiki/JSON-RPC#eth_estimategas\n",
    "    NEEDS TESTING\n",
    "    '''\n",
    "#     doesn't work on Python 3\n",
    "#     if isinstance(default_block, basestring):\n",
    "#         if default_block not in BLOCK_TAGS:\n",
    "#             raise ValueError\n",
    "    obj = {}\n",
    "    if to_address is not None:\n",
    "        obj['to'] = to_address\n",
    "    if from_address is not None:\n",
    "        obj['from'] = from_address\n",
    "    if gas is not None:\n",
    "        obj['gas'] = hex(gas)\n",
    "    if gas_price is not None:\n",
    "        obj['gasPrice'] = clean_hex(gas_price)\n",
    "    if value is not None:\n",
    "        obj['value'] = value\n",
    "    if data is not None:\n",
    "        obj['data'] = data\n",
    "    return hex_to_dec(_call('eth_estimateGas', [obj, default_block]))"
   ]
  },
  {
   "cell_type": "code",
   "execution_count": 379,
   "metadata": {
    "collapsed": true
   },
   "outputs": [],
   "source": [
    "# FROM: https://github.com/ConsenSys/ethjsonrpc/blob/master/ethjsonrpc/client.py\n",
    "def eth_getBlockByHash(block_hash, tx_objects=True):\n",
    "    '''\n",
    "    https://github.com/ethereum/wiki/wiki/JSON-RPC#eth_getblockbyhash\n",
    "    NEEDS TESTING\n",
    "    '''\n",
    "    return _call('eth_getBlockByHash', [block_hash, tx_objects])"
   ]
  },
  {
   "cell_type": "code",
   "execution_count": 380,
   "metadata": {
    "collapsed": true
   },
   "outputs": [],
   "source": [
    "# FROM: https://github.com/ConsenSys/ethjsonrpc/blob/master/ethjsonrpc/client.py\n",
    "def eth_getBlockByNumber(block=BLOCK_TAG_LATEST, tx_objects=True):\n",
    "    '''\n",
    "    https://github.com/ethereum/wiki/wiki/JSON-RPC#eth_getblockbynumber\n",
    "    NEEDS TESTING\n",
    "    '''\n",
    "    block = validate_block(block)\n",
    "    return _call('eth_getBlockByNumber', [block, tx_objects])"
   ]
  },
  {
   "cell_type": "code",
   "execution_count": 381,
   "metadata": {
    "collapsed": true
   },
   "outputs": [],
   "source": [
    "# FROM: https://github.com/ConsenSys/ethjsonrpc/blob/master/ethjsonrpc/client.py\n",
    "def eth_getTransactionByHash(tx_hash):\n",
    "    '''\n",
    "    https://github.com/ethereum/wiki/wiki/JSON-RPC#eth_gettransactionbyhash\n",
    "    NEEDS TESTING\n",
    "    '''\n",
    "    return _call('eth_getTransactionByHash', [tx_hash])"
   ]
  },
  {
   "cell_type": "code",
   "execution_count": 382,
   "metadata": {
    "collapsed": true
   },
   "outputs": [],
   "source": [
    "# FROM: https://github.com/ConsenSys/ethjsonrpc/blob/master/ethjsonrpc/client.py\n",
    "def eth_getTransactionByBlockHashAndIndex(block_hash, index=0):\n",
    "    '''\n",
    "    https://github.com/ethereum/wiki/wiki/JSON-RPC#eth_gettransactionbyblockhashandindex\n",
    "    NEEDS TESTING\n",
    "    '''\n",
    "    return _call('eth_getTransactionByBlockHashAndIndex', [block_hash, hex(index)])"
   ]
  },
  {
   "cell_type": "code",
   "execution_count": 383,
   "metadata": {
    "collapsed": true
   },
   "outputs": [],
   "source": [
    "# FROM: https://github.com/ConsenSys/ethjsonrpc/blob/master/ethjsonrpc/client.py\n",
    "def eth_getTransactionByBlockNumberAndIndex(block=BLOCK_TAG_LATEST, index=0):\n",
    "    '''\n",
    "    https://github.com/ethereum/wiki/wiki/JSON-RPC#eth_gettransactionbyblocknumberandindex\n",
    "    NEEDS TESTING\n",
    "    '''\n",
    "    block = validate_block(block)\n",
    "    return _call('eth_getTransactionByBlockNumberAndIndex', [block, hex(index)])"
   ]
  },
  {
   "cell_type": "code",
   "execution_count": 384,
   "metadata": {
    "collapsed": true
   },
   "outputs": [],
   "source": [
    "# FROM: https://github.com/ConsenSys/ethjsonrpc/blob/master/ethjsonrpc/client.py\n",
    "def eth_getTransactionReceipt(tx_hash):\n",
    "    '''\n",
    "    https://github.com/ethereum/wiki/wiki/JSON-RPC#eth_gettransactionreceipt\n",
    "    NEEDS TESTING\n",
    "    '''\n",
    "    return _call('eth_getTransactionReceipt', [tx_hash])"
   ]
  },
  {
   "cell_type": "code",
   "execution_count": 385,
   "metadata": {
    "collapsed": true
   },
   "outputs": [],
   "source": [
    "# FROM: https://github.com/ConsenSys/ethjsonrpc/blob/master/ethjsonrpc/client.py\n",
    "def eth_getUncleByBlockHashAndIndex(block_hash, index=0):\n",
    "    '''\n",
    "    https://github.com/ethereum/wiki/wiki/JSON-RPC#eth_getunclebyblockhashandindex\n",
    "    NEEDS TESTING\n",
    "    '''\n",
    "    return _call('eth_getUncleByBlockHashAndIndex', [block_hash, hex(index)])"
   ]
  },
  {
   "cell_type": "code",
   "execution_count": 386,
   "metadata": {
    "collapsed": true
   },
   "outputs": [],
   "source": [
    "# FROM: https://github.com/ConsenSys/ethjsonrpc/blob/master/ethjsonrpc/client.py\n",
    "def eth_getUncleByBlockNumberAndIndex(block=BLOCK_TAG_LATEST, index=0):\n",
    "    '''\n",
    "    https://github.com/ethereum/wiki/wiki/JSON-RPC#eth_getunclebyblocknumberandindex\n",
    "    NEEDS TESTING\n",
    "    '''\n",
    "    block = validate_block(block)\n",
    "    return _call('eth_getUncleByBlockNumberAndIndex', [block, hex(index)])"
   ]
  },
  {
   "cell_type": "code",
   "execution_count": 387,
   "metadata": {
    "collapsed": true
   },
   "outputs": [],
   "source": [
    "# FROM: https://github.com/ConsenSys/ethjsonrpc/blob/master/ethjsonrpc/client.py\n",
    "def eth_getCompilers():\n",
    "    '''\n",
    "    https://github.com/ethereum/wiki/wiki/JSON-RPC#eth_getcompilers\n",
    "    NEEDS TESTING\n",
    "    '''\n",
    "    return _call('eth_getCompilers')"
   ]
  },
  {
   "cell_type": "code",
   "execution_count": 388,
   "metadata": {
    "collapsed": true
   },
   "outputs": [],
   "source": [
    "# FROM: https://github.com/ConsenSys/ethjsonrpc/blob/master/ethjsonrpc/client.py\n",
    "def eth_compileSolidity(code):\n",
    "    '''\n",
    "    https://github.com/ethereum/wiki/wiki/JSON-RPC#eth_compilesolidity\n",
    "    NEEDS TESTING\n",
    "    '''\n",
    "    return _call('eth_compileSolidity', [code])"
   ]
  },
  {
   "cell_type": "code",
   "execution_count": 389,
   "metadata": {
    "collapsed": true
   },
   "outputs": [],
   "source": [
    "# FROM: https://github.com/ConsenSys/ethjsonrpc/blob/master/ethjsonrpc/client.py\n",
    "def eth_compileLLL(code):\n",
    "    '''\n",
    "    https://github.com/ethereum/wiki/wiki/JSON-RPC#eth_compilelll\n",
    "    N/A\n",
    "    '''\n",
    "    return _call('eth_compileLLL', [code])"
   ]
  },
  {
   "cell_type": "code",
   "execution_count": 390,
   "metadata": {
    "collapsed": true
   },
   "outputs": [],
   "source": [
    "# FROM: https://github.com/ConsenSys/ethjsonrpc/blob/master/ethjsonrpc/client.py\n",
    "def eth_compileSerpent(code):\n",
    "    '''\n",
    "    https://github.com/ethereum/wiki/wiki/JSON-RPC#eth_compileserpent\n",
    "    N/A\n",
    "    '''\n",
    "    return _call('eth_compileSerpent', [code])"
   ]
  },
  {
   "cell_type": "code",
   "execution_count": 391,
   "metadata": {
    "collapsed": true
   },
   "outputs": [],
   "source": [
    "# FROM: https://github.com/ConsenSys/ethjsonrpc/blob/master/ethjsonrpc/client.py\n",
    "def eth_newFilter(from_block=BLOCK_TAG_LATEST, to_block=BLOCK_TAG_LATEST, address=None, topics=None):\n",
    "    '''\n",
    "    https://github.com/ethereum/wiki/wiki/JSON-RPC#eth_newfilter\n",
    "    NEEDS TESTING\n",
    "    '''\n",
    "    _filter = {\n",
    "        'fromBlock': from_block,\n",
    "        'toBlock':   to_block,\n",
    "        'address':   address,\n",
    "        'topics':    topics,\n",
    "    }\n",
    "    return _call('eth_newFilter', [_filter])"
   ]
  },
  {
   "cell_type": "code",
   "execution_count": 392,
   "metadata": {
    "collapsed": true
   },
   "outputs": [],
   "source": [
    "# FROM: https://github.com/ConsenSys/ethjsonrpc/blob/master/ethjsonrpc/client.py\n",
    "def eth_newBlockFilter():\n",
    "    '''\n",
    "    https://github.com/ethereum/wiki/wiki/JSON-RPC#eth_newblockfilter\n",
    "    NEEDS TESTING\n",
    "    '''\n",
    "    return _call('eth_newBlockFilter')"
   ]
  },
  {
   "cell_type": "code",
   "execution_count": 393,
   "metadata": {
    "collapsed": true
   },
   "outputs": [],
   "source": [
    "# FROM: https://github.com/ConsenSys/ethjsonrpc/blob/master/ethjsonrpc/client.py\n",
    "def eth_newPendingTransactionFilter():\n",
    "    '''\n",
    "    https://github.com/ethereum/wiki/wiki/JSON-RPC#eth_newpendingtransactionfilter\n",
    "    NEEDS TESTING\n",
    "    '''\n",
    "    return hex_to_dec(_call('eth_newPendingTransactionFilter'))"
   ]
  },
  {
   "cell_type": "code",
   "execution_count": 394,
   "metadata": {
    "collapsed": true
   },
   "outputs": [],
   "source": [
    "# FROM: https://github.com/ConsenSys/ethjsonrpc/blob/master/ethjsonrpc/client.py\n",
    "def eth_uninstallFilter(filter_id):\n",
    "    '''\n",
    "    https://github.com/ethereum/wiki/wiki/JSON-RPC#eth_uninstallfilter\n",
    "    NEEDS TESTING\n",
    "    '''\n",
    "    return _call('eth_uninstallFilter', [filter_id])"
   ]
  },
  {
   "cell_type": "code",
   "execution_count": 395,
   "metadata": {
    "collapsed": true
   },
   "outputs": [],
   "source": [
    "# FROM: https://github.com/ConsenSys/ethjsonrpc/blob/master/ethjsonrpc/client.py\n",
    "def eth_getFilterChanges(filter_id):\n",
    "    '''\n",
    "    https://github.com/ethereum/wiki/wiki/JSON-RPC#eth_getfilterchanges\n",
    "    NEEDS TESTING\n",
    "    '''\n",
    "    return _call('eth_getFilterChanges', [filter_id])"
   ]
  },
  {
   "cell_type": "code",
   "execution_count": 396,
   "metadata": {
    "collapsed": true
   },
   "outputs": [],
   "source": [
    "# FROM: https://github.com/ConsenSys/ethjsonrpc/blob/master/ethjsonrpc/client.py\n",
    "def eth_getFilterLogs(filter_id):\n",
    "    '''\n",
    "    https://github.com/ethereum/wiki/wiki/JSON-RPC#eth_getfilterlogs\n",
    "    NEEDS TESTING\n",
    "    '''\n",
    "    return _call('eth_getFilterLogs', [filter_id])"
   ]
  },
  {
   "cell_type": "code",
   "execution_count": 397,
   "metadata": {
    "collapsed": true
   },
   "outputs": [],
   "source": [
    "#FROM: https://github.com/ConsenSys/ethjsonrpc/blob/master/ethjsonrpc/client.py\n",
    "#def eth_getLogs(filter_object):\n",
    "#    return _call('eth_getLogs', [filter_object])\n",
    "\n",
    "# redefined by Markus 2018-02-08\n",
    "def eth_getLogs(from_block=BLOCK_TAG_LATEST, to_block=BLOCK_TAG_LATEST, address=None, topics=None):\n",
    "    '''\n",
    "    https://github.com/ethereum/wiki/wiki/JSON-RPC#eth_getlogs\n",
    "    TESTED - MARKUS 2018-02-08\n",
    "    '''\n",
    "    _filter = {\n",
    "        'fromBlock': from_block,\n",
    "        'toBlock':   to_block,\n",
    "        'address':   address,\n",
    "        'topics':    topics,\n",
    "    }\n",
    "    return _call('eth_getLogs', [_filter])"
   ]
  },
  {
   "cell_type": "code",
   "execution_count": 398,
   "metadata": {
    "collapsed": true
   },
   "outputs": [],
   "source": [
    "# FROM: https://github.com/ConsenSys/ethjsonrpc/blob/master/ethjsonrpc/client.py\n",
    "def eth_getWork():\n",
    "    '''\n",
    "    https://github.com/ethereum/wiki/wiki/JSON-RPC#eth_getwork\n",
    "    NEEDS TESTING\n",
    "    '''\n",
    "    return _call('eth_getWork')"
   ]
  },
  {
   "cell_type": "code",
   "execution_count": 399,
   "metadata": {
    "collapsed": true
   },
   "outputs": [],
   "source": [
    "# FROM: https://github.com/ConsenSys/ethjsonrpc/blob/master/ethjsonrpc/client.py\n",
    "def eth_submitWork(nonce, header, mix_digest):\n",
    "    '''\n",
    "    https://github.com/ethereum/wiki/wiki/JSON-RPC#eth_submitwork\n",
    "    NEEDS TESTING\n",
    "    '''\n",
    "    return _call('eth_submitWork', [nonce, header, mix_digest])"
   ]
  },
  {
   "cell_type": "code",
   "execution_count": 400,
   "metadata": {
    "collapsed": true
   },
   "outputs": [],
   "source": [
    "# FROM: https://github.com/ConsenSys/ethjsonrpc/blob/master/ethjsonrpc/client.py\n",
    "def eth_submitHashrate(hash_rate, client_id):\n",
    "    '''\n",
    "    https://github.com/ethereum/wiki/wiki/JSON-RPC#eth_submithashrate\n",
    "    NEEDS TESTING\n",
    "    '''\n",
    "    return _call('eth_submitHashrate', [hex(hash_rate), client_id])"
   ]
  },
  {
   "cell_type": "code",
   "execution_count": 401,
   "metadata": {
    "collapsed": true
   },
   "outputs": [],
   "source": [
    "# FROM: https://github.com/ConsenSys/ethjsonrpc/blob/master/ethjsonrpc/client.py\n",
    "def shh_version():\n",
    "    '''\n",
    "    https://github.com/ethereum/wiki/wiki/JSON-RPC#shh_version\n",
    "    N/A\n",
    "    '''\n",
    "    return _call('shh_version')"
   ]
  },
  {
   "cell_type": "code",
   "execution_count": 402,
   "metadata": {
    "collapsed": true
   },
   "outputs": [],
   "source": [
    "# FROM: https://github.com/ConsenSys/ethjsonrpc/blob/master/ethjsonrpc/client.py\n",
    "def shh_post(topics, payload, priority, ttl, from_=None, to=None):\n",
    "    '''\n",
    "    https://github.com/ethereum/wiki/wiki/JSON-RPC#shh_post\n",
    "    NEEDS TESTING\n",
    "    '''\n",
    "    whisper_object = {\n",
    "        'from':     from_,\n",
    "        'to':       to,\n",
    "        'topics':   topics,\n",
    "        'payload':  payload,\n",
    "        'priority': hex(priority),\n",
    "        'ttl':      hex(ttl),\n",
    "    }\n",
    "    return _call('shh_post', [whisper_object])"
   ]
  },
  {
   "cell_type": "code",
   "execution_count": 403,
   "metadata": {
    "collapsed": true
   },
   "outputs": [],
   "source": [
    "# FROM: https://github.com/ConsenSys/ethjsonrpc/blob/master/ethjsonrpc/client.py\n",
    "def shh_newIdentity():\n",
    "    '''\n",
    "    https://github.com/ethereum/wiki/wiki/JSON-RPC#shh_newidentity\n",
    "    N/A\n",
    "    '''\n",
    "    return _call('shh_newIdentity')"
   ]
  },
  {
   "cell_type": "code",
   "execution_count": 404,
   "metadata": {
    "collapsed": true
   },
   "outputs": [],
   "source": [
    "# FROM: https://github.com/ConsenSys/ethjsonrpc/blob/master/ethjsonrpc/client.py\n",
    "def shh_hasIdentity(address):\n",
    "    '''\n",
    "    https://github.com/ethereum/wiki/wiki/JSON-RPC#shh_hasidentity\n",
    "    NEEDS TESTING\n",
    "    '''\n",
    "    return _call('shh_hasIdentity', [address])"
   ]
  },
  {
   "cell_type": "code",
   "execution_count": 405,
   "metadata": {
    "collapsed": true
   },
   "outputs": [],
   "source": [
    "# FROM: https://github.com/ConsenSys/ethjsonrpc/blob/master/ethjsonrpc/client.py\n",
    "def shh_newGroup():\n",
    "    '''\n",
    "    https://github.com/ethereum/wiki/wiki/JSON-RPC#shh_newgroup\n",
    "    N/A\n",
    "    '''\n",
    "    return _call('shh_newGroup')"
   ]
  },
  {
   "cell_type": "code",
   "execution_count": 406,
   "metadata": {
    "collapsed": true
   },
   "outputs": [],
   "source": [
    "# FROM: https://github.com/ConsenSys/ethjsonrpc/blob/master/ethjsonrpc/client.py\n",
    "def shh_addToGroup():\n",
    "    '''\n",
    "    https://github.com/ethereum/wiki/wiki/JSON-RPC#shh_addtogroup\n",
    "    NEEDS TESTING\n",
    "    '''\n",
    "    return _call('shh_addToGroup')"
   ]
  },
  {
   "cell_type": "code",
   "execution_count": 407,
   "metadata": {
    "collapsed": true
   },
   "outputs": [],
   "source": [
    "# FROM: https://github.com/ConsenSys/ethjsonrpc/blob/master/ethjsonrpc/client.py\n",
    "def shh_newFilter(to, topics):\n",
    "    '''\n",
    "    https://github.com/ethereum/wiki/wiki/JSON-RPC#shh_newfilter\n",
    "    NEEDS TESTING\n",
    "    '''\n",
    "    _filter = {\n",
    "        'to':     to,\n",
    "        'topics': topics,\n",
    "    }\n",
    "    return _call('shh_newFilter', [_filter])"
   ]
  },
  {
   "cell_type": "code",
   "execution_count": 408,
   "metadata": {
    "collapsed": true
   },
   "outputs": [],
   "source": [
    "# FROM: https://github.com/ConsenSys/ethjsonrpc/blob/master/ethjsonrpc/client.py\n",
    "def shh_uninstallFilter(filter_id):\n",
    "    '''\n",
    "    https://github.com/ethereum/wiki/wiki/JSON-RPC#shh_uninstallfilter\n",
    "    NEEDS TESTING\n",
    "    '''\n",
    "    return _call('shh_uninstallFilter', [filter_id])"
   ]
  },
  {
   "cell_type": "code",
   "execution_count": 409,
   "metadata": {
    "collapsed": true
   },
   "outputs": [],
   "source": [
    "# FROM: https://github.com/ConsenSys/ethjsonrpc/blob/master/ethjsonrpc/client.py\n",
    "def shh_getFilterChanges(filter_id):\n",
    "    '''\n",
    "    https://github.com/ethereum/wiki/wiki/JSON-RPC#shh_getfilterchanges\n",
    "    NEEDS TESTING\n",
    "    '''\n",
    "    return _call('shh_getFilterChanges', [filter_id])"
   ]
  },
  {
   "cell_type": "code",
   "execution_count": 410,
   "metadata": {
    "collapsed": true
   },
   "outputs": [],
   "source": [
    "# FROM: https://github.com/ConsenSys/ethjsonrpc/blob/master/ethjsonrpc/client.py\n",
    "def shh_getMessages(filter_id):\n",
    "    '''\n",
    "    https://github.com/ethereum/wiki/wiki/JSON-RPC#shh_getmessages\n",
    "    NEEDS TESTING\n",
    "    '''\n",
    "    return _call('shh_getMessages', [filter_id])    "
   ]
  },
  {
   "cell_type": "markdown",
   "metadata": {},
   "source": [
    "# Crypto Kitties Explorer\n",
    "Exploring CryptoKitties data using JSON RPC on the BlockScience geth node"
   ]
  },
  {
   "cell_type": "code",
   "execution_count": 411,
   "metadata": {},
   "outputs": [],
   "source": [
    "# define the addresses of the relevant contracts\n",
    "coreContract = '0x06012c8cf97bead5deae237070f9587f8e7a266d'\n",
    "contracts = {\n",
    "    coreContract : 'core',\n",
    "    '0xc7af99fe5513eb6710e6d5f44f9989da40f27f26' : 'siringAuction',\n",
    "    '0xb1690c08e213a35ed9bab7b318de14420fb57d8c' : 'saleAuction',\n",
    "}\n",
    "\n",
    "# relevant Events signatures\n",
    "events_signatures = {\n",
    "    'AuctionCreated' : 'AuctionCreated(uint256,uint256,uint256,uint256)', # AuctionCreated(uint256 tokenId, uint256 startingPrice, uint256 endingPrice, uint256 duration);\n",
    "    'AuctionSuccessful' : 'AuctionSuccessful(uint256,uint256,address)', # AuctionSuccessful(uint256 tokenId, uint256 totalPrice, address winner);\n",
    "    'AuctionCancelled' : 'AuctionCancelled(uint256)', # AuctionCancelled(uint256 tokenId);\n",
    "    'Pause' : 'Pause()',\n",
    "    'Unpause' : 'Unpause()',\n",
    "    'Transfer' : 'Transfer(address,address,uint256)', # Transfer(address from, address to, uint256 tokenId);\n",
    "    'Approval' : 'Approval(address,address,uint256)', # Approval(address owner, address approved, uint256 tokenId);\n",
    "    'ContractUpgrade' : 'ContractUpgrade(address)',\n",
    "    'Birth' : 'Birth(address,uint256,uint256,uint256,uint256)', # Birth(address owner, uint256 kittyId, uint256 matronId, uint256 sireId, uint256 genes);\n",
    "    'Pregnant' : 'Pregnant(address,uint256,uint256,uint256)' # Pregnant(address owner, uint256 matronId, uint256 sireId, uint256 cooldownEndBlock);\n",
    "}\n",
    "\n",
    "from Crypto.Hash import keccak\n",
    "def keccak256(string):\n",
    "    return keccak.new(digest_bits=256, data=bytes(string, 'utf-8')).hexdigest()\n",
    "\n",
    "events_hashes = {'0x'+keccak256(v): k for k, v in events_signatures.items()}"
   ]
  },
  {
   "cell_type": "code",
   "execution_count": 412,
   "metadata": {},
   "outputs": [
    {
     "name": "stdout",
     "output_type": "stream",
     "text": [
      "AuctionCreated: a9c8dfcda5664a5a124c713e386da27de87432d5b668e79458501eb296389ba7\n",
      "AuctionSuccessful: 4fcc30d90a842164dd58501ab874a101a3749c3d4747139cefe7c876f4ccebd2\n",
      "AuctionCancelled: 2809c7e17bf978fbc7194c0a694b638c4215e9140cacc6c38ca36010b45697df\n",
      "Pause: 6985a02210a168e66602d3235cb6db0e70f92b3ba4d376a33c0f3d9434bff625\n",
      "Unpause: 7805862f689e2f13df9f062ff482ad3ad112aca9e0847911ed832e158c525b33\n",
      "Transfer: ddf252ad1be2c89b69c2b068fc378daa952ba7f163c4a11628f55a4df523b3ef\n",
      "Approval: 8c5be1e5ebec7d5bd14f71427d1e84f3dd0314c0f7b2291e5b200ac8c7c3b925\n",
      "ContractUpgrade: 450db8da6efbe9c22f2347f7c2021231df1fc58d3ae9a2fa75d39fa446199305\n",
      "Birth: 0a5311bd2a6608f08a180df2ee7c5946819a649b204b554bb8e39825b2c50ad5\n",
      "Pregnant: 241ea03ca20251805084d27d4440371c34a0b85ff108f6bb5611248f73818b80\n"
     ]
    }
   ],
   "source": [
    "for event in events_signatures:\n",
    "    print(event + ': ' + keccak256(events_signatures[event]))"
   ]
  },
  {
   "cell_type": "code",
   "execution_count": 413,
   "metadata": {},
   "outputs": [
    {
     "data": {
      "text/html": [
       "<div>\n",
       "<style>\n",
       "    .dataframe thead tr:only-child th {\n",
       "        text-align: right;\n",
       "    }\n",
       "\n",
       "    .dataframe thead th {\n",
       "        text-align: left;\n",
       "    }\n",
       "\n",
       "    .dataframe tbody tr th {\n",
       "        vertical-align: top;\n",
       "    }\n",
       "</style>\n",
       "<table border=\"1\" class=\"dataframe\">\n",
       "  <thead>\n",
       "    <tr style=\"text-align: right;\">\n",
       "      <th></th>\n",
       "      <th>address</th>\n",
       "      <th>blockHash</th>\n",
       "      <th>blockNumber</th>\n",
       "      <th>data</th>\n",
       "      <th>logIndex</th>\n",
       "      <th>removed</th>\n",
       "      <th>topics</th>\n",
       "      <th>transactionHash</th>\n",
       "      <th>transactionIndex</th>\n",
       "      <th>contract</th>\n",
       "      <th>event</th>\n",
       "    </tr>\n",
       "  </thead>\n",
       "  <tbody>\n",
       "    <tr>\n",
       "      <th>0</th>\n",
       "      <td>0x06012c8cf97bead5deae237070f9587f8e7a266d</td>\n",
       "      <td>0x004ce603b20da361ed0e57f771a51df66c7dee6287a1...</td>\n",
       "      <td>0x4ea2bf</td>\n",
       "      <td>0x00000000000000000000000017d0e82ebdef0516e196...</td>\n",
       "      <td>0x5</td>\n",
       "      <td>False</td>\n",
       "      <td>[0x0a5311bd2a6608f08a180df2ee7c5946819a649b204...</td>\n",
       "      <td>0x5d91e6170d1cb8bf9642e4d319b87bd824b17ec52cd6...</td>\n",
       "      <td>0xa</td>\n",
       "      <td>core</td>\n",
       "      <td>Birth</td>\n",
       "    </tr>\n",
       "    <tr>\n",
       "      <th>1</th>\n",
       "      <td>0x06012c8cf97bead5deae237070f9587f8e7a266d</td>\n",
       "      <td>0x004ce603b20da361ed0e57f771a51df66c7dee6287a1...</td>\n",
       "      <td>0x4ea2bf</td>\n",
       "      <td>0x00000000000000000000000000000000000000000000...</td>\n",
       "      <td>0x6</td>\n",
       "      <td>False</td>\n",
       "      <td>[0xddf252ad1be2c89b69c2b068fc378daa952ba7f163c...</td>\n",
       "      <td>0x5d91e6170d1cb8bf9642e4d319b87bd824b17ec52cd6...</td>\n",
       "      <td>0xa</td>\n",
       "      <td>core</td>\n",
       "      <td>Transfer</td>\n",
       "    </tr>\n",
       "    <tr>\n",
       "      <th>2</th>\n",
       "      <td>0x06012c8cf97bead5deae237070f9587f8e7a266d</td>\n",
       "      <td>0x004ce603b20da361ed0e57f771a51df66c7dee6287a1...</td>\n",
       "      <td>0x4ea2bf</td>\n",
       "      <td>0x00000000000000000000000017d0e82ebdef0516e196...</td>\n",
       "      <td>0x7</td>\n",
       "      <td>False</td>\n",
       "      <td>[0x0a5311bd2a6608f08a180df2ee7c5946819a649b204...</td>\n",
       "      <td>0x5d91e6170d1cb8bf9642e4d319b87bd824b17ec52cd6...</td>\n",
       "      <td>0xa</td>\n",
       "      <td>core</td>\n",
       "      <td>Birth</td>\n",
       "    </tr>\n",
       "    <tr>\n",
       "      <th>3</th>\n",
       "      <td>0x06012c8cf97bead5deae237070f9587f8e7a266d</td>\n",
       "      <td>0x004ce603b20da361ed0e57f771a51df66c7dee6287a1...</td>\n",
       "      <td>0x4ea2bf</td>\n",
       "      <td>0x00000000000000000000000000000000000000000000...</td>\n",
       "      <td>0x8</td>\n",
       "      <td>False</td>\n",
       "      <td>[0xddf252ad1be2c89b69c2b068fc378daa952ba7f163c...</td>\n",
       "      <td>0x5d91e6170d1cb8bf9642e4d319b87bd824b17ec52cd6...</td>\n",
       "      <td>0xa</td>\n",
       "      <td>core</td>\n",
       "      <td>Transfer</td>\n",
       "    </tr>\n",
       "    <tr>\n",
       "      <th>4</th>\n",
       "      <td>0x06012c8cf97bead5deae237070f9587f8e7a266d</td>\n",
       "      <td>0x004ce603b20da361ed0e57f771a51df66c7dee6287a1...</td>\n",
       "      <td>0x4ea2bf</td>\n",
       "      <td>0x0000000000000000000000001bf032d01bab6cd4a2d6...</td>\n",
       "      <td>0x9</td>\n",
       "      <td>False</td>\n",
       "      <td>[0x0a5311bd2a6608f08a180df2ee7c5946819a649b204...</td>\n",
       "      <td>0x5d91e6170d1cb8bf9642e4d319b87bd824b17ec52cd6...</td>\n",
       "      <td>0xa</td>\n",
       "      <td>core</td>\n",
       "      <td>Birth</td>\n",
       "    </tr>\n",
       "  </tbody>\n",
       "</table>\n",
       "</div>"
      ],
      "text/plain": [
       "                                      address  \\\n",
       "0  0x06012c8cf97bead5deae237070f9587f8e7a266d   \n",
       "1  0x06012c8cf97bead5deae237070f9587f8e7a266d   \n",
       "2  0x06012c8cf97bead5deae237070f9587f8e7a266d   \n",
       "3  0x06012c8cf97bead5deae237070f9587f8e7a266d   \n",
       "4  0x06012c8cf97bead5deae237070f9587f8e7a266d   \n",
       "\n",
       "                                           blockHash blockNumber  \\\n",
       "0  0x004ce603b20da361ed0e57f771a51df66c7dee6287a1...    0x4ea2bf   \n",
       "1  0x004ce603b20da361ed0e57f771a51df66c7dee6287a1...    0x4ea2bf   \n",
       "2  0x004ce603b20da361ed0e57f771a51df66c7dee6287a1...    0x4ea2bf   \n",
       "3  0x004ce603b20da361ed0e57f771a51df66c7dee6287a1...    0x4ea2bf   \n",
       "4  0x004ce603b20da361ed0e57f771a51df66c7dee6287a1...    0x4ea2bf   \n",
       "\n",
       "                                                data logIndex  removed  \\\n",
       "0  0x00000000000000000000000017d0e82ebdef0516e196...      0x5    False   \n",
       "1  0x00000000000000000000000000000000000000000000...      0x6    False   \n",
       "2  0x00000000000000000000000017d0e82ebdef0516e196...      0x7    False   \n",
       "3  0x00000000000000000000000000000000000000000000...      0x8    False   \n",
       "4  0x0000000000000000000000001bf032d01bab6cd4a2d6...      0x9    False   \n",
       "\n",
       "                                              topics  \\\n",
       "0  [0x0a5311bd2a6608f08a180df2ee7c5946819a649b204...   \n",
       "1  [0xddf252ad1be2c89b69c2b068fc378daa952ba7f163c...   \n",
       "2  [0x0a5311bd2a6608f08a180df2ee7c5946819a649b204...   \n",
       "3  [0xddf252ad1be2c89b69c2b068fc378daa952ba7f163c...   \n",
       "4  [0x0a5311bd2a6608f08a180df2ee7c5946819a649b204...   \n",
       "\n",
       "                                     transactionHash transactionIndex  \\\n",
       "0  0x5d91e6170d1cb8bf9642e4d319b87bd824b17ec52cd6...              0xa   \n",
       "1  0x5d91e6170d1cb8bf9642e4d319b87bd824b17ec52cd6...              0xa   \n",
       "2  0x5d91e6170d1cb8bf9642e4d319b87bd824b17ec52cd6...              0xa   \n",
       "3  0x5d91e6170d1cb8bf9642e4d319b87bd824b17ec52cd6...              0xa   \n",
       "4  0x5d91e6170d1cb8bf9642e4d319b87bd824b17ec52cd6...              0xa   \n",
       "\n",
       "  contract     event  \n",
       "0     core     Birth  \n",
       "1     core  Transfer  \n",
       "2     core     Birth  \n",
       "3     core  Transfer  \n",
       "4     core     Birth  "
      ]
     },
     "execution_count": 413,
     "metadata": {},
     "output_type": "execute_result"
    }
   ],
   "source": [
    "def getEvents(_address, _from_block, _to_block):\n",
    "    json = eth_getLogs(from_block=_from_block, \n",
    "                       to_block=_to_block,\n",
    "                       address=_address)\n",
    "    df = pd.DataFrame.from_dict(json)\n",
    "    df['contract'] = df['address'].apply(lambda x: contracts[x])\n",
    "    df['event'] = df['topics'].apply(lambda x: events_hashes[x[0]])\n",
    "    return df\n",
    "\n",
    "from_block = hex(eth_blockNumber() - 200)\n",
    "to_block = hex(eth_blockNumber())\n",
    "\n",
    "events = None\n",
    "\n",
    "for c in contracts:\n",
    "    if events is None:\n",
    "        events = getEvents(c, from_block, to_block)\n",
    "    else:\n",
    "        e = getEvents(c, from_block, to_block)\n",
    "        events = events.append(e, ignore_index=True)\n",
    "events.head()"
   ]
  },
  {
   "cell_type": "code",
   "execution_count": 414,
   "metadata": {},
   "outputs": [
    {
     "data": {
      "text/html": [
       "<div>\n",
       "<style>\n",
       "    .dataframe thead tr:only-child th {\n",
       "        text-align: right;\n",
       "    }\n",
       "\n",
       "    .dataframe thead th {\n",
       "        text-align: left;\n",
       "    }\n",
       "\n",
       "    .dataframe tbody tr th {\n",
       "        vertical-align: top;\n",
       "    }\n",
       "</style>\n",
       "<table border=\"1\" class=\"dataframe\">\n",
       "  <thead>\n",
       "    <tr style=\"text-align: right;\">\n",
       "      <th></th>\n",
       "      <th>contract</th>\n",
       "      <th>event</th>\n",
       "    </tr>\n",
       "  </thead>\n",
       "  <tbody>\n",
       "    <tr>\n",
       "      <th>0</th>\n",
       "      <td>core</td>\n",
       "      <td>Birth</td>\n",
       "    </tr>\n",
       "    <tr>\n",
       "      <th>1</th>\n",
       "      <td>core</td>\n",
       "      <td>Transfer</td>\n",
       "    </tr>\n",
       "    <tr>\n",
       "      <th>6</th>\n",
       "      <td>core</td>\n",
       "      <td>Pregnant</td>\n",
       "    </tr>\n",
       "    <tr>\n",
       "      <th>864</th>\n",
       "      <td>siringAuction</td>\n",
       "      <td>AuctionCreated</td>\n",
       "    </tr>\n",
       "    <tr>\n",
       "      <th>865</th>\n",
       "      <td>siringAuction</td>\n",
       "      <td>AuctionSuccessful</td>\n",
       "    </tr>\n",
       "    <tr>\n",
       "      <th>868</th>\n",
       "      <td>siringAuction</td>\n",
       "      <td>AuctionCancelled</td>\n",
       "    </tr>\n",
       "    <tr>\n",
       "      <th>925</th>\n",
       "      <td>saleAuction</td>\n",
       "      <td>AuctionCreated</td>\n",
       "    </tr>\n",
       "    <tr>\n",
       "      <th>928</th>\n",
       "      <td>saleAuction</td>\n",
       "      <td>AuctionCancelled</td>\n",
       "    </tr>\n",
       "    <tr>\n",
       "      <th>934</th>\n",
       "      <td>saleAuction</td>\n",
       "      <td>AuctionSuccessful</td>\n",
       "    </tr>\n",
       "  </tbody>\n",
       "</table>\n",
       "</div>"
      ],
      "text/plain": [
       "          contract              event\n",
       "0             core              Birth\n",
       "1             core           Transfer\n",
       "6             core           Pregnant\n",
       "864  siringAuction     AuctionCreated\n",
       "865  siringAuction  AuctionSuccessful\n",
       "868  siringAuction   AuctionCancelled\n",
       "925    saleAuction     AuctionCreated\n",
       "928    saleAuction   AuctionCancelled\n",
       "934    saleAuction  AuctionSuccessful"
      ]
     },
     "execution_count": 414,
     "metadata": {},
     "output_type": "execute_result"
    }
   ],
   "source": [
    "events[['contract','event']].drop_duplicates()"
   ]
  },
  {
   "cell_type": "code",
   "execution_count": 415,
   "metadata": {},
   "outputs": [
    {
     "data": {
      "text/plain": [
       "<matplotlib.axes._subplots.AxesSubplot at 0x11615cc50>"
      ]
     },
     "execution_count": 415,
     "metadata": {},
     "output_type": "execute_result"
    },
    {
     "data": {
      "image/png": "[encoded data removed]",
      "text/plain": [
       "<matplotlib.figure.Figure at 0x10c1032e8>"
      ]
     },
     "metadata": {},
     "output_type": "display_data"
    }
   ],
   "source": [
    "events.groupby(['contract','event']).transactionHash.count().plot(kind='pie')"
   ]
  },
  {
   "cell_type": "code",
   "execution_count": 416,
   "metadata": {},
   "outputs": [
    {
     "data": {
      "text/plain": [
       "<matplotlib.axes._subplots.AxesSubplot at 0x11624dac8>"
      ]
     },
     "execution_count": 416,
     "metadata": {},
     "output_type": "execute_result"
    },
    {
     "data": {
      "image/png": "[encoded data removed]",
      "text/plain": [
       "<matplotlib.figure.Figure at 0x10d34d2b0>"
      ]
     },
     "metadata": {},
     "output_type": "display_data"
    }
   ],
   "source": [
    "events.groupby(['contract','event']).transactionHash.count().plot(kind='bar')"
   ]
  },
  {
   "cell_type": "code",
   "execution_count": 427,
   "metadata": {},
   "outputs": [
    {
     "data": {
      "text/html": [
       "<div>\n",
       "<style>\n",
       "    .dataframe thead tr:only-child th {\n",
       "        text-align: right;\n",
       "    }\n",
       "\n",
       "    .dataframe thead th {\n",
       "        text-align: left;\n",
       "    }\n",
       "\n",
       "    .dataframe tbody tr th {\n",
       "        vertical-align: top;\n",
       "    }\n",
       "</style>\n",
       "<table border=\"1\" class=\"dataframe\">\n",
       "  <thead>\n",
       "    <tr style=\"text-align: right;\">\n",
       "      <th></th>\n",
       "      <th>address</th>\n",
       "      <th>blockHash</th>\n",
       "      <th>blockNumber</th>\n",
       "      <th>data</th>\n",
       "      <th>logIndex</th>\n",
       "      <th>removed</th>\n",
       "      <th>topics</th>\n",
       "      <th>transactionHash</th>\n",
       "      <th>transactionIndex</th>\n",
       "      <th>contract</th>\n",
       "      <th>event</th>\n",
       "    </tr>\n",
       "  </thead>\n",
       "  <tbody>\n",
       "    <tr>\n",
       "      <th>7</th>\n",
       "      <td>0x06012c8cf97bead5deae237070f9587f8e7a266d</td>\n",
       "      <td>0x004ce603b20da361ed0e57f771a51df66c7dee6287a1fdb10081f04c9127fd4a</td>\n",
       "      <td>0x4ea2bf</td>\n",
       "      <td>0x0000000000000000000000003c30e0ce0bd53978d8bae895e6b378e033ed129e...</td>\n",
       "      <td>0xd</td>\n",
       "      <td>False</td>\n",
       "      <td>[0x241ea03ca20251805084d27d4440371c34a0b85ff108f6bb5611248f73818b80]</td>\n",
       "      <td>0xae84ded1f4c80d73d02da4edf5950e90a002db463f57539f77834b14b94e8c78</td>\n",
       "      <td>0x13</td>\n",
       "      <td>core</td>\n",
       "      <td>Pregnant</td>\n",
       "    </tr>\n",
       "    <tr>\n",
       "      <th>0</th>\n",
       "      <td>0x06012c8cf97bead5deae237070f9587f8e7a266d</td>\n",
       "      <td>0x004ce603b20da361ed0e57f771a51df66c7dee6287a1fdb10081f04c9127fd4a</td>\n",
       "      <td>0x4ea2bf</td>\n",
       "      <td>0x00000000000000000000000017d0e82ebdef0516e196d71a1d5f1b7acadafba3...</td>\n",
       "      <td>0x5</td>\n",
       "      <td>False</td>\n",
       "      <td>[0x0a5311bd2a6608f08a180df2ee7c5946819a649b204b554bb8e39825b2c50ad5]</td>\n",
       "      <td>0x5d91e6170d1cb8bf9642e4d319b87bd824b17ec52cd6b3d9a14f3f8f83e90b75</td>\n",
       "      <td>0xa</td>\n",
       "      <td>core</td>\n",
       "      <td>Birth</td>\n",
       "    </tr>\n",
       "    <tr>\n",
       "      <th>1</th>\n",
       "      <td>0x06012c8cf97bead5deae237070f9587f8e7a266d</td>\n",
       "      <td>0x004ce603b20da361ed0e57f771a51df66c7dee6287a1fdb10081f04c9127fd4a</td>\n",
       "      <td>0x4ea2bf</td>\n",
       "      <td>0x0000000000000000000000000000000000000000000000000000000000000000...</td>\n",
       "      <td>0x6</td>\n",
       "      <td>False</td>\n",
       "      <td>[0xddf252ad1be2c89b69c2b068fc378daa952ba7f163c4a11628f55a4df523b3ef]</td>\n",
       "      <td>0x5d91e6170d1cb8bf9642e4d319b87bd824b17ec52cd6b3d9a14f3f8f83e90b75</td>\n",
       "      <td>0xa</td>\n",
       "      <td>core</td>\n",
       "      <td>Transfer</td>\n",
       "    </tr>\n",
       "    <tr>\n",
       "      <th>2</th>\n",
       "      <td>0x06012c8cf97bead5deae237070f9587f8e7a266d</td>\n",
       "      <td>0x004ce603b20da361ed0e57f771a51df66c7dee6287a1fdb10081f04c9127fd4a</td>\n",
       "      <td>0x4ea2bf</td>\n",
       "      <td>0x00000000000000000000000017d0e82ebdef0516e196d71a1d5f1b7acadafba3...</td>\n",
       "      <td>0x7</td>\n",
       "      <td>False</td>\n",
       "      <td>[0x0a5311bd2a6608f08a180df2ee7c5946819a649b204b554bb8e39825b2c50ad5]</td>\n",
       "      <td>0x5d91e6170d1cb8bf9642e4d319b87bd824b17ec52cd6b3d9a14f3f8f83e90b75</td>\n",
       "      <td>0xa</td>\n",
       "      <td>core</td>\n",
       "      <td>Birth</td>\n",
       "    </tr>\n",
       "    <tr>\n",
       "      <th>3</th>\n",
       "      <td>0x06012c8cf97bead5deae237070f9587f8e7a266d</td>\n",
       "      <td>0x004ce603b20da361ed0e57f771a51df66c7dee6287a1fdb10081f04c9127fd4a</td>\n",
       "      <td>0x4ea2bf</td>\n",
       "      <td>0x0000000000000000000000000000000000000000000000000000000000000000...</td>\n",
       "      <td>0x8</td>\n",
       "      <td>False</td>\n",
       "      <td>[0xddf252ad1be2c89b69c2b068fc378daa952ba7f163c4a11628f55a4df523b3ef]</td>\n",
       "      <td>0x5d91e6170d1cb8bf9642e4d319b87bd824b17ec52cd6b3d9a14f3f8f83e90b75</td>\n",
       "      <td>0xa</td>\n",
       "      <td>core</td>\n",
       "      <td>Transfer</td>\n",
       "    </tr>\n",
       "    <tr>\n",
       "      <th>4</th>\n",
       "      <td>0x06012c8cf97bead5deae237070f9587f8e7a266d</td>\n",
       "      <td>0x004ce603b20da361ed0e57f771a51df66c7dee6287a1fdb10081f04c9127fd4a</td>\n",
       "      <td>0x4ea2bf</td>\n",
       "      <td>0x0000000000000000000000001bf032d01bab6cd4a2d67ec251f5c3f09728a7e3...</td>\n",
       "      <td>0x9</td>\n",
       "      <td>False</td>\n",
       "      <td>[0x0a5311bd2a6608f08a180df2ee7c5946819a649b204b554bb8e39825b2c50ad5]</td>\n",
       "      <td>0x5d91e6170d1cb8bf9642e4d319b87bd824b17ec52cd6b3d9a14f3f8f83e90b75</td>\n",
       "      <td>0xa</td>\n",
       "      <td>core</td>\n",
       "      <td>Birth</td>\n",
       "    </tr>\n",
       "    <tr>\n",
       "      <th>5</th>\n",
       "      <td>0x06012c8cf97bead5deae237070f9587f8e7a266d</td>\n",
       "      <td>0x004ce603b20da361ed0e57f771a51df66c7dee6287a1fdb10081f04c9127fd4a</td>\n",
       "      <td>0x4ea2bf</td>\n",
       "      <td>0x0000000000000000000000000000000000000000000000000000000000000000...</td>\n",
       "      <td>0xa</td>\n",
       "      <td>False</td>\n",
       "      <td>[0xddf252ad1be2c89b69c2b068fc378daa952ba7f163c4a11628f55a4df523b3ef]</td>\n",
       "      <td>0x5d91e6170d1cb8bf9642e4d319b87bd824b17ec52cd6b3d9a14f3f8f83e90b75</td>\n",
       "      <td>0xa</td>\n",
       "      <td>core</td>\n",
       "      <td>Transfer</td>\n",
       "    </tr>\n",
       "    <tr>\n",
       "      <th>6</th>\n",
       "      <td>0x06012c8cf97bead5deae237070f9587f8e7a266d</td>\n",
       "      <td>0x004ce603b20da361ed0e57f771a51df66c7dee6287a1fdb10081f04c9127fd4a</td>\n",
       "      <td>0x4ea2bf</td>\n",
       "      <td>0x000000000000000000000000d387a6e4e84a6c86bd90c158c6028a58cc8ac459...</td>\n",
       "      <td>0xb</td>\n",
       "      <td>False</td>\n",
       "      <td>[0x241ea03ca20251805084d27d4440371c34a0b85ff108f6bb5611248f73818b80]</td>\n",
       "      <td>0x8e27f14f3ab9e9a29127dd3078e5e5212059cabf3bfaa0a16156846bd11d69e7</td>\n",
       "      <td>0xc</td>\n",
       "      <td>core</td>\n",
       "      <td>Pregnant</td>\n",
       "    </tr>\n",
       "    <tr>\n",
       "      <th>8</th>\n",
       "      <td>0x06012c8cf97bead5deae237070f9587f8e7a266d</td>\n",
       "      <td>0x483ccdb8dc4765a023e5d5effb428ffb90adae9210a6e0713fa65b079d7a8d32</td>\n",
       "      <td>0x4ea2c0</td>\n",
       "      <td>0x00000000000000000000000089eacd3f14e387faa9f3d1f3f917ebdf8221d430...</td>\n",
       "      <td>0xd</td>\n",
       "      <td>False</td>\n",
       "      <td>[0x241ea03ca20251805084d27d4440371c34a0b85ff108f6bb5611248f73818b80]</td>\n",
       "      <td>0xfca1c4d3c4ef1337781863e74f74f6e70ca5d004d5108bed359723945c3bef80</td>\n",
       "      <td>0x1c</td>\n",
       "      <td>core</td>\n",
       "      <td>Pregnant</td>\n",
       "    </tr>\n",
       "    <tr>\n",
       "      <th>9</th>\n",
       "      <td>0x06012c8cf97bead5deae237070f9587f8e7a266d</td>\n",
       "      <td>0x483ccdb8dc4765a023e5d5effb428ffb90adae9210a6e0713fa65b079d7a8d32</td>\n",
       "      <td>0x4ea2c0</td>\n",
       "      <td>0x000000000000000000000000d387a6e4e84a6c86bd90c158c6028a58cc8ac459...</td>\n",
       "      <td>0x10</td>\n",
       "      <td>False</td>\n",
       "      <td>[0x241ea03ca20251805084d27d4440371c34a0b85ff108f6bb5611248f73818b80]</td>\n",
       "      <td>0xabce181d6d671267266e5d2efc648804a4513fe15d07cfb9ac4c957733f9a7b2</td>\n",
       "      <td>0x1f</td>\n",
       "      <td>core</td>\n",
       "      <td>Pregnant</td>\n",
       "    </tr>\n",
       "    <tr>\n",
       "      <th>10</th>\n",
       "      <td>0x06012c8cf97bead5deae237070f9587f8e7a266d</td>\n",
       "      <td>0x483ccdb8dc4765a023e5d5effb428ffb90adae9210a6e0713fa65b079d7a8d32</td>\n",
       "      <td>0x4ea2c0</td>\n",
       "      <td>0x000000000000000000000000d4aee0dd6b56bcd831ffb4c1d8aced71fcf37fa5...</td>\n",
       "      <td>0x1c</td>\n",
       "      <td>False</td>\n",
       "      <td>[0x241ea03ca20251805084d27d4440371c34a0b85ff108f6bb5611248f73818b80]</td>\n",
       "      <td>0x4a9d2e9185a9946c2be65ab4e2b139ec8bc6ede878a08814ccefca358312df10</td>\n",
       "      <td>0x37</td>\n",
       "      <td>core</td>\n",
       "      <td>Pregnant</td>\n",
       "    </tr>\n",
       "    <tr>\n",
       "      <th>11</th>\n",
       "      <td>0x06012c8cf97bead5deae237070f9587f8e7a266d</td>\n",
       "      <td>0x483ccdb8dc4765a023e5d5effb428ffb90adae9210a6e0713fa65b079d7a8d32</td>\n",
       "      <td>0x4ea2c0</td>\n",
       "      <td>0x000000000000000000000000a29385d1816875906b716d519d15ae4b41f1f8f6...</td>\n",
       "      <td>0x1d</td>\n",
       "      <td>False</td>\n",
       "      <td>[0xddf252ad1be2c89b69c2b068fc378daa952ba7f163c4a11628f55a4df523b3ef]</td>\n",
       "      <td>0x6d687ed580a5a1df89a85bb32c51af76df72e971013fe5924ee267c9639bb7e7</td>\n",
       "      <td>0x3d</td>\n",
       "      <td>core</td>\n",
       "      <td>Transfer</td>\n",
       "    </tr>\n",
       "    <tr>\n",
       "      <th>864</th>\n",
       "      <td>0xc7af99fe5513eb6710e6d5f44f9989da40f27f26</td>\n",
       "      <td>0x483ccdb8dc4765a023e5d5effb428ffb90adae9210a6e0713fa65b079d7a8d32</td>\n",
       "      <td>0x4ea2c0</td>\n",
       "      <td>0x0000000000000000000000000000000000000000000000000000000000083ffd...</td>\n",
       "      <td>0x1e</td>\n",
       "      <td>False</td>\n",
       "      <td>[0xa9c8dfcda5664a5a124c713e386da27de87432d5b668e79458501eb296389ba7]</td>\n",
       "      <td>0x6d687ed580a5a1df89a85bb32c51af76df72e971013fe5924ee267c9639bb7e7</td>\n",
       "      <td>0x3d</td>\n",
       "      <td>siringAuction</td>\n",
       "      <td>AuctionCreated</td>\n",
       "    </tr>\n",
       "    <tr>\n",
       "      <th>12</th>\n",
       "      <td>0x06012c8cf97bead5deae237070f9587f8e7a266d</td>\n",
       "      <td>0x483ccdb8dc4765a023e5d5effb428ffb90adae9210a6e0713fa65b079d7a8d32</td>\n",
       "      <td>0x4ea2c0</td>\n",
       "      <td>0x00000000000000000000000069795cdf5e12ff7f48b6a8268e384ed278ca6d95...</td>\n",
       "      <td>0x1f</td>\n",
       "      <td>False</td>\n",
       "      <td>[0xddf252ad1be2c89b69c2b068fc378daa952ba7f163c4a11628f55a4df523b3ef]</td>\n",
       "      <td>0x60766d7f2884301482df529e52e23de5ad7b1d926c42e397f80866784d909c66</td>\n",
       "      <td>0x3e</td>\n",
       "      <td>core</td>\n",
       "      <td>Transfer</td>\n",
       "    </tr>\n",
       "    <tr>\n",
       "      <th>925</th>\n",
       "      <td>0xb1690c08e213a35ed9bab7b318de14420fb57d8c</td>\n",
       "      <td>0x483ccdb8dc4765a023e5d5effb428ffb90adae9210a6e0713fa65b079d7a8d32</td>\n",
       "      <td>0x4ea2c0</td>\n",
       "      <td>0x000000000000000000000000000000000000000000000000000000000002c415...</td>\n",
       "      <td>0x20</td>\n",
       "      <td>False</td>\n",
       "      <td>[0xa9c8dfcda5664a5a124c713e386da27de87432d5b668e79458501eb296389ba7]</td>\n",
       "      <td>0x60766d7f2884301482df529e52e23de5ad7b1d926c42e397f80866784d909c66</td>\n",
       "      <td>0x3e</td>\n",
       "      <td>saleAuction</td>\n",
       "      <td>AuctionCreated</td>\n",
       "    </tr>\n",
       "    <tr>\n",
       "      <th>13</th>\n",
       "      <td>0x06012c8cf97bead5deae237070f9587f8e7a266d</td>\n",
       "      <td>0x483ccdb8dc4765a023e5d5effb428ffb90adae9210a6e0713fa65b079d7a8d32</td>\n",
       "      <td>0x4ea2c0</td>\n",
       "      <td>0x000000000000000000000000c454c4be786e8ad7610d6113c06e4a608af303cb...</td>\n",
       "      <td>0x28</td>\n",
       "      <td>False</td>\n",
       "      <td>[0xddf252ad1be2c89b69c2b068fc378daa952ba7f163c4a11628f55a4df523b3ef]</td>\n",
       "      <td>0xf7f65e943b6e53d34f1e4066cfc056109f5d07a98b1d7dfd46fc45a179269d0f</td>\n",
       "      <td>0x53</td>\n",
       "      <td>core</td>\n",
       "      <td>Transfer</td>\n",
       "    </tr>\n",
       "    <tr>\n",
       "      <th>926</th>\n",
       "      <td>0xb1690c08e213a35ed9bab7b318de14420fb57d8c</td>\n",
       "      <td>0x483ccdb8dc4765a023e5d5effb428ffb90adae9210a6e0713fa65b079d7a8d32</td>\n",
       "      <td>0x4ea2c0</td>\n",
       "      <td>0x0000000000000000000000000000000000000000000000000000000000085880...</td>\n",
       "      <td>0x29</td>\n",
       "      <td>False</td>\n",
       "      <td>[0xa9c8dfcda5664a5a124c713e386da27de87432d5b668e79458501eb296389ba7]</td>\n",
       "      <td>0xf7f65e943b6e53d34f1e4066cfc056109f5d07a98b1d7dfd46fc45a179269d0f</td>\n",
       "      <td>0x53</td>\n",
       "      <td>saleAuction</td>\n",
       "      <td>AuctionCreated</td>\n",
       "    </tr>\n",
       "    <tr>\n",
       "      <th>14</th>\n",
       "      <td>0x06012c8cf97bead5deae237070f9587f8e7a266d</td>\n",
       "      <td>0x483ccdb8dc4765a023e5d5effb428ffb90adae9210a6e0713fa65b079d7a8d32</td>\n",
       "      <td>0x4ea2c0</td>\n",
       "      <td>0x000000000000000000000000a29385d1816875906b716d519d15ae4b41f1f8f6...</td>\n",
       "      <td>0x2c</td>\n",
       "      <td>False</td>\n",
       "      <td>[0xddf252ad1be2c89b69c2b068fc378daa952ba7f163c4a11628f55a4df523b3ef]</td>\n",
       "      <td>0xc326e1c881b02024420908ef0067f45ef0fbfc34a16ad1b34f364c9f01e62246</td>\n",
       "      <td>0x59</td>\n",
       "      <td>core</td>\n",
       "      <td>Transfer</td>\n",
       "    </tr>\n",
       "    <tr>\n",
       "      <th>927</th>\n",
       "      <td>0xb1690c08e213a35ed9bab7b318de14420fb57d8c</td>\n",
       "      <td>0x483ccdb8dc4765a023e5d5effb428ffb90adae9210a6e0713fa65b079d7a8d32</td>\n",
       "      <td>0x4ea2c0</td>\n",
       "      <td>0x0000000000000000000000000000000000000000000000000000000000083ae0...</td>\n",
       "      <td>0x2d</td>\n",
       "      <td>False</td>\n",
       "      <td>[0xa9c8dfcda5664a5a124c713e386da27de87432d5b668e79458501eb296389ba7]</td>\n",
       "      <td>0xc326e1c881b02024420908ef0067f45ef0fbfc34a16ad1b34f364c9f01e62246</td>\n",
       "      <td>0x59</td>\n",
       "      <td>saleAuction</td>\n",
       "      <td>AuctionCreated</td>\n",
       "    </tr>\n",
       "    <tr>\n",
       "      <th>865</th>\n",
       "      <td>0xc7af99fe5513eb6710e6d5f44f9989da40f27f26</td>\n",
       "      <td>0x20a6e24f458100f883400b6e4030b62a3609bf06cd0f6269eba14076f56d837d</td>\n",
       "      <td>0x4ea2c1</td>\n",
       "      <td>0x0000000000000000000000000000000000000000000000000000000000081db3...</td>\n",
       "      <td>0x3b</td>\n",
       "      <td>False</td>\n",
       "      <td>[0x4fcc30d90a842164dd58501ab874a101a3749c3d4747139cefe7c876f4ccebd2]</td>\n",
       "      <td>0x6328475defaaeff4d8068078ebecb02cb464c51c0192e7e1dcdbb5d08729e1bb</td>\n",
       "      <td>0x5f</td>\n",
       "      <td>siringAuction</td>\n",
       "      <td>AuctionSuccessful</td>\n",
       "    </tr>\n",
       "  </tbody>\n",
       "</table>\n",
       "</div>"
      ],
      "text/plain": [
       "                                        address  \\\n",
       "7    0x06012c8cf97bead5deae237070f9587f8e7a266d   \n",
       "0    0x06012c8cf97bead5deae237070f9587f8e7a266d   \n",
       "1    0x06012c8cf97bead5deae237070f9587f8e7a266d   \n",
       "2    0x06012c8cf97bead5deae237070f9587f8e7a266d   \n",
       "3    0x06012c8cf97bead5deae237070f9587f8e7a266d   \n",
       "4    0x06012c8cf97bead5deae237070f9587f8e7a266d   \n",
       "5    0x06012c8cf97bead5deae237070f9587f8e7a266d   \n",
       "6    0x06012c8cf97bead5deae237070f9587f8e7a266d   \n",
       "8    0x06012c8cf97bead5deae237070f9587f8e7a266d   \n",
       "9    0x06012c8cf97bead5deae237070f9587f8e7a266d   \n",
       "10   0x06012c8cf97bead5deae237070f9587f8e7a266d   \n",
       "11   0x06012c8cf97bead5deae237070f9587f8e7a266d   \n",
       "864  0xc7af99fe5513eb6710e6d5f44f9989da40f27f26   \n",
       "12   0x06012c8cf97bead5deae237070f9587f8e7a266d   \n",
       "925  0xb1690c08e213a35ed9bab7b318de14420fb57d8c   \n",
       "13   0x06012c8cf97bead5deae237070f9587f8e7a266d   \n",
       "926  0xb1690c08e213a35ed9bab7b318de14420fb57d8c   \n",
       "14   0x06012c8cf97bead5deae237070f9587f8e7a266d   \n",
       "927  0xb1690c08e213a35ed9bab7b318de14420fb57d8c   \n",
       "865  0xc7af99fe5513eb6710e6d5f44f9989da40f27f26   \n",
       "\n",
       "                                                              blockHash  \\\n",
       "7    0x004ce603b20da361ed0e57f771a51df66c7dee6287a1fdb10081f04c9127fd4a   \n",
       "0    0x004ce603b20da361ed0e57f771a51df66c7dee6287a1fdb10081f04c9127fd4a   \n",
       "1    0x004ce603b20da361ed0e57f771a51df66c7dee6287a1fdb10081f04c9127fd4a   \n",
       "2    0x004ce603b20da361ed0e57f771a51df66c7dee6287a1fdb10081f04c9127fd4a   \n",
       "3    0x004ce603b20da361ed0e57f771a51df66c7dee6287a1fdb10081f04c9127fd4a   \n",
       "4    0x004ce603b20da361ed0e57f771a51df66c7dee6287a1fdb10081f04c9127fd4a   \n",
       "5    0x004ce603b20da361ed0e57f771a51df66c7dee6287a1fdb10081f04c9127fd4a   \n",
       "6    0x004ce603b20da361ed0e57f771a51df66c7dee6287a1fdb10081f04c9127fd4a   \n",
       "8    0x483ccdb8dc4765a023e5d5effb428ffb90adae9210a6e0713fa65b079d7a8d32   \n",
       "9    0x483ccdb8dc4765a023e5d5effb428ffb90adae9210a6e0713fa65b079d7a8d32   \n",
       "10   0x483ccdb8dc4765a023e5d5effb428ffb90adae9210a6e0713fa65b079d7a8d32   \n",
       "11   0x483ccdb8dc4765a023e5d5effb428ffb90adae9210a6e0713fa65b079d7a8d32   \n",
       "864  0x483ccdb8dc4765a023e5d5effb428ffb90adae9210a6e0713fa65b079d7a8d32   \n",
       "12   0x483ccdb8dc4765a023e5d5effb428ffb90adae9210a6e0713fa65b079d7a8d32   \n",
       "925  0x483ccdb8dc4765a023e5d5effb428ffb90adae9210a6e0713fa65b079d7a8d32   \n",
       "13   0x483ccdb8dc4765a023e5d5effb428ffb90adae9210a6e0713fa65b079d7a8d32   \n",
       "926  0x483ccdb8dc4765a023e5d5effb428ffb90adae9210a6e0713fa65b079d7a8d32   \n",
       "14   0x483ccdb8dc4765a023e5d5effb428ffb90adae9210a6e0713fa65b079d7a8d32   \n",
       "927  0x483ccdb8dc4765a023e5d5effb428ffb90adae9210a6e0713fa65b079d7a8d32   \n",
       "865  0x20a6e24f458100f883400b6e4030b62a3609bf06cd0f6269eba14076f56d837d   \n",
       "\n",
       "    blockNumber  \\\n",
       "7      0x4ea2bf   \n",
       "0      0x4ea2bf   \n",
       "1      0x4ea2bf   \n",
       "2      0x4ea2bf   \n",
       "3      0x4ea2bf   \n",
       "4      0x4ea2bf   \n",
       "5      0x4ea2bf   \n",
       "6      0x4ea2bf   \n",
       "8      0x4ea2c0   \n",
       "9      0x4ea2c0   \n",
       "10     0x4ea2c0   \n",
       "11     0x4ea2c0   \n",
       "864    0x4ea2c0   \n",
       "12     0x4ea2c0   \n",
       "925    0x4ea2c0   \n",
       "13     0x4ea2c0   \n",
       "926    0x4ea2c0   \n",
       "14     0x4ea2c0   \n",
       "927    0x4ea2c0   \n",
       "865    0x4ea2c1   \n",
       "\n",
       "                                                                      data  \\\n",
       "7    0x0000000000000000000000003c30e0ce0bd53978d8bae895e6b378e033ed129e...   \n",
       "0    0x00000000000000000000000017d0e82ebdef0516e196d71a1d5f1b7acadafba3...   \n",
       "1    0x0000000000000000000000000000000000000000000000000000000000000000...   \n",
       "2    0x00000000000000000000000017d0e82ebdef0516e196d71a1d5f1b7acadafba3...   \n",
       "3    0x0000000000000000000000000000000000000000000000000000000000000000...   \n",
       "4    0x0000000000000000000000001bf032d01bab6cd4a2d67ec251f5c3f09728a7e3...   \n",
       "5    0x0000000000000000000000000000000000000000000000000000000000000000...   \n",
       "6    0x000000000000000000000000d387a6e4e84a6c86bd90c158c6028a58cc8ac459...   \n",
       "8    0x00000000000000000000000089eacd3f14e387faa9f3d1f3f917ebdf8221d430...   \n",
       "9    0x000000000000000000000000d387a6e4e84a6c86bd90c158c6028a58cc8ac459...   \n",
       "10   0x000000000000000000000000d4aee0dd6b56bcd831ffb4c1d8aced71fcf37fa5...   \n",
       "11   0x000000000000000000000000a29385d1816875906b716d519d15ae4b41f1f8f6...   \n",
       "864  0x0000000000000000000000000000000000000000000000000000000000083ffd...   \n",
       "12   0x00000000000000000000000069795cdf5e12ff7f48b6a8268e384ed278ca6d95...   \n",
       "925  0x000000000000000000000000000000000000000000000000000000000002c415...   \n",
       "13   0x000000000000000000000000c454c4be786e8ad7610d6113c06e4a608af303cb...   \n",
       "926  0x0000000000000000000000000000000000000000000000000000000000085880...   \n",
       "14   0x000000000000000000000000a29385d1816875906b716d519d15ae4b41f1f8f6...   \n",
       "927  0x0000000000000000000000000000000000000000000000000000000000083ae0...   \n",
       "865  0x0000000000000000000000000000000000000000000000000000000000081db3...   \n",
       "\n",
       "    logIndex  removed  \\\n",
       "7        0xd    False   \n",
       "0        0x5    False   \n",
       "1        0x6    False   \n",
       "2        0x7    False   \n",
       "3        0x8    False   \n",
       "4        0x9    False   \n",
       "5        0xa    False   \n",
       "6        0xb    False   \n",
       "8        0xd    False   \n",
       "9       0x10    False   \n",
       "10      0x1c    False   \n",
       "11      0x1d    False   \n",
       "864     0x1e    False   \n",
       "12      0x1f    False   \n",
       "925     0x20    False   \n",
       "13      0x28    False   \n",
       "926     0x29    False   \n",
       "14      0x2c    False   \n",
       "927     0x2d    False   \n",
       "865     0x3b    False   \n",
       "\n",
       "                                                                   topics  \\\n",
       "7    [0x241ea03ca20251805084d27d4440371c34a0b85ff108f6bb5611248f73818b80]   \n",
       "0    [0x0a5311bd2a6608f08a180df2ee7c5946819a649b204b554bb8e39825b2c50ad5]   \n",
       "1    [0xddf252ad1be2c89b69c2b068fc378daa952ba7f163c4a11628f55a4df523b3ef]   \n",
       "2    [0x0a5311bd2a6608f08a180df2ee7c5946819a649b204b554bb8e39825b2c50ad5]   \n",
       "3    [0xddf252ad1be2c89b69c2b068fc378daa952ba7f163c4a11628f55a4df523b3ef]   \n",
       "4    [0x0a5311bd2a6608f08a180df2ee7c5946819a649b204b554bb8e39825b2c50ad5]   \n",
       "5    [0xddf252ad1be2c89b69c2b068fc378daa952ba7f163c4a11628f55a4df523b3ef]   \n",
       "6    [0x241ea03ca20251805084d27d4440371c34a0b85ff108f6bb5611248f73818b80]   \n",
       "8    [0x241ea03ca20251805084d27d4440371c34a0b85ff108f6bb5611248f73818b80]   \n",
       "9    [0x241ea03ca20251805084d27d4440371c34a0b85ff108f6bb5611248f73818b80]   \n",
       "10   [0x241ea03ca20251805084d27d4440371c34a0b85ff108f6bb5611248f73818b80]   \n",
       "11   [0xddf252ad1be2c89b69c2b068fc378daa952ba7f163c4a11628f55a4df523b3ef]   \n",
       "864  [0xa9c8dfcda5664a5a124c713e386da27de87432d5b668e79458501eb296389ba7]   \n",
       "12   [0xddf252ad1be2c89b69c2b068fc378daa952ba7f163c4a11628f55a4df523b3ef]   \n",
       "925  [0xa9c8dfcda5664a5a124c713e386da27de87432d5b668e79458501eb296389ba7]   \n",
       "13   [0xddf252ad1be2c89b69c2b068fc378daa952ba7f163c4a11628f55a4df523b3ef]   \n",
       "926  [0xa9c8dfcda5664a5a124c713e386da27de87432d5b668e79458501eb296389ba7]   \n",
       "14   [0xddf252ad1be2c89b69c2b068fc378daa952ba7f163c4a11628f55a4df523b3ef]   \n",
       "927  [0xa9c8dfcda5664a5a124c713e386da27de87432d5b668e79458501eb296389ba7]   \n",
       "865  [0x4fcc30d90a842164dd58501ab874a101a3749c3d4747139cefe7c876f4ccebd2]   \n",
       "\n",
       "                                                        transactionHash  \\\n",
       "7    0xae84ded1f4c80d73d02da4edf5950e90a002db463f57539f77834b14b94e8c78   \n",
       "0    0x5d91e6170d1cb8bf9642e4d319b87bd824b17ec52cd6b3d9a14f3f8f83e90b75   \n",
       "1    0x5d91e6170d1cb8bf9642e4d319b87bd824b17ec52cd6b3d9a14f3f8f83e90b75   \n",
       "2    0x5d91e6170d1cb8bf9642e4d319b87bd824b17ec52cd6b3d9a14f3f8f83e90b75   \n",
       "3    0x5d91e6170d1cb8bf9642e4d319b87bd824b17ec52cd6b3d9a14f3f8f83e90b75   \n",
       "4    0x5d91e6170d1cb8bf9642e4d319b87bd824b17ec52cd6b3d9a14f3f8f83e90b75   \n",
       "5    0x5d91e6170d1cb8bf9642e4d319b87bd824b17ec52cd6b3d9a14f3f8f83e90b75   \n",
       "6    0x8e27f14f3ab9e9a29127dd3078e5e5212059cabf3bfaa0a16156846bd11d69e7   \n",
       "8    0xfca1c4d3c4ef1337781863e74f74f6e70ca5d004d5108bed359723945c3bef80   \n",
       "9    0xabce181d6d671267266e5d2efc648804a4513fe15d07cfb9ac4c957733f9a7b2   \n",
       "10   0x4a9d2e9185a9946c2be65ab4e2b139ec8bc6ede878a08814ccefca358312df10   \n",
       "11   0x6d687ed580a5a1df89a85bb32c51af76df72e971013fe5924ee267c9639bb7e7   \n",
       "864  0x6d687ed580a5a1df89a85bb32c51af76df72e971013fe5924ee267c9639bb7e7   \n",
       "12   0x60766d7f2884301482df529e52e23de5ad7b1d926c42e397f80866784d909c66   \n",
       "925  0x60766d7f2884301482df529e52e23de5ad7b1d926c42e397f80866784d909c66   \n",
       "13   0xf7f65e943b6e53d34f1e4066cfc056109f5d07a98b1d7dfd46fc45a179269d0f   \n",
       "926  0xf7f65e943b6e53d34f1e4066cfc056109f5d07a98b1d7dfd46fc45a179269d0f   \n",
       "14   0xc326e1c881b02024420908ef0067f45ef0fbfc34a16ad1b34f364c9f01e62246   \n",
       "927  0xc326e1c881b02024420908ef0067f45ef0fbfc34a16ad1b34f364c9f01e62246   \n",
       "865  0x6328475defaaeff4d8068078ebecb02cb464c51c0192e7e1dcdbb5d08729e1bb   \n",
       "\n",
       "    transactionIndex       contract              event  \n",
       "7               0x13           core           Pregnant  \n",
       "0                0xa           core              Birth  \n",
       "1                0xa           core           Transfer  \n",
       "2                0xa           core              Birth  \n",
       "3                0xa           core           Transfer  \n",
       "4                0xa           core              Birth  \n",
       "5                0xa           core           Transfer  \n",
       "6                0xc           core           Pregnant  \n",
       "8               0x1c           core           Pregnant  \n",
       "9               0x1f           core           Pregnant  \n",
       "10              0x37           core           Pregnant  \n",
       "11              0x3d           core           Transfer  \n",
       "864             0x3d  siringAuction     AuctionCreated  \n",
       "12              0x3e           core           Transfer  \n",
       "925             0x3e    saleAuction     AuctionCreated  \n",
       "13              0x53           core           Transfer  \n",
       "926             0x53    saleAuction     AuctionCreated  \n",
       "14              0x59           core           Transfer  \n",
       "927             0x59    saleAuction     AuctionCreated  \n",
       "865             0x5f  siringAuction  AuctionSuccessful  "
      ]
     },
     "execution_count": 427,
     "metadata": {},
     "output_type": "execute_result"
    }
   ],
   "source": [
    "events.sort_values(['blockNumber', 'transactionIndex', 'logIndex']).head(20)"
   ]
  },
  {
   "cell_type": "markdown",
   "metadata": {},
   "source": [
    "## Strange transactions: lots of births and transfers\n",
    "\n",
    "0xdc3d978d88daa791b8e898ae74cd95a7bb5a38cab4555aac3c6da59dc09d62e0\n",
    "0x58a5d848c63a0ced69c671eff4d6decb01ae57bfa8dd315ac1a758e5aa192e6e\n",
    "0x5d91e6170d1cb8bf9642e4d319b87bd824b17ec52cd6b3d9a14f3f8f83e90b75\n",
    "\n",
    "Looks like smart contracts (0xF8Fb76B05fd854cc6f35d5088B9D241CbbF616C3, 0xD18785571AE7F3b100e5B8788E3827120282f170) that call giveBirth on all pregnant kitties whose gestation period has passed"
   ]
  },
  {
   "cell_type": "markdown",
   "metadata": {},
   "source": [
    "## Most wanted genes\n",
    "We can get the genetic sequence of the most recent breeds to try to see what the most wanted genes are"
   ]
  },
  {
   "cell_type": "code",
   "execution_count": 420,
   "metadata": {},
   "outputs": [
    {
     "data": {
      "text/html": [
       "<div>\n",
       "<style>\n",
       "    .dataframe thead tr:only-child th {\n",
       "        text-align: right;\n",
       "    }\n",
       "\n",
       "    .dataframe thead th {\n",
       "        text-align: left;\n",
       "    }\n",
       "\n",
       "    .dataframe tbody tr th {\n",
       "        vertical-align: top;\n",
       "    }\n",
       "</style>\n",
       "<table border=\"1\" class=\"dataframe\">\n",
       "  <thead>\n",
       "    <tr style=\"text-align: right;\">\n",
       "      <th></th>\n",
       "      <th>address</th>\n",
       "      <th>blockHash</th>\n",
       "      <th>blockNumber</th>\n",
       "      <th>data</th>\n",
       "      <th>logIndex</th>\n",
       "      <th>removed</th>\n",
       "      <th>topics</th>\n",
       "      <th>transactionHash</th>\n",
       "      <th>transactionIndex</th>\n",
       "      <th>contract</th>\n",
       "      <th>event</th>\n",
       "    </tr>\n",
       "  </thead>\n",
       "  <tbody>\n",
       "    <tr>\n",
       "      <th>6</th>\n",
       "      <td>0x06012c8cf97bead5deae237070f9587f8e7a266d</td>\n",
       "      <td>0x004ce603b20da361ed0e57f771a51df66c7dee6287a1...</td>\n",
       "      <td>0x4ea2bf</td>\n",
       "      <td>0x000000000000000000000000d387a6e4e84a6c86bd90...</td>\n",
       "      <td>0xb</td>\n",
       "      <td>False</td>\n",
       "      <td>[0x241ea03ca20251805084d27d4440371c34a0b85ff10...</td>\n",
       "      <td>0x8e27f14f3ab9e9a29127dd3078e5e5212059cabf3bfa...</td>\n",
       "      <td>0xc</td>\n",
       "      <td>core</td>\n",
       "      <td>Pregnant</td>\n",
       "    </tr>\n",
       "    <tr>\n",
       "      <th>7</th>\n",
       "      <td>0x06012c8cf97bead5deae237070f9587f8e7a266d</td>\n",
       "      <td>0x004ce603b20da361ed0e57f771a51df66c7dee6287a1...</td>\n",
       "      <td>0x4ea2bf</td>\n",
       "      <td>0x0000000000000000000000003c30e0ce0bd53978d8ba...</td>\n",
       "      <td>0xd</td>\n",
       "      <td>False</td>\n",
       "      <td>[0x241ea03ca20251805084d27d4440371c34a0b85ff10...</td>\n",
       "      <td>0xae84ded1f4c80d73d02da4edf5950e90a002db463f57...</td>\n",
       "      <td>0x13</td>\n",
       "      <td>core</td>\n",
       "      <td>Pregnant</td>\n",
       "    </tr>\n",
       "    <tr>\n",
       "      <th>8</th>\n",
       "      <td>0x06012c8cf97bead5deae237070f9587f8e7a266d</td>\n",
       "      <td>0x483ccdb8dc4765a023e5d5effb428ffb90adae9210a6...</td>\n",
       "      <td>0x4ea2c0</td>\n",
       "      <td>0x00000000000000000000000089eacd3f14e387faa9f3...</td>\n",
       "      <td>0xd</td>\n",
       "      <td>False</td>\n",
       "      <td>[0x241ea03ca20251805084d27d4440371c34a0b85ff10...</td>\n",
       "      <td>0xfca1c4d3c4ef1337781863e74f74f6e70ca5d004d510...</td>\n",
       "      <td>0x1c</td>\n",
       "      <td>core</td>\n",
       "      <td>Pregnant</td>\n",
       "    </tr>\n",
       "    <tr>\n",
       "      <th>9</th>\n",
       "      <td>0x06012c8cf97bead5deae237070f9587f8e7a266d</td>\n",
       "      <td>0x483ccdb8dc4765a023e5d5effb428ffb90adae9210a6...</td>\n",
       "      <td>0x4ea2c0</td>\n",
       "      <td>0x000000000000000000000000d387a6e4e84a6c86bd90...</td>\n",
       "      <td>0x10</td>\n",
       "      <td>False</td>\n",
       "      <td>[0x241ea03ca20251805084d27d4440371c34a0b85ff10...</td>\n",
       "      <td>0xabce181d6d671267266e5d2efc648804a4513fe15d07...</td>\n",
       "      <td>0x1f</td>\n",
       "      <td>core</td>\n",
       "      <td>Pregnant</td>\n",
       "    </tr>\n",
       "    <tr>\n",
       "      <th>10</th>\n",
       "      <td>0x06012c8cf97bead5deae237070f9587f8e7a266d</td>\n",
       "      <td>0x483ccdb8dc4765a023e5d5effb428ffb90adae9210a6...</td>\n",
       "      <td>0x4ea2c0</td>\n",
       "      <td>0x000000000000000000000000d4aee0dd6b56bcd831ff...</td>\n",
       "      <td>0x1c</td>\n",
       "      <td>False</td>\n",
       "      <td>[0x241ea03ca20251805084d27d4440371c34a0b85ff10...</td>\n",
       "      <td>0x4a9d2e9185a9946c2be65ab4e2b139ec8bc6ede878a0...</td>\n",
       "      <td>0x37</td>\n",
       "      <td>core</td>\n",
       "      <td>Pregnant</td>\n",
       "    </tr>\n",
       "  </tbody>\n",
       "</table>\n",
       "</div>"
      ],
      "text/plain": [
       "                                       address  \\\n",
       "6   0x06012c8cf97bead5deae237070f9587f8e7a266d   \n",
       "7   0x06012c8cf97bead5deae237070f9587f8e7a266d   \n",
       "8   0x06012c8cf97bead5deae237070f9587f8e7a266d   \n",
       "9   0x06012c8cf97bead5deae237070f9587f8e7a266d   \n",
       "10  0x06012c8cf97bead5deae237070f9587f8e7a266d   \n",
       "\n",
       "                                            blockHash blockNumber  \\\n",
       "6   0x004ce603b20da361ed0e57f771a51df66c7dee6287a1...    0x4ea2bf   \n",
       "7   0x004ce603b20da361ed0e57f771a51df66c7dee6287a1...    0x4ea2bf   \n",
       "8   0x483ccdb8dc4765a023e5d5effb428ffb90adae9210a6...    0x4ea2c0   \n",
       "9   0x483ccdb8dc4765a023e5d5effb428ffb90adae9210a6...    0x4ea2c0   \n",
       "10  0x483ccdb8dc4765a023e5d5effb428ffb90adae9210a6...    0x4ea2c0   \n",
       "\n",
       "                                                 data logIndex  removed  \\\n",
       "6   0x000000000000000000000000d387a6e4e84a6c86bd90...      0xb    False   \n",
       "7   0x0000000000000000000000003c30e0ce0bd53978d8ba...      0xd    False   \n",
       "8   0x00000000000000000000000089eacd3f14e387faa9f3...      0xd    False   \n",
       "9   0x000000000000000000000000d387a6e4e84a6c86bd90...     0x10    False   \n",
       "10  0x000000000000000000000000d4aee0dd6b56bcd831ff...     0x1c    False   \n",
       "\n",
       "                                               topics  \\\n",
       "6   [0x241ea03ca20251805084d27d4440371c34a0b85ff10...   \n",
       "7   [0x241ea03ca20251805084d27d4440371c34a0b85ff10...   \n",
       "8   [0x241ea03ca20251805084d27d4440371c34a0b85ff10...   \n",
       "9   [0x241ea03ca20251805084d27d4440371c34a0b85ff10...   \n",
       "10  [0x241ea03ca20251805084d27d4440371c34a0b85ff10...   \n",
       "\n",
       "                                      transactionHash transactionIndex  \\\n",
       "6   0x8e27f14f3ab9e9a29127dd3078e5e5212059cabf3bfa...              0xc   \n",
       "7   0xae84ded1f4c80d73d02da4edf5950e90a002db463f57...             0x13   \n",
       "8   0xfca1c4d3c4ef1337781863e74f74f6e70ca5d004d510...             0x1c   \n",
       "9   0xabce181d6d671267266e5d2efc648804a4513fe15d07...             0x1f   \n",
       "10  0x4a9d2e9185a9946c2be65ab4e2b139ec8bc6ede878a0...             0x37   \n",
       "\n",
       "   contract     event  \n",
       "6      core  Pregnant  \n",
       "7      core  Pregnant  \n",
       "8      core  Pregnant  \n",
       "9      core  Pregnant  \n",
       "10     core  Pregnant  "
      ]
     },
     "execution_count": 420,
     "metadata": {},
     "output_type": "execute_result"
    }
   ],
   "source": [
    "pregnancies = events[events['event'] == 'Pregnant']\n",
    "pregnancies.head()"
   ]
  },
  {
   "cell_type": "code",
   "execution_count": 421,
   "metadata": {},
   "outputs": [
    {
     "data": {
      "text/plain": [
       "<matplotlib.axes._subplots.AxesSubplot at 0x108e75a20>"
      ]
     },
     "execution_count": 421,
     "metadata": {},
     "output_type": "execute_result"
    },
    {
     "data": {
      "image/png": "[encoded data removed]",
      "text/plain": [
       "<matplotlib.figure.Figure at 0x108e67898>"
      ]
     },
     "metadata": {},
     "output_type": "display_data"
    }
   ],
   "source": [
    "pregnancies.groupby(['contract','event']).transactionHash.count().plot(kind='bar')"
   ]
  },
  {
   "cell_type": "markdown",
   "metadata": {},
   "source": [
    "The data field of a Pregnant should be structured as such:\n",
    "1. '0x'\n",
    "1. '000000000000000000000000' - 24 zeros before the owner address\n",
    "1. owner address (40 hex characters)\n",
    "1. matronId (64 hex characters)\n",
    "1. sireId (64 hex characters)\n",
    "1. cooldownEndBlock (64 hex characters)"
   ]
  },
  {
   "cell_type": "code",
   "execution_count": 423,
   "metadata": {},
   "outputs": [
    {
     "name": "stderr",
     "output_type": "stream",
     "text": [
      "/anaconda3/lib/python3.6/site-packages/ipykernel_launcher.py:1: SettingWithCopyWarning: \n",
      "A value is trying to be set on a copy of a slice from a DataFrame.\n",
      "Try using .loc[row_indexer,col_indexer] = value instead\n",
      "\n",
      "See the caveats in the documentation: http://pandas.pydata.org/pandas-docs/stable/indexing.html#indexing-view-versus-copy\n",
      "  \"\"\"Entry point for launching an IPython kernel.\n",
      "/anaconda3/lib/python3.6/site-packages/ipykernel_launcher.py:2: SettingWithCopyWarning: \n",
      "A value is trying to be set on a copy of a slice from a DataFrame.\n",
      "Try using .loc[row_indexer,col_indexer] = value instead\n",
      "\n",
      "See the caveats in the documentation: http://pandas.pydata.org/pandas-docs/stable/indexing.html#indexing-view-versus-copy\n",
      "  \n",
      "/anaconda3/lib/python3.6/site-packages/ipykernel_launcher.py:3: SettingWithCopyWarning: \n",
      "A value is trying to be set on a copy of a slice from a DataFrame.\n",
      "Try using .loc[row_indexer,col_indexer] = value instead\n",
      "\n",
      "See the caveats in the documentation: http://pandas.pydata.org/pandas-docs/stable/indexing.html#indexing-view-versus-copy\n",
      "  This is separate from the ipykernel package so we can avoid doing imports until\n",
      "/anaconda3/lib/python3.6/site-packages/ipykernel_launcher.py:4: SettingWithCopyWarning: \n",
      "A value is trying to be set on a copy of a slice from a DataFrame.\n",
      "Try using .loc[row_indexer,col_indexer] = value instead\n",
      "\n",
      "See the caveats in the documentation: http://pandas.pydata.org/pandas-docs/stable/indexing.html#indexing-view-versus-copy\n",
      "  after removing the cwd from sys.path.\n",
      "/anaconda3/lib/python3.6/site-packages/ipykernel_launcher.py:5: SettingWithCopyWarning: \n",
      "A value is trying to be set on a copy of a slice from a DataFrame.\n",
      "Try using .loc[row_indexer,col_indexer] = value instead\n",
      "\n",
      "See the caveats in the documentation: http://pandas.pydata.org/pandas-docs/stable/indexing.html#indexing-view-versus-copy\n",
      "  \"\"\"\n"
     ]
    },
    {
     "data": {
      "text/html": [
       "<div>\n",
       "<style>\n",
       "    .dataframe thead tr:only-child th {\n",
       "        text-align: right;\n",
       "    }\n",
       "\n",
       "    .dataframe thead th {\n",
       "        text-align: left;\n",
       "    }\n",
       "\n",
       "    .dataframe tbody tr th {\n",
       "        vertical-align: top;\n",
       "    }\n",
       "</style>\n",
       "<table border=\"1\" class=\"dataframe\">\n",
       "  <thead>\n",
       "    <tr style=\"text-align: right;\">\n",
       "      <th></th>\n",
       "      <th>address</th>\n",
       "      <th>blockHash</th>\n",
       "      <th>blockNumber</th>\n",
       "      <th>data</th>\n",
       "      <th>logIndex</th>\n",
       "      <th>removed</th>\n",
       "      <th>topics</th>\n",
       "      <th>transactionHash</th>\n",
       "      <th>transactionIndex</th>\n",
       "      <th>contract</th>\n",
       "      <th>event</th>\n",
       "      <th>owner</th>\n",
       "      <th>matronId</th>\n",
       "      <th>sireId</th>\n",
       "      <th>matronId_dec</th>\n",
       "      <th>sireId_dec</th>\n",
       "    </tr>\n",
       "  </thead>\n",
       "  <tbody>\n",
       "    <tr>\n",
       "      <th>6</th>\n",
       "      <td>0x06012c8cf97bead5deae237070f9587f8e7a266d</td>\n",
       "      <td>0x004ce603b20da361ed0e57f771a51df66c7dee6287a1...</td>\n",
       "      <td>0x4ea2bf</td>\n",
       "      <td>0x000000000000000000000000d387a6e4e84a6c86bd90...</td>\n",
       "      <td>0xb</td>\n",
       "      <td>False</td>\n",
       "      <td>[0x241ea03ca20251805084d27d4440371c34a0b85ff10...</td>\n",
       "      <td>0x8e27f14f3ab9e9a29127dd3078e5e5212059cabf3bfa...</td>\n",
       "      <td>0xc</td>\n",
       "      <td>core</td>\n",
       "      <td>Pregnant</td>\n",
       "      <td>0xd387a6e4e84a6c86bd90c158c6028a58cc8ac459</td>\n",
       "      <td>0000000000000000000000000000000000000000000000...</td>\n",
       "      <td>0000000000000000000000000000000000000000000000...</td>\n",
       "      <td>550241</td>\n",
       "      <td>550239</td>\n",
       "    </tr>\n",
       "    <tr>\n",
       "      <th>7</th>\n",
       "      <td>0x06012c8cf97bead5deae237070f9587f8e7a266d</td>\n",
       "      <td>0x004ce603b20da361ed0e57f771a51df66c7dee6287a1...</td>\n",
       "      <td>0x4ea2bf</td>\n",
       "      <td>0x0000000000000000000000003c30e0ce0bd53978d8ba...</td>\n",
       "      <td>0xd</td>\n",
       "      <td>False</td>\n",
       "      <td>[0x241ea03ca20251805084d27d4440371c34a0b85ff10...</td>\n",
       "      <td>0xae84ded1f4c80d73d02da4edf5950e90a002db463f57...</td>\n",
       "      <td>0x13</td>\n",
       "      <td>core</td>\n",
       "      <td>Pregnant</td>\n",
       "      <td>0x3c30e0ce0bd53978d8bae895e6b378e033ed129e</td>\n",
       "      <td>0000000000000000000000000000000000000000000000...</td>\n",
       "      <td>0000000000000000000000000000000000000000000000...</td>\n",
       "      <td>544964</td>\n",
       "      <td>542275</td>\n",
       "    </tr>\n",
       "    <tr>\n",
       "      <th>8</th>\n",
       "      <td>0x06012c8cf97bead5deae237070f9587f8e7a266d</td>\n",
       "      <td>0x483ccdb8dc4765a023e5d5effb428ffb90adae9210a6...</td>\n",
       "      <td>0x4ea2c0</td>\n",
       "      <td>0x00000000000000000000000089eacd3f14e387faa9f3...</td>\n",
       "      <td>0xd</td>\n",
       "      <td>False</td>\n",
       "      <td>[0x241ea03ca20251805084d27d4440371c34a0b85ff10...</td>\n",
       "      <td>0xfca1c4d3c4ef1337781863e74f74f6e70ca5d004d510...</td>\n",
       "      <td>0x1c</td>\n",
       "      <td>core</td>\n",
       "      <td>Pregnant</td>\n",
       "      <td>0x89eacd3f14e387faa9f3d1f3f917ebdf8221d430</td>\n",
       "      <td>0000000000000000000000000000000000000000000000...</td>\n",
       "      <td>0000000000000000000000000000000000000000000000...</td>\n",
       "      <td>547360</td>\n",
       "      <td>547357</td>\n",
       "    </tr>\n",
       "    <tr>\n",
       "      <th>9</th>\n",
       "      <td>0x06012c8cf97bead5deae237070f9587f8e7a266d</td>\n",
       "      <td>0x483ccdb8dc4765a023e5d5effb428ffb90adae9210a6...</td>\n",
       "      <td>0x4ea2c0</td>\n",
       "      <td>0x000000000000000000000000d387a6e4e84a6c86bd90...</td>\n",
       "      <td>0x10</td>\n",
       "      <td>False</td>\n",
       "      <td>[0x241ea03ca20251805084d27d4440371c34a0b85ff10...</td>\n",
       "      <td>0xabce181d6d671267266e5d2efc648804a4513fe15d07...</td>\n",
       "      <td>0x1f</td>\n",
       "      <td>core</td>\n",
       "      <td>Pregnant</td>\n",
       "      <td>0xd387a6e4e84a6c86bd90c158c6028a58cc8ac459</td>\n",
       "      <td>0000000000000000000000000000000000000000000000...</td>\n",
       "      <td>0000000000000000000000000000000000000000000000...</td>\n",
       "      <td>546513</td>\n",
       "      <td>550238</td>\n",
       "    </tr>\n",
       "    <tr>\n",
       "      <th>10</th>\n",
       "      <td>0x06012c8cf97bead5deae237070f9587f8e7a266d</td>\n",
       "      <td>0x483ccdb8dc4765a023e5d5effb428ffb90adae9210a6...</td>\n",
       "      <td>0x4ea2c0</td>\n",
       "      <td>0x000000000000000000000000d4aee0dd6b56bcd831ff...</td>\n",
       "      <td>0x1c</td>\n",
       "      <td>False</td>\n",
       "      <td>[0x241ea03ca20251805084d27d4440371c34a0b85ff10...</td>\n",
       "      <td>0x4a9d2e9185a9946c2be65ab4e2b139ec8bc6ede878a0...</td>\n",
       "      <td>0x37</td>\n",
       "      <td>core</td>\n",
       "      <td>Pregnant</td>\n",
       "      <td>0xd4aee0dd6b56bcd831ffb4c1d8aced71fcf37fa5</td>\n",
       "      <td>0000000000000000000000000000000000000000000000...</td>\n",
       "      <td>0000000000000000000000000000000000000000000000...</td>\n",
       "      <td>540869</td>\n",
       "      <td>550024</td>\n",
       "    </tr>\n",
       "  </tbody>\n",
       "</table>\n",
       "</div>"
      ],
      "text/plain": [
       "                                       address  \\\n",
       "6   0x06012c8cf97bead5deae237070f9587f8e7a266d   \n",
       "7   0x06012c8cf97bead5deae237070f9587f8e7a266d   \n",
       "8   0x06012c8cf97bead5deae237070f9587f8e7a266d   \n",
       "9   0x06012c8cf97bead5deae237070f9587f8e7a266d   \n",
       "10  0x06012c8cf97bead5deae237070f9587f8e7a266d   \n",
       "\n",
       "                                            blockHash blockNumber  \\\n",
       "6   0x004ce603b20da361ed0e57f771a51df66c7dee6287a1...    0x4ea2bf   \n",
       "7   0x004ce603b20da361ed0e57f771a51df66c7dee6287a1...    0x4ea2bf   \n",
       "8   0x483ccdb8dc4765a023e5d5effb428ffb90adae9210a6...    0x4ea2c0   \n",
       "9   0x483ccdb8dc4765a023e5d5effb428ffb90adae9210a6...    0x4ea2c0   \n",
       "10  0x483ccdb8dc4765a023e5d5effb428ffb90adae9210a6...    0x4ea2c0   \n",
       "\n",
       "                                                 data logIndex  removed  \\\n",
       "6   0x000000000000000000000000d387a6e4e84a6c86bd90...      0xb    False   \n",
       "7   0x0000000000000000000000003c30e0ce0bd53978d8ba...      0xd    False   \n",
       "8   0x00000000000000000000000089eacd3f14e387faa9f3...      0xd    False   \n",
       "9   0x000000000000000000000000d387a6e4e84a6c86bd90...     0x10    False   \n",
       "10  0x000000000000000000000000d4aee0dd6b56bcd831ff...     0x1c    False   \n",
       "\n",
       "                                               topics  \\\n",
       "6   [0x241ea03ca20251805084d27d4440371c34a0b85ff10...   \n",
       "7   [0x241ea03ca20251805084d27d4440371c34a0b85ff10...   \n",
       "8   [0x241ea03ca20251805084d27d4440371c34a0b85ff10...   \n",
       "9   [0x241ea03ca20251805084d27d4440371c34a0b85ff10...   \n",
       "10  [0x241ea03ca20251805084d27d4440371c34a0b85ff10...   \n",
       "\n",
       "                                      transactionHash transactionIndex  \\\n",
       "6   0x8e27f14f3ab9e9a29127dd3078e5e5212059cabf3bfa...              0xc   \n",
       "7   0xae84ded1f4c80d73d02da4edf5950e90a002db463f57...             0x13   \n",
       "8   0xfca1c4d3c4ef1337781863e74f74f6e70ca5d004d510...             0x1c   \n",
       "9   0xabce181d6d671267266e5d2efc648804a4513fe15d07...             0x1f   \n",
       "10  0x4a9d2e9185a9946c2be65ab4e2b139ec8bc6ede878a0...             0x37   \n",
       "\n",
       "   contract     event                                       owner  \\\n",
       "6      core  Pregnant  0xd387a6e4e84a6c86bd90c158c6028a58cc8ac459   \n",
       "7      core  Pregnant  0x3c30e0ce0bd53978d8bae895e6b378e033ed129e   \n",
       "8      core  Pregnant  0x89eacd3f14e387faa9f3d1f3f917ebdf8221d430   \n",
       "9      core  Pregnant  0xd387a6e4e84a6c86bd90c158c6028a58cc8ac459   \n",
       "10     core  Pregnant  0xd4aee0dd6b56bcd831ffb4c1d8aced71fcf37fa5   \n",
       "\n",
       "                                             matronId  \\\n",
       "6   0000000000000000000000000000000000000000000000...   \n",
       "7   0000000000000000000000000000000000000000000000...   \n",
       "8   0000000000000000000000000000000000000000000000...   \n",
       "9   0000000000000000000000000000000000000000000000...   \n",
       "10  0000000000000000000000000000000000000000000000...   \n",
       "\n",
       "                                               sireId  matronId_dec  \\\n",
       "6   0000000000000000000000000000000000000000000000...        550241   \n",
       "7   0000000000000000000000000000000000000000000000...        544964   \n",
       "8   0000000000000000000000000000000000000000000000...        547360   \n",
       "9   0000000000000000000000000000000000000000000000...        546513   \n",
       "10  0000000000000000000000000000000000000000000000...        540869   \n",
       "\n",
       "    sireId_dec  \n",
       "6       550239  \n",
       "7       542275  \n",
       "8       547357  \n",
       "9       550238  \n",
       "10      550024  "
      ]
     },
     "execution_count": 423,
     "metadata": {},
     "output_type": "execute_result"
    }
   ],
   "source": [
    "pregnancies['owner'] = '0x' + pregnancies['data'].apply(lambda x: x[26:66])\n",
    "pregnancies['matronId'] = pregnancies['data'].apply(lambda x: x[66:130])\n",
    "pregnancies['sireId'] = pregnancies['data'].apply(lambda x: x[130:194])\n",
    "pregnancies['matronId_dec'] = pregnancies['data'].apply(lambda x: int(x[66:130],16))\n",
    "pregnancies['sireId_dec'] = pregnancies['data'].apply(lambda x: int(x[130:194],16))\n",
    "pregnancies.head()"
   ]
  },
  {
   "cell_type": "code",
   "execution_count": 424,
   "metadata": {},
   "outputs": [
    {
     "name": "stderr",
     "output_type": "stream",
     "text": [
      "/anaconda3/lib/python3.6/site-packages/ipykernel_launcher.py:5: SettingWithCopyWarning: \n",
      "A value is trying to be set on a copy of a slice from a DataFrame.\n",
      "Try using .loc[row_indexer,col_indexer] = value instead\n",
      "\n",
      "See the caveats in the documentation: http://pandas.pydata.org/pandas-docs/stable/indexing.html#indexing-view-versus-copy\n",
      "  \"\"\"\n",
      "/anaconda3/lib/python3.6/site-packages/ipykernel_launcher.py:6: SettingWithCopyWarning: \n",
      "A value is trying to be set on a copy of a slice from a DataFrame.\n",
      "Try using .loc[row_indexer,col_indexer] = value instead\n",
      "\n",
      "See the caveats in the documentation: http://pandas.pydata.org/pandas-docs/stable/indexing.html#indexing-view-versus-copy\n",
      "  \n"
     ]
    }
   ],
   "source": [
    "def getKittyGenes(kittyId):\n",
    "    kitty = eth_call(to_address=coreContract, data='0xe98b7f4d'+kittyId)\n",
    "    return kitty[-64:]\n",
    "\n",
    "pregnancies['matronGenes'] = pregnancies['matronId'].apply(lambda x: '0x'+getKittyGenes(x))\n",
    "pregnancies['sireGenes'] = pregnancies['sireId'].apply(lambda x: '0x'+getKittyGenes(x))"
   ]
  },
  {
   "cell_type": "code",
   "execution_count": 425,
   "metadata": {},
   "outputs": [
    {
     "data": {
      "text/html": [
       "<div>\n",
       "<style>\n",
       "    .dataframe thead tr:only-child th {\n",
       "        text-align: right;\n",
       "    }\n",
       "\n",
       "    .dataframe thead th {\n",
       "        text-align: left;\n",
       "    }\n",
       "\n",
       "    .dataframe tbody tr th {\n",
       "        vertical-align: top;\n",
       "    }\n",
       "</style>\n",
       "<table border=\"1\" class=\"dataframe\">\n",
       "  <thead>\n",
       "    <tr style=\"text-align: right;\">\n",
       "      <th></th>\n",
       "      <th>address</th>\n",
       "      <th>blockHash</th>\n",
       "      <th>blockNumber</th>\n",
       "      <th>data</th>\n",
       "      <th>logIndex</th>\n",
       "      <th>removed</th>\n",
       "      <th>topics</th>\n",
       "      <th>transactionHash</th>\n",
       "      <th>transactionIndex</th>\n",
       "      <th>contract</th>\n",
       "      <th>event</th>\n",
       "      <th>owner</th>\n",
       "      <th>matronId</th>\n",
       "      <th>sireId</th>\n",
       "      <th>matronId_dec</th>\n",
       "      <th>sireId_dec</th>\n",
       "      <th>matronGenes</th>\n",
       "      <th>sireGenes</th>\n",
       "    </tr>\n",
       "  </thead>\n",
       "  <tbody>\n",
       "    <tr>\n",
       "      <th>6</th>\n",
       "      <td>0x06012c8cf97bead5deae237070f9587f8e7a266d</td>\n",
       "      <td>0x004ce603b20da361ed0e57f771a51df66c7dee6287a1...</td>\n",
       "      <td>0x4ea2bf</td>\n",
       "      <td>0x000000000000000000000000d387a6e4e84a6c86bd90...</td>\n",
       "      <td>0xb</td>\n",
       "      <td>False</td>\n",
       "      <td>[0x241ea03ca20251805084d27d4440371c34a0b85ff10...</td>\n",
       "      <td>0x8e27f14f3ab9e9a29127dd3078e5e5212059cabf3bfa...</td>\n",
       "      <td>0xc</td>\n",
       "      <td>core</td>\n",
       "      <td>Pregnant</td>\n",
       "      <td>0xd387a6e4e84a6c86bd90c158c6028a58cc8ac459</td>\n",
       "      <td>0000000000000000000000000000000000000000000000...</td>\n",
       "      <td>0000000000000000000000000000000000000000000000...</td>\n",
       "      <td>550241</td>\n",
       "      <td>550239</td>\n",
       "      <td>0x00004316b398c5318c30252a630e7098933394c52823...</td>\n",
       "      <td>0x00005b108296670a5214a92939d8221a643258e30545...</td>\n",
       "    </tr>\n",
       "    <tr>\n",
       "      <th>7</th>\n",
       "      <td>0x06012c8cf97bead5deae237070f9587f8e7a266d</td>\n",
       "      <td>0x004ce603b20da361ed0e57f771a51df66c7dee6287a1...</td>\n",
       "      <td>0x4ea2bf</td>\n",
       "      <td>0x0000000000000000000000003c30e0ce0bd53978d8ba...</td>\n",
       "      <td>0xd</td>\n",
       "      <td>False</td>\n",
       "      <td>[0x241ea03ca20251805084d27d4440371c34a0b85ff10...</td>\n",
       "      <td>0xae84ded1f4c80d73d02da4edf5950e90a002db463f57...</td>\n",
       "      <td>0x13</td>\n",
       "      <td>core</td>\n",
       "      <td>Pregnant</td>\n",
       "      <td>0x3c30e0ce0bd53978d8bae895e6b378e033ed129e</td>\n",
       "      <td>0000000000000000000000000000000000000000000000...</td>\n",
       "      <td>0000000000000000000000000000000000000000000000...</td>\n",
       "      <td>544964</td>\n",
       "      <td>542275</td>\n",
       "      <td>0x00005ad94210e718c6e0255a630c308cc66212b38540...</td>\n",
       "      <td>0x00005ad88318c6498617201a130f1110e4639ad79480...</td>\n",
       "    </tr>\n",
       "    <tr>\n",
       "      <th>8</th>\n",
       "      <td>0x06012c8cf97bead5deae237070f9587f8e7a266d</td>\n",
       "      <td>0x483ccdb8dc4765a023e5d5effb428ffb90adae9210a6...</td>\n",
       "      <td>0x4ea2c0</td>\n",
       "      <td>0x00000000000000000000000089eacd3f14e387faa9f3...</td>\n",
       "      <td>0xd</td>\n",
       "      <td>False</td>\n",
       "      <td>[0x241ea03ca20251805084d27d4440371c34a0b85ff10...</td>\n",
       "      <td>0xfca1c4d3c4ef1337781863e74f74f6e70ca5d004d510...</td>\n",
       "      <td>0x1c</td>\n",
       "      <td>core</td>\n",
       "      <td>Pregnant</td>\n",
       "      <td>0x89eacd3f14e387faa9f3d1f3f917ebdf8221d430</td>\n",
       "      <td>0000000000000000000000000000000000000000000000...</td>\n",
       "      <td>0000000000000000000000000000000000000000000000...</td>\n",
       "      <td>547360</td>\n",
       "      <td>547357</td>\n",
       "      <td>0x000042d14210a54a4211b84261ca5028016b50e03de6...</td>\n",
       "      <td>0x00005a508210e1718295ac4229580084036b14e28085...</td>\n",
       "    </tr>\n",
       "    <tr>\n",
       "      <th>9</th>\n",
       "      <td>0x06012c8cf97bead5deae237070f9587f8e7a266d</td>\n",
       "      <td>0x483ccdb8dc4765a023e5d5effb428ffb90adae9210a6...</td>\n",
       "      <td>0x4ea2c0</td>\n",
       "      <td>0x000000000000000000000000d387a6e4e84a6c86bd90...</td>\n",
       "      <td>0x10</td>\n",
       "      <td>False</td>\n",
       "      <td>[0x241ea03ca20251805084d27d4440371c34a0b85ff10...</td>\n",
       "      <td>0xabce181d6d671267266e5d2efc648804a4513fe15d07...</td>\n",
       "      <td>0x1f</td>\n",
       "      <td>core</td>\n",
       "      <td>Pregnant</td>\n",
       "      <td>0xd387a6e4e84a6c86bd90c158c6028a58cc8ac459</td>\n",
       "      <td>0000000000000000000000000000000000000000000000...</td>\n",
       "      <td>0000000000000000000000000000000000000000000000...</td>\n",
       "      <td>546513</td>\n",
       "      <td>550238</td>\n",
       "      <td>0x00004b16b394a54982978d4929d87090d34a0ce31084...</td>\n",
       "      <td>0x00005ad6b31ca5704c31bd2919c43218c45b5b632943...</td>\n",
       "    </tr>\n",
       "    <tr>\n",
       "      <th>10</th>\n",
       "      <td>0x06012c8cf97bead5deae237070f9587f8e7a266d</td>\n",
       "      <td>0x483ccdb8dc4765a023e5d5effb428ffb90adae9210a6...</td>\n",
       "      <td>0x4ea2c0</td>\n",
       "      <td>0x000000000000000000000000d4aee0dd6b56bcd831ff...</td>\n",
       "      <td>0x1c</td>\n",
       "      <td>False</td>\n",
       "      <td>[0x241ea03ca20251805084d27d4440371c34a0b85ff10...</td>\n",
       "      <td>0x4a9d2e9185a9946c2be65ab4e2b139ec8bc6ede878a0...</td>\n",
       "      <td>0x37</td>\n",
       "      <td>core</td>\n",
       "      <td>Pregnant</td>\n",
       "      <td>0xd4aee0dd6b56bcd831ffb4c1d8aced71fcf37fa5</td>\n",
       "      <td>0000000000000000000000000000000000000000000000...</td>\n",
       "      <td>0000000000000000000000000000000000000000000000...</td>\n",
       "      <td>540869</td>\n",
       "      <td>550024</td>\n",
       "      <td>0x00007a58b09c243386142c0900ce220584320c42bde3...</td>\n",
       "      <td>0x000063d8829c33718611bd6b00180610ec618c8000a3...</td>\n",
       "    </tr>\n",
       "  </tbody>\n",
       "</table>\n",
       "</div>"
      ],
      "text/plain": [
       "                                       address  \\\n",
       "6   0x06012c8cf97bead5deae237070f9587f8e7a266d   \n",
       "7   0x06012c8cf97bead5deae237070f9587f8e7a266d   \n",
       "8   0x06012c8cf97bead5deae237070f9587f8e7a266d   \n",
       "9   0x06012c8cf97bead5deae237070f9587f8e7a266d   \n",
       "10  0x06012c8cf97bead5deae237070f9587f8e7a266d   \n",
       "\n",
       "                                            blockHash blockNumber  \\\n",
       "6   0x004ce603b20da361ed0e57f771a51df66c7dee6287a1...    0x4ea2bf   \n",
       "7   0x004ce603b20da361ed0e57f771a51df66c7dee6287a1...    0x4ea2bf   \n",
       "8   0x483ccdb8dc4765a023e5d5effb428ffb90adae9210a6...    0x4ea2c0   \n",
       "9   0x483ccdb8dc4765a023e5d5effb428ffb90adae9210a6...    0x4ea2c0   \n",
       "10  0x483ccdb8dc4765a023e5d5effb428ffb90adae9210a6...    0x4ea2c0   \n",
       "\n",
       "                                                 data logIndex  removed  \\\n",
       "6   0x000000000000000000000000d387a6e4e84a6c86bd90...      0xb    False   \n",
       "7   0x0000000000000000000000003c30e0ce0bd53978d8ba...      0xd    False   \n",
       "8   0x00000000000000000000000089eacd3f14e387faa9f3...      0xd    False   \n",
       "9   0x000000000000000000000000d387a6e4e84a6c86bd90...     0x10    False   \n",
       "10  0x000000000000000000000000d4aee0dd6b56bcd831ff...     0x1c    False   \n",
       "\n",
       "                                               topics  \\\n",
       "6   [0x241ea03ca20251805084d27d4440371c34a0b85ff10...   \n",
       "7   [0x241ea03ca20251805084d27d4440371c34a0b85ff10...   \n",
       "8   [0x241ea03ca20251805084d27d4440371c34a0b85ff10...   \n",
       "9   [0x241ea03ca20251805084d27d4440371c34a0b85ff10...   \n",
       "10  [0x241ea03ca20251805084d27d4440371c34a0b85ff10...   \n",
       "\n",
       "                                      transactionHash transactionIndex  \\\n",
       "6   0x8e27f14f3ab9e9a29127dd3078e5e5212059cabf3bfa...              0xc   \n",
       "7   0xae84ded1f4c80d73d02da4edf5950e90a002db463f57...             0x13   \n",
       "8   0xfca1c4d3c4ef1337781863e74f74f6e70ca5d004d510...             0x1c   \n",
       "9   0xabce181d6d671267266e5d2efc648804a4513fe15d07...             0x1f   \n",
       "10  0x4a9d2e9185a9946c2be65ab4e2b139ec8bc6ede878a0...             0x37   \n",
       "\n",
       "   contract     event                                       owner  \\\n",
       "6      core  Pregnant  0xd387a6e4e84a6c86bd90c158c6028a58cc8ac459   \n",
       "7      core  Pregnant  0x3c30e0ce0bd53978d8bae895e6b378e033ed129e   \n",
       "8      core  Pregnant  0x89eacd3f14e387faa9f3d1f3f917ebdf8221d430   \n",
       "9      core  Pregnant  0xd387a6e4e84a6c86bd90c158c6028a58cc8ac459   \n",
       "10     core  Pregnant  0xd4aee0dd6b56bcd831ffb4c1d8aced71fcf37fa5   \n",
       "\n",
       "                                             matronId  \\\n",
       "6   0000000000000000000000000000000000000000000000...   \n",
       "7   0000000000000000000000000000000000000000000000...   \n",
       "8   0000000000000000000000000000000000000000000000...   \n",
       "9   0000000000000000000000000000000000000000000000...   \n",
       "10  0000000000000000000000000000000000000000000000...   \n",
       "\n",
       "                                               sireId  matronId_dec  \\\n",
       "6   0000000000000000000000000000000000000000000000...        550241   \n",
       "7   0000000000000000000000000000000000000000000000...        544964   \n",
       "8   0000000000000000000000000000000000000000000000...        547360   \n",
       "9   0000000000000000000000000000000000000000000000...        546513   \n",
       "10  0000000000000000000000000000000000000000000000...        540869   \n",
       "\n",
       "    sireId_dec                                        matronGenes  \\\n",
       "6       550239  0x00004316b398c5318c30252a630e7098933394c52823...   \n",
       "7       542275  0x00005ad94210e718c6e0255a630c308cc66212b38540...   \n",
       "8       547357  0x000042d14210a54a4211b84261ca5028016b50e03de6...   \n",
       "9       550238  0x00004b16b394a54982978d4929d87090d34a0ce31084...   \n",
       "10      550024  0x00007a58b09c243386142c0900ce220584320c42bde3...   \n",
       "\n",
       "                                            sireGenes  \n",
       "6   0x00005b108296670a5214a92939d8221a643258e30545...  \n",
       "7   0x00005ad88318c6498617201a130f1110e4639ad79480...  \n",
       "8   0x00005a508210e1718295ac4229580084036b14e28085...  \n",
       "9   0x00005ad6b31ca5704c31bd2919c43218c45b5b632943...  \n",
       "10  0x000063d8829c33718611bd6b00180610ec618c8000a3...  "
      ]
     },
     "execution_count": 425,
     "metadata": {},
     "output_type": "execute_result"
    }
   ],
   "source": [
    "pregnancies.head()"
   ]
  },
  {
   "cell_type": "markdown",
   "metadata": {},
   "source": [
    "Next: split genes into cattributes (is that how it works?) and plot histograms"
   ]
  }
 ],
 "metadata": {
  "kernelspec": {
   "display_name": "Python 3",
   "language": "python",
   "name": "python3"
  },
  "language_info": {
   "codemirror_mode": {
    "name": "ipython",
    "version": 3
   },
   "file_extension": ".py",
   "mimetype": "text/x-python",
   "name": "python",
   "nbconvert_exporter": "python",
   "pygments_lexer": "ipython3",
   "version": "3.6.3"
  }
 },
 "nbformat": 4,
 "nbformat_minor": 2
}
