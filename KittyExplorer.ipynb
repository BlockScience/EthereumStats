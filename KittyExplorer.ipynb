{
 "cells": [
  {
   "cell_type": "code",
   "execution_count": 250,
   "metadata": {
    "collapsed": true
   },
   "outputs": [],
   "source": [
    "import requests, json\n",
    "import pandas as pd\n",
    "import numpy as np\n",
    "%matplotlib inline\n",
    "SESSION = requests.Session()\n",
    "f = open(\"bs_node_ip.txt\",\"r\")\n",
    "RPC_HOST = f.readline()\n",
    "RPC_HOST = str.replace(RPC_HOST,'\\n','')\n",
    "RPC_PORT = '8545'\n",
    "RPC_URL = 'http://'+RPC_HOST+':'+RPC_PORT"
   ]
  },
  {
   "cell_type": "markdown",
   "metadata": {},
   "source": [
    "## Basic JSON downloading"
   ]
  },
  {
   "cell_type": "code",
   "execution_count": 140,
   "metadata": {
    "collapsed": true
   },
   "outputs": [],
   "source": [
    "def getJSON(url, d=None):\n",
    "    h = {\"Content-Type\": \"application/json\"}\n",
    "    if d is None:\n",
    "        r = SESSION.get(url, headers=h)\n",
    "    else:\n",
    "        r = SESSION.post(url, data=d, headers=h)\n",
    "    json_data = r.text\n",
    "    response = json.loads(json_data)\n",
    "    return response"
   ]
  },
  {
   "cell_type": "code",
   "execution_count": 141,
   "metadata": {
    "collapsed": true
   },
   "outputs": [],
   "source": [
    "def getRawJSON(url, d=None):\n",
    "    h = {\"Content-Type\": \"application/json\"}\n",
    "    if d is None:\n",
    "        r = SESSION.get(url, headers=h)\n",
    "    else:\n",
    "        r = SESSION.post(url, data=d, headers=h)\n",
    "    json_data = r.text\n",
    "    return json_data"
   ]
  },
  {
   "cell_type": "code",
   "execution_count": 142,
   "metadata": {
    "collapsed": true
   },
   "outputs": [],
   "source": [
    "# test if the getJSON function supports GET requests\n",
    "# getJSON('https://api.etherscan.io/api?module=account&action=balance&address=0xde0b295669a9fd93d5f28d9ec85e40f4cb697bae&tag=latest&apikey=YourApiKeyToken')"
   ]
  },
  {
   "cell_type": "code",
   "execution_count": 143,
   "metadata": {
    "collapsed": true
   },
   "outputs": [],
   "source": [
    "# test if the getJSON function supports POST requests\n",
    "# getJSON(RPC_URL,'{\"jsonrpc\":\"2.0\",\"method\":\"eth_syncing\",\"params\":[],\"id\":1}')"
   ]
  },
  {
   "cell_type": "markdown",
   "metadata": {},
   "source": [
    "## Consensys EthJsonRpc Package"
   ]
  },
  {
   "cell_type": "markdown",
   "metadata": {},
   "source": [
    "I wasn't able to quickly make the package work on Python 3"
   ]
  },
  {
   "cell_type": "code",
   "execution_count": 144,
   "metadata": {
    "collapsed": true
   },
   "outputs": [],
   "source": [
    "# from ethjsonrpc import EthJsonRpc\n",
    "# c = EthJsonRpc('35.196.250.157', 8545)\n",
    "# print(c.net_version())\n",
    "# print(c.web3_clientVersion())\n",
    "# print(c.eth_gasPrice())"
   ]
  },
  {
   "cell_type": "markdown",
   "metadata": {},
   "source": [
    "So I began copying their functions. Most of them still need testing. Ideally we should fork and make our own package compatible with Python 3"
   ]
  },
  {
   "cell_type": "code",
   "execution_count": 145,
   "metadata": {
    "collapsed": true
   },
   "outputs": [],
   "source": [
    "# FROM https://github.com/ConsenSys/ethjsonrpc/blob/master/ethjsonrpc/utils.py\n",
    "def hex_to_dec(x):\n",
    "    '''\n",
    "    Convert hex to decimal\n",
    "    '''\n",
    "    return int(x, 16)"
   ]
  },
  {
   "cell_type": "code",
   "execution_count": 146,
   "metadata": {
    "collapsed": true
   },
   "outputs": [],
   "source": [
    "# FROM https://github.com/ConsenSys/ethjsonrpc/blob/master/ethjsonrpc/utils.py\n",
    "def clean_hex(d):\n",
    "    '''\n",
    "    Convert decimal to hex and remove the \"L\" suffix that is appended to large\n",
    "    numbers\n",
    "    '''\n",
    "    return hex(d).rstrip('L')"
   ]
  },
  {
   "cell_type": "code",
   "execution_count": 147,
   "metadata": {
    "collapsed": true
   },
   "outputs": [],
   "source": [
    "# FROM https://github.com/ConsenSys/ethjsonrpc/blob/master/ethjsonrpc/utils.py\n",
    "def validate_block(block):\n",
    "#     doesn't work on Python 3\n",
    "#     if isinstance(block, basestring):\n",
    "#         if block not in BLOCK_TAGS:\n",
    "#             raise ValueError('invalid block tag')\n",
    "    if isinstance(block, int):\n",
    "        block = hex(block)\n",
    "    return block"
   ]
  },
  {
   "cell_type": "code",
   "execution_count": 148,
   "metadata": {
    "collapsed": true
   },
   "outputs": [],
   "source": [
    "# FROM https://github.com/ConsenSys/ethjsonrpc/blob/master/ethjsonrpc/utils.py\n",
    "def wei_to_ether(wei):\n",
    "    '''\n",
    "    Convert wei to ether\n",
    "    '''\n",
    "    return 1.0 * wei / 10**18"
   ]
  },
  {
   "cell_type": "code",
   "execution_count": 149,
   "metadata": {
    "collapsed": true
   },
   "outputs": [],
   "source": [
    "# FROM https://github.com/ConsenSys/ethjsonrpc/blob/master/ethjsonrpc/utils.py\n",
    "def ether_to_wei(ether):\n",
    "    '''\n",
    "    Convert ether to wei\n",
    "    '''\n",
    "    return ether * 10**18"
   ]
  },
  {
   "cell_type": "code",
   "execution_count": 150,
   "metadata": {
    "collapsed": true
   },
   "outputs": [],
   "source": [
    "# FROM: https://github.com/ConsenSys/ethjsonrpc/blob/master/ethjsonrpc/exceptions.py\n",
    "class EthJsonRpcError(Exception):\n",
    "    pass\n",
    "class ConnectionError(EthJsonRpcError):\n",
    "    pass\n",
    "class BadStatusCodeError(EthJsonRpcError):\n",
    "    pass\n",
    "class BadJsonError(EthJsonRpcError):\n",
    "    pass\n",
    "class BadResponseError(EthJsonRpcError):\n",
    "    pass"
   ]
  },
  {
   "cell_type": "code",
   "execution_count": 151,
   "metadata": {
    "collapsed": true
   },
   "outputs": [],
   "source": [
    "# FROM: https://github.com/ConsenSys/ethjsonrpc/blob/master/ethjsonrpc/client.py\n",
    "BLOCK_TAG_EARLIEST = 'earliest'\n",
    "BLOCK_TAG_LATEST   = 'latest'\n",
    "BLOCK_TAG_PENDING  = 'pending'\n",
    "BLOCK_TAGS = (\n",
    "    BLOCK_TAG_EARLIEST,\n",
    "    BLOCK_TAG_LATEST,\n",
    "    BLOCK_TAG_PENDING,\n",
    ")"
   ]
  },
  {
   "cell_type": "code",
   "execution_count": 152,
   "metadata": {
    "collapsed": true
   },
   "outputs": [],
   "source": [
    "# FROM: https://github.com/ConsenSys/ethjsonrpc/blob/master/ethjsonrpc/client.py\n",
    "def _call(method, params=None, _id=1):\n",
    "    params = params or []\n",
    "    data = {\n",
    "        'jsonrpc': '2.0',\n",
    "        'method':  method,\n",
    "        'params':  params,\n",
    "        'id':      _id,\n",
    "    }\n",
    "    scheme = 'http'\n",
    "#     if tls:\n",
    "#         scheme += 's'\n",
    "    url = '{}://{}:{}'.format(scheme, RPC_HOST, RPC_PORT)\n",
    "    headers = {'Content-Type': 'application/json'}\n",
    "    try:\n",
    "        r = SESSION.post(url, headers=headers, data=json.dumps(data))\n",
    "    except RequestsConnectionError:\n",
    "        raise ConnectionError\n",
    "    if r.status_code / 100 != 2:\n",
    "        raise BadStatusCodeError(r.status_code)\n",
    "    try:\n",
    "        response = r.json()\n",
    "    except ValueError:\n",
    "        raise BadJsonError(r.text)\n",
    "    try:\n",
    "        return response['result']\n",
    "    except KeyError:\n",
    "        raise BadResponseError(response)"
   ]
  },
  {
   "cell_type": "code",
   "execution_count": 153,
   "metadata": {
    "collapsed": true
   },
   "outputs": [],
   "source": [
    "################################################################################\n",
    "# high-level methods\n",
    "################################################################################"
   ]
  },
  {
   "cell_type": "code",
   "execution_count": 154,
   "metadata": {
    "collapsed": true
   },
   "outputs": [],
   "source": [
    "# FROM: https://github.com/ConsenSys/ethjsonrpc/blob/master/ethjsonrpc/client.py\n",
    "def transfer(from_, to, amount):\n",
    "    '''\n",
    "    Send wei from one address to another\n",
    "    '''\n",
    "    return eth_sendTransaction(from_address=from_, to_address=to, value=amount)"
   ]
  },
  {
   "cell_type": "code",
   "execution_count": 155,
   "metadata": {
    "collapsed": true
   },
   "outputs": [],
   "source": [
    "# FROM: https://github.com/ConsenSys/ethjsonrpc/blob/master/ethjsonrpc/client.py\n",
    "def create_contract(from_, code, gas, sig=None, args=None):\n",
    "    '''\n",
    "    Create a contract on the blockchain from compiled EVM code. Returns the\n",
    "    transaction hash.\n",
    "    '''\n",
    "    from_ = from_ or eth_coinbase()\n",
    "    if sig is not None and args is not None:\n",
    "         types = sig[sig.find('(') + 1: sig.find(')')].split(',')\n",
    "         encoded_params = encode_abi(types, args)\n",
    "         code += encoded_params.encode('hex')\n",
    "    return eth_sendTransaction(from_address=from_, gas=gas, data=code)"
   ]
  },
  {
   "cell_type": "code",
   "execution_count": 156,
   "metadata": {
    "collapsed": true
   },
   "outputs": [],
   "source": [
    "# FROM: https://github.com/ConsenSys/ethjsonrpc/blob/master/ethjsonrpc/client.py\n",
    "def get_contract_address(tx):\n",
    "    '''\n",
    "    Get the address for a contract from the transaction that created it\n",
    "    '''\n",
    "    receipt = eth_getTransactionReceipt(tx)\n",
    "    return receipt['contractAddress']"
   ]
  },
  {
   "cell_type": "code",
   "execution_count": 157,
   "metadata": {
    "collapsed": true
   },
   "outputs": [],
   "source": [
    "# FROM: https://github.com/ConsenSys/ethjsonrpc/blob/master/ethjsonrpc/client.py\n",
    "def call(address, sig, args, result_types):\n",
    "    '''\n",
    "    Call a contract function on the RPC server, without sending a\n",
    "    transaction (useful for reading data)\n",
    "    '''\n",
    "    data = _encode_function(sig, args)\n",
    "    data_hex = data.encode('hex')\n",
    "    response = eth_call(to_address=address, data=data_hex)\n",
    "    return decode_abi(result_types, response[2:].decode('hex'))"
   ]
  },
  {
   "cell_type": "code",
   "execution_count": 158,
   "metadata": {
    "collapsed": true
   },
   "outputs": [],
   "source": [
    "# FROM: https://github.com/ConsenSys/ethjsonrpc/blob/master/ethjsonrpc/client.py\n",
    "def call_with_transaction(from_, address, sig, args, gas=None, gas_price=None, value=None):\n",
    "    '''\n",
    "    Call a contract function by sending a transaction (useful for storing\n",
    "    data)\n",
    "    '''\n",
    "    gas = gas or DEFAULT_GAS_PER_TX\n",
    "    gas_price = gas_price or DEFAULT_GAS_PRICE\n",
    "    data = _encode_function(sig, args)\n",
    "    data_hex = data.encode('hex')\n",
    "    return eth_sendTransaction(from_address=from_, to_address=address, data=data_hex, gas=gas,\n",
    "                                    gas_price=gas_price, value=value)"
   ]
  },
  {
   "cell_type": "code",
   "execution_count": 159,
   "metadata": {
    "collapsed": true
   },
   "outputs": [],
   "source": [
    "################################################################################\n",
    "# JSON-RPC methods\n",
    "################################################################################"
   ]
  },
  {
   "cell_type": "code",
   "execution_count": 160,
   "metadata": {
    "collapsed": true
   },
   "outputs": [],
   "source": [
    "# FROM: https://github.com/ConsenSys/ethjsonrpc/blob/master/ethjsonrpc/client.py\n",
    "def web3_clientVersion():\n",
    "    '''\n",
    "    https://github.com/ethereum/wiki/wiki/JSON-RPC#web3_clientversion\n",
    "    NEEDS TESTING\n",
    "    '''\n",
    "    return _call('web3_clientVersion')"
   ]
  },
  {
   "cell_type": "code",
   "execution_count": 161,
   "metadata": {
    "collapsed": true
   },
   "outputs": [],
   "source": [
    "# FROM: https://github.com/ConsenSys/ethjsonrpc/blob/master/ethjsonrpc/client.py\n",
    "def web3_sha3(data):\n",
    "    '''\n",
    "    https://github.com/ethereum/wiki/wiki/JSON-RPC#web3_sha3\n",
    "    NEEDS TESTING\n",
    "    '''\n",
    "    data = str(data).encode('hex')\n",
    "    return _call('web3_sha3', [data])"
   ]
  },
  {
   "cell_type": "code",
   "execution_count": 162,
   "metadata": {
    "collapsed": true
   },
   "outputs": [],
   "source": [
    "# FROM: https://github.com/ConsenSys/ethjsonrpc/blob/master/ethjsonrpc/client.py\n",
    "def net_version():\n",
    "    '''\n",
    "    https://github.com/ethereum/wiki/wiki/JSON-RPC#net_version\n",
    "    NEEDS TESTING\n",
    "    '''\n",
    "    return _call('net_version')"
   ]
  },
  {
   "cell_type": "code",
   "execution_count": 163,
   "metadata": {
    "collapsed": true
   },
   "outputs": [],
   "source": [
    "# FROM: https://github.com/ConsenSys/ethjsonrpc/blob/master/ethjsonrpc/client.py\n",
    "def net_listening():\n",
    "    '''\n",
    "    https://github.com/ethereum/wiki/wiki/JSON-RPC#net_listening\n",
    "    NEEDS TESTING\n",
    "    '''\n",
    "    return _call('net_listening')"
   ]
  },
  {
   "cell_type": "code",
   "execution_count": 164,
   "metadata": {
    "collapsed": true
   },
   "outputs": [],
   "source": [
    "# FROM: https://github.com/ConsenSys/ethjsonrpc/blob/master/ethjsonrpc/client.py\n",
    "def net_peerCount():\n",
    "    '''\n",
    "    https://github.com/ethereum/wiki/wiki/JSON-RPC#net_peercount\n",
    "    NEEDS TESTING\n",
    "    '''\n",
    "    return hex_to_dec(_call('net_peerCount'))"
   ]
  },
  {
   "cell_type": "code",
   "execution_count": 165,
   "metadata": {
    "collapsed": true
   },
   "outputs": [],
   "source": [
    "def eth_protocolVersion():\n",
    "    '''\n",
    "    https://github.com/ethereum/wiki/wiki/JSON-RPC#eth_protocolversion\n",
    "    NEEDS TESTING\n",
    "    '''\n",
    "    return _call('eth_protocolVersion')"
   ]
  },
  {
   "cell_type": "code",
   "execution_count": 166,
   "metadata": {
    "collapsed": true
   },
   "outputs": [],
   "source": [
    "# FROM: https://github.com/ConsenSys/ethjsonrpc/blob/master/ethjsonrpc/client.py\n",
    "def eth_syncing():\n",
    "    '''\n",
    "    https://github.com/ethereum/wiki/wiki/JSON-RPC#eth_syncing\n",
    "    TESTED - MARKUS 2018-02-07\n",
    "    '''\n",
    "    return _call('eth_syncing')"
   ]
  },
  {
   "cell_type": "code",
   "execution_count": 167,
   "metadata": {
    "collapsed": true
   },
   "outputs": [],
   "source": [
    "# FROM: https://github.com/ConsenSys/ethjsonrpc/blob/master/ethjsonrpc/client.py\n",
    "def eth_coinbase():\n",
    "    '''\n",
    "    https://github.com/ethereum/wiki/wiki/JSON-RPC#eth_coinbase\n",
    "    NEEDS TESTING\n",
    "    '''\n",
    "    return _call('eth_coinbase')"
   ]
  },
  {
   "cell_type": "code",
   "execution_count": 168,
   "metadata": {
    "collapsed": true
   },
   "outputs": [],
   "source": [
    "# FROM: https://github.com/ConsenSys/ethjsonrpc/blob/master/ethjsonrpc/client.py\n",
    "def eth_mining():\n",
    "    '''\n",
    "    https://github.com/ethereum/wiki/wiki/JSON-RPC#eth_mining\n",
    "    NEEDS TESTING\n",
    "    '''\n",
    "    return _call('eth_mining')"
   ]
  },
  {
   "cell_type": "code",
   "execution_count": 169,
   "metadata": {
    "collapsed": true
   },
   "outputs": [],
   "source": [
    "# FROM: https://github.com/ConsenSys/ethjsonrpc/blob/master/ethjsonrpc/client.py\n",
    "def eth_hashrate():\n",
    "    '''\n",
    "    https://github.com/ethereum/wiki/wiki/JSON-RPC#eth_hashrate\n",
    "    NEEDS TESTING\n",
    "    '''\n",
    "    return hex_to_dec(_call('eth_hashrate'))"
   ]
  },
  {
   "cell_type": "code",
   "execution_count": 170,
   "metadata": {
    "collapsed": true
   },
   "outputs": [],
   "source": [
    "# FROM: https://github.com/ConsenSys/ethjsonrpc/blob/master/ethjsonrpc/client.py\n",
    "def eth_gasPrice():\n",
    "    '''\n",
    "    https://github.com/ethereum/wiki/wiki/JSON-RPC#eth_gasprice\n",
    "    NEEDS TESTING\n",
    "    '''\n",
    "    return hex_to_dec(_call('eth_gasPrice'))"
   ]
  },
  {
   "cell_type": "code",
   "execution_count": 171,
   "metadata": {
    "collapsed": true
   },
   "outputs": [],
   "source": [
    "# FROM: https://github.com/ConsenSys/ethjsonrpc/blob/master/ethjsonrpc/client.py\n",
    "def eth_accounts():\n",
    "    '''\n",
    "    https://github.com/ethereum/wiki/wiki/JSON-RPC#eth_accounts\n",
    "    NEEDS TESTING\n",
    "    '''\n",
    "    return _call('eth_accounts')"
   ]
  },
  {
   "cell_type": "code",
   "execution_count": 172,
   "metadata": {
    "collapsed": true
   },
   "outputs": [],
   "source": [
    "# FROM: https://github.com/ConsenSys/ethjsonrpc/blob/master/ethjsonrpc/client.py\n",
    "def eth_blockNumber():\n",
    "    '''\n",
    "    https://github.com/ethereum/wiki/wiki/JSON-RPC#eth_blocknumber\n",
    "    TESTED - MARKUS 2018-02-07\n",
    "    '''\n",
    "    return hex_to_dec(_call('eth_blockNumber'))"
   ]
  },
  {
   "cell_type": "code",
   "execution_count": 173,
   "metadata": {
    "collapsed": true
   },
   "outputs": [],
   "source": [
    "# FROM: https://github.com/ConsenSys/ethjsonrpc/blob/master/ethjsonrpc/client.py\n",
    "def eth_getBalance(address=None, block=BLOCK_TAG_LATEST):\n",
    "    '''\n",
    "    https://github.com/ethereum/wiki/wiki/JSON-RPC#eth_getbalance\n",
    "    TESTED - MARKUS 2018-02-07\n",
    "    '''\n",
    "    address = address or eth_coinbase()\n",
    "    block = validate_block(block)\n",
    "    return hex_to_dec(_call('eth_getBalance', [address, block]))"
   ]
  },
  {
   "cell_type": "code",
   "execution_count": 174,
   "metadata": {
    "collapsed": true
   },
   "outputs": [],
   "source": [
    "# FROM: https://github.com/ConsenSys/ethjsonrpc/blob/master/ethjsonrpc/client.py\n",
    "def eth_getStorageAt(address=None, position=0, block=BLOCK_TAG_LATEST):\n",
    "    '''\n",
    "    https://github.com/ethereum/wiki/wiki/JSON-RPC#eth_getstorageat\n",
    "    NEEDS TESTING\n",
    "    '''\n",
    "    block = validate_block(block)\n",
    "    return _call('eth_getStorageAt', [address, hex(position), block])"
   ]
  },
  {
   "cell_type": "code",
   "execution_count": 175,
   "metadata": {
    "collapsed": true
   },
   "outputs": [],
   "source": [
    "# FROM: https://github.com/ConsenSys/ethjsonrpc/blob/master/ethjsonrpc/client.py\n",
    "def eth_getTransactionCount(address, block=BLOCK_TAG_LATEST):\n",
    "    '''\n",
    "    https://github.com/ethereum/wiki/wiki/JSON-RPC#eth_gettransactioncount\n",
    "    TESTED - MARKUS 2018-02-07\n",
    "    '''\n",
    "    block = validate_block(block)\n",
    "    return hex_to_dec(_call('eth_getTransactionCount', [address, block]))"
   ]
  },
  {
   "cell_type": "code",
   "execution_count": 176,
   "metadata": {
    "collapsed": true
   },
   "outputs": [],
   "source": [
    "# FROM: https://github.com/ConsenSys/ethjsonrpc/blob/master/ethjsonrpc/client.py\n",
    "def eth_getBlockTransactionCountByHash(block_hash):\n",
    "    '''\n",
    "    https://github.com/ethereum/wiki/wiki/JSON-RPC#eth_getblocktransactioncountbyhash\n",
    "    NEEDS TESTING\n",
    "    '''\n",
    "    return hex_to_dec(_call('eth_getBlockTransactionCountByHash', [block_hash]))"
   ]
  },
  {
   "cell_type": "code",
   "execution_count": 177,
   "metadata": {
    "collapsed": true
   },
   "outputs": [],
   "source": [
    "# FROM: https://github.com/ConsenSys/ethjsonrpc/blob/master/ethjsonrpc/client.py\n",
    "def eth_getBlockTransactionCountByNumber(block=BLOCK_TAG_LATEST):\n",
    "    '''\n",
    "    https://github.com/ethereum/wiki/wiki/JSON-RPC#eth_getblocktransactioncountbynumber\n",
    "    NEEDS TESTING\n",
    "    '''\n",
    "    block = validate_block(block)\n",
    "    return hex_to_dec(_call('eth_getBlockTransactionCountByNumber', [block]))"
   ]
  },
  {
   "cell_type": "code",
   "execution_count": 178,
   "metadata": {
    "collapsed": true
   },
   "outputs": [],
   "source": [
    "# FROM: https://github.com/ConsenSys/ethjsonrpc/blob/master/ethjsonrpc/client.py\n",
    "def eth_getUncleCountByBlockHash(block_hash):\n",
    "    '''\n",
    "    https://github.com/ethereum/wiki/wiki/JSON-RPC#eth_getunclecountbyblockhash\n",
    "    NEEDS TESTING\n",
    "    '''\n",
    "    return hex_to_dec(_call('eth_getUncleCountByBlockHash', [block_hash]))"
   ]
  },
  {
   "cell_type": "code",
   "execution_count": 179,
   "metadata": {
    "collapsed": true
   },
   "outputs": [],
   "source": [
    "# FROM: https://github.com/ConsenSys/ethjsonrpc/blob/master/ethjsonrpc/client.py\n",
    "def eth_getUncleCountByBlockNumber(block=BLOCK_TAG_LATEST):\n",
    "    '''\n",
    "    https://github.com/ethereum/wiki/wiki/JSON-RPC#eth_getunclecountbyblocknumber\n",
    "    NEEDS TESTING\n",
    "    '''\n",
    "    block = validate_block(block)\n",
    "    return hex_to_dec(_call('eth_getUncleCountByBlockNumber', [block]))"
   ]
  },
  {
   "cell_type": "code",
   "execution_count": 180,
   "metadata": {
    "collapsed": true
   },
   "outputs": [],
   "source": [
    "# FROM: https://github.com/ConsenSys/ethjsonrpc/blob/master/ethjsonrpc/client.py\n",
    "def eth_getCode(address, default_block=BLOCK_TAG_LATEST):\n",
    "    '''\n",
    "    https://github.com/ethereum/wiki/wiki/JSON-RPC#eth_getcode\n",
    "    NEEDS TESTING\n",
    "    '''\n",
    "#     doesn't work on Python 3\n",
    "#     if isinstance(default_block, basestring):\n",
    "#         if default_block not in BLOCK_TAGS:\n",
    "#             raise ValueError\n",
    "    return _call('eth_getCode', [address, default_block])"
   ]
  },
  {
   "cell_type": "code",
   "execution_count": 181,
   "metadata": {
    "collapsed": true
   },
   "outputs": [],
   "source": [
    "# FROM: https://github.com/ConsenSys/ethjsonrpc/blob/master/ethjsonrpc/client.py\n",
    "def eth_sign(address, data):\n",
    "    '''\n",
    "    https://github.com/ethereum/wiki/wiki/JSON-RPC#eth_sign\n",
    "    NEEDS TESTING\n",
    "    '''\n",
    "    return _call('eth_sign', [address, data])"
   ]
  },
  {
   "cell_type": "code",
   "execution_count": 182,
   "metadata": {
    "collapsed": true
   },
   "outputs": [],
   "source": [
    "# FROM: https://github.com/ConsenSys/ethjsonrpc/blob/master/ethjsonrpc/client.py\n",
    "def eth_sendTransaction(to_address=None, from_address=None, gas=None, gas_price=None, value=None, data=None,\n",
    "                        nonce=None):\n",
    "    '''\n",
    "    https://github.com/ethereum/wiki/wiki/JSON-RPC#eth_sendtransaction\n",
    "    NEEDS TESTING\n",
    "    '''\n",
    "    params = {}\n",
    "    params['from'] = from_address or eth_coinbase()\n",
    "    if to_address is not None:\n",
    "        params['to'] = to_address\n",
    "    if gas is not None:\n",
    "        params['gas'] = hex(gas)\n",
    "    if gas_price is not None:\n",
    "        params['gasPrice'] = clean_hex(gas_price)\n",
    "    if value is not None:\n",
    "        params['value'] = clean_hex(value)\n",
    "    if data is not None:\n",
    "        params['data'] = data\n",
    "    if nonce is not None:\n",
    "        params['nonce'] = hex(nonce)\n",
    "    return _call('eth_sendTransaction', [params])"
   ]
  },
  {
   "cell_type": "code",
   "execution_count": 183,
   "metadata": {
    "collapsed": true
   },
   "outputs": [],
   "source": [
    "# FROM: https://github.com/ConsenSys/ethjsonrpc/blob/master/ethjsonrpc/client.py\n",
    "def eth_sendRawTransaction(data):\n",
    "    '''\n",
    "    https://github.com/ethereum/wiki/wiki/JSON-RPC#eth_sendrawtransaction\n",
    "    NEEDS TESTING\n",
    "    '''\n",
    "    return _call('eth_sendRawTransaction', [data])"
   ]
  },
  {
   "cell_type": "code",
   "execution_count": 184,
   "metadata": {
    "collapsed": true
   },
   "outputs": [],
   "source": [
    "# FROM: https://github.com/ConsenSys/ethjsonrpc/blob/master/ethjsonrpc/client.py\n",
    "def eth_call(to_address, from_address=None, gas=None, gas_price=None, value=None, data=None,\n",
    "             default_block=BLOCK_TAG_LATEST):\n",
    "    '''\n",
    "    https://github.com/ethereum/wiki/wiki/JSON-RPC#eth_call\n",
    "    NEEDS TESTING\n",
    "    '''\n",
    "#     doesn't work on Python 3\n",
    "#     if isinstance(default_block, basestring):\n",
    "#         if default_block not in BLOCK_TAGS:\n",
    "#             raise ValueError\n",
    "    obj = {}\n",
    "    obj['to'] = to_address\n",
    "    if from_address is not None:\n",
    "        obj['from'] = from_address\n",
    "    if gas is not None:\n",
    "        obj['gas'] = hex(gas)\n",
    "    if gas_price is not None:\n",
    "        obj['gasPrice'] = clean_hex(gas_price)\n",
    "    if value is not None:\n",
    "        obj['value'] = value\n",
    "    if data is not None:\n",
    "        obj['data'] = data\n",
    "    return _call('eth_call', [obj, default_block])"
   ]
  },
  {
   "cell_type": "code",
   "execution_count": 185,
   "metadata": {
    "collapsed": true
   },
   "outputs": [],
   "source": [
    "# FROM: https://github.com/ConsenSys/ethjsonrpc/blob/master/ethjsonrpc/client.py\n",
    "def eth_estimateGas(to_address=None, from_address=None, gas=None, gas_price=None, value=None, data=None,\n",
    "                    default_block=BLOCK_TAG_LATEST):\n",
    "    '''\n",
    "    https://github.com/ethereum/wiki/wiki/JSON-RPC#eth_estimategas\n",
    "    NEEDS TESTING\n",
    "    '''\n",
    "#     doesn't work on Python 3\n",
    "#     if isinstance(default_block, basestring):\n",
    "#         if default_block not in BLOCK_TAGS:\n",
    "#             raise ValueError\n",
    "    obj = {}\n",
    "    if to_address is not None:\n",
    "        obj['to'] = to_address\n",
    "    if from_address is not None:\n",
    "        obj['from'] = from_address\n",
    "    if gas is not None:\n",
    "        obj['gas'] = hex(gas)\n",
    "    if gas_price is not None:\n",
    "        obj['gasPrice'] = clean_hex(gas_price)\n",
    "    if value is not None:\n",
    "        obj['value'] = value\n",
    "    if data is not None:\n",
    "        obj['data'] = data\n",
    "    return hex_to_dec(_call('eth_estimateGas', [obj, default_block]))"
   ]
  },
  {
   "cell_type": "code",
   "execution_count": 186,
   "metadata": {
    "collapsed": true
   },
   "outputs": [],
   "source": [
    "# FROM: https://github.com/ConsenSys/ethjsonrpc/blob/master/ethjsonrpc/client.py\n",
    "def eth_getBlockByHash(block_hash, tx_objects=True):\n",
    "    '''\n",
    "    https://github.com/ethereum/wiki/wiki/JSON-RPC#eth_getblockbyhash\n",
    "    NEEDS TESTING\n",
    "    '''\n",
    "    return _call('eth_getBlockByHash', [block_hash, tx_objects])"
   ]
  },
  {
   "cell_type": "code",
   "execution_count": 187,
   "metadata": {
    "collapsed": true
   },
   "outputs": [],
   "source": [
    "# FROM: https://github.com/ConsenSys/ethjsonrpc/blob/master/ethjsonrpc/client.py\n",
    "def eth_getBlockByNumber(block=BLOCK_TAG_LATEST, tx_objects=True):\n",
    "    '''\n",
    "    https://github.com/ethereum/wiki/wiki/JSON-RPC#eth_getblockbynumber\n",
    "    NEEDS TESTING\n",
    "    '''\n",
    "    block = validate_block(block)\n",
    "    return _call('eth_getBlockByNumber', [block, tx_objects])"
   ]
  },
  {
   "cell_type": "code",
   "execution_count": 188,
   "metadata": {
    "collapsed": true
   },
   "outputs": [],
   "source": [
    "# FROM: https://github.com/ConsenSys/ethjsonrpc/blob/master/ethjsonrpc/client.py\n",
    "def eth_getTransactionByHash(tx_hash):\n",
    "    '''\n",
    "    https://github.com/ethereum/wiki/wiki/JSON-RPC#eth_gettransactionbyhash\n",
    "    NEEDS TESTING\n",
    "    '''\n",
    "    return _call('eth_getTransactionByHash', [tx_hash])"
   ]
  },
  {
   "cell_type": "code",
   "execution_count": 189,
   "metadata": {
    "collapsed": true
   },
   "outputs": [],
   "source": [
    "# FROM: https://github.com/ConsenSys/ethjsonrpc/blob/master/ethjsonrpc/client.py\n",
    "def eth_getTransactionByBlockHashAndIndex(block_hash, index=0):\n",
    "    '''\n",
    "    https://github.com/ethereum/wiki/wiki/JSON-RPC#eth_gettransactionbyblockhashandindex\n",
    "    NEEDS TESTING\n",
    "    '''\n",
    "    return _call('eth_getTransactionByBlockHashAndIndex', [block_hash, hex(index)])"
   ]
  },
  {
   "cell_type": "code",
   "execution_count": 190,
   "metadata": {
    "collapsed": true
   },
   "outputs": [],
   "source": [
    "# FROM: https://github.com/ConsenSys/ethjsonrpc/blob/master/ethjsonrpc/client.py\n",
    "def eth_getTransactionByBlockNumberAndIndex(block=BLOCK_TAG_LATEST, index=0):\n",
    "    '''\n",
    "    https://github.com/ethereum/wiki/wiki/JSON-RPC#eth_gettransactionbyblocknumberandindex\n",
    "    NEEDS TESTING\n",
    "    '''\n",
    "    block = validate_block(block)\n",
    "    return _call('eth_getTransactionByBlockNumberAndIndex', [block, hex(index)])"
   ]
  },
  {
   "cell_type": "code",
   "execution_count": 191,
   "metadata": {
    "collapsed": true
   },
   "outputs": [],
   "source": [
    "# FROM: https://github.com/ConsenSys/ethjsonrpc/blob/master/ethjsonrpc/client.py\n",
    "def eth_getTransactionReceipt(tx_hash):\n",
    "    '''\n",
    "    https://github.com/ethereum/wiki/wiki/JSON-RPC#eth_gettransactionreceipt\n",
    "    NEEDS TESTING\n",
    "    '''\n",
    "    return _call('eth_getTransactionReceipt', [tx_hash])"
   ]
  },
  {
   "cell_type": "code",
   "execution_count": 192,
   "metadata": {
    "collapsed": true
   },
   "outputs": [],
   "source": [
    "# FROM: https://github.com/ConsenSys/ethjsonrpc/blob/master/ethjsonrpc/client.py\n",
    "def eth_getUncleByBlockHashAndIndex(block_hash, index=0):\n",
    "    '''\n",
    "    https://github.com/ethereum/wiki/wiki/JSON-RPC#eth_getunclebyblockhashandindex\n",
    "    NEEDS TESTING\n",
    "    '''\n",
    "    return _call('eth_getUncleByBlockHashAndIndex', [block_hash, hex(index)])"
   ]
  },
  {
   "cell_type": "code",
   "execution_count": 193,
   "metadata": {
    "collapsed": true
   },
   "outputs": [],
   "source": [
    "# FROM: https://github.com/ConsenSys/ethjsonrpc/blob/master/ethjsonrpc/client.py\n",
    "def eth_getUncleByBlockNumberAndIndex(block=BLOCK_TAG_LATEST, index=0):\n",
    "    '''\n",
    "    https://github.com/ethereum/wiki/wiki/JSON-RPC#eth_getunclebyblocknumberandindex\n",
    "    NEEDS TESTING\n",
    "    '''\n",
    "    block = validate_block(block)\n",
    "    return _call('eth_getUncleByBlockNumberAndIndex', [block, hex(index)])"
   ]
  },
  {
   "cell_type": "code",
   "execution_count": 194,
   "metadata": {
    "collapsed": true
   },
   "outputs": [],
   "source": [
    "# FROM: https://github.com/ConsenSys/ethjsonrpc/blob/master/ethjsonrpc/client.py\n",
    "def eth_getCompilers():\n",
    "    '''\n",
    "    https://github.com/ethereum/wiki/wiki/JSON-RPC#eth_getcompilers\n",
    "    NEEDS TESTING\n",
    "    '''\n",
    "    return _call('eth_getCompilers')"
   ]
  },
  {
   "cell_type": "code",
   "execution_count": 195,
   "metadata": {
    "collapsed": true
   },
   "outputs": [],
   "source": [
    "# FROM: https://github.com/ConsenSys/ethjsonrpc/blob/master/ethjsonrpc/client.py\n",
    "def eth_compileSolidity(code):\n",
    "    '''\n",
    "    https://github.com/ethereum/wiki/wiki/JSON-RPC#eth_compilesolidity\n",
    "    NEEDS TESTING\n",
    "    '''\n",
    "    return _call('eth_compileSolidity', [code])"
   ]
  },
  {
   "cell_type": "code",
   "execution_count": 196,
   "metadata": {
    "collapsed": true
   },
   "outputs": [],
   "source": [
    "# FROM: https://github.com/ConsenSys/ethjsonrpc/blob/master/ethjsonrpc/client.py\n",
    "def eth_compileLLL(code):\n",
    "    '''\n",
    "    https://github.com/ethereum/wiki/wiki/JSON-RPC#eth_compilelll\n",
    "    N/A\n",
    "    '''\n",
    "    return _call('eth_compileLLL', [code])"
   ]
  },
  {
   "cell_type": "code",
   "execution_count": 197,
   "metadata": {
    "collapsed": true
   },
   "outputs": [],
   "source": [
    "# FROM: https://github.com/ConsenSys/ethjsonrpc/blob/master/ethjsonrpc/client.py\n",
    "def eth_compileSerpent(code):\n",
    "    '''\n",
    "    https://github.com/ethereum/wiki/wiki/JSON-RPC#eth_compileserpent\n",
    "    N/A\n",
    "    '''\n",
    "    return _call('eth_compileSerpent', [code])"
   ]
  },
  {
   "cell_type": "code",
   "execution_count": 198,
   "metadata": {
    "collapsed": true
   },
   "outputs": [],
   "source": [
    "# FROM: https://github.com/ConsenSys/ethjsonrpc/blob/master/ethjsonrpc/client.py\n",
    "def eth_newFilter(from_block=BLOCK_TAG_LATEST, to_block=BLOCK_TAG_LATEST, address=None, topics=None):\n",
    "    '''\n",
    "    https://github.com/ethereum/wiki/wiki/JSON-RPC#eth_newfilter\n",
    "    NEEDS TESTING\n",
    "    '''\n",
    "    _filter = {\n",
    "        'fromBlock': from_block,\n",
    "        'toBlock':   to_block,\n",
    "        'address':   address,\n",
    "        'topics':    topics,\n",
    "    }\n",
    "    return _call('eth_newFilter', [_filter])"
   ]
  },
  {
   "cell_type": "code",
   "execution_count": 199,
   "metadata": {
    "collapsed": true
   },
   "outputs": [],
   "source": [
    "# FROM: https://github.com/ConsenSys/ethjsonrpc/blob/master/ethjsonrpc/client.py\n",
    "def eth_newBlockFilter():\n",
    "    '''\n",
    "    https://github.com/ethereum/wiki/wiki/JSON-RPC#eth_newblockfilter\n",
    "    NEEDS TESTING\n",
    "    '''\n",
    "    return _call('eth_newBlockFilter')"
   ]
  },
  {
   "cell_type": "code",
   "execution_count": 200,
   "metadata": {
    "collapsed": true
   },
   "outputs": [],
   "source": [
    "# FROM: https://github.com/ConsenSys/ethjsonrpc/blob/master/ethjsonrpc/client.py\n",
    "def eth_newPendingTransactionFilter():\n",
    "    '''\n",
    "    https://github.com/ethereum/wiki/wiki/JSON-RPC#eth_newpendingtransactionfilter\n",
    "    NEEDS TESTING\n",
    "    '''\n",
    "    return hex_to_dec(_call('eth_newPendingTransactionFilter'))"
   ]
  },
  {
   "cell_type": "code",
   "execution_count": 201,
   "metadata": {
    "collapsed": true
   },
   "outputs": [],
   "source": [
    "# FROM: https://github.com/ConsenSys/ethjsonrpc/blob/master/ethjsonrpc/client.py\n",
    "def eth_uninstallFilter(filter_id):\n",
    "    '''\n",
    "    https://github.com/ethereum/wiki/wiki/JSON-RPC#eth_uninstallfilter\n",
    "    NEEDS TESTING\n",
    "    '''\n",
    "    return _call('eth_uninstallFilter', [filter_id])"
   ]
  },
  {
   "cell_type": "code",
   "execution_count": 202,
   "metadata": {
    "collapsed": true
   },
   "outputs": [],
   "source": [
    "# FROM: https://github.com/ConsenSys/ethjsonrpc/blob/master/ethjsonrpc/client.py\n",
    "def eth_getFilterChanges(filter_id):\n",
    "    '''\n",
    "    https://github.com/ethereum/wiki/wiki/JSON-RPC#eth_getfilterchanges\n",
    "    NEEDS TESTING\n",
    "    '''\n",
    "    return _call('eth_getFilterChanges', [filter_id])"
   ]
  },
  {
   "cell_type": "code",
   "execution_count": 203,
   "metadata": {
    "collapsed": true
   },
   "outputs": [],
   "source": [
    "# FROM: https://github.com/ConsenSys/ethjsonrpc/blob/master/ethjsonrpc/client.py\n",
    "def eth_getFilterLogs(filter_id):\n",
    "    '''\n",
    "    https://github.com/ethereum/wiki/wiki/JSON-RPC#eth_getfilterlogs\n",
    "    NEEDS TESTING\n",
    "    '''\n",
    "    return _call('eth_getFilterLogs', [filter_id])"
   ]
  },
  {
   "cell_type": "code",
   "execution_count": 204,
   "metadata": {
    "collapsed": true
   },
   "outputs": [],
   "source": [
    "#FROM: https://github.com/ConsenSys/ethjsonrpc/blob/master/ethjsonrpc/client.py\n",
    "#def eth_getLogs(filter_object):\n",
    "#    return _call('eth_getLogs', [filter_object])\n",
    "\n",
    "# redefined by Markus 2018-02-08\n",
    "def eth_getLogs(from_block=BLOCK_TAG_LATEST, to_block=BLOCK_TAG_LATEST, address=None, topics=None):\n",
    "    '''\n",
    "    https://github.com/ethereum/wiki/wiki/JSON-RPC#eth_getlogs\n",
    "    TESTED - MARKUS 2018-02-08\n",
    "    '''\n",
    "    _filter = {\n",
    "        'fromBlock': from_block,\n",
    "        'toBlock':   to_block,\n",
    "        'address':   address,\n",
    "        'topics':    topics,\n",
    "    }\n",
    "    return _call('eth_getLogs', [_filter])"
   ]
  },
  {
   "cell_type": "code",
   "execution_count": 205,
   "metadata": {
    "collapsed": true
   },
   "outputs": [],
   "source": [
    "# FROM: https://github.com/ConsenSys/ethjsonrpc/blob/master/ethjsonrpc/client.py\n",
    "def eth_getWork():\n",
    "    '''\n",
    "    https://github.com/ethereum/wiki/wiki/JSON-RPC#eth_getwork\n",
    "    NEEDS TESTING\n",
    "    '''\n",
    "    return _call('eth_getWork')"
   ]
  },
  {
   "cell_type": "code",
   "execution_count": 206,
   "metadata": {
    "collapsed": true
   },
   "outputs": [],
   "source": [
    "# FROM: https://github.com/ConsenSys/ethjsonrpc/blob/master/ethjsonrpc/client.py\n",
    "def eth_submitWork(nonce, header, mix_digest):\n",
    "    '''\n",
    "    https://github.com/ethereum/wiki/wiki/JSON-RPC#eth_submitwork\n",
    "    NEEDS TESTING\n",
    "    '''\n",
    "    return _call('eth_submitWork', [nonce, header, mix_digest])"
   ]
  },
  {
   "cell_type": "code",
   "execution_count": 207,
   "metadata": {
    "collapsed": true
   },
   "outputs": [],
   "source": [
    "# FROM: https://github.com/ConsenSys/ethjsonrpc/blob/master/ethjsonrpc/client.py\n",
    "def eth_submitHashrate(hash_rate, client_id):\n",
    "    '''\n",
    "    https://github.com/ethereum/wiki/wiki/JSON-RPC#eth_submithashrate\n",
    "    NEEDS TESTING\n",
    "    '''\n",
    "    return _call('eth_submitHashrate', [hex(hash_rate), client_id])"
   ]
  },
  {
   "cell_type": "code",
   "execution_count": 208,
   "metadata": {
    "collapsed": true
   },
   "outputs": [],
   "source": [
    "# FROM: https://github.com/ConsenSys/ethjsonrpc/blob/master/ethjsonrpc/client.py\n",
    "def shh_version():\n",
    "    '''\n",
    "    https://github.com/ethereum/wiki/wiki/JSON-RPC#shh_version\n",
    "    N/A\n",
    "    '''\n",
    "    return _call('shh_version')"
   ]
  },
  {
   "cell_type": "code",
   "execution_count": 209,
   "metadata": {
    "collapsed": true
   },
   "outputs": [],
   "source": [
    "# FROM: https://github.com/ConsenSys/ethjsonrpc/blob/master/ethjsonrpc/client.py\n",
    "def shh_post(topics, payload, priority, ttl, from_=None, to=None):\n",
    "    '''\n",
    "    https://github.com/ethereum/wiki/wiki/JSON-RPC#shh_post\n",
    "    NEEDS TESTING\n",
    "    '''\n",
    "    whisper_object = {\n",
    "        'from':     from_,\n",
    "        'to':       to,\n",
    "        'topics':   topics,\n",
    "        'payload':  payload,\n",
    "        'priority': hex(priority),\n",
    "        'ttl':      hex(ttl),\n",
    "    }\n",
    "    return _call('shh_post', [whisper_object])"
   ]
  },
  {
   "cell_type": "code",
   "execution_count": 210,
   "metadata": {
    "collapsed": true
   },
   "outputs": [],
   "source": [
    "# FROM: https://github.com/ConsenSys/ethjsonrpc/blob/master/ethjsonrpc/client.py\n",
    "def shh_newIdentity():\n",
    "    '''\n",
    "    https://github.com/ethereum/wiki/wiki/JSON-RPC#shh_newidentity\n",
    "    N/A\n",
    "    '''\n",
    "    return _call('shh_newIdentity')"
   ]
  },
  {
   "cell_type": "code",
   "execution_count": 211,
   "metadata": {
    "collapsed": true
   },
   "outputs": [],
   "source": [
    "# FROM: https://github.com/ConsenSys/ethjsonrpc/blob/master/ethjsonrpc/client.py\n",
    "def shh_hasIdentity(address):\n",
    "    '''\n",
    "    https://github.com/ethereum/wiki/wiki/JSON-RPC#shh_hasidentity\n",
    "    NEEDS TESTING\n",
    "    '''\n",
    "    return _call('shh_hasIdentity', [address])"
   ]
  },
  {
   "cell_type": "code",
   "execution_count": 212,
   "metadata": {
    "collapsed": true
   },
   "outputs": [],
   "source": [
    "# FROM: https://github.com/ConsenSys/ethjsonrpc/blob/master/ethjsonrpc/client.py\n",
    "def shh_newGroup():\n",
    "    '''\n",
    "    https://github.com/ethereum/wiki/wiki/JSON-RPC#shh_newgroup\n",
    "    N/A\n",
    "    '''\n",
    "    return _call('shh_newGroup')"
   ]
  },
  {
   "cell_type": "code",
   "execution_count": 213,
   "metadata": {
    "collapsed": true
   },
   "outputs": [],
   "source": [
    "# FROM: https://github.com/ConsenSys/ethjsonrpc/blob/master/ethjsonrpc/client.py\n",
    "def shh_addToGroup():\n",
    "    '''\n",
    "    https://github.com/ethereum/wiki/wiki/JSON-RPC#shh_addtogroup\n",
    "    NEEDS TESTING\n",
    "    '''\n",
    "    return _call('shh_addToGroup')"
   ]
  },
  {
   "cell_type": "code",
   "execution_count": 214,
   "metadata": {
    "collapsed": true
   },
   "outputs": [],
   "source": [
    "# FROM: https://github.com/ConsenSys/ethjsonrpc/blob/master/ethjsonrpc/client.py\n",
    "def shh_newFilter(to, topics):\n",
    "    '''\n",
    "    https://github.com/ethereum/wiki/wiki/JSON-RPC#shh_newfilter\n",
    "    NEEDS TESTING\n",
    "    '''\n",
    "    _filter = {\n",
    "        'to':     to,\n",
    "        'topics': topics,\n",
    "    }\n",
    "    return _call('shh_newFilter', [_filter])"
   ]
  },
  {
   "cell_type": "code",
   "execution_count": 215,
   "metadata": {
    "collapsed": true
   },
   "outputs": [],
   "source": [
    "# FROM: https://github.com/ConsenSys/ethjsonrpc/blob/master/ethjsonrpc/client.py\n",
    "def shh_uninstallFilter(filter_id):\n",
    "    '''\n",
    "    https://github.com/ethereum/wiki/wiki/JSON-RPC#shh_uninstallfilter\n",
    "    NEEDS TESTING\n",
    "    '''\n",
    "    return _call('shh_uninstallFilter', [filter_id])"
   ]
  },
  {
   "cell_type": "code",
   "execution_count": 216,
   "metadata": {
    "collapsed": true
   },
   "outputs": [],
   "source": [
    "# FROM: https://github.com/ConsenSys/ethjsonrpc/blob/master/ethjsonrpc/client.py\n",
    "def shh_getFilterChanges(filter_id):\n",
    "    '''\n",
    "    https://github.com/ethereum/wiki/wiki/JSON-RPC#shh_getfilterchanges\n",
    "    NEEDS TESTING\n",
    "    '''\n",
    "    return _call('shh_getFilterChanges', [filter_id])"
   ]
  },
  {
   "cell_type": "code",
   "execution_count": 217,
   "metadata": {
    "collapsed": true
   },
   "outputs": [],
   "source": [
    "# FROM: https://github.com/ConsenSys/ethjsonrpc/blob/master/ethjsonrpc/client.py\n",
    "def shh_getMessages(filter_id):\n",
    "    '''\n",
    "    https://github.com/ethereum/wiki/wiki/JSON-RPC#shh_getmessages\n",
    "    NEEDS TESTING\n",
    "    '''\n",
    "    return _call('shh_getMessages', [filter_id])    "
   ]
  },
  {
   "cell_type": "markdown",
   "metadata": {},
   "source": [
    "# Crypto Kitties Explorer\n",
    "Exploring CryptoKitties data using JSON RPC on the BlockScience geth node"
   ]
  },
  {
   "cell_type": "code",
   "execution_count": 322,
   "metadata": {},
   "outputs": [],
   "source": [
    "# define the addresses of the relevant contracts\n",
    "coreContract = '0x06012c8cf97bead5deae237070f9587f8e7a266d'\n",
    "contracts = {\n",
    "    coreContract : 'core',\n",
    "    '0xc7af99fe5513eb6710e6d5f44f9989da40f27f26' : 'siringAuction',\n",
    "    '0xb1690c08e213a35ed9bab7b318de14420fb57d8c' : 'saleAuction',\n",
    "}\n",
    "\n",
    "# relevant Events signatures\n",
    "events_signatures = {\n",
    "    'AuctionCreated' : 'AuctionCreated(uint256,uint256,uint256,uint256)', # AuctionCreated(uint256 tokenId, uint256 startingPrice, uint256 endingPrice, uint256 duration);\n",
    "    'AuctionSuccessful' : 'AuctionSuccessful(uint256,uint256,address)', # AuctionSuccessful(uint256 tokenId, uint256 totalPrice, address winner);\n",
    "    'AuctionCancelled' : 'AuctionCancelled(uint256)', # AuctionCancelled(uint256 tokenId);\n",
    "    'Pause' : 'Pause()',\n",
    "    'Unpause' : 'Unpause()',\n",
    "    'Transfer' : 'Transfer(address,address,uint256)', # Transfer(address from, address to, uint256 tokenId);\n",
    "    'Approval' : 'Approval(address,address,uint256)', # Approval(address owner, address approved, uint256 tokenId);\n",
    "    'ContractUpgrade' : 'ContractUpgrade(address)',\n",
    "    'Birth' : 'Birth(address,uint256,uint256,uint256,uint256)', # Birth(address owner, uint256 kittyId, uint256 matronId, uint256 sireId, uint256 genes);\n",
    "    'Pregnant' : 'Pregnant(address,uint256,uint256,uint256)' # Pregnant(address owner, uint256 matronId, uint256 sireId, uint256 cooldownEndBlock);\n",
    "}\n",
    "\n",
    "from Crypto.Hash import keccak\n",
    "def keccak256(string):\n",
    "    return keccak.new(digest_bits=256, data=bytes(string, 'utf-8')).hexdigest()\n",
    "\n",
    "events_hashes = {'0x'+keccak256(v): k for k, v in events_signatures.items()}"
   ]
  },
  {
   "cell_type": "code",
   "execution_count": 249,
   "metadata": {},
   "outputs": [
    {
     "name": "stdout",
     "output_type": "stream",
     "text": [
      "AuctionCreated: a9c8dfcda5664a5a124c713e386da27de87432d5b668e79458501eb296389ba7\n",
      "AuctionSuccessful: 4fcc30d90a842164dd58501ab874a101a3749c3d4747139cefe7c876f4ccebd2\n",
      "AuctionCancelled: 2809c7e17bf978fbc7194c0a694b638c4215e9140cacc6c38ca36010b45697df\n",
      "Pause: 6985a02210a168e66602d3235cb6db0e70f92b3ba4d376a33c0f3d9434bff625\n",
      "Unpause: 7805862f689e2f13df9f062ff482ad3ad112aca9e0847911ed832e158c525b33\n",
      "Transfer: ddf252ad1be2c89b69c2b068fc378daa952ba7f163c4a11628f55a4df523b3ef\n",
      "Approval: 8c5be1e5ebec7d5bd14f71427d1e84f3dd0314c0f7b2291e5b200ac8c7c3b925\n",
      "ContractUpgrade: 450db8da6efbe9c22f2347f7c2021231df1fc58d3ae9a2fa75d39fa446199305\n",
      "Birth: 0a5311bd2a6608f08a180df2ee7c5946819a649b204b554bb8e39825b2c50ad5\n",
      "Pregnant: 241ea03ca20251805084d27d4440371c34a0b85ff108f6bb5611248f73818b80\n"
     ]
    }
   ],
   "source": [
    "for event in events_signatures:\n",
    "    print(event + ': ' + keccak256(events_signatures[event]))"
   ]
  },
  {
   "cell_type": "code",
   "execution_count": 297,
   "metadata": {},
   "outputs": [
    {
     "data": {
      "text/html": [
       "<div>\n",
       "<style>\n",
       "    .dataframe thead tr:only-child th {\n",
       "        text-align: right;\n",
       "    }\n",
       "\n",
       "    .dataframe thead th {\n",
       "        text-align: left;\n",
       "    }\n",
       "\n",
       "    .dataframe tbody tr th {\n",
       "        vertical-align: top;\n",
       "    }\n",
       "</style>\n",
       "<table border=\"1\" class=\"dataframe\">\n",
       "  <thead>\n",
       "    <tr style=\"text-align: right;\">\n",
       "      <th></th>\n",
       "      <th>address</th>\n",
       "      <th>blockHash</th>\n",
       "      <th>blockNumber</th>\n",
       "      <th>data</th>\n",
       "      <th>logIndex</th>\n",
       "      <th>removed</th>\n",
       "      <th>topics</th>\n",
       "      <th>transactionHash</th>\n",
       "      <th>transactionIndex</th>\n",
       "      <th>contract</th>\n",
       "      <th>event</th>\n",
       "    </tr>\n",
       "  </thead>\n",
       "  <tbody>\n",
       "    <tr>\n",
       "      <th>0</th>\n",
       "      <td>0x06012c8cf97bead5deae237070f9587f8e7a266d</td>\n",
       "      <td>0x72560762680d419e8f9ceb86141c681c097a739e90a3...</td>\n",
       "      <td>0x4e9410</td>\n",
       "      <td>0x00000000000000000000000024a6f141b18f27f65a1b...</td>\n",
       "      <td>0x7</td>\n",
       "      <td>False</td>\n",
       "      <td>[0x0a5311bd2a6608f08a180df2ee7c5946819a649b204...</td>\n",
       "      <td>0xaae5be6ae718d3af38388bcf8a65ba1072ed56c765f2...</td>\n",
       "      <td>0x6</td>\n",
       "      <td>core</td>\n",
       "      <td>Birth</td>\n",
       "    </tr>\n",
       "    <tr>\n",
       "      <th>1</th>\n",
       "      <td>0x06012c8cf97bead5deae237070f9587f8e7a266d</td>\n",
       "      <td>0x72560762680d419e8f9ceb86141c681c097a739e90a3...</td>\n",
       "      <td>0x4e9410</td>\n",
       "      <td>0x00000000000000000000000000000000000000000000...</td>\n",
       "      <td>0x8</td>\n",
       "      <td>False</td>\n",
       "      <td>[0xddf252ad1be2c89b69c2b068fc378daa952ba7f163c...</td>\n",
       "      <td>0xaae5be6ae718d3af38388bcf8a65ba1072ed56c765f2...</td>\n",
       "      <td>0x6</td>\n",
       "      <td>core</td>\n",
       "      <td>Transfer</td>\n",
       "    </tr>\n",
       "    <tr>\n",
       "      <th>2</th>\n",
       "      <td>0x06012c8cf97bead5deae237070f9587f8e7a266d</td>\n",
       "      <td>0x72560762680d419e8f9ceb86141c681c097a739e90a3...</td>\n",
       "      <td>0x4e9410</td>\n",
       "      <td>0x0000000000000000000000001f2e6c8a1f3062da4bd6...</td>\n",
       "      <td>0x1b</td>\n",
       "      <td>False</td>\n",
       "      <td>[0x0a5311bd2a6608f08a180df2ee7c5946819a649b204...</td>\n",
       "      <td>0xdc3d978d88daa791b8e898ae74cd95a7bb5a38cab455...</td>\n",
       "      <td>0x2b</td>\n",
       "      <td>core</td>\n",
       "      <td>Birth</td>\n",
       "    </tr>\n",
       "    <tr>\n",
       "      <th>3</th>\n",
       "      <td>0x06012c8cf97bead5deae237070f9587f8e7a266d</td>\n",
       "      <td>0x72560762680d419e8f9ceb86141c681c097a739e90a3...</td>\n",
       "      <td>0x4e9410</td>\n",
       "      <td>0x00000000000000000000000000000000000000000000...</td>\n",
       "      <td>0x1c</td>\n",
       "      <td>False</td>\n",
       "      <td>[0xddf252ad1be2c89b69c2b068fc378daa952ba7f163c...</td>\n",
       "      <td>0xdc3d978d88daa791b8e898ae74cd95a7bb5a38cab455...</td>\n",
       "      <td>0x2b</td>\n",
       "      <td>core</td>\n",
       "      <td>Transfer</td>\n",
       "    </tr>\n",
       "    <tr>\n",
       "      <th>4</th>\n",
       "      <td>0x06012c8cf97bead5deae237070f9587f8e7a266d</td>\n",
       "      <td>0x72560762680d419e8f9ceb86141c681c097a739e90a3...</td>\n",
       "      <td>0x4e9410</td>\n",
       "      <td>0x00000000000000000000000024a6f141b18f27f65a1b...</td>\n",
       "      <td>0x1d</td>\n",
       "      <td>False</td>\n",
       "      <td>[0x0a5311bd2a6608f08a180df2ee7c5946819a649b204...</td>\n",
       "      <td>0xdc3d978d88daa791b8e898ae74cd95a7bb5a38cab455...</td>\n",
       "      <td>0x2b</td>\n",
       "      <td>core</td>\n",
       "      <td>Birth</td>\n",
       "    </tr>\n",
       "  </tbody>\n",
       "</table>\n",
       "</div>"
      ],
      "text/plain": [
       "                                      address  \\\n",
       "0  0x06012c8cf97bead5deae237070f9587f8e7a266d   \n",
       "1  0x06012c8cf97bead5deae237070f9587f8e7a266d   \n",
       "2  0x06012c8cf97bead5deae237070f9587f8e7a266d   \n",
       "3  0x06012c8cf97bead5deae237070f9587f8e7a266d   \n",
       "4  0x06012c8cf97bead5deae237070f9587f8e7a266d   \n",
       "\n",
       "                                           blockHash blockNumber  \\\n",
       "0  0x72560762680d419e8f9ceb86141c681c097a739e90a3...    0x4e9410   \n",
       "1  0x72560762680d419e8f9ceb86141c681c097a739e90a3...    0x4e9410   \n",
       "2  0x72560762680d419e8f9ceb86141c681c097a739e90a3...    0x4e9410   \n",
       "3  0x72560762680d419e8f9ceb86141c681c097a739e90a3...    0x4e9410   \n",
       "4  0x72560762680d419e8f9ceb86141c681c097a739e90a3...    0x4e9410   \n",
       "\n",
       "                                                data logIndex  removed  \\\n",
       "0  0x00000000000000000000000024a6f141b18f27f65a1b...      0x7    False   \n",
       "1  0x00000000000000000000000000000000000000000000...      0x8    False   \n",
       "2  0x0000000000000000000000001f2e6c8a1f3062da4bd6...     0x1b    False   \n",
       "3  0x00000000000000000000000000000000000000000000...     0x1c    False   \n",
       "4  0x00000000000000000000000024a6f141b18f27f65a1b...     0x1d    False   \n",
       "\n",
       "                                              topics  \\\n",
       "0  [0x0a5311bd2a6608f08a180df2ee7c5946819a649b204...   \n",
       "1  [0xddf252ad1be2c89b69c2b068fc378daa952ba7f163c...   \n",
       "2  [0x0a5311bd2a6608f08a180df2ee7c5946819a649b204...   \n",
       "3  [0xddf252ad1be2c89b69c2b068fc378daa952ba7f163c...   \n",
       "4  [0x0a5311bd2a6608f08a180df2ee7c5946819a649b204...   \n",
       "\n",
       "                                     transactionHash transactionIndex  \\\n",
       "0  0xaae5be6ae718d3af38388bcf8a65ba1072ed56c765f2...              0x6   \n",
       "1  0xaae5be6ae718d3af38388bcf8a65ba1072ed56c765f2...              0x6   \n",
       "2  0xdc3d978d88daa791b8e898ae74cd95a7bb5a38cab455...             0x2b   \n",
       "3  0xdc3d978d88daa791b8e898ae74cd95a7bb5a38cab455...             0x2b   \n",
       "4  0xdc3d978d88daa791b8e898ae74cd95a7bb5a38cab455...             0x2b   \n",
       "\n",
       "  contract     event  \n",
       "0     core     Birth  \n",
       "1     core  Transfer  \n",
       "2     core     Birth  \n",
       "3     core  Transfer  \n",
       "4     core     Birth  "
      ]
     },
     "execution_count": 297,
     "metadata": {},
     "output_type": "execute_result"
    }
   ],
   "source": [
    "def getEvents(_address, _from_block, _to_block):\n",
    "    json = eth_getLogs(from_block=_from_block, \n",
    "                       to_block=_to_block,\n",
    "                       address=_address)\n",
    "    df = pd.DataFrame.from_dict(json)\n",
    "    df['contract'] = df['address'].apply(lambda x: contracts[x])\n",
    "    df['event'] = df['topics'].apply(lambda x: events_hashes[x[0]])\n",
    "    return df\n",
    "\n",
    "from_block = hex(eth_blockNumber() - 200)\n",
    "to_block = hex(eth_blockNumber())\n",
    "\n",
    "events = None\n",
    "\n",
    "for c in contracts:\n",
    "    if events is None:\n",
    "        events = getEvents(c, from_block, to_block)\n",
    "    else:\n",
    "        e = getEvents(c, from_block, to_block)\n",
    "        events = events.append(e, ignore_index=True)\n",
    "events.head()"
   ]
  },
  {
   "cell_type": "code",
   "execution_count": 298,
   "metadata": {},
   "outputs": [
    {
     "data": {
      "text/html": [
       "<div>\n",
       "<style>\n",
       "    .dataframe thead tr:only-child th {\n",
       "        text-align: right;\n",
       "    }\n",
       "\n",
       "    .dataframe thead th {\n",
       "        text-align: left;\n",
       "    }\n",
       "\n",
       "    .dataframe tbody tr th {\n",
       "        vertical-align: top;\n",
       "    }\n",
       "</style>\n",
       "<table border=\"1\" class=\"dataframe\">\n",
       "  <thead>\n",
       "    <tr style=\"text-align: right;\">\n",
       "      <th></th>\n",
       "      <th>contract</th>\n",
       "      <th>event</th>\n",
       "    </tr>\n",
       "  </thead>\n",
       "  <tbody>\n",
       "    <tr>\n",
       "      <th>0</th>\n",
       "      <td>core</td>\n",
       "      <td>Birth</td>\n",
       "    </tr>\n",
       "    <tr>\n",
       "      <th>1</th>\n",
       "      <td>core</td>\n",
       "      <td>Transfer</td>\n",
       "    </tr>\n",
       "    <tr>\n",
       "      <th>20</th>\n",
       "      <td>core</td>\n",
       "      <td>Pregnant</td>\n",
       "    </tr>\n",
       "    <tr>\n",
       "      <th>485</th>\n",
       "      <td>core</td>\n",
       "      <td>Approval</td>\n",
       "    </tr>\n",
       "    <tr>\n",
       "      <th>1163</th>\n",
       "      <td>siringAuction</td>\n",
       "      <td>AuctionSuccessful</td>\n",
       "    </tr>\n",
       "    <tr>\n",
       "      <th>1169</th>\n",
       "      <td>siringAuction</td>\n",
       "      <td>AuctionCreated</td>\n",
       "    </tr>\n",
       "    <tr>\n",
       "      <th>1184</th>\n",
       "      <td>siringAuction</td>\n",
       "      <td>AuctionCancelled</td>\n",
       "    </tr>\n",
       "    <tr>\n",
       "      <th>1217</th>\n",
       "      <td>saleAuction</td>\n",
       "      <td>AuctionCreated</td>\n",
       "    </tr>\n",
       "    <tr>\n",
       "      <th>1218</th>\n",
       "      <td>saleAuction</td>\n",
       "      <td>AuctionSuccessful</td>\n",
       "    </tr>\n",
       "    <tr>\n",
       "      <th>1227</th>\n",
       "      <td>saleAuction</td>\n",
       "      <td>AuctionCancelled</td>\n",
       "    </tr>\n",
       "  </tbody>\n",
       "</table>\n",
       "</div>"
      ],
      "text/plain": [
       "           contract              event\n",
       "0              core              Birth\n",
       "1              core           Transfer\n",
       "20             core           Pregnant\n",
       "485            core           Approval\n",
       "1163  siringAuction  AuctionSuccessful\n",
       "1169  siringAuction     AuctionCreated\n",
       "1184  siringAuction   AuctionCancelled\n",
       "1217    saleAuction     AuctionCreated\n",
       "1218    saleAuction  AuctionSuccessful\n",
       "1227    saleAuction   AuctionCancelled"
      ]
     },
     "execution_count": 298,
     "metadata": {},
     "output_type": "execute_result"
    }
   ],
   "source": [
    "events[['contract','event']].drop_duplicates()"
   ]
  },
  {
   "cell_type": "code",
   "execution_count": 306,
   "metadata": {},
   "outputs": [
    {
     "data": {
      "text/plain": [
       "<matplotlib.axes._subplots.AxesSubplot at 0x11606b940>"
      ]
     },
     "execution_count": 306,
     "metadata": {},
     "output_type": "execute_result"
    },
    {
     "data": {
      "image/png": "[encoded data removed]",
      "text/plain": [
       "<matplotlib.figure.Figure at 0x1155237b8>"
      ]
     },
     "metadata": {},
     "output_type": "display_data"
    }
   ],
   "source": [
    "events.groupby(['contract','event']).transactionHash.count().plot(kind='pie')"
   ]
  },
  {
   "cell_type": "code",
   "execution_count": 305,
   "metadata": {},
   "outputs": [
    {
     "data": {
      "text/plain": [
       "<matplotlib.axes._subplots.AxesSubplot at 0x11606bdd8>"
      ]
     },
     "execution_count": 305,
     "metadata": {},
     "output_type": "execute_result"
    },
    {
     "data": {
      "image/png": "[encoded data removed]",
      "text/plain": [
       "<matplotlib.figure.Figure at 0x10c9c0438>"
      ]
     },
     "metadata": {},
     "output_type": "display_data"
    }
   ],
   "source": [
    "events.groupby(['contract','event']).transactionHash.count().plot(kind='bar')"
   ]
  },
  {
   "cell_type": "code",
   "execution_count": 300,
   "metadata": {},
   "outputs": [
    {
     "data": {
      "text/html": [
       "<div>\n",
       "<style>\n",
       "    .dataframe thead tr:only-child th {\n",
       "        text-align: right;\n",
       "    }\n",
       "\n",
       "    .dataframe thead th {\n",
       "        text-align: left;\n",
       "    }\n",
       "\n",
       "    .dataframe tbody tr th {\n",
       "        vertical-align: top;\n",
       "    }\n",
       "</style>\n",
       "<table border=\"1\" class=\"dataframe\">\n",
       "  <thead>\n",
       "    <tr style=\"text-align: right;\">\n",
       "      <th></th>\n",
       "      <th>address</th>\n",
       "      <th>blockHash</th>\n",
       "      <th>blockNumber</th>\n",
       "      <th>data</th>\n",
       "      <th>logIndex</th>\n",
       "      <th>removed</th>\n",
       "      <th>topics</th>\n",
       "      <th>transactionHash</th>\n",
       "      <th>transactionIndex</th>\n",
       "      <th>contract</th>\n",
       "      <th>event</th>\n",
       "    </tr>\n",
       "  </thead>\n",
       "  <tbody>\n",
       "    <tr>\n",
       "      <th>2</th>\n",
       "      <td>0x06012c8cf97bead5deae237070f9587f8e7a266d</td>\n",
       "      <td>0x72560762680d419e8f9ceb86141c681c097a739e90a3...</td>\n",
       "      <td>0x4e9410</td>\n",
       "      <td>0x0000000000000000000000001f2e6c8a1f3062da4bd6...</td>\n",
       "      <td>0x1b</td>\n",
       "      <td>False</td>\n",
       "      <td>[0x0a5311bd2a6608f08a180df2ee7c5946819a649b204...</td>\n",
       "      <td>0xdc3d978d88daa791b8e898ae74cd95a7bb5a38cab455...</td>\n",
       "      <td>0x2b</td>\n",
       "      <td>core</td>\n",
       "      <td>Birth</td>\n",
       "    </tr>\n",
       "    <tr>\n",
       "      <th>3</th>\n",
       "      <td>0x06012c8cf97bead5deae237070f9587f8e7a266d</td>\n",
       "      <td>0x72560762680d419e8f9ceb86141c681c097a739e90a3...</td>\n",
       "      <td>0x4e9410</td>\n",
       "      <td>0x00000000000000000000000000000000000000000000...</td>\n",
       "      <td>0x1c</td>\n",
       "      <td>False</td>\n",
       "      <td>[0xddf252ad1be2c89b69c2b068fc378daa952ba7f163c...</td>\n",
       "      <td>0xdc3d978d88daa791b8e898ae74cd95a7bb5a38cab455...</td>\n",
       "      <td>0x2b</td>\n",
       "      <td>core</td>\n",
       "      <td>Transfer</td>\n",
       "    </tr>\n",
       "    <tr>\n",
       "      <th>4</th>\n",
       "      <td>0x06012c8cf97bead5deae237070f9587f8e7a266d</td>\n",
       "      <td>0x72560762680d419e8f9ceb86141c681c097a739e90a3...</td>\n",
       "      <td>0x4e9410</td>\n",
       "      <td>0x00000000000000000000000024a6f141b18f27f65a1b...</td>\n",
       "      <td>0x1d</td>\n",
       "      <td>False</td>\n",
       "      <td>[0x0a5311bd2a6608f08a180df2ee7c5946819a649b204...</td>\n",
       "      <td>0xdc3d978d88daa791b8e898ae74cd95a7bb5a38cab455...</td>\n",
       "      <td>0x2b</td>\n",
       "      <td>core</td>\n",
       "      <td>Birth</td>\n",
       "    </tr>\n",
       "    <tr>\n",
       "      <th>5</th>\n",
       "      <td>0x06012c8cf97bead5deae237070f9587f8e7a266d</td>\n",
       "      <td>0x72560762680d419e8f9ceb86141c681c097a739e90a3...</td>\n",
       "      <td>0x4e9410</td>\n",
       "      <td>0x00000000000000000000000000000000000000000000...</td>\n",
       "      <td>0x1e</td>\n",
       "      <td>False</td>\n",
       "      <td>[0xddf252ad1be2c89b69c2b068fc378daa952ba7f163c...</td>\n",
       "      <td>0xdc3d978d88daa791b8e898ae74cd95a7bb5a38cab455...</td>\n",
       "      <td>0x2b</td>\n",
       "      <td>core</td>\n",
       "      <td>Transfer</td>\n",
       "    </tr>\n",
       "    <tr>\n",
       "      <th>6</th>\n",
       "      <td>0x06012c8cf97bead5deae237070f9587f8e7a266d</td>\n",
       "      <td>0x72560762680d419e8f9ceb86141c681c097a739e90a3...</td>\n",
       "      <td>0x4e9410</td>\n",
       "      <td>0x0000000000000000000000002f73e080e34d3dbf6a0c...</td>\n",
       "      <td>0x1f</td>\n",
       "      <td>False</td>\n",
       "      <td>[0x0a5311bd2a6608f08a180df2ee7c5946819a649b204...</td>\n",
       "      <td>0xdc3d978d88daa791b8e898ae74cd95a7bb5a38cab455...</td>\n",
       "      <td>0x2b</td>\n",
       "      <td>core</td>\n",
       "      <td>Birth</td>\n",
       "    </tr>\n",
       "    <tr>\n",
       "      <th>7</th>\n",
       "      <td>0x06012c8cf97bead5deae237070f9587f8e7a266d</td>\n",
       "      <td>0x72560762680d419e8f9ceb86141c681c097a739e90a3...</td>\n",
       "      <td>0x4e9410</td>\n",
       "      <td>0x00000000000000000000000000000000000000000000...</td>\n",
       "      <td>0x20</td>\n",
       "      <td>False</td>\n",
       "      <td>[0xddf252ad1be2c89b69c2b068fc378daa952ba7f163c...</td>\n",
       "      <td>0xdc3d978d88daa791b8e898ae74cd95a7bb5a38cab455...</td>\n",
       "      <td>0x2b</td>\n",
       "      <td>core</td>\n",
       "      <td>Transfer</td>\n",
       "    </tr>\n",
       "    <tr>\n",
       "      <th>8</th>\n",
       "      <td>0x06012c8cf97bead5deae237070f9587f8e7a266d</td>\n",
       "      <td>0x72560762680d419e8f9ceb86141c681c097a739e90a3...</td>\n",
       "      <td>0x4e9410</td>\n",
       "      <td>0x000000000000000000000000d70e1fe62ac070b2c821...</td>\n",
       "      <td>0x21</td>\n",
       "      <td>False</td>\n",
       "      <td>[0x0a5311bd2a6608f08a180df2ee7c5946819a649b204...</td>\n",
       "      <td>0xdc3d978d88daa791b8e898ae74cd95a7bb5a38cab455...</td>\n",
       "      <td>0x2b</td>\n",
       "      <td>core</td>\n",
       "      <td>Birth</td>\n",
       "    </tr>\n",
       "    <tr>\n",
       "      <th>9</th>\n",
       "      <td>0x06012c8cf97bead5deae237070f9587f8e7a266d</td>\n",
       "      <td>0x72560762680d419e8f9ceb86141c681c097a739e90a3...</td>\n",
       "      <td>0x4e9410</td>\n",
       "      <td>0x00000000000000000000000000000000000000000000...</td>\n",
       "      <td>0x22</td>\n",
       "      <td>False</td>\n",
       "      <td>[0xddf252ad1be2c89b69c2b068fc378daa952ba7f163c...</td>\n",
       "      <td>0xdc3d978d88daa791b8e898ae74cd95a7bb5a38cab455...</td>\n",
       "      <td>0x2b</td>\n",
       "      <td>core</td>\n",
       "      <td>Transfer</td>\n",
       "    </tr>\n",
       "    <tr>\n",
       "      <th>10</th>\n",
       "      <td>0x06012c8cf97bead5deae237070f9587f8e7a266d</td>\n",
       "      <td>0x72560762680d419e8f9ceb86141c681c097a739e90a3...</td>\n",
       "      <td>0x4e9410</td>\n",
       "      <td>0x000000000000000000000000e60a1d508ae6f4e59209...</td>\n",
       "      <td>0x23</td>\n",
       "      <td>False</td>\n",
       "      <td>[0x0a5311bd2a6608f08a180df2ee7c5946819a649b204...</td>\n",
       "      <td>0xdc3d978d88daa791b8e898ae74cd95a7bb5a38cab455...</td>\n",
       "      <td>0x2b</td>\n",
       "      <td>core</td>\n",
       "      <td>Birth</td>\n",
       "    </tr>\n",
       "    <tr>\n",
       "      <th>11</th>\n",
       "      <td>0x06012c8cf97bead5deae237070f9587f8e7a266d</td>\n",
       "      <td>0x72560762680d419e8f9ceb86141c681c097a739e90a3...</td>\n",
       "      <td>0x4e9410</td>\n",
       "      <td>0x00000000000000000000000000000000000000000000...</td>\n",
       "      <td>0x24</td>\n",
       "      <td>False</td>\n",
       "      <td>[0xddf252ad1be2c89b69c2b068fc378daa952ba7f163c...</td>\n",
       "      <td>0xdc3d978d88daa791b8e898ae74cd95a7bb5a38cab455...</td>\n",
       "      <td>0x2b</td>\n",
       "      <td>core</td>\n",
       "      <td>Transfer</td>\n",
       "    </tr>\n",
       "    <tr>\n",
       "      <th>12</th>\n",
       "      <td>0x06012c8cf97bead5deae237070f9587f8e7a266d</td>\n",
       "      <td>0x72560762680d419e8f9ceb86141c681c097a739e90a3...</td>\n",
       "      <td>0x4e9410</td>\n",
       "      <td>0x000000000000000000000000ac9d43ec378c5c60553a...</td>\n",
       "      <td>0x25</td>\n",
       "      <td>False</td>\n",
       "      <td>[0x0a5311bd2a6608f08a180df2ee7c5946819a649b204...</td>\n",
       "      <td>0xdc3d978d88daa791b8e898ae74cd95a7bb5a38cab455...</td>\n",
       "      <td>0x2b</td>\n",
       "      <td>core</td>\n",
       "      <td>Birth</td>\n",
       "    </tr>\n",
       "    <tr>\n",
       "      <th>13</th>\n",
       "      <td>0x06012c8cf97bead5deae237070f9587f8e7a266d</td>\n",
       "      <td>0x72560762680d419e8f9ceb86141c681c097a739e90a3...</td>\n",
       "      <td>0x4e9410</td>\n",
       "      <td>0x00000000000000000000000000000000000000000000...</td>\n",
       "      <td>0x26</td>\n",
       "      <td>False</td>\n",
       "      <td>[0xddf252ad1be2c89b69c2b068fc378daa952ba7f163c...</td>\n",
       "      <td>0xdc3d978d88daa791b8e898ae74cd95a7bb5a38cab455...</td>\n",
       "      <td>0x2b</td>\n",
       "      <td>core</td>\n",
       "      <td>Transfer</td>\n",
       "    </tr>\n",
       "    <tr>\n",
       "      <th>0</th>\n",
       "      <td>0x06012c8cf97bead5deae237070f9587f8e7a266d</td>\n",
       "      <td>0x72560762680d419e8f9ceb86141c681c097a739e90a3...</td>\n",
       "      <td>0x4e9410</td>\n",
       "      <td>0x00000000000000000000000024a6f141b18f27f65a1b...</td>\n",
       "      <td>0x7</td>\n",
       "      <td>False</td>\n",
       "      <td>[0x0a5311bd2a6608f08a180df2ee7c5946819a649b204...</td>\n",
       "      <td>0xaae5be6ae718d3af38388bcf8a65ba1072ed56c765f2...</td>\n",
       "      <td>0x6</td>\n",
       "      <td>core</td>\n",
       "      <td>Birth</td>\n",
       "    </tr>\n",
       "    <tr>\n",
       "      <th>1</th>\n",
       "      <td>0x06012c8cf97bead5deae237070f9587f8e7a266d</td>\n",
       "      <td>0x72560762680d419e8f9ceb86141c681c097a739e90a3...</td>\n",
       "      <td>0x4e9410</td>\n",
       "      <td>0x00000000000000000000000000000000000000000000...</td>\n",
       "      <td>0x8</td>\n",
       "      <td>False</td>\n",
       "      <td>[0xddf252ad1be2c89b69c2b068fc378daa952ba7f163c...</td>\n",
       "      <td>0xaae5be6ae718d3af38388bcf8a65ba1072ed56c765f2...</td>\n",
       "      <td>0x6</td>\n",
       "      <td>core</td>\n",
       "      <td>Transfer</td>\n",
       "    </tr>\n",
       "    <tr>\n",
       "      <th>14</th>\n",
       "      <td>0x06012c8cf97bead5deae237070f9587f8e7a266d</td>\n",
       "      <td>0x699ad7b68abf754c847b6fdb9f9ebc331f674b23e442...</td>\n",
       "      <td>0x4e9411</td>\n",
       "      <td>0x000000000000000000000000c454c4be786e8ad7610d...</td>\n",
       "      <td>0x1a</td>\n",
       "      <td>False</td>\n",
       "      <td>[0x0a5311bd2a6608f08a180df2ee7c5946819a649b204...</td>\n",
       "      <td>0x58a5d848c63a0ced69c671eff4d6decb01ae57bfa8dd...</td>\n",
       "      <td>0x35</td>\n",
       "      <td>core</td>\n",
       "      <td>Birth</td>\n",
       "    </tr>\n",
       "    <tr>\n",
       "      <th>15</th>\n",
       "      <td>0x06012c8cf97bead5deae237070f9587f8e7a266d</td>\n",
       "      <td>0x699ad7b68abf754c847b6fdb9f9ebc331f674b23e442...</td>\n",
       "      <td>0x4e9411</td>\n",
       "      <td>0x00000000000000000000000000000000000000000000...</td>\n",
       "      <td>0x1b</td>\n",
       "      <td>False</td>\n",
       "      <td>[0xddf252ad1be2c89b69c2b068fc378daa952ba7f163c...</td>\n",
       "      <td>0x58a5d848c63a0ced69c671eff4d6decb01ae57bfa8dd...</td>\n",
       "      <td>0x35</td>\n",
       "      <td>core</td>\n",
       "      <td>Transfer</td>\n",
       "    </tr>\n",
       "    <tr>\n",
       "      <th>16</th>\n",
       "      <td>0x06012c8cf97bead5deae237070f9587f8e7a266d</td>\n",
       "      <td>0x699ad7b68abf754c847b6fdb9f9ebc331f674b23e442...</td>\n",
       "      <td>0x4e9411</td>\n",
       "      <td>0x0000000000000000000000006f79ff946ad085d4479d...</td>\n",
       "      <td>0x1c</td>\n",
       "      <td>False</td>\n",
       "      <td>[0x0a5311bd2a6608f08a180df2ee7c5946819a649b204...</td>\n",
       "      <td>0x58a5d848c63a0ced69c671eff4d6decb01ae57bfa8dd...</td>\n",
       "      <td>0x35</td>\n",
       "      <td>core</td>\n",
       "      <td>Birth</td>\n",
       "    </tr>\n",
       "    <tr>\n",
       "      <th>17</th>\n",
       "      <td>0x06012c8cf97bead5deae237070f9587f8e7a266d</td>\n",
       "      <td>0x699ad7b68abf754c847b6fdb9f9ebc331f674b23e442...</td>\n",
       "      <td>0x4e9411</td>\n",
       "      <td>0x00000000000000000000000000000000000000000000...</td>\n",
       "      <td>0x1d</td>\n",
       "      <td>False</td>\n",
       "      <td>[0xddf252ad1be2c89b69c2b068fc378daa952ba7f163c...</td>\n",
       "      <td>0x58a5d848c63a0ced69c671eff4d6decb01ae57bfa8dd...</td>\n",
       "      <td>0x35</td>\n",
       "      <td>core</td>\n",
       "      <td>Transfer</td>\n",
       "    </tr>\n",
       "    <tr>\n",
       "      <th>18</th>\n",
       "      <td>0x06012c8cf97bead5deae237070f9587f8e7a266d</td>\n",
       "      <td>0x699ad7b68abf754c847b6fdb9f9ebc331f674b23e442...</td>\n",
       "      <td>0x4e9411</td>\n",
       "      <td>0x000000000000000000000000b3589bbd2781aad79cc2...</td>\n",
       "      <td>0x1e</td>\n",
       "      <td>False</td>\n",
       "      <td>[0x0a5311bd2a6608f08a180df2ee7c5946819a649b204...</td>\n",
       "      <td>0x58a5d848c63a0ced69c671eff4d6decb01ae57bfa8dd...</td>\n",
       "      <td>0x35</td>\n",
       "      <td>core</td>\n",
       "      <td>Birth</td>\n",
       "    </tr>\n",
       "    <tr>\n",
       "      <th>19</th>\n",
       "      <td>0x06012c8cf97bead5deae237070f9587f8e7a266d</td>\n",
       "      <td>0x699ad7b68abf754c847b6fdb9f9ebc331f674b23e442...</td>\n",
       "      <td>0x4e9411</td>\n",
       "      <td>0x00000000000000000000000000000000000000000000...</td>\n",
       "      <td>0x1f</td>\n",
       "      <td>False</td>\n",
       "      <td>[0xddf252ad1be2c89b69c2b068fc378daa952ba7f163c...</td>\n",
       "      <td>0x58a5d848c63a0ced69c671eff4d6decb01ae57bfa8dd...</td>\n",
       "      <td>0x35</td>\n",
       "      <td>core</td>\n",
       "      <td>Transfer</td>\n",
       "    </tr>\n",
       "  </tbody>\n",
       "</table>\n",
       "</div>"
      ],
      "text/plain": [
       "                                       address  \\\n",
       "2   0x06012c8cf97bead5deae237070f9587f8e7a266d   \n",
       "3   0x06012c8cf97bead5deae237070f9587f8e7a266d   \n",
       "4   0x06012c8cf97bead5deae237070f9587f8e7a266d   \n",
       "5   0x06012c8cf97bead5deae237070f9587f8e7a266d   \n",
       "6   0x06012c8cf97bead5deae237070f9587f8e7a266d   \n",
       "7   0x06012c8cf97bead5deae237070f9587f8e7a266d   \n",
       "8   0x06012c8cf97bead5deae237070f9587f8e7a266d   \n",
       "9   0x06012c8cf97bead5deae237070f9587f8e7a266d   \n",
       "10  0x06012c8cf97bead5deae237070f9587f8e7a266d   \n",
       "11  0x06012c8cf97bead5deae237070f9587f8e7a266d   \n",
       "12  0x06012c8cf97bead5deae237070f9587f8e7a266d   \n",
       "13  0x06012c8cf97bead5deae237070f9587f8e7a266d   \n",
       "0   0x06012c8cf97bead5deae237070f9587f8e7a266d   \n",
       "1   0x06012c8cf97bead5deae237070f9587f8e7a266d   \n",
       "14  0x06012c8cf97bead5deae237070f9587f8e7a266d   \n",
       "15  0x06012c8cf97bead5deae237070f9587f8e7a266d   \n",
       "16  0x06012c8cf97bead5deae237070f9587f8e7a266d   \n",
       "17  0x06012c8cf97bead5deae237070f9587f8e7a266d   \n",
       "18  0x06012c8cf97bead5deae237070f9587f8e7a266d   \n",
       "19  0x06012c8cf97bead5deae237070f9587f8e7a266d   \n",
       "\n",
       "                                            blockHash blockNumber  \\\n",
       "2   0x72560762680d419e8f9ceb86141c681c097a739e90a3...    0x4e9410   \n",
       "3   0x72560762680d419e8f9ceb86141c681c097a739e90a3...    0x4e9410   \n",
       "4   0x72560762680d419e8f9ceb86141c681c097a739e90a3...    0x4e9410   \n",
       "5   0x72560762680d419e8f9ceb86141c681c097a739e90a3...    0x4e9410   \n",
       "6   0x72560762680d419e8f9ceb86141c681c097a739e90a3...    0x4e9410   \n",
       "7   0x72560762680d419e8f9ceb86141c681c097a739e90a3...    0x4e9410   \n",
       "8   0x72560762680d419e8f9ceb86141c681c097a739e90a3...    0x4e9410   \n",
       "9   0x72560762680d419e8f9ceb86141c681c097a739e90a3...    0x4e9410   \n",
       "10  0x72560762680d419e8f9ceb86141c681c097a739e90a3...    0x4e9410   \n",
       "11  0x72560762680d419e8f9ceb86141c681c097a739e90a3...    0x4e9410   \n",
       "12  0x72560762680d419e8f9ceb86141c681c097a739e90a3...    0x4e9410   \n",
       "13  0x72560762680d419e8f9ceb86141c681c097a739e90a3...    0x4e9410   \n",
       "0   0x72560762680d419e8f9ceb86141c681c097a739e90a3...    0x4e9410   \n",
       "1   0x72560762680d419e8f9ceb86141c681c097a739e90a3...    0x4e9410   \n",
       "14  0x699ad7b68abf754c847b6fdb9f9ebc331f674b23e442...    0x4e9411   \n",
       "15  0x699ad7b68abf754c847b6fdb9f9ebc331f674b23e442...    0x4e9411   \n",
       "16  0x699ad7b68abf754c847b6fdb9f9ebc331f674b23e442...    0x4e9411   \n",
       "17  0x699ad7b68abf754c847b6fdb9f9ebc331f674b23e442...    0x4e9411   \n",
       "18  0x699ad7b68abf754c847b6fdb9f9ebc331f674b23e442...    0x4e9411   \n",
       "19  0x699ad7b68abf754c847b6fdb9f9ebc331f674b23e442...    0x4e9411   \n",
       "\n",
       "                                                 data logIndex  removed  \\\n",
       "2   0x0000000000000000000000001f2e6c8a1f3062da4bd6...     0x1b    False   \n",
       "3   0x00000000000000000000000000000000000000000000...     0x1c    False   \n",
       "4   0x00000000000000000000000024a6f141b18f27f65a1b...     0x1d    False   \n",
       "5   0x00000000000000000000000000000000000000000000...     0x1e    False   \n",
       "6   0x0000000000000000000000002f73e080e34d3dbf6a0c...     0x1f    False   \n",
       "7   0x00000000000000000000000000000000000000000000...     0x20    False   \n",
       "8   0x000000000000000000000000d70e1fe62ac070b2c821...     0x21    False   \n",
       "9   0x00000000000000000000000000000000000000000000...     0x22    False   \n",
       "10  0x000000000000000000000000e60a1d508ae6f4e59209...     0x23    False   \n",
       "11  0x00000000000000000000000000000000000000000000...     0x24    False   \n",
       "12  0x000000000000000000000000ac9d43ec378c5c60553a...     0x25    False   \n",
       "13  0x00000000000000000000000000000000000000000000...     0x26    False   \n",
       "0   0x00000000000000000000000024a6f141b18f27f65a1b...      0x7    False   \n",
       "1   0x00000000000000000000000000000000000000000000...      0x8    False   \n",
       "14  0x000000000000000000000000c454c4be786e8ad7610d...     0x1a    False   \n",
       "15  0x00000000000000000000000000000000000000000000...     0x1b    False   \n",
       "16  0x0000000000000000000000006f79ff946ad085d4479d...     0x1c    False   \n",
       "17  0x00000000000000000000000000000000000000000000...     0x1d    False   \n",
       "18  0x000000000000000000000000b3589bbd2781aad79cc2...     0x1e    False   \n",
       "19  0x00000000000000000000000000000000000000000000...     0x1f    False   \n",
       "\n",
       "                                               topics  \\\n",
       "2   [0x0a5311bd2a6608f08a180df2ee7c5946819a649b204...   \n",
       "3   [0xddf252ad1be2c89b69c2b068fc378daa952ba7f163c...   \n",
       "4   [0x0a5311bd2a6608f08a180df2ee7c5946819a649b204...   \n",
       "5   [0xddf252ad1be2c89b69c2b068fc378daa952ba7f163c...   \n",
       "6   [0x0a5311bd2a6608f08a180df2ee7c5946819a649b204...   \n",
       "7   [0xddf252ad1be2c89b69c2b068fc378daa952ba7f163c...   \n",
       "8   [0x0a5311bd2a6608f08a180df2ee7c5946819a649b204...   \n",
       "9   [0xddf252ad1be2c89b69c2b068fc378daa952ba7f163c...   \n",
       "10  [0x0a5311bd2a6608f08a180df2ee7c5946819a649b204...   \n",
       "11  [0xddf252ad1be2c89b69c2b068fc378daa952ba7f163c...   \n",
       "12  [0x0a5311bd2a6608f08a180df2ee7c5946819a649b204...   \n",
       "13  [0xddf252ad1be2c89b69c2b068fc378daa952ba7f163c...   \n",
       "0   [0x0a5311bd2a6608f08a180df2ee7c5946819a649b204...   \n",
       "1   [0xddf252ad1be2c89b69c2b068fc378daa952ba7f163c...   \n",
       "14  [0x0a5311bd2a6608f08a180df2ee7c5946819a649b204...   \n",
       "15  [0xddf252ad1be2c89b69c2b068fc378daa952ba7f163c...   \n",
       "16  [0x0a5311bd2a6608f08a180df2ee7c5946819a649b204...   \n",
       "17  [0xddf252ad1be2c89b69c2b068fc378daa952ba7f163c...   \n",
       "18  [0x0a5311bd2a6608f08a180df2ee7c5946819a649b204...   \n",
       "19  [0xddf252ad1be2c89b69c2b068fc378daa952ba7f163c...   \n",
       "\n",
       "                                      transactionHash transactionIndex  \\\n",
       "2   0xdc3d978d88daa791b8e898ae74cd95a7bb5a38cab455...             0x2b   \n",
       "3   0xdc3d978d88daa791b8e898ae74cd95a7bb5a38cab455...             0x2b   \n",
       "4   0xdc3d978d88daa791b8e898ae74cd95a7bb5a38cab455...             0x2b   \n",
       "5   0xdc3d978d88daa791b8e898ae74cd95a7bb5a38cab455...             0x2b   \n",
       "6   0xdc3d978d88daa791b8e898ae74cd95a7bb5a38cab455...             0x2b   \n",
       "7   0xdc3d978d88daa791b8e898ae74cd95a7bb5a38cab455...             0x2b   \n",
       "8   0xdc3d978d88daa791b8e898ae74cd95a7bb5a38cab455...             0x2b   \n",
       "9   0xdc3d978d88daa791b8e898ae74cd95a7bb5a38cab455...             0x2b   \n",
       "10  0xdc3d978d88daa791b8e898ae74cd95a7bb5a38cab455...             0x2b   \n",
       "11  0xdc3d978d88daa791b8e898ae74cd95a7bb5a38cab455...             0x2b   \n",
       "12  0xdc3d978d88daa791b8e898ae74cd95a7bb5a38cab455...             0x2b   \n",
       "13  0xdc3d978d88daa791b8e898ae74cd95a7bb5a38cab455...             0x2b   \n",
       "0   0xaae5be6ae718d3af38388bcf8a65ba1072ed56c765f2...              0x6   \n",
       "1   0xaae5be6ae718d3af38388bcf8a65ba1072ed56c765f2...              0x6   \n",
       "14  0x58a5d848c63a0ced69c671eff4d6decb01ae57bfa8dd...             0x35   \n",
       "15  0x58a5d848c63a0ced69c671eff4d6decb01ae57bfa8dd...             0x35   \n",
       "16  0x58a5d848c63a0ced69c671eff4d6decb01ae57bfa8dd...             0x35   \n",
       "17  0x58a5d848c63a0ced69c671eff4d6decb01ae57bfa8dd...             0x35   \n",
       "18  0x58a5d848c63a0ced69c671eff4d6decb01ae57bfa8dd...             0x35   \n",
       "19  0x58a5d848c63a0ced69c671eff4d6decb01ae57bfa8dd...             0x35   \n",
       "\n",
       "   contract     event  \n",
       "2      core     Birth  \n",
       "3      core  Transfer  \n",
       "4      core     Birth  \n",
       "5      core  Transfer  \n",
       "6      core     Birth  \n",
       "7      core  Transfer  \n",
       "8      core     Birth  \n",
       "9      core  Transfer  \n",
       "10     core     Birth  \n",
       "11     core  Transfer  \n",
       "12     core     Birth  \n",
       "13     core  Transfer  \n",
       "0      core     Birth  \n",
       "1      core  Transfer  \n",
       "14     core     Birth  \n",
       "15     core  Transfer  \n",
       "16     core     Birth  \n",
       "17     core  Transfer  \n",
       "18     core     Birth  \n",
       "19     core  Transfer  "
      ]
     },
     "execution_count": 300,
     "metadata": {},
     "output_type": "execute_result"
    }
   ],
   "source": [
    "events.sort_values(['blockNumber', 'transactionIndex', 'logIndex']).head(20)"
   ]
  },
  {
   "cell_type": "code",
   "execution_count": 307,
   "metadata": {},
   "outputs": [
    {
     "data": {
      "text/plain": [
       "'0xdc3d978d88daa791b8e898ae74cd95a7bb5a38cab4555aac3c6da59dc09d62e0'"
      ]
     },
     "execution_count": 307,
     "metadata": {},
     "output_type": "execute_result"
    }
   ],
   "source": [
    "events.sort_values(['blockNumber', 'transactionIndex', 'logIndex']).head(20).transactionHash.loc[2]"
   ]
  },
  {
   "cell_type": "code",
   "execution_count": 308,
   "metadata": {},
   "outputs": [
    {
     "data": {
      "text/plain": [
       "'0x58a5d848c63a0ced69c671eff4d6decb01ae57bfa8dd315ac1a758e5aa192e6e'"
      ]
     },
     "execution_count": 308,
     "metadata": {},
     "output_type": "execute_result"
    }
   ],
   "source": [
    "events.sort_values(['blockNumber', 'transactionIndex', 'logIndex']).head(20).transactionHash.loc[15]"
   ]
  },
  {
   "cell_type": "markdown",
   "metadata": {},
   "source": [
    "## Strange transactions: lots of births and transfers\n",
    "\n",
    "0xdc3d978d88daa791b8e898ae74cd95a7bb5a38cab4555aac3c6da59dc09d62e0\n",
    "0x58a5d848c63a0ced69c671eff4d6decb01ae57bfa8dd315ac1a758e5aa192e6e\n",
    "\n",
    "Looks like a smart contract (0xF8Fb76B05fd854cc6f35d5088B9D241CbbF616C3) that calls giveBirth on all pregnant kitties whose gestation period has passed"
   ]
  },
  {
   "cell_type": "markdown",
   "metadata": {},
   "source": [
    "## Most wanted genes\n",
    "We can get the genetic sequence of the most recent breeds to try to see what the most wanted genes are"
   ]
  },
  {
   "cell_type": "code",
   "execution_count": 310,
   "metadata": {},
   "outputs": [
    {
     "data": {
      "text/html": [
       "<div>\n",
       "<style>\n",
       "    .dataframe thead tr:only-child th {\n",
       "        text-align: right;\n",
       "    }\n",
       "\n",
       "    .dataframe thead th {\n",
       "        text-align: left;\n",
       "    }\n",
       "\n",
       "    .dataframe tbody tr th {\n",
       "        vertical-align: top;\n",
       "    }\n",
       "</style>\n",
       "<table border=\"1\" class=\"dataframe\">\n",
       "  <thead>\n",
       "    <tr style=\"text-align: right;\">\n",
       "      <th></th>\n",
       "      <th>address</th>\n",
       "      <th>blockHash</th>\n",
       "      <th>blockNumber</th>\n",
       "      <th>data</th>\n",
       "      <th>logIndex</th>\n",
       "      <th>removed</th>\n",
       "      <th>topics</th>\n",
       "      <th>transactionHash</th>\n",
       "      <th>transactionIndex</th>\n",
       "      <th>contract</th>\n",
       "      <th>event</th>\n",
       "    </tr>\n",
       "  </thead>\n",
       "  <tbody>\n",
       "    <tr>\n",
       "      <th>20</th>\n",
       "      <td>0x06012c8cf97bead5deae237070f9587f8e7a266d</td>\n",
       "      <td>0x699ad7b68abf754c847b6fdb9f9ebc331f674b23e442...</td>\n",
       "      <td>0x4e9411</td>\n",
       "      <td>0x00000000000000000000000035e2268306aab43014da...</td>\n",
       "      <td>0x98</td>\n",
       "      <td>False</td>\n",
       "      <td>[0x241ea03ca20251805084d27d4440371c34a0b85ff10...</td>\n",
       "      <td>0xf328e3da021c51943dcff39d1a31d9ecee572ce9091e...</td>\n",
       "      <td>0x54</td>\n",
       "      <td>core</td>\n",
       "      <td>Pregnant</td>\n",
       "    </tr>\n",
       "    <tr>\n",
       "      <th>30</th>\n",
       "      <td>0x06012c8cf97bead5deae237070f9587f8e7a266d</td>\n",
       "      <td>0xe614057fa690ec5c96f83b096356de5a3155c433a62a...</td>\n",
       "      <td>0x4e9413</td>\n",
       "      <td>0x000000000000000000000000f5eeecc91a6e05ef5e02...</td>\n",
       "      <td>0x1d</td>\n",
       "      <td>False</td>\n",
       "      <td>[0x241ea03ca20251805084d27d4440371c34a0b85ff10...</td>\n",
       "      <td>0x8416b9d1fd2e98ce6bad98afcb06a91a27b62b12b48b...</td>\n",
       "      <td>0x32</td>\n",
       "      <td>core</td>\n",
       "      <td>Pregnant</td>\n",
       "    </tr>\n",
       "    <tr>\n",
       "      <th>31</th>\n",
       "      <td>0x06012c8cf97bead5deae237070f9587f8e7a266d</td>\n",
       "      <td>0xe614057fa690ec5c96f83b096356de5a3155c433a62a...</td>\n",
       "      <td>0x4e9413</td>\n",
       "      <td>0x000000000000000000000000ef658c8cea1244a46d42...</td>\n",
       "      <td>0x23</td>\n",
       "      <td>False</td>\n",
       "      <td>[0x241ea03ca20251805084d27d4440371c34a0b85ff10...</td>\n",
       "      <td>0x44a0107e7e5efe286eb6325b628fe0615b819cf55c4d...</td>\n",
       "      <td>0x39</td>\n",
       "      <td>core</td>\n",
       "      <td>Pregnant</td>\n",
       "    </tr>\n",
       "    <tr>\n",
       "      <th>32</th>\n",
       "      <td>0x06012c8cf97bead5deae237070f9587f8e7a266d</td>\n",
       "      <td>0xe614057fa690ec5c96f83b096356de5a3155c433a62a...</td>\n",
       "      <td>0x4e9413</td>\n",
       "      <td>0x000000000000000000000000e1e7ba7f42a262069b8f...</td>\n",
       "      <td>0x26</td>\n",
       "      <td>False</td>\n",
       "      <td>[0x241ea03ca20251805084d27d4440371c34a0b85ff10...</td>\n",
       "      <td>0x660363490295bead9d59a5d18ff0038fdd43519705be...</td>\n",
       "      <td>0x3c</td>\n",
       "      <td>core</td>\n",
       "      <td>Pregnant</td>\n",
       "    </tr>\n",
       "    <tr>\n",
       "      <th>33</th>\n",
       "      <td>0x06012c8cf97bead5deae237070f9587f8e7a266d</td>\n",
       "      <td>0xe614057fa690ec5c96f83b096356de5a3155c433a62a...</td>\n",
       "      <td>0x4e9413</td>\n",
       "      <td>0x000000000000000000000000cf3e677e859021f26992...</td>\n",
       "      <td>0x3f</td>\n",
       "      <td>False</td>\n",
       "      <td>[0x241ea03ca20251805084d27d4440371c34a0b85ff10...</td>\n",
       "      <td>0x1d6005986252292d33b4b3d3ce6cdfffebade1a57c0a...</td>\n",
       "      <td>0x43</td>\n",
       "      <td>core</td>\n",
       "      <td>Pregnant</td>\n",
       "    </tr>\n",
       "  </tbody>\n",
       "</table>\n",
       "</div>"
      ],
      "text/plain": [
       "                                       address  \\\n",
       "20  0x06012c8cf97bead5deae237070f9587f8e7a266d   \n",
       "30  0x06012c8cf97bead5deae237070f9587f8e7a266d   \n",
       "31  0x06012c8cf97bead5deae237070f9587f8e7a266d   \n",
       "32  0x06012c8cf97bead5deae237070f9587f8e7a266d   \n",
       "33  0x06012c8cf97bead5deae237070f9587f8e7a266d   \n",
       "\n",
       "                                            blockHash blockNumber  \\\n",
       "20  0x699ad7b68abf754c847b6fdb9f9ebc331f674b23e442...    0x4e9411   \n",
       "30  0xe614057fa690ec5c96f83b096356de5a3155c433a62a...    0x4e9413   \n",
       "31  0xe614057fa690ec5c96f83b096356de5a3155c433a62a...    0x4e9413   \n",
       "32  0xe614057fa690ec5c96f83b096356de5a3155c433a62a...    0x4e9413   \n",
       "33  0xe614057fa690ec5c96f83b096356de5a3155c433a62a...    0x4e9413   \n",
       "\n",
       "                                                 data logIndex  removed  \\\n",
       "20  0x00000000000000000000000035e2268306aab43014da...     0x98    False   \n",
       "30  0x000000000000000000000000f5eeecc91a6e05ef5e02...     0x1d    False   \n",
       "31  0x000000000000000000000000ef658c8cea1244a46d42...     0x23    False   \n",
       "32  0x000000000000000000000000e1e7ba7f42a262069b8f...     0x26    False   \n",
       "33  0x000000000000000000000000cf3e677e859021f26992...     0x3f    False   \n",
       "\n",
       "                                               topics  \\\n",
       "20  [0x241ea03ca20251805084d27d4440371c34a0b85ff10...   \n",
       "30  [0x241ea03ca20251805084d27d4440371c34a0b85ff10...   \n",
       "31  [0x241ea03ca20251805084d27d4440371c34a0b85ff10...   \n",
       "32  [0x241ea03ca20251805084d27d4440371c34a0b85ff10...   \n",
       "33  [0x241ea03ca20251805084d27d4440371c34a0b85ff10...   \n",
       "\n",
       "                                      transactionHash transactionIndex  \\\n",
       "20  0xf328e3da021c51943dcff39d1a31d9ecee572ce9091e...             0x54   \n",
       "30  0x8416b9d1fd2e98ce6bad98afcb06a91a27b62b12b48b...             0x32   \n",
       "31  0x44a0107e7e5efe286eb6325b628fe0615b819cf55c4d...             0x39   \n",
       "32  0x660363490295bead9d59a5d18ff0038fdd43519705be...             0x3c   \n",
       "33  0x1d6005986252292d33b4b3d3ce6cdfffebade1a57c0a...             0x43   \n",
       "\n",
       "   contract     event  \n",
       "20     core  Pregnant  \n",
       "30     core  Pregnant  \n",
       "31     core  Pregnant  \n",
       "32     core  Pregnant  \n",
       "33     core  Pregnant  "
      ]
     },
     "execution_count": 310,
     "metadata": {},
     "output_type": "execute_result"
    }
   ],
   "source": [
    "pregnancies = events[events['event'] == 'Pregnant']\n",
    "pregnancies.head()"
   ]
  },
  {
   "cell_type": "code",
   "execution_count": 311,
   "metadata": {},
   "outputs": [
    {
     "data": {
      "text/plain": [
       "<matplotlib.axes._subplots.AxesSubplot at 0x1161649e8>"
      ]
     },
     "execution_count": 311,
     "metadata": {},
     "output_type": "execute_result"
    },
    {
     "data": {
      "image/png": "[encoded data removed]",
      "text/plain": [
       "<matplotlib.figure.Figure at 0x10cebf3c8>"
      ]
     },
     "metadata": {},
     "output_type": "display_data"
    }
   ],
   "source": [
    "pregnancies.groupby(['contract','event']).transactionHash.count().plot(kind='bar')"
   ]
  },
  {
   "cell_type": "code",
   "execution_count": 312,
   "metadata": {},
   "outputs": [
    {
     "data": {
      "text/plain": [
       "'0x00000000000000000000000035e2268306aab43014da143f110431ec0140957a00000000000000000000000000000000000000000000000000000000000834c5000000000000000000000000000000000000000000000000000000000008514600000000000000000000000000000000000000000000000000000000004e9439'"
      ]
     },
     "execution_count": 312,
     "metadata": {},
     "output_type": "execute_result"
    }
   ],
   "source": [
    "pregnancies.data.loc[20]"
   ]
  },
  {
   "cell_type": "markdown",
   "metadata": {},
   "source": [
    "The data field of a Pregnant should be structured as such:\n",
    "1. '0x'\n",
    "1. '000000000000000000000000' - 24 zeros before the owner address\n",
    "1. owner address (40 hex characters)\n",
    "1. matronId (64 hex characters)\n",
    "1. sireId (64 hex characters)\n",
    "1. cooldownEndBlock (64 hex characters)"
   ]
  },
  {
   "cell_type": "code",
   "execution_count": 321,
   "metadata": {},
   "outputs": [
    {
     "name": "stderr",
     "output_type": "stream",
     "text": [
      "/anaconda3/lib/python3.6/site-packages/ipykernel_launcher.py:1: SettingWithCopyWarning: \n",
      "A value is trying to be set on a copy of a slice from a DataFrame.\n",
      "Try using .loc[row_indexer,col_indexer] = value instead\n",
      "\n",
      "See the caveats in the documentation: http://pandas.pydata.org/pandas-docs/stable/indexing.html#indexing-view-versus-copy\n",
      "  \"\"\"Entry point for launching an IPython kernel.\n",
      "/anaconda3/lib/python3.6/site-packages/ipykernel_launcher.py:2: SettingWithCopyWarning: \n",
      "A value is trying to be set on a copy of a slice from a DataFrame.\n",
      "Try using .loc[row_indexer,col_indexer] = value instead\n",
      "\n",
      "See the caveats in the documentation: http://pandas.pydata.org/pandas-docs/stable/indexing.html#indexing-view-versus-copy\n",
      "  \n",
      "/anaconda3/lib/python3.6/site-packages/ipykernel_launcher.py:3: SettingWithCopyWarning: \n",
      "A value is trying to be set on a copy of a slice from a DataFrame.\n",
      "Try using .loc[row_indexer,col_indexer] = value instead\n",
      "\n",
      "See the caveats in the documentation: http://pandas.pydata.org/pandas-docs/stable/indexing.html#indexing-view-versus-copy\n",
      "  This is separate from the ipykernel package so we can avoid doing imports until\n",
      "/anaconda3/lib/python3.6/site-packages/ipykernel_launcher.py:4: SettingWithCopyWarning: \n",
      "A value is trying to be set on a copy of a slice from a DataFrame.\n",
      "Try using .loc[row_indexer,col_indexer] = value instead\n",
      "\n",
      "See the caveats in the documentation: http://pandas.pydata.org/pandas-docs/stable/indexing.html#indexing-view-versus-copy\n",
      "  after removing the cwd from sys.path.\n",
      "/anaconda3/lib/python3.6/site-packages/ipykernel_launcher.py:5: SettingWithCopyWarning: \n",
      "A value is trying to be set on a copy of a slice from a DataFrame.\n",
      "Try using .loc[row_indexer,col_indexer] = value instead\n",
      "\n",
      "See the caveats in the documentation: http://pandas.pydata.org/pandas-docs/stable/indexing.html#indexing-view-versus-copy\n",
      "  \"\"\"\n"
     ]
    },
    {
     "data": {
      "text/html": [
       "<div>\n",
       "<style>\n",
       "    .dataframe thead tr:only-child th {\n",
       "        text-align: right;\n",
       "    }\n",
       "\n",
       "    .dataframe thead th {\n",
       "        text-align: left;\n",
       "    }\n",
       "\n",
       "    .dataframe tbody tr th {\n",
       "        vertical-align: top;\n",
       "    }\n",
       "</style>\n",
       "<table border=\"1\" class=\"dataframe\">\n",
       "  <thead>\n",
       "    <tr style=\"text-align: right;\">\n",
       "      <th></th>\n",
       "      <th>address</th>\n",
       "      <th>blockHash</th>\n",
       "      <th>blockNumber</th>\n",
       "      <th>data</th>\n",
       "      <th>logIndex</th>\n",
       "      <th>removed</th>\n",
       "      <th>topics</th>\n",
       "      <th>transactionHash</th>\n",
       "      <th>transactionIndex</th>\n",
       "      <th>contract</th>\n",
       "      <th>event</th>\n",
       "      <th>owner</th>\n",
       "      <th>matronId</th>\n",
       "      <th>sireId</th>\n",
       "      <th>matronId_dec</th>\n",
       "      <th>sireId_dec</th>\n",
       "    </tr>\n",
       "  </thead>\n",
       "  <tbody>\n",
       "    <tr>\n",
       "      <th>20</th>\n",
       "      <td>0x06012c8cf97bead5deae237070f9587f8e7a266d</td>\n",
       "      <td>0x699ad7b68abf754c847b6fdb9f9ebc331f674b23e442...</td>\n",
       "      <td>0x4e9411</td>\n",
       "      <td>0x00000000000000000000000035e2268306aab43014da...</td>\n",
       "      <td>0x98</td>\n",
       "      <td>False</td>\n",
       "      <td>[0x241ea03ca20251805084d27d4440371c34a0b85ff10...</td>\n",
       "      <td>0xf328e3da021c51943dcff39d1a31d9ecee572ce9091e...</td>\n",
       "      <td>0x54</td>\n",
       "      <td>core</td>\n",
       "      <td>Pregnant</td>\n",
       "      <td>0x35e2268306aab43014da143f110431ec0140957a</td>\n",
       "      <td>0000000000000000000000000000000000000000000000...</td>\n",
       "      <td>0000000000000000000000000000000000000000000000...</td>\n",
       "      <td>537797</td>\n",
       "      <td>545094</td>\n",
       "    </tr>\n",
       "    <tr>\n",
       "      <th>30</th>\n",
       "      <td>0x06012c8cf97bead5deae237070f9587f8e7a266d</td>\n",
       "      <td>0xe614057fa690ec5c96f83b096356de5a3155c433a62a...</td>\n",
       "      <td>0x4e9413</td>\n",
       "      <td>0x000000000000000000000000f5eeecc91a6e05ef5e02...</td>\n",
       "      <td>0x1d</td>\n",
       "      <td>False</td>\n",
       "      <td>[0x241ea03ca20251805084d27d4440371c34a0b85ff10...</td>\n",
       "      <td>0x8416b9d1fd2e98ce6bad98afcb06a91a27b62b12b48b...</td>\n",
       "      <td>0x32</td>\n",
       "      <td>core</td>\n",
       "      <td>Pregnant</td>\n",
       "      <td>0xf5eeecc91a6e05ef5e0224211aeedb4dd94e559e</td>\n",
       "      <td>0000000000000000000000000000000000000000000000...</td>\n",
       "      <td>0000000000000000000000000000000000000000000000...</td>\n",
       "      <td>476878</td>\n",
       "      <td>540577</td>\n",
       "    </tr>\n",
       "    <tr>\n",
       "      <th>31</th>\n",
       "      <td>0x06012c8cf97bead5deae237070f9587f8e7a266d</td>\n",
       "      <td>0xe614057fa690ec5c96f83b096356de5a3155c433a62a...</td>\n",
       "      <td>0x4e9413</td>\n",
       "      <td>0x000000000000000000000000ef658c8cea1244a46d42...</td>\n",
       "      <td>0x23</td>\n",
       "      <td>False</td>\n",
       "      <td>[0x241ea03ca20251805084d27d4440371c34a0b85ff10...</td>\n",
       "      <td>0x44a0107e7e5efe286eb6325b628fe0615b819cf55c4d...</td>\n",
       "      <td>0x39</td>\n",
       "      <td>core</td>\n",
       "      <td>Pregnant</td>\n",
       "      <td>0xef658c8cea1244a46d42adb60052d71014d66aef</td>\n",
       "      <td>0000000000000000000000000000000000000000000000...</td>\n",
       "      <td>0000000000000000000000000000000000000000000000...</td>\n",
       "      <td>544965</td>\n",
       "      <td>543046</td>\n",
       "    </tr>\n",
       "    <tr>\n",
       "      <th>32</th>\n",
       "      <td>0x06012c8cf97bead5deae237070f9587f8e7a266d</td>\n",
       "      <td>0xe614057fa690ec5c96f83b096356de5a3155c433a62a...</td>\n",
       "      <td>0x4e9413</td>\n",
       "      <td>0x000000000000000000000000e1e7ba7f42a262069b8f...</td>\n",
       "      <td>0x26</td>\n",
       "      <td>False</td>\n",
       "      <td>[0x241ea03ca20251805084d27d4440371c34a0b85ff10...</td>\n",
       "      <td>0x660363490295bead9d59a5d18ff0038fdd43519705be...</td>\n",
       "      <td>0x3c</td>\n",
       "      <td>core</td>\n",
       "      <td>Pregnant</td>\n",
       "      <td>0xe1e7ba7f42a262069b8f296be7cbf9bff96f4ad8</td>\n",
       "      <td>0000000000000000000000000000000000000000000000...</td>\n",
       "      <td>0000000000000000000000000000000000000000000000...</td>\n",
       "      <td>541102</td>\n",
       "      <td>543040</td>\n",
       "    </tr>\n",
       "    <tr>\n",
       "      <th>33</th>\n",
       "      <td>0x06012c8cf97bead5deae237070f9587f8e7a266d</td>\n",
       "      <td>0xe614057fa690ec5c96f83b096356de5a3155c433a62a...</td>\n",
       "      <td>0x4e9413</td>\n",
       "      <td>0x000000000000000000000000cf3e677e859021f26992...</td>\n",
       "      <td>0x3f</td>\n",
       "      <td>False</td>\n",
       "      <td>[0x241ea03ca20251805084d27d4440371c34a0b85ff10...</td>\n",
       "      <td>0x1d6005986252292d33b4b3d3ce6cdfffebade1a57c0a...</td>\n",
       "      <td>0x43</td>\n",
       "      <td>core</td>\n",
       "      <td>Pregnant</td>\n",
       "      <td>0xcf3e677e859021f26992f49aeb54446c97345ca2</td>\n",
       "      <td>0000000000000000000000000000000000000000000000...</td>\n",
       "      <td>0000000000000000000000000000000000000000000000...</td>\n",
       "      <td>545077</td>\n",
       "      <td>542620</td>\n",
       "    </tr>\n",
       "  </tbody>\n",
       "</table>\n",
       "</div>"
      ],
      "text/plain": [
       "                                       address  \\\n",
       "20  0x06012c8cf97bead5deae237070f9587f8e7a266d   \n",
       "30  0x06012c8cf97bead5deae237070f9587f8e7a266d   \n",
       "31  0x06012c8cf97bead5deae237070f9587f8e7a266d   \n",
       "32  0x06012c8cf97bead5deae237070f9587f8e7a266d   \n",
       "33  0x06012c8cf97bead5deae237070f9587f8e7a266d   \n",
       "\n",
       "                                            blockHash blockNumber  \\\n",
       "20  0x699ad7b68abf754c847b6fdb9f9ebc331f674b23e442...    0x4e9411   \n",
       "30  0xe614057fa690ec5c96f83b096356de5a3155c433a62a...    0x4e9413   \n",
       "31  0xe614057fa690ec5c96f83b096356de5a3155c433a62a...    0x4e9413   \n",
       "32  0xe614057fa690ec5c96f83b096356de5a3155c433a62a...    0x4e9413   \n",
       "33  0xe614057fa690ec5c96f83b096356de5a3155c433a62a...    0x4e9413   \n",
       "\n",
       "                                                 data logIndex  removed  \\\n",
       "20  0x00000000000000000000000035e2268306aab43014da...     0x98    False   \n",
       "30  0x000000000000000000000000f5eeecc91a6e05ef5e02...     0x1d    False   \n",
       "31  0x000000000000000000000000ef658c8cea1244a46d42...     0x23    False   \n",
       "32  0x000000000000000000000000e1e7ba7f42a262069b8f...     0x26    False   \n",
       "33  0x000000000000000000000000cf3e677e859021f26992...     0x3f    False   \n",
       "\n",
       "                                               topics  \\\n",
       "20  [0x241ea03ca20251805084d27d4440371c34a0b85ff10...   \n",
       "30  [0x241ea03ca20251805084d27d4440371c34a0b85ff10...   \n",
       "31  [0x241ea03ca20251805084d27d4440371c34a0b85ff10...   \n",
       "32  [0x241ea03ca20251805084d27d4440371c34a0b85ff10...   \n",
       "33  [0x241ea03ca20251805084d27d4440371c34a0b85ff10...   \n",
       "\n",
       "                                      transactionHash transactionIndex  \\\n",
       "20  0xf328e3da021c51943dcff39d1a31d9ecee572ce9091e...             0x54   \n",
       "30  0x8416b9d1fd2e98ce6bad98afcb06a91a27b62b12b48b...             0x32   \n",
       "31  0x44a0107e7e5efe286eb6325b628fe0615b819cf55c4d...             0x39   \n",
       "32  0x660363490295bead9d59a5d18ff0038fdd43519705be...             0x3c   \n",
       "33  0x1d6005986252292d33b4b3d3ce6cdfffebade1a57c0a...             0x43   \n",
       "\n",
       "   contract     event                                       owner  \\\n",
       "20     core  Pregnant  0x35e2268306aab43014da143f110431ec0140957a   \n",
       "30     core  Pregnant  0xf5eeecc91a6e05ef5e0224211aeedb4dd94e559e   \n",
       "31     core  Pregnant  0xef658c8cea1244a46d42adb60052d71014d66aef   \n",
       "32     core  Pregnant  0xe1e7ba7f42a262069b8f296be7cbf9bff96f4ad8   \n",
       "33     core  Pregnant  0xcf3e677e859021f26992f49aeb54446c97345ca2   \n",
       "\n",
       "                                             matronId  \\\n",
       "20  0000000000000000000000000000000000000000000000...   \n",
       "30  0000000000000000000000000000000000000000000000...   \n",
       "31  0000000000000000000000000000000000000000000000...   \n",
       "32  0000000000000000000000000000000000000000000000...   \n",
       "33  0000000000000000000000000000000000000000000000...   \n",
       "\n",
       "                                               sireId  matronId_dec  \\\n",
       "20  0000000000000000000000000000000000000000000000...        537797   \n",
       "30  0000000000000000000000000000000000000000000000...        476878   \n",
       "31  0000000000000000000000000000000000000000000000...        544965   \n",
       "32  0000000000000000000000000000000000000000000000...        541102   \n",
       "33  0000000000000000000000000000000000000000000000...        545077   \n",
       "\n",
       "    sireId_dec  \n",
       "20      545094  \n",
       "30      540577  \n",
       "31      543046  \n",
       "32      543040  \n",
       "33      542620  "
      ]
     },
     "execution_count": 321,
     "metadata": {},
     "output_type": "execute_result"
    }
   ],
   "source": [
    "pregnancies['owner'] = '0x' + pregnancies['data'].apply(lambda x: x[26:66])\n",
    "pregnancies['matronId'] = pregnancies['data'].apply(lambda x: x[66:130])\n",
    "pregnancies['sireId'] = pregnancies['data'].apply(lambda x: x[130:194])\n",
    "pregnancies['matronId_dec'] = pregnancies['data'].apply(lambda x: int(x[66:130],16))\n",
    "pregnancies['sireId_dec'] = pregnancies['data'].apply(lambda x: int(x[130:194],16))\n",
    "pregnancies.head()"
   ]
  },
  {
   "cell_type": "code",
   "execution_count": 330,
   "metadata": {},
   "outputs": [
    {
     "name": "stderr",
     "output_type": "stream",
     "text": [
      "/anaconda3/lib/python3.6/site-packages/ipykernel_launcher.py:5: SettingWithCopyWarning: \n",
      "A value is trying to be set on a copy of a slice from a DataFrame.\n",
      "Try using .loc[row_indexer,col_indexer] = value instead\n",
      "\n",
      "See the caveats in the documentation: http://pandas.pydata.org/pandas-docs/stable/indexing.html#indexing-view-versus-copy\n",
      "  \"\"\"\n",
      "/anaconda3/lib/python3.6/site-packages/ipykernel_launcher.py:6: SettingWithCopyWarning: \n",
      "A value is trying to be set on a copy of a slice from a DataFrame.\n",
      "Try using .loc[row_indexer,col_indexer] = value instead\n",
      "\n",
      "See the caveats in the documentation: http://pandas.pydata.org/pandas-docs/stable/indexing.html#indexing-view-versus-copy\n",
      "  \n"
     ]
    }
   ],
   "source": [
    "def getKittyGenes(kittyId):\n",
    "    kitty = eth_call(to_address=coreContract, data='0xe98b7f4d'+kittyId)\n",
    "    return kitty[-64:]\n",
    "\n",
    "pregnancies['matronGenes'] = pregnancies['matronId'].apply(lambda x: '0x'+getKittyGenes(x))\n",
    "pregnancies['sireGenes'] = pregnancies['sireId'].apply(lambda x: '0x'+getKittyGenes(x))"
   ]
  },
  {
   "cell_type": "code",
   "execution_count": 331,
   "metadata": {},
   "outputs": [
    {
     "data": {
      "text/html": [
       "<div>\n",
       "<style>\n",
       "    .dataframe thead tr:only-child th {\n",
       "        text-align: right;\n",
       "    }\n",
       "\n",
       "    .dataframe thead th {\n",
       "        text-align: left;\n",
       "    }\n",
       "\n",
       "    .dataframe tbody tr th {\n",
       "        vertical-align: top;\n",
       "    }\n",
       "</style>\n",
       "<table border=\"1\" class=\"dataframe\">\n",
       "  <thead>\n",
       "    <tr style=\"text-align: right;\">\n",
       "      <th></th>\n",
       "      <th>address</th>\n",
       "      <th>blockHash</th>\n",
       "      <th>blockNumber</th>\n",
       "      <th>data</th>\n",
       "      <th>logIndex</th>\n",
       "      <th>removed</th>\n",
       "      <th>topics</th>\n",
       "      <th>transactionHash</th>\n",
       "      <th>transactionIndex</th>\n",
       "      <th>contract</th>\n",
       "      <th>event</th>\n",
       "      <th>owner</th>\n",
       "      <th>matronId</th>\n",
       "      <th>sireId</th>\n",
       "      <th>matronId_dec</th>\n",
       "      <th>sireId_dec</th>\n",
       "      <th>matronGenes</th>\n",
       "      <th>sireGenes</th>\n",
       "    </tr>\n",
       "  </thead>\n",
       "  <tbody>\n",
       "    <tr>\n",
       "      <th>20</th>\n",
       "      <td>0x06012c8cf97bead5deae237070f9587f8e7a266d</td>\n",
       "      <td>0x699ad7b68abf754c847b6fdb9f9ebc331f674b23e442...</td>\n",
       "      <td>0x4e9411</td>\n",
       "      <td>0x00000000000000000000000035e2268306aab43014da...</td>\n",
       "      <td>0x98</td>\n",
       "      <td>False</td>\n",
       "      <td>[0x241ea03ca20251805084d27d4440371c34a0b85ff10...</td>\n",
       "      <td>0xf328e3da021c51943dcff39d1a31d9ecee572ce9091e...</td>\n",
       "      <td>0x54</td>\n",
       "      <td>core</td>\n",
       "      <td>Pregnant</td>\n",
       "      <td>0x35e2268306aab43014da143f110431ec0140957a</td>\n",
       "      <td>0000000000000000000000000000000000000000000000...</td>\n",
       "      <td>0000000000000000000000000000000000000000000000...</td>\n",
       "      <td>537797</td>\n",
       "      <td>545094</td>\n",
       "      <td>0x000042d69214251a5ce5ad206006031d4042dcd195e0...</td>\n",
       "      <td>0x00006316c390e60b8ce4b93718005330c66184c390ca...</td>\n",
       "    </tr>\n",
       "    <tr>\n",
       "      <th>30</th>\n",
       "      <td>0x06012c8cf97bead5deae237070f9587f8e7a266d</td>\n",
       "      <td>0xe614057fa690ec5c96f83b096356de5a3155c433a62a...</td>\n",
       "      <td>0x4e9413</td>\n",
       "      <td>0x000000000000000000000000f5eeecc91a6e05ef5e02...</td>\n",
       "      <td>0x1d</td>\n",
       "      <td>False</td>\n",
       "      <td>[0x241ea03ca20251805084d27d4440371c34a0b85ff10...</td>\n",
       "      <td>0x8416b9d1fd2e98ce6bad98afcb06a91a27b62b12b48b...</td>\n",
       "      <td>0x32</td>\n",
       "      <td>core</td>\n",
       "      <td>Pregnant</td>\n",
       "      <td>0xf5eeecc91a6e05ef5e0224211aeedb4dd94e559e</td>\n",
       "      <td>0000000000000000000000000000000000000000000000...</td>\n",
       "      <td>0000000000000000000000000000000000000000000000...</td>\n",
       "      <td>476878</td>\n",
       "      <td>540577</td>\n",
       "      <td>0x000042129394e6099234a5cb615911b0c67314602944...</td>\n",
       "      <td>0x000042d14294213182e5bc4263185305415898e201e5...</td>\n",
       "    </tr>\n",
       "    <tr>\n",
       "      <th>31</th>\n",
       "      <td>0x06012c8cf97bead5deae237070f9587f8e7a266d</td>\n",
       "      <td>0xe614057fa690ec5c96f83b096356de5a3155c433a62a...</td>\n",
       "      <td>0x4e9413</td>\n",
       "      <td>0x000000000000000000000000ef658c8cea1244a46d42...</td>\n",
       "      <td>0x23</td>\n",
       "      <td>False</td>\n",
       "      <td>[0x241ea03ca20251805084d27d4440371c34a0b85ff10...</td>\n",
       "      <td>0x44a0107e7e5efe286eb6325b628fe0615b819cf55c4d...</td>\n",
       "      <td>0x39</td>\n",
       "      <td>core</td>\n",
       "      <td>Pregnant</td>\n",
       "      <td>0xef658c8cea1244a46d42adb60052d71014d66aef</td>\n",
       "      <td>0000000000000000000000000000000000000000000000...</td>\n",
       "      <td>0000000000000000000000000000000000000000000000...</td>\n",
       "      <td>544965</td>\n",
       "      <td>543046</td>\n",
       "      <td>0x00006268b210810a42900d6818ca57182062dcc3a943...</td>\n",
       "      <td>0x000062d0b390243242e7b86b118e53b0c62b8c851cc3...</td>\n",
       "    </tr>\n",
       "    <tr>\n",
       "      <th>32</th>\n",
       "      <td>0x06012c8cf97bead5deae237070f9587f8e7a266d</td>\n",
       "      <td>0xe614057fa690ec5c96f83b096356de5a3155c433a62a...</td>\n",
       "      <td>0x4e9413</td>\n",
       "      <td>0x000000000000000000000000e1e7ba7f42a262069b8f...</td>\n",
       "      <td>0x26</td>\n",
       "      <td>False</td>\n",
       "      <td>[0x241ea03ca20251805084d27d4440371c34a0b85ff10...</td>\n",
       "      <td>0x660363490295bead9d59a5d18ff0038fdd43519705be...</td>\n",
       "      <td>0x3c</td>\n",
       "      <td>core</td>\n",
       "      <td>Pregnant</td>\n",
       "      <td>0xe1e7ba7f42a262069b8f296be7cbf9bff96f4ad8</td>\n",
       "      <td>0000000000000000000000000000000000000000000000...</td>\n",
       "      <td>0000000000000000000000000000000000000000000000...</td>\n",
       "      <td>541102</td>\n",
       "      <td>543040</td>\n",
       "      <td>0x00006316831ce7184c158c0a2823171c6e498c839940...</td>\n",
       "      <td>0x00004252831ce6304c940c1a330b138941335aa2b945...</td>\n",
       "    </tr>\n",
       "    <tr>\n",
       "      <th>33</th>\n",
       "      <td>0x06012c8cf97bead5deae237070f9587f8e7a266d</td>\n",
       "      <td>0xe614057fa690ec5c96f83b096356de5a3155c433a62a...</td>\n",
       "      <td>0x4e9413</td>\n",
       "      <td>0x000000000000000000000000cf3e677e859021f26992...</td>\n",
       "      <td>0x3f</td>\n",
       "      <td>False</td>\n",
       "      <td>[0x241ea03ca20251805084d27d4440371c34a0b85ff10...</td>\n",
       "      <td>0x1d6005986252292d33b4b3d3ce6cdfffebade1a57c0a...</td>\n",
       "      <td>0x43</td>\n",
       "      <td>core</td>\n",
       "      <td>Pregnant</td>\n",
       "      <td>0xcf3e677e859021f26992f49aeb54446c97345ca2</td>\n",
       "      <td>0000000000000000000000000000000000000000000000...</td>\n",
       "      <td>0000000000000000000000000000000000000000000000...</td>\n",
       "      <td>545077</td>\n",
       "      <td>542620</td>\n",
       "      <td>0x00004a128398847246e7a41729c0539841634cb50645...</td>\n",
       "      <td>0x000042d6c314e5704c940ef76140511c875a16d0a8a5...</td>\n",
       "    </tr>\n",
       "  </tbody>\n",
       "</table>\n",
       "</div>"
      ],
      "text/plain": [
       "                                       address  \\\n",
       "20  0x06012c8cf97bead5deae237070f9587f8e7a266d   \n",
       "30  0x06012c8cf97bead5deae237070f9587f8e7a266d   \n",
       "31  0x06012c8cf97bead5deae237070f9587f8e7a266d   \n",
       "32  0x06012c8cf97bead5deae237070f9587f8e7a266d   \n",
       "33  0x06012c8cf97bead5deae237070f9587f8e7a266d   \n",
       "\n",
       "                                            blockHash blockNumber  \\\n",
       "20  0x699ad7b68abf754c847b6fdb9f9ebc331f674b23e442...    0x4e9411   \n",
       "30  0xe614057fa690ec5c96f83b096356de5a3155c433a62a...    0x4e9413   \n",
       "31  0xe614057fa690ec5c96f83b096356de5a3155c433a62a...    0x4e9413   \n",
       "32  0xe614057fa690ec5c96f83b096356de5a3155c433a62a...    0x4e9413   \n",
       "33  0xe614057fa690ec5c96f83b096356de5a3155c433a62a...    0x4e9413   \n",
       "\n",
       "                                                 data logIndex  removed  \\\n",
       "20  0x00000000000000000000000035e2268306aab43014da...     0x98    False   \n",
       "30  0x000000000000000000000000f5eeecc91a6e05ef5e02...     0x1d    False   \n",
       "31  0x000000000000000000000000ef658c8cea1244a46d42...     0x23    False   \n",
       "32  0x000000000000000000000000e1e7ba7f42a262069b8f...     0x26    False   \n",
       "33  0x000000000000000000000000cf3e677e859021f26992...     0x3f    False   \n",
       "\n",
       "                                               topics  \\\n",
       "20  [0x241ea03ca20251805084d27d4440371c34a0b85ff10...   \n",
       "30  [0x241ea03ca20251805084d27d4440371c34a0b85ff10...   \n",
       "31  [0x241ea03ca20251805084d27d4440371c34a0b85ff10...   \n",
       "32  [0x241ea03ca20251805084d27d4440371c34a0b85ff10...   \n",
       "33  [0x241ea03ca20251805084d27d4440371c34a0b85ff10...   \n",
       "\n",
       "                                      transactionHash transactionIndex  \\\n",
       "20  0xf328e3da021c51943dcff39d1a31d9ecee572ce9091e...             0x54   \n",
       "30  0x8416b9d1fd2e98ce6bad98afcb06a91a27b62b12b48b...             0x32   \n",
       "31  0x44a0107e7e5efe286eb6325b628fe0615b819cf55c4d...             0x39   \n",
       "32  0x660363490295bead9d59a5d18ff0038fdd43519705be...             0x3c   \n",
       "33  0x1d6005986252292d33b4b3d3ce6cdfffebade1a57c0a...             0x43   \n",
       "\n",
       "   contract     event                                       owner  \\\n",
       "20     core  Pregnant  0x35e2268306aab43014da143f110431ec0140957a   \n",
       "30     core  Pregnant  0xf5eeecc91a6e05ef5e0224211aeedb4dd94e559e   \n",
       "31     core  Pregnant  0xef658c8cea1244a46d42adb60052d71014d66aef   \n",
       "32     core  Pregnant  0xe1e7ba7f42a262069b8f296be7cbf9bff96f4ad8   \n",
       "33     core  Pregnant  0xcf3e677e859021f26992f49aeb54446c97345ca2   \n",
       "\n",
       "                                             matronId  \\\n",
       "20  0000000000000000000000000000000000000000000000...   \n",
       "30  0000000000000000000000000000000000000000000000...   \n",
       "31  0000000000000000000000000000000000000000000000...   \n",
       "32  0000000000000000000000000000000000000000000000...   \n",
       "33  0000000000000000000000000000000000000000000000...   \n",
       "\n",
       "                                               sireId  matronId_dec  \\\n",
       "20  0000000000000000000000000000000000000000000000...        537797   \n",
       "30  0000000000000000000000000000000000000000000000...        476878   \n",
       "31  0000000000000000000000000000000000000000000000...        544965   \n",
       "32  0000000000000000000000000000000000000000000000...        541102   \n",
       "33  0000000000000000000000000000000000000000000000...        545077   \n",
       "\n",
       "    sireId_dec                                        matronGenes  \\\n",
       "20      545094  0x000042d69214251a5ce5ad206006031d4042dcd195e0...   \n",
       "30      540577  0x000042129394e6099234a5cb615911b0c67314602944...   \n",
       "31      543046  0x00006268b210810a42900d6818ca57182062dcc3a943...   \n",
       "32      543040  0x00006316831ce7184c158c0a2823171c6e498c839940...   \n",
       "33      542620  0x00004a128398847246e7a41729c0539841634cb50645...   \n",
       "\n",
       "                                            sireGenes  \n",
       "20  0x00006316c390e60b8ce4b93718005330c66184c390ca...  \n",
       "30  0x000042d14294213182e5bc4263185305415898e201e5...  \n",
       "31  0x000062d0b390243242e7b86b118e53b0c62b8c851cc3...  \n",
       "32  0x00004252831ce6304c940c1a330b138941335aa2b945...  \n",
       "33  0x000042d6c314e5704c940ef76140511c875a16d0a8a5...  "
      ]
     },
     "execution_count": 331,
     "metadata": {},
     "output_type": "execute_result"
    }
   ],
   "source": [
    "pregnancies.head()"
   ]
  },
  {
   "cell_type": "markdown",
   "metadata": {},
   "source": [
    "Next: split genes into cattributes (is that how it works?) and plot histograms"
   ]
  }
 ],
 "metadata": {
  "kernelspec": {
   "display_name": "Python 3",
   "language": "python",
   "name": "python3"
  },
  "language_info": {
   "codemirror_mode": {
    "name": "ipython",
    "version": 3
   },
   "file_extension": ".py",
   "mimetype": "text/x-python",
   "name": "python",
   "nbconvert_exporter": "python",
   "pygments_lexer": "ipython3",
   "version": "3.6.3"
  }
 },
 "nbformat": 4,
 "nbformat_minor": 2
}
