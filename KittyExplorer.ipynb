{
 "cells": [
  {
   "cell_type": "code",
   "execution_count": 1,
   "metadata": {
    "collapsed": true
   },
   "outputs": [],
   "source": [
    "import requests, json\n",
    "import pandas as pd\n",
    "import numpy as np\n",
    "%matplotlib inline\n",
    "SESSION = requests.Session()\n",
    "f = open(\"bs_node_ip.txt\",\"r\")\n",
    "RPC_HOST = f.readline()\n",
    "RPC_HOST = str.replace(RPC_HOST,'\\n','')\n",
    "RPC_PORT = '8545'\n",
    "RPC_URL = 'http://'+RPC_HOST+':'+RPC_PORT\n",
    "pd.set_option('max_colwidth', 70)"
   ]
  },
  {
   "cell_type": "markdown",
   "metadata": {},
   "source": [
    "## Basic JSON downloading"
   ]
  },
  {
   "cell_type": "code",
   "execution_count": 2,
   "metadata": {
    "collapsed": true
   },
   "outputs": [],
   "source": [
    "def getJSON(url, d=None):\n",
    "    h = {\"Content-Type\": \"application/json\"}\n",
    "    if d is None:\n",
    "        r = SESSION.get(url, headers=h)\n",
    "    else:\n",
    "        r = SESSION.post(url, data=d, headers=h)\n",
    "    json_data = r.text\n",
    "    response = json.loads(json_data)\n",
    "    return response"
   ]
  },
  {
   "cell_type": "code",
   "execution_count": 3,
   "metadata": {
    "collapsed": true
   },
   "outputs": [],
   "source": [
    "def getRawJSON(url, d=None):\n",
    "    h = {\"Content-Type\": \"application/json\"}\n",
    "    if d is None:\n",
    "        r = SESSION.get(url, headers=h)\n",
    "    else:\n",
    "        r = SESSION.post(url, data=d, headers=h)\n",
    "    json_data = r.text\n",
    "    return json_data"
   ]
  },
  {
   "cell_type": "code",
   "execution_count": 4,
   "metadata": {
    "collapsed": true
   },
   "outputs": [],
   "source": [
    "# test if the getJSON function supports GET requests\n",
    "# getJSON('https://api.etherscan.io/api?module=account&action=balance&address=0xde0b295669a9fd93d5f28d9ec85e40f4cb697bae&tag=latest&apikey=YourApiKeyToken')"
   ]
  },
  {
   "cell_type": "code",
   "execution_count": 5,
   "metadata": {
    "collapsed": true
   },
   "outputs": [],
   "source": [
    "# test if the getJSON function supports POST requests\n",
    "# getJSON(RPC_URL,'{\"jsonrpc\":\"2.0\",\"method\":\"eth_syncing\",\"params\":[],\"id\":1}')"
   ]
  },
  {
   "cell_type": "markdown",
   "metadata": {},
   "source": [
    "## Consensys EthJsonRpc Package"
   ]
  },
  {
   "cell_type": "markdown",
   "metadata": {},
   "source": [
    "I wasn't able to quickly make the package work on Python 3"
   ]
  },
  {
   "cell_type": "code",
   "execution_count": 6,
   "metadata": {
    "collapsed": true
   },
   "outputs": [],
   "source": [
    "# from ethjsonrpc import EthJsonRpc\n",
    "# c = EthJsonRpc('35.196.250.157', 8545)\n",
    "# print(c.net_version())\n",
    "# print(c.web3_clientVersion())\n",
    "# print(c.eth_gasPrice())"
   ]
  },
  {
   "cell_type": "markdown",
   "metadata": {},
   "source": [
    "So I began copying their functions. Most of them still need testing. Ideally we should fork and make our own package compatible with Python 3"
   ]
  },
  {
   "cell_type": "code",
   "execution_count": 7,
   "metadata": {
    "collapsed": true
   },
   "outputs": [],
   "source": [
    "# FROM https://github.com/ConsenSys/ethjsonrpc/blob/master/ethjsonrpc/utils.py\n",
    "def hex_to_dec(x):\n",
    "    '''\n",
    "    Convert hex to decimal\n",
    "    '''\n",
    "    return int(x, 16)"
   ]
  },
  {
   "cell_type": "code",
   "execution_count": 8,
   "metadata": {
    "collapsed": true
   },
   "outputs": [],
   "source": [
    "# FROM https://github.com/ConsenSys/ethjsonrpc/blob/master/ethjsonrpc/utils.py\n",
    "def clean_hex(d):\n",
    "    '''\n",
    "    Convert decimal to hex and remove the \"L\" suffix that is appended to large\n",
    "    numbers\n",
    "    '''\n",
    "    return hex(d).rstrip('L')"
   ]
  },
  {
   "cell_type": "code",
   "execution_count": 9,
   "metadata": {
    "collapsed": true
   },
   "outputs": [],
   "source": [
    "# FROM https://github.com/ConsenSys/ethjsonrpc/blob/master/ethjsonrpc/utils.py\n",
    "def validate_block(block):\n",
    "#     doesn't work on Python 3\n",
    "#     if isinstance(block, basestring):\n",
    "#         if block not in BLOCK_TAGS:\n",
    "#             raise ValueError('invalid block tag')\n",
    "    if isinstance(block, int):\n",
    "        block = hex(block)\n",
    "    return block"
   ]
  },
  {
   "cell_type": "code",
   "execution_count": 10,
   "metadata": {
    "collapsed": true
   },
   "outputs": [],
   "source": [
    "# FROM https://github.com/ConsenSys/ethjsonrpc/blob/master/ethjsonrpc/utils.py\n",
    "def wei_to_ether(wei):\n",
    "    '''\n",
    "    Convert wei to ether\n",
    "    '''\n",
    "    return 1.0 * wei / 10**18"
   ]
  },
  {
   "cell_type": "code",
   "execution_count": 11,
   "metadata": {
    "collapsed": true
   },
   "outputs": [],
   "source": [
    "# FROM https://github.com/ConsenSys/ethjsonrpc/blob/master/ethjsonrpc/utils.py\n",
    "def ether_to_wei(ether):\n",
    "    '''\n",
    "    Convert ether to wei\n",
    "    '''\n",
    "    return ether * 10**18"
   ]
  },
  {
   "cell_type": "code",
   "execution_count": 12,
   "metadata": {
    "collapsed": true
   },
   "outputs": [],
   "source": [
    "# FROM: https://github.com/ConsenSys/ethjsonrpc/blob/master/ethjsonrpc/exceptions.py\n",
    "class EthJsonRpcError(Exception):\n",
    "    pass\n",
    "class ConnectionError(EthJsonRpcError):\n",
    "    pass\n",
    "class BadStatusCodeError(EthJsonRpcError):\n",
    "    pass\n",
    "class BadJsonError(EthJsonRpcError):\n",
    "    pass\n",
    "class BadResponseError(EthJsonRpcError):\n",
    "    pass"
   ]
  },
  {
   "cell_type": "code",
   "execution_count": 13,
   "metadata": {
    "collapsed": true
   },
   "outputs": [],
   "source": [
    "# FROM: https://github.com/ConsenSys/ethjsonrpc/blob/master/ethjsonrpc/client.py\n",
    "BLOCK_TAG_EARLIEST = 'earliest'\n",
    "BLOCK_TAG_LATEST   = 'latest'\n",
    "BLOCK_TAG_PENDING  = 'pending'\n",
    "BLOCK_TAGS = (\n",
    "    BLOCK_TAG_EARLIEST,\n",
    "    BLOCK_TAG_LATEST,\n",
    "    BLOCK_TAG_PENDING,\n",
    ")"
   ]
  },
  {
   "cell_type": "code",
   "execution_count": 14,
   "metadata": {
    "collapsed": true
   },
   "outputs": [],
   "source": [
    "# FROM: https://github.com/ConsenSys/ethjsonrpc/blob/master/ethjsonrpc/client.py\n",
    "def _call(method, params=None, _id=1):\n",
    "    params = params or []\n",
    "    data = {\n",
    "        'jsonrpc': '2.0',\n",
    "        'method':  method,\n",
    "        'params':  params,\n",
    "        'id':      _id,\n",
    "    }\n",
    "    scheme = 'http'\n",
    "#     if tls:\n",
    "#         scheme += 's'\n",
    "    url = '{}://{}:{}'.format(scheme, RPC_HOST, RPC_PORT)\n",
    "    headers = {'Content-Type': 'application/json'}\n",
    "    try:\n",
    "        r = SESSION.post(url, headers=headers, data=json.dumps(data))\n",
    "    except RequestsConnectionError:\n",
    "        raise ConnectionError\n",
    "    if r.status_code / 100 != 2:\n",
    "        raise BadStatusCodeError(r.status_code)\n",
    "    try:\n",
    "        response = r.json()\n",
    "    except ValueError:\n",
    "        raise BadJsonError(r.text)\n",
    "    try:\n",
    "        return response['result']\n",
    "    except KeyError:\n",
    "        raise BadResponseError(response)"
   ]
  },
  {
   "cell_type": "code",
   "execution_count": 15,
   "metadata": {
    "collapsed": true
   },
   "outputs": [],
   "source": [
    "################################################################################\n",
    "# high-level methods\n",
    "################################################################################"
   ]
  },
  {
   "cell_type": "code",
   "execution_count": 16,
   "metadata": {
    "collapsed": true
   },
   "outputs": [],
   "source": [
    "# FROM: https://github.com/ConsenSys/ethjsonrpc/blob/master/ethjsonrpc/client.py\n",
    "def transfer(from_, to, amount):\n",
    "    '''\n",
    "    Send wei from one address to another\n",
    "    '''\n",
    "    return eth_sendTransaction(from_address=from_, to_address=to, value=amount)"
   ]
  },
  {
   "cell_type": "code",
   "execution_count": 17,
   "metadata": {
    "collapsed": true
   },
   "outputs": [],
   "source": [
    "# FROM: https://github.com/ConsenSys/ethjsonrpc/blob/master/ethjsonrpc/client.py\n",
    "def create_contract(from_, code, gas, sig=None, args=None):\n",
    "    '''\n",
    "    Create a contract on the blockchain from compiled EVM code. Returns the\n",
    "    transaction hash.\n",
    "    '''\n",
    "    from_ = from_ or eth_coinbase()\n",
    "    if sig is not None and args is not None:\n",
    "         types = sig[sig.find('(') + 1: sig.find(')')].split(',')\n",
    "         encoded_params = encode_abi(types, args)\n",
    "         code += encoded_params.encode('hex')\n",
    "    return eth_sendTransaction(from_address=from_, gas=gas, data=code)"
   ]
  },
  {
   "cell_type": "code",
   "execution_count": 18,
   "metadata": {
    "collapsed": true
   },
   "outputs": [],
   "source": [
    "# FROM: https://github.com/ConsenSys/ethjsonrpc/blob/master/ethjsonrpc/client.py\n",
    "def get_contract_address(tx):\n",
    "    '''\n",
    "    Get the address for a contract from the transaction that created it\n",
    "    '''\n",
    "    receipt = eth_getTransactionReceipt(tx)\n",
    "    return receipt['contractAddress']"
   ]
  },
  {
   "cell_type": "code",
   "execution_count": 19,
   "metadata": {
    "collapsed": true
   },
   "outputs": [],
   "source": [
    "# FROM: https://github.com/ConsenSys/ethjsonrpc/blob/master/ethjsonrpc/client.py\n",
    "def call(address, sig, args, result_types):\n",
    "    '''\n",
    "    Call a contract function on the RPC server, without sending a\n",
    "    transaction (useful for reading data)\n",
    "    '''\n",
    "    data = _encode_function(sig, args)\n",
    "    data_hex = data.encode('hex')\n",
    "    response = eth_call(to_address=address, data=data_hex)\n",
    "    return decode_abi(result_types, response[2:].decode('hex'))"
   ]
  },
  {
   "cell_type": "code",
   "execution_count": 20,
   "metadata": {
    "collapsed": true
   },
   "outputs": [],
   "source": [
    "# FROM: https://github.com/ConsenSys/ethjsonrpc/blob/master/ethjsonrpc/client.py\n",
    "def call_with_transaction(from_, address, sig, args, gas=None, gas_price=None, value=None):\n",
    "    '''\n",
    "    Call a contract function by sending a transaction (useful for storing\n",
    "    data)\n",
    "    '''\n",
    "    gas = gas or DEFAULT_GAS_PER_TX\n",
    "    gas_price = gas_price or DEFAULT_GAS_PRICE\n",
    "    data = _encode_function(sig, args)\n",
    "    data_hex = data.encode('hex')\n",
    "    return eth_sendTransaction(from_address=from_, to_address=address, data=data_hex, gas=gas,\n",
    "                                    gas_price=gas_price, value=value)"
   ]
  },
  {
   "cell_type": "code",
   "execution_count": 21,
   "metadata": {
    "collapsed": true
   },
   "outputs": [],
   "source": [
    "################################################################################\n",
    "# JSON-RPC methods\n",
    "################################################################################"
   ]
  },
  {
   "cell_type": "code",
   "execution_count": 22,
   "metadata": {
    "collapsed": true
   },
   "outputs": [],
   "source": [
    "# FROM: https://github.com/ConsenSys/ethjsonrpc/blob/master/ethjsonrpc/client.py\n",
    "def web3_clientVersion():\n",
    "    '''\n",
    "    https://github.com/ethereum/wiki/wiki/JSON-RPC#web3_clientversion\n",
    "    NEEDS TESTING\n",
    "    '''\n",
    "    return _call('web3_clientVersion')"
   ]
  },
  {
   "cell_type": "code",
   "execution_count": 23,
   "metadata": {
    "collapsed": true
   },
   "outputs": [],
   "source": [
    "# FROM: https://github.com/ConsenSys/ethjsonrpc/blob/master/ethjsonrpc/client.py\n",
    "def web3_sha3(data):\n",
    "    '''\n",
    "    https://github.com/ethereum/wiki/wiki/JSON-RPC#web3_sha3\n",
    "    NEEDS TESTING\n",
    "    '''\n",
    "    data = str(data).encode('hex')\n",
    "    return _call('web3_sha3', [data])"
   ]
  },
  {
   "cell_type": "code",
   "execution_count": 24,
   "metadata": {
    "collapsed": true
   },
   "outputs": [],
   "source": [
    "# FROM: https://github.com/ConsenSys/ethjsonrpc/blob/master/ethjsonrpc/client.py\n",
    "def net_version():\n",
    "    '''\n",
    "    https://github.com/ethereum/wiki/wiki/JSON-RPC#net_version\n",
    "    NEEDS TESTING\n",
    "    '''\n",
    "    return _call('net_version')"
   ]
  },
  {
   "cell_type": "code",
   "execution_count": 25,
   "metadata": {
    "collapsed": true
   },
   "outputs": [],
   "source": [
    "# FROM: https://github.com/ConsenSys/ethjsonrpc/blob/master/ethjsonrpc/client.py\n",
    "def net_listening():\n",
    "    '''\n",
    "    https://github.com/ethereum/wiki/wiki/JSON-RPC#net_listening\n",
    "    NEEDS TESTING\n",
    "    '''\n",
    "    return _call('net_listening')"
   ]
  },
  {
   "cell_type": "code",
   "execution_count": 26,
   "metadata": {
    "collapsed": true
   },
   "outputs": [],
   "source": [
    "# FROM: https://github.com/ConsenSys/ethjsonrpc/blob/master/ethjsonrpc/client.py\n",
    "def net_peerCount():\n",
    "    '''\n",
    "    https://github.com/ethereum/wiki/wiki/JSON-RPC#net_peercount\n",
    "    NEEDS TESTING\n",
    "    '''\n",
    "    return hex_to_dec(_call('net_peerCount'))"
   ]
  },
  {
   "cell_type": "code",
   "execution_count": 27,
   "metadata": {
    "collapsed": true
   },
   "outputs": [],
   "source": [
    "def eth_protocolVersion():\n",
    "    '''\n",
    "    https://github.com/ethereum/wiki/wiki/JSON-RPC#eth_protocolversion\n",
    "    NEEDS TESTING\n",
    "    '''\n",
    "    return _call('eth_protocolVersion')"
   ]
  },
  {
   "cell_type": "code",
   "execution_count": 28,
   "metadata": {
    "collapsed": true
   },
   "outputs": [],
   "source": [
    "# FROM: https://github.com/ConsenSys/ethjsonrpc/blob/master/ethjsonrpc/client.py\n",
    "def eth_syncing():\n",
    "    '''\n",
    "    https://github.com/ethereum/wiki/wiki/JSON-RPC#eth_syncing\n",
    "    TESTED - MARKUS 2018-02-07\n",
    "    '''\n",
    "    return _call('eth_syncing')"
   ]
  },
  {
   "cell_type": "code",
   "execution_count": 29,
   "metadata": {
    "collapsed": true
   },
   "outputs": [],
   "source": [
    "# FROM: https://github.com/ConsenSys/ethjsonrpc/blob/master/ethjsonrpc/client.py\n",
    "def eth_coinbase():\n",
    "    '''\n",
    "    https://github.com/ethereum/wiki/wiki/JSON-RPC#eth_coinbase\n",
    "    NEEDS TESTING\n",
    "    '''\n",
    "    return _call('eth_coinbase')"
   ]
  },
  {
   "cell_type": "code",
   "execution_count": 30,
   "metadata": {
    "collapsed": true
   },
   "outputs": [],
   "source": [
    "# FROM: https://github.com/ConsenSys/ethjsonrpc/blob/master/ethjsonrpc/client.py\n",
    "def eth_mining():\n",
    "    '''\n",
    "    https://github.com/ethereum/wiki/wiki/JSON-RPC#eth_mining\n",
    "    NEEDS TESTING\n",
    "    '''\n",
    "    return _call('eth_mining')"
   ]
  },
  {
   "cell_type": "code",
   "execution_count": 31,
   "metadata": {
    "collapsed": true
   },
   "outputs": [],
   "source": [
    "# FROM: https://github.com/ConsenSys/ethjsonrpc/blob/master/ethjsonrpc/client.py\n",
    "def eth_hashrate():\n",
    "    '''\n",
    "    https://github.com/ethereum/wiki/wiki/JSON-RPC#eth_hashrate\n",
    "    NEEDS TESTING\n",
    "    '''\n",
    "    return hex_to_dec(_call('eth_hashrate'))"
   ]
  },
  {
   "cell_type": "code",
   "execution_count": 32,
   "metadata": {
    "collapsed": true
   },
   "outputs": [],
   "source": [
    "# FROM: https://github.com/ConsenSys/ethjsonrpc/blob/master/ethjsonrpc/client.py\n",
    "def eth_gasPrice():\n",
    "    '''\n",
    "    https://github.com/ethereum/wiki/wiki/JSON-RPC#eth_gasprice\n",
    "    NEEDS TESTING\n",
    "    '''\n",
    "    return hex_to_dec(_call('eth_gasPrice'))"
   ]
  },
  {
   "cell_type": "code",
   "execution_count": 33,
   "metadata": {
    "collapsed": true
   },
   "outputs": [],
   "source": [
    "# FROM: https://github.com/ConsenSys/ethjsonrpc/blob/master/ethjsonrpc/client.py\n",
    "def eth_accounts():\n",
    "    '''\n",
    "    https://github.com/ethereum/wiki/wiki/JSON-RPC#eth_accounts\n",
    "    NEEDS TESTING\n",
    "    '''\n",
    "    return _call('eth_accounts')"
   ]
  },
  {
   "cell_type": "code",
   "execution_count": 34,
   "metadata": {
    "collapsed": true
   },
   "outputs": [],
   "source": [
    "# FROM: https://github.com/ConsenSys/ethjsonrpc/blob/master/ethjsonrpc/client.py\n",
    "def eth_blockNumber():\n",
    "    '''\n",
    "    https://github.com/ethereum/wiki/wiki/JSON-RPC#eth_blocknumber\n",
    "    TESTED - MARKUS 2018-02-07\n",
    "    '''\n",
    "    return hex_to_dec(_call('eth_blockNumber'))"
   ]
  },
  {
   "cell_type": "code",
   "execution_count": 35,
   "metadata": {
    "collapsed": true
   },
   "outputs": [],
   "source": [
    "# FROM: https://github.com/ConsenSys/ethjsonrpc/blob/master/ethjsonrpc/client.py\n",
    "def eth_getBalance(address=None, block=BLOCK_TAG_LATEST):\n",
    "    '''\n",
    "    https://github.com/ethereum/wiki/wiki/JSON-RPC#eth_getbalance\n",
    "    TESTED - MARKUS 2018-02-07\n",
    "    '''\n",
    "    address = address or eth_coinbase()\n",
    "    block = validate_block(block)\n",
    "    return hex_to_dec(_call('eth_getBalance', [address, block]))"
   ]
  },
  {
   "cell_type": "code",
   "execution_count": 36,
   "metadata": {
    "collapsed": true
   },
   "outputs": [],
   "source": [
    "# FROM: https://github.com/ConsenSys/ethjsonrpc/blob/master/ethjsonrpc/client.py\n",
    "def eth_getStorageAt(address=None, position=0, block=BLOCK_TAG_LATEST):\n",
    "    '''\n",
    "    https://github.com/ethereum/wiki/wiki/JSON-RPC#eth_getstorageat\n",
    "    NEEDS TESTING\n",
    "    '''\n",
    "    block = validate_block(block)\n",
    "    return _call('eth_getStorageAt', [address, hex(position), block])"
   ]
  },
  {
   "cell_type": "code",
   "execution_count": 37,
   "metadata": {
    "collapsed": true
   },
   "outputs": [],
   "source": [
    "# FROM: https://github.com/ConsenSys/ethjsonrpc/blob/master/ethjsonrpc/client.py\n",
    "def eth_getTransactionCount(address, block=BLOCK_TAG_LATEST):\n",
    "    '''\n",
    "    https://github.com/ethereum/wiki/wiki/JSON-RPC#eth_gettransactioncount\n",
    "    TESTED - MARKUS 2018-02-07\n",
    "    '''\n",
    "    block = validate_block(block)\n",
    "    return hex_to_dec(_call('eth_getTransactionCount', [address, block]))"
   ]
  },
  {
   "cell_type": "code",
   "execution_count": 38,
   "metadata": {
    "collapsed": true
   },
   "outputs": [],
   "source": [
    "# FROM: https://github.com/ConsenSys/ethjsonrpc/blob/master/ethjsonrpc/client.py\n",
    "def eth_getBlockTransactionCountByHash(block_hash):\n",
    "    '''\n",
    "    https://github.com/ethereum/wiki/wiki/JSON-RPC#eth_getblocktransactioncountbyhash\n",
    "    NEEDS TESTING\n",
    "    '''\n",
    "    return hex_to_dec(_call('eth_getBlockTransactionCountByHash', [block_hash]))"
   ]
  },
  {
   "cell_type": "code",
   "execution_count": 39,
   "metadata": {
    "collapsed": true
   },
   "outputs": [],
   "source": [
    "# FROM: https://github.com/ConsenSys/ethjsonrpc/blob/master/ethjsonrpc/client.py\n",
    "def eth_getBlockTransactionCountByNumber(block=BLOCK_TAG_LATEST):\n",
    "    '''\n",
    "    https://github.com/ethereum/wiki/wiki/JSON-RPC#eth_getblocktransactioncountbynumber\n",
    "    NEEDS TESTING\n",
    "    '''\n",
    "    block = validate_block(block)\n",
    "    return hex_to_dec(_call('eth_getBlockTransactionCountByNumber', [block]))"
   ]
  },
  {
   "cell_type": "code",
   "execution_count": 40,
   "metadata": {
    "collapsed": true
   },
   "outputs": [],
   "source": [
    "# FROM: https://github.com/ConsenSys/ethjsonrpc/blob/master/ethjsonrpc/client.py\n",
    "def eth_getUncleCountByBlockHash(block_hash):\n",
    "    '''\n",
    "    https://github.com/ethereum/wiki/wiki/JSON-RPC#eth_getunclecountbyblockhash\n",
    "    NEEDS TESTING\n",
    "    '''\n",
    "    return hex_to_dec(_call('eth_getUncleCountByBlockHash', [block_hash]))"
   ]
  },
  {
   "cell_type": "code",
   "execution_count": 41,
   "metadata": {
    "collapsed": true
   },
   "outputs": [],
   "source": [
    "# FROM: https://github.com/ConsenSys/ethjsonrpc/blob/master/ethjsonrpc/client.py\n",
    "def eth_getUncleCountByBlockNumber(block=BLOCK_TAG_LATEST):\n",
    "    '''\n",
    "    https://github.com/ethereum/wiki/wiki/JSON-RPC#eth_getunclecountbyblocknumber\n",
    "    NEEDS TESTING\n",
    "    '''\n",
    "    block = validate_block(block)\n",
    "    return hex_to_dec(_call('eth_getUncleCountByBlockNumber', [block]))"
   ]
  },
  {
   "cell_type": "code",
   "execution_count": 42,
   "metadata": {
    "collapsed": true
   },
   "outputs": [],
   "source": [
    "# FROM: https://github.com/ConsenSys/ethjsonrpc/blob/master/ethjsonrpc/client.py\n",
    "def eth_getCode(address, default_block=BLOCK_TAG_LATEST):\n",
    "    '''\n",
    "    https://github.com/ethereum/wiki/wiki/JSON-RPC#eth_getcode\n",
    "    NEEDS TESTING\n",
    "    '''\n",
    "#     doesn't work on Python 3\n",
    "#     if isinstance(default_block, basestring):\n",
    "#         if default_block not in BLOCK_TAGS:\n",
    "#             raise ValueError\n",
    "    return _call('eth_getCode', [address, default_block])"
   ]
  },
  {
   "cell_type": "code",
   "execution_count": 43,
   "metadata": {
    "collapsed": true
   },
   "outputs": [],
   "source": [
    "# FROM: https://github.com/ConsenSys/ethjsonrpc/blob/master/ethjsonrpc/client.py\n",
    "def eth_sign(address, data):\n",
    "    '''\n",
    "    https://github.com/ethereum/wiki/wiki/JSON-RPC#eth_sign\n",
    "    NEEDS TESTING\n",
    "    '''\n",
    "    return _call('eth_sign', [address, data])"
   ]
  },
  {
   "cell_type": "code",
   "execution_count": 44,
   "metadata": {
    "collapsed": true
   },
   "outputs": [],
   "source": [
    "# FROM: https://github.com/ConsenSys/ethjsonrpc/blob/master/ethjsonrpc/client.py\n",
    "def eth_sendTransaction(to_address=None, from_address=None, gas=None, gas_price=None, value=None, data=None,\n",
    "                        nonce=None):\n",
    "    '''\n",
    "    https://github.com/ethereum/wiki/wiki/JSON-RPC#eth_sendtransaction\n",
    "    NEEDS TESTING\n",
    "    '''\n",
    "    params = {}\n",
    "    params['from'] = from_address or eth_coinbase()\n",
    "    if to_address is not None:\n",
    "        params['to'] = to_address\n",
    "    if gas is not None:\n",
    "        params['gas'] = hex(gas)\n",
    "    if gas_price is not None:\n",
    "        params['gasPrice'] = clean_hex(gas_price)\n",
    "    if value is not None:\n",
    "        params['value'] = clean_hex(value)\n",
    "    if data is not None:\n",
    "        params['data'] = data\n",
    "    if nonce is not None:\n",
    "        params['nonce'] = hex(nonce)\n",
    "    return _call('eth_sendTransaction', [params])"
   ]
  },
  {
   "cell_type": "code",
   "execution_count": 45,
   "metadata": {
    "collapsed": true
   },
   "outputs": [],
   "source": [
    "# FROM: https://github.com/ConsenSys/ethjsonrpc/blob/master/ethjsonrpc/client.py\n",
    "def eth_sendRawTransaction(data):\n",
    "    '''\n",
    "    https://github.com/ethereum/wiki/wiki/JSON-RPC#eth_sendrawtransaction\n",
    "    NEEDS TESTING\n",
    "    '''\n",
    "    return _call('eth_sendRawTransaction', [data])"
   ]
  },
  {
   "cell_type": "code",
   "execution_count": 46,
   "metadata": {
    "collapsed": true
   },
   "outputs": [],
   "source": [
    "# FROM: https://github.com/ConsenSys/ethjsonrpc/blob/master/ethjsonrpc/client.py\n",
    "def eth_call(to_address, from_address=None, gas=None, gas_price=None, value=None, data=None,\n",
    "             default_block=BLOCK_TAG_LATEST):\n",
    "    '''\n",
    "    https://github.com/ethereum/wiki/wiki/JSON-RPC#eth_call\n",
    "    NEEDS TESTING\n",
    "    '''\n",
    "#     doesn't work on Python 3\n",
    "#     if isinstance(default_block, basestring):\n",
    "#         if default_block not in BLOCK_TAGS:\n",
    "#             raise ValueError\n",
    "    obj = {}\n",
    "    obj['to'] = to_address\n",
    "    if from_address is not None:\n",
    "        obj['from'] = from_address\n",
    "    if gas is not None:\n",
    "        obj['gas'] = hex(gas)\n",
    "    if gas_price is not None:\n",
    "        obj['gasPrice'] = clean_hex(gas_price)\n",
    "    if value is not None:\n",
    "        obj['value'] = value\n",
    "    if data is not None:\n",
    "        obj['data'] = data\n",
    "    return _call('eth_call', [obj, default_block])"
   ]
  },
  {
   "cell_type": "code",
   "execution_count": 47,
   "metadata": {
    "collapsed": true
   },
   "outputs": [],
   "source": [
    "# FROM: https://github.com/ConsenSys/ethjsonrpc/blob/master/ethjsonrpc/client.py\n",
    "def eth_estimateGas(to_address=None, from_address=None, gas=None, gas_price=None, value=None, data=None,\n",
    "                    default_block=BLOCK_TAG_LATEST):\n",
    "    '''\n",
    "    https://github.com/ethereum/wiki/wiki/JSON-RPC#eth_estimategas\n",
    "    NEEDS TESTING\n",
    "    '''\n",
    "#     doesn't work on Python 3\n",
    "#     if isinstance(default_block, basestring):\n",
    "#         if default_block not in BLOCK_TAGS:\n",
    "#             raise ValueError\n",
    "    obj = {}\n",
    "    if to_address is not None:\n",
    "        obj['to'] = to_address\n",
    "    if from_address is not None:\n",
    "        obj['from'] = from_address\n",
    "    if gas is not None:\n",
    "        obj['gas'] = hex(gas)\n",
    "    if gas_price is not None:\n",
    "        obj['gasPrice'] = clean_hex(gas_price)\n",
    "    if value is not None:\n",
    "        obj['value'] = value\n",
    "    if data is not None:\n",
    "        obj['data'] = data\n",
    "    return hex_to_dec(_call('eth_estimateGas', [obj, default_block]))"
   ]
  },
  {
   "cell_type": "code",
   "execution_count": 48,
   "metadata": {
    "collapsed": true
   },
   "outputs": [],
   "source": [
    "# FROM: https://github.com/ConsenSys/ethjsonrpc/blob/master/ethjsonrpc/client.py\n",
    "def eth_getBlockByHash(block_hash, tx_objects=True):\n",
    "    '''\n",
    "    https://github.com/ethereum/wiki/wiki/JSON-RPC#eth_getblockbyhash\n",
    "    NEEDS TESTING\n",
    "    '''\n",
    "    return _call('eth_getBlockByHash', [block_hash, tx_objects])"
   ]
  },
  {
   "cell_type": "code",
   "execution_count": 49,
   "metadata": {
    "collapsed": true
   },
   "outputs": [],
   "source": [
    "# FROM: https://github.com/ConsenSys/ethjsonrpc/blob/master/ethjsonrpc/client.py\n",
    "def eth_getBlockByNumber(block=BLOCK_TAG_LATEST, tx_objects=True):\n",
    "    '''\n",
    "    https://github.com/ethereum/wiki/wiki/JSON-RPC#eth_getblockbynumber\n",
    "    NEEDS TESTING\n",
    "    '''\n",
    "    block = validate_block(block)\n",
    "    return _call('eth_getBlockByNumber', [block, tx_objects])"
   ]
  },
  {
   "cell_type": "code",
   "execution_count": 50,
   "metadata": {
    "collapsed": true
   },
   "outputs": [],
   "source": [
    "# FROM: https://github.com/ConsenSys/ethjsonrpc/blob/master/ethjsonrpc/client.py\n",
    "def eth_getTransactionByHash(tx_hash):\n",
    "    '''\n",
    "    https://github.com/ethereum/wiki/wiki/JSON-RPC#eth_gettransactionbyhash\n",
    "    NEEDS TESTING\n",
    "    '''\n",
    "    return _call('eth_getTransactionByHash', [tx_hash])"
   ]
  },
  {
   "cell_type": "code",
   "execution_count": 51,
   "metadata": {
    "collapsed": true
   },
   "outputs": [],
   "source": [
    "# FROM: https://github.com/ConsenSys/ethjsonrpc/blob/master/ethjsonrpc/client.py\n",
    "def eth_getTransactionByBlockHashAndIndex(block_hash, index=0):\n",
    "    '''\n",
    "    https://github.com/ethereum/wiki/wiki/JSON-RPC#eth_gettransactionbyblockhashandindex\n",
    "    NEEDS TESTING\n",
    "    '''\n",
    "    return _call('eth_getTransactionByBlockHashAndIndex', [block_hash, hex(index)])"
   ]
  },
  {
   "cell_type": "code",
   "execution_count": 52,
   "metadata": {
    "collapsed": true
   },
   "outputs": [],
   "source": [
    "# FROM: https://github.com/ConsenSys/ethjsonrpc/blob/master/ethjsonrpc/client.py\n",
    "def eth_getTransactionByBlockNumberAndIndex(block=BLOCK_TAG_LATEST, index=0):\n",
    "    '''\n",
    "    https://github.com/ethereum/wiki/wiki/JSON-RPC#eth_gettransactionbyblocknumberandindex\n",
    "    NEEDS TESTING\n",
    "    '''\n",
    "    block = validate_block(block)\n",
    "    return _call('eth_getTransactionByBlockNumberAndIndex', [block, hex(index)])"
   ]
  },
  {
   "cell_type": "code",
   "execution_count": 53,
   "metadata": {
    "collapsed": true
   },
   "outputs": [],
   "source": [
    "# FROM: https://github.com/ConsenSys/ethjsonrpc/blob/master/ethjsonrpc/client.py\n",
    "def eth_getTransactionReceipt(tx_hash):\n",
    "    '''\n",
    "    https://github.com/ethereum/wiki/wiki/JSON-RPC#eth_gettransactionreceipt\n",
    "    NEEDS TESTING\n",
    "    '''\n",
    "    return _call('eth_getTransactionReceipt', [tx_hash])"
   ]
  },
  {
   "cell_type": "code",
   "execution_count": 54,
   "metadata": {
    "collapsed": true
   },
   "outputs": [],
   "source": [
    "# FROM: https://github.com/ConsenSys/ethjsonrpc/blob/master/ethjsonrpc/client.py\n",
    "def eth_getUncleByBlockHashAndIndex(block_hash, index=0):\n",
    "    '''\n",
    "    https://github.com/ethereum/wiki/wiki/JSON-RPC#eth_getunclebyblockhashandindex\n",
    "    NEEDS TESTING\n",
    "    '''\n",
    "    return _call('eth_getUncleByBlockHashAndIndex', [block_hash, hex(index)])"
   ]
  },
  {
   "cell_type": "code",
   "execution_count": 55,
   "metadata": {
    "collapsed": true
   },
   "outputs": [],
   "source": [
    "# FROM: https://github.com/ConsenSys/ethjsonrpc/blob/master/ethjsonrpc/client.py\n",
    "def eth_getUncleByBlockNumberAndIndex(block=BLOCK_TAG_LATEST, index=0):\n",
    "    '''\n",
    "    https://github.com/ethereum/wiki/wiki/JSON-RPC#eth_getunclebyblocknumberandindex\n",
    "    NEEDS TESTING\n",
    "    '''\n",
    "    block = validate_block(block)\n",
    "    return _call('eth_getUncleByBlockNumberAndIndex', [block, hex(index)])"
   ]
  },
  {
   "cell_type": "code",
   "execution_count": 56,
   "metadata": {
    "collapsed": true
   },
   "outputs": [],
   "source": [
    "# FROM: https://github.com/ConsenSys/ethjsonrpc/blob/master/ethjsonrpc/client.py\n",
    "def eth_getCompilers():\n",
    "    '''\n",
    "    https://github.com/ethereum/wiki/wiki/JSON-RPC#eth_getcompilers\n",
    "    NEEDS TESTING\n",
    "    '''\n",
    "    return _call('eth_getCompilers')"
   ]
  },
  {
   "cell_type": "code",
   "execution_count": 57,
   "metadata": {
    "collapsed": true
   },
   "outputs": [],
   "source": [
    "# FROM: https://github.com/ConsenSys/ethjsonrpc/blob/master/ethjsonrpc/client.py\n",
    "def eth_compileSolidity(code):\n",
    "    '''\n",
    "    https://github.com/ethereum/wiki/wiki/JSON-RPC#eth_compilesolidity\n",
    "    NEEDS TESTING\n",
    "    '''\n",
    "    return _call('eth_compileSolidity', [code])"
   ]
  },
  {
   "cell_type": "code",
   "execution_count": 58,
   "metadata": {
    "collapsed": true
   },
   "outputs": [],
   "source": [
    "# FROM: https://github.com/ConsenSys/ethjsonrpc/blob/master/ethjsonrpc/client.py\n",
    "def eth_compileLLL(code):\n",
    "    '''\n",
    "    https://github.com/ethereum/wiki/wiki/JSON-RPC#eth_compilelll\n",
    "    N/A\n",
    "    '''\n",
    "    return _call('eth_compileLLL', [code])"
   ]
  },
  {
   "cell_type": "code",
   "execution_count": 59,
   "metadata": {
    "collapsed": true
   },
   "outputs": [],
   "source": [
    "# FROM: https://github.com/ConsenSys/ethjsonrpc/blob/master/ethjsonrpc/client.py\n",
    "def eth_compileSerpent(code):\n",
    "    '''\n",
    "    https://github.com/ethereum/wiki/wiki/JSON-RPC#eth_compileserpent\n",
    "    N/A\n",
    "    '''\n",
    "    return _call('eth_compileSerpent', [code])"
   ]
  },
  {
   "cell_type": "code",
   "execution_count": 60,
   "metadata": {
    "collapsed": true
   },
   "outputs": [],
   "source": [
    "# FROM: https://github.com/ConsenSys/ethjsonrpc/blob/master/ethjsonrpc/client.py\n",
    "def eth_newFilter(from_block=BLOCK_TAG_LATEST, to_block=BLOCK_TAG_LATEST, address=None, topics=None):\n",
    "    '''\n",
    "    https://github.com/ethereum/wiki/wiki/JSON-RPC#eth_newfilter\n",
    "    NEEDS TESTING\n",
    "    '''\n",
    "    _filter = {\n",
    "        'fromBlock': from_block,\n",
    "        'toBlock':   to_block,\n",
    "        'address':   address,\n",
    "        'topics':    topics,\n",
    "    }\n",
    "    return _call('eth_newFilter', [_filter])"
   ]
  },
  {
   "cell_type": "code",
   "execution_count": 61,
   "metadata": {
    "collapsed": true
   },
   "outputs": [],
   "source": [
    "# FROM: https://github.com/ConsenSys/ethjsonrpc/blob/master/ethjsonrpc/client.py\n",
    "def eth_newBlockFilter():\n",
    "    '''\n",
    "    https://github.com/ethereum/wiki/wiki/JSON-RPC#eth_newblockfilter\n",
    "    NEEDS TESTING\n",
    "    '''\n",
    "    return _call('eth_newBlockFilter')"
   ]
  },
  {
   "cell_type": "code",
   "execution_count": 62,
   "metadata": {
    "collapsed": true
   },
   "outputs": [],
   "source": [
    "# FROM: https://github.com/ConsenSys/ethjsonrpc/blob/master/ethjsonrpc/client.py\n",
    "def eth_newPendingTransactionFilter():\n",
    "    '''\n",
    "    https://github.com/ethereum/wiki/wiki/JSON-RPC#eth_newpendingtransactionfilter\n",
    "    NEEDS TESTING\n",
    "    '''\n",
    "    return hex_to_dec(_call('eth_newPendingTransactionFilter'))"
   ]
  },
  {
   "cell_type": "code",
   "execution_count": 63,
   "metadata": {
    "collapsed": true
   },
   "outputs": [],
   "source": [
    "# FROM: https://github.com/ConsenSys/ethjsonrpc/blob/master/ethjsonrpc/client.py\n",
    "def eth_uninstallFilter(filter_id):\n",
    "    '''\n",
    "    https://github.com/ethereum/wiki/wiki/JSON-RPC#eth_uninstallfilter\n",
    "    NEEDS TESTING\n",
    "    '''\n",
    "    return _call('eth_uninstallFilter', [filter_id])"
   ]
  },
  {
   "cell_type": "code",
   "execution_count": 64,
   "metadata": {
    "collapsed": true
   },
   "outputs": [],
   "source": [
    "# FROM: https://github.com/ConsenSys/ethjsonrpc/blob/master/ethjsonrpc/client.py\n",
    "def eth_getFilterChanges(filter_id):\n",
    "    '''\n",
    "    https://github.com/ethereum/wiki/wiki/JSON-RPC#eth_getfilterchanges\n",
    "    NEEDS TESTING\n",
    "    '''\n",
    "    return _call('eth_getFilterChanges', [filter_id])"
   ]
  },
  {
   "cell_type": "code",
   "execution_count": 65,
   "metadata": {
    "collapsed": true
   },
   "outputs": [],
   "source": [
    "# FROM: https://github.com/ConsenSys/ethjsonrpc/blob/master/ethjsonrpc/client.py\n",
    "def eth_getFilterLogs(filter_id):\n",
    "    '''\n",
    "    https://github.com/ethereum/wiki/wiki/JSON-RPC#eth_getfilterlogs\n",
    "    NEEDS TESTING\n",
    "    '''\n",
    "    return _call('eth_getFilterLogs', [filter_id])"
   ]
  },
  {
   "cell_type": "code",
   "execution_count": 66,
   "metadata": {
    "collapsed": true
   },
   "outputs": [],
   "source": [
    "#FROM: https://github.com/ConsenSys/ethjsonrpc/blob/master/ethjsonrpc/client.py\n",
    "#def eth_getLogs(filter_object):\n",
    "#    return _call('eth_getLogs', [filter_object])\n",
    "\n",
    "# redefined by Markus 2018-02-08\n",
    "def eth_getLogs(from_block=BLOCK_TAG_LATEST, to_block=BLOCK_TAG_LATEST, address=None, topics=None):\n",
    "    '''\n",
    "    https://github.com/ethereum/wiki/wiki/JSON-RPC#eth_getlogs\n",
    "    TESTED - MARKUS 2018-02-08\n",
    "    '''\n",
    "    _filter = {\n",
    "        'fromBlock': from_block,\n",
    "        'toBlock':   to_block,\n",
    "        'address':   address,\n",
    "        'topics':    topics,\n",
    "    }\n",
    "    return _call('eth_getLogs', [_filter])"
   ]
  },
  {
   "cell_type": "code",
   "execution_count": 67,
   "metadata": {
    "collapsed": true
   },
   "outputs": [],
   "source": [
    "# FROM: https://github.com/ConsenSys/ethjsonrpc/blob/master/ethjsonrpc/client.py\n",
    "def eth_getWork():\n",
    "    '''\n",
    "    https://github.com/ethereum/wiki/wiki/JSON-RPC#eth_getwork\n",
    "    NEEDS TESTING\n",
    "    '''\n",
    "    return _call('eth_getWork')"
   ]
  },
  {
   "cell_type": "code",
   "execution_count": 68,
   "metadata": {
    "collapsed": true
   },
   "outputs": [],
   "source": [
    "# FROM: https://github.com/ConsenSys/ethjsonrpc/blob/master/ethjsonrpc/client.py\n",
    "def eth_submitWork(nonce, header, mix_digest):\n",
    "    '''\n",
    "    https://github.com/ethereum/wiki/wiki/JSON-RPC#eth_submitwork\n",
    "    NEEDS TESTING\n",
    "    '''\n",
    "    return _call('eth_submitWork', [nonce, header, mix_digest])"
   ]
  },
  {
   "cell_type": "code",
   "execution_count": 69,
   "metadata": {
    "collapsed": true
   },
   "outputs": [],
   "source": [
    "# FROM: https://github.com/ConsenSys/ethjsonrpc/blob/master/ethjsonrpc/client.py\n",
    "def eth_submitHashrate(hash_rate, client_id):\n",
    "    '''\n",
    "    https://github.com/ethereum/wiki/wiki/JSON-RPC#eth_submithashrate\n",
    "    NEEDS TESTING\n",
    "    '''\n",
    "    return _call('eth_submitHashrate', [hex(hash_rate), client_id])"
   ]
  },
  {
   "cell_type": "code",
   "execution_count": 70,
   "metadata": {
    "collapsed": true
   },
   "outputs": [],
   "source": [
    "# FROM: https://github.com/ConsenSys/ethjsonrpc/blob/master/ethjsonrpc/client.py\n",
    "def shh_version():\n",
    "    '''\n",
    "    https://github.com/ethereum/wiki/wiki/JSON-RPC#shh_version\n",
    "    N/A\n",
    "    '''\n",
    "    return _call('shh_version')"
   ]
  },
  {
   "cell_type": "code",
   "execution_count": 71,
   "metadata": {
    "collapsed": true
   },
   "outputs": [],
   "source": [
    "# FROM: https://github.com/ConsenSys/ethjsonrpc/blob/master/ethjsonrpc/client.py\n",
    "def shh_post(topics, payload, priority, ttl, from_=None, to=None):\n",
    "    '''\n",
    "    https://github.com/ethereum/wiki/wiki/JSON-RPC#shh_post\n",
    "    NEEDS TESTING\n",
    "    '''\n",
    "    whisper_object = {\n",
    "        'from':     from_,\n",
    "        'to':       to,\n",
    "        'topics':   topics,\n",
    "        'payload':  payload,\n",
    "        'priority': hex(priority),\n",
    "        'ttl':      hex(ttl),\n",
    "    }\n",
    "    return _call('shh_post', [whisper_object])"
   ]
  },
  {
   "cell_type": "code",
   "execution_count": 72,
   "metadata": {
    "collapsed": true
   },
   "outputs": [],
   "source": [
    "# FROM: https://github.com/ConsenSys/ethjsonrpc/blob/master/ethjsonrpc/client.py\n",
    "def shh_newIdentity():\n",
    "    '''\n",
    "    https://github.com/ethereum/wiki/wiki/JSON-RPC#shh_newidentity\n",
    "    N/A\n",
    "    '''\n",
    "    return _call('shh_newIdentity')"
   ]
  },
  {
   "cell_type": "code",
   "execution_count": 73,
   "metadata": {
    "collapsed": true
   },
   "outputs": [],
   "source": [
    "# FROM: https://github.com/ConsenSys/ethjsonrpc/blob/master/ethjsonrpc/client.py\n",
    "def shh_hasIdentity(address):\n",
    "    '''\n",
    "    https://github.com/ethereum/wiki/wiki/JSON-RPC#shh_hasidentity\n",
    "    NEEDS TESTING\n",
    "    '''\n",
    "    return _call('shh_hasIdentity', [address])"
   ]
  },
  {
   "cell_type": "code",
   "execution_count": 74,
   "metadata": {
    "collapsed": true
   },
   "outputs": [],
   "source": [
    "# FROM: https://github.com/ConsenSys/ethjsonrpc/blob/master/ethjsonrpc/client.py\n",
    "def shh_newGroup():\n",
    "    '''\n",
    "    https://github.com/ethereum/wiki/wiki/JSON-RPC#shh_newgroup\n",
    "    N/A\n",
    "    '''\n",
    "    return _call('shh_newGroup')"
   ]
  },
  {
   "cell_type": "code",
   "execution_count": 75,
   "metadata": {
    "collapsed": true
   },
   "outputs": [],
   "source": [
    "# FROM: https://github.com/ConsenSys/ethjsonrpc/blob/master/ethjsonrpc/client.py\n",
    "def shh_addToGroup():\n",
    "    '''\n",
    "    https://github.com/ethereum/wiki/wiki/JSON-RPC#shh_addtogroup\n",
    "    NEEDS TESTING\n",
    "    '''\n",
    "    return _call('shh_addToGroup')"
   ]
  },
  {
   "cell_type": "code",
   "execution_count": 76,
   "metadata": {
    "collapsed": true
   },
   "outputs": [],
   "source": [
    "# FROM: https://github.com/ConsenSys/ethjsonrpc/blob/master/ethjsonrpc/client.py\n",
    "def shh_newFilter(to, topics):\n",
    "    '''\n",
    "    https://github.com/ethereum/wiki/wiki/JSON-RPC#shh_newfilter\n",
    "    NEEDS TESTING\n",
    "    '''\n",
    "    _filter = {\n",
    "        'to':     to,\n",
    "        'topics': topics,\n",
    "    }\n",
    "    return _call('shh_newFilter', [_filter])"
   ]
  },
  {
   "cell_type": "code",
   "execution_count": 77,
   "metadata": {
    "collapsed": true
   },
   "outputs": [],
   "source": [
    "# FROM: https://github.com/ConsenSys/ethjsonrpc/blob/master/ethjsonrpc/client.py\n",
    "def shh_uninstallFilter(filter_id):\n",
    "    '''\n",
    "    https://github.com/ethereum/wiki/wiki/JSON-RPC#shh_uninstallfilter\n",
    "    NEEDS TESTING\n",
    "    '''\n",
    "    return _call('shh_uninstallFilter', [filter_id])"
   ]
  },
  {
   "cell_type": "code",
   "execution_count": 78,
   "metadata": {
    "collapsed": true
   },
   "outputs": [],
   "source": [
    "# FROM: https://github.com/ConsenSys/ethjsonrpc/blob/master/ethjsonrpc/client.py\n",
    "def shh_getFilterChanges(filter_id):\n",
    "    '''\n",
    "    https://github.com/ethereum/wiki/wiki/JSON-RPC#shh_getfilterchanges\n",
    "    NEEDS TESTING\n",
    "    '''\n",
    "    return _call('shh_getFilterChanges', [filter_id])"
   ]
  },
  {
   "cell_type": "code",
   "execution_count": 79,
   "metadata": {
    "collapsed": true
   },
   "outputs": [],
   "source": [
    "# FROM: https://github.com/ConsenSys/ethjsonrpc/blob/master/ethjsonrpc/client.py\n",
    "def shh_getMessages(filter_id):\n",
    "    '''\n",
    "    https://github.com/ethereum/wiki/wiki/JSON-RPC#shh_getmessages\n",
    "    NEEDS TESTING\n",
    "    '''\n",
    "    return _call('shh_getMessages', [filter_id])    "
   ]
  },
  {
   "cell_type": "markdown",
   "metadata": {},
   "source": [
    "# Crypto Kitties Explorer\n",
    "Exploring CryptoKitties data using JSON RPC on the BlockScience geth node"
   ]
  },
  {
   "cell_type": "code",
   "execution_count": 80,
   "metadata": {},
   "outputs": [],
   "source": [
    "# define the addresses of the relevant contracts\n",
    "coreContract = '0x06012c8cf97bead5deae237070f9587f8e7a266d'\n",
    "contracts = {\n",
    "    coreContract : 'core',\n",
    "    '0xc7af99fe5513eb6710e6d5f44f9989da40f27f26' : 'siringAuction',\n",
    "    '0xb1690c08e213a35ed9bab7b318de14420fb57d8c' : 'saleAuction',\n",
    "}\n",
    "\n",
    "# relevant Events signatures\n",
    "events_signatures = {\n",
    "    'AuctionCreated' : 'AuctionCreated(uint256,uint256,uint256,uint256)', # AuctionCreated(uint256 tokenId, uint256 startingPrice, uint256 endingPrice, uint256 duration);\n",
    "    'AuctionSuccessful' : 'AuctionSuccessful(uint256,uint256,address)', # AuctionSuccessful(uint256 tokenId, uint256 totalPrice, address winner);\n",
    "    'AuctionCancelled' : 'AuctionCancelled(uint256)', # AuctionCancelled(uint256 tokenId);\n",
    "    'Pause' : 'Pause()',\n",
    "    'Unpause' : 'Unpause()',\n",
    "    'Transfer' : 'Transfer(address,address,uint256)', # Transfer(address from, address to, uint256 tokenId);\n",
    "    'Approval' : 'Approval(address,address,uint256)', # Approval(address owner, address approved, uint256 tokenId);\n",
    "    'ContractUpgrade' : 'ContractUpgrade(address)',\n",
    "    'Birth' : 'Birth(address,uint256,uint256,uint256,uint256)', # Birth(address owner, uint256 kittyId, uint256 matronId, uint256 sireId, uint256 genes);\n",
    "    'Pregnant' : 'Pregnant(address,uint256,uint256,uint256)' # Pregnant(address owner, uint256 matronId, uint256 sireId, uint256 cooldownEndBlock);\n",
    "}\n",
    "\n",
    "from Crypto.Hash import keccak\n",
    "def keccak256(string):\n",
    "    return keccak.new(digest_bits=256, data=bytes(string, 'utf-8')).hexdigest()\n",
    "\n",
    "events_hashes = {'0x'+keccak256(v): k for k, v in events_signatures.items()}"
   ]
  },
  {
   "cell_type": "code",
   "execution_count": 81,
   "metadata": {},
   "outputs": [
    {
     "name": "stdout",
     "output_type": "stream",
     "text": [
      "AuctionCreated: a9c8dfcda5664a5a124c713e386da27de87432d5b668e79458501eb296389ba7\n",
      "AuctionSuccessful: 4fcc30d90a842164dd58501ab874a101a3749c3d4747139cefe7c876f4ccebd2\n",
      "AuctionCancelled: 2809c7e17bf978fbc7194c0a694b638c4215e9140cacc6c38ca36010b45697df\n",
      "Pause: 6985a02210a168e66602d3235cb6db0e70f92b3ba4d376a33c0f3d9434bff625\n",
      "Unpause: 7805862f689e2f13df9f062ff482ad3ad112aca9e0847911ed832e158c525b33\n",
      "Transfer: ddf252ad1be2c89b69c2b068fc378daa952ba7f163c4a11628f55a4df523b3ef\n",
      "Approval: 8c5be1e5ebec7d5bd14f71427d1e84f3dd0314c0f7b2291e5b200ac8c7c3b925\n",
      "ContractUpgrade: 450db8da6efbe9c22f2347f7c2021231df1fc58d3ae9a2fa75d39fa446199305\n",
      "Birth: 0a5311bd2a6608f08a180df2ee7c5946819a649b204b554bb8e39825b2c50ad5\n",
      "Pregnant: 241ea03ca20251805084d27d4440371c34a0b85ff108f6bb5611248f73818b80\n"
     ]
    }
   ],
   "source": [
    "for event in events_signatures:\n",
    "    print(event + ': ' + keccak256(events_signatures[event]))"
   ]
  },
  {
   "cell_type": "code",
   "execution_count": 82,
   "metadata": {},
   "outputs": [
    {
     "data": {
      "text/html": [
       "<div>\n",
       "<style>\n",
       "    .dataframe thead tr:only-child th {\n",
       "        text-align: right;\n",
       "    }\n",
       "\n",
       "    .dataframe thead th {\n",
       "        text-align: left;\n",
       "    }\n",
       "\n",
       "    .dataframe tbody tr th {\n",
       "        vertical-align: top;\n",
       "    }\n",
       "</style>\n",
       "<table border=\"1\" class=\"dataframe\">\n",
       "  <thead>\n",
       "    <tr style=\"text-align: right;\">\n",
       "      <th></th>\n",
       "      <th>address</th>\n",
       "      <th>blockHash</th>\n",
       "      <th>blockNumber</th>\n",
       "      <th>data</th>\n",
       "      <th>logIndex</th>\n",
       "      <th>removed</th>\n",
       "      <th>topics</th>\n",
       "      <th>transactionHash</th>\n",
       "      <th>transactionIndex</th>\n",
       "      <th>contract</th>\n",
       "      <th>event</th>\n",
       "    </tr>\n",
       "  </thead>\n",
       "  <tbody>\n",
       "    <tr>\n",
       "      <th>0</th>\n",
       "      <td>0x06012c8cf97bead5deae237070f9587f8e7a266d</td>\n",
       "      <td>0x8dfe62240ffe991106b3c9254be693920cf0a98717f30e829b5a69a712edd68c</td>\n",
       "      <td>0x4e9d90</td>\n",
       "      <td>0x0000000000000000000000007866a4e8c7309414d65665d0d4b9a4e4324333e3...</td>\n",
       "      <td>0xd</td>\n",
       "      <td>False</td>\n",
       "      <td>[0x0a5311bd2a6608f08a180df2ee7c5946819a649b204b554bb8e39825b2c50ad5]</td>\n",
       "      <td>0x6abc53518e14cb8ab71cc464b8b93c819abeebb5c11c44727592edfdca660a13</td>\n",
       "      <td>0xf</td>\n",
       "      <td>core</td>\n",
       "      <td>Birth</td>\n",
       "    </tr>\n",
       "    <tr>\n",
       "      <th>1</th>\n",
       "      <td>0x06012c8cf97bead5deae237070f9587f8e7a266d</td>\n",
       "      <td>0x8dfe62240ffe991106b3c9254be693920cf0a98717f30e829b5a69a712edd68c</td>\n",
       "      <td>0x4e9d90</td>\n",
       "      <td>0x0000000000000000000000000000000000000000000000000000000000000000...</td>\n",
       "      <td>0xe</td>\n",
       "      <td>False</td>\n",
       "      <td>[0xddf252ad1be2c89b69c2b068fc378daa952ba7f163c4a11628f55a4df523b3ef]</td>\n",
       "      <td>0x6abc53518e14cb8ab71cc464b8b93c819abeebb5c11c44727592edfdca660a13</td>\n",
       "      <td>0xf</td>\n",
       "      <td>core</td>\n",
       "      <td>Transfer</td>\n",
       "    </tr>\n",
       "    <tr>\n",
       "      <th>2</th>\n",
       "      <td>0x06012c8cf97bead5deae237070f9587f8e7a266d</td>\n",
       "      <td>0x8dfe62240ffe991106b3c9254be693920cf0a98717f30e829b5a69a712edd68c</td>\n",
       "      <td>0x4e9d90</td>\n",
       "      <td>0x000000000000000000000000a110546519b9c6dfcebb58cd6a46859ac10abef0...</td>\n",
       "      <td>0x3a</td>\n",
       "      <td>False</td>\n",
       "      <td>[0x241ea03ca20251805084d27d4440371c34a0b85ff108f6bb5611248f73818b80]</td>\n",
       "      <td>0x7f0c0b2a7c53eb9b183c98e913b3c8f0c9ac8ad3a6a5681053f36ccd6954cdd9</td>\n",
       "      <td>0x3f</td>\n",
       "      <td>core</td>\n",
       "      <td>Pregnant</td>\n",
       "    </tr>\n",
       "    <tr>\n",
       "      <th>3</th>\n",
       "      <td>0x06012c8cf97bead5deae237070f9587f8e7a266d</td>\n",
       "      <td>0x8dfe62240ffe991106b3c9254be693920cf0a98717f30e829b5a69a712edd68c</td>\n",
       "      <td>0x4e9d90</td>\n",
       "      <td>0x00000000000000000000000028527fdd12fc78eba71fb989f546fd077c152293...</td>\n",
       "      <td>0x3b</td>\n",
       "      <td>False</td>\n",
       "      <td>[0x241ea03ca20251805084d27d4440371c34a0b85ff108f6bb5611248f73818b80]</td>\n",
       "      <td>0x8063ca759841f0980d043e14a5d90ac920913fb33934faa0ca642e23b1e51251</td>\n",
       "      <td>0x41</td>\n",
       "      <td>core</td>\n",
       "      <td>Pregnant</td>\n",
       "    </tr>\n",
       "    <tr>\n",
       "      <th>4</th>\n",
       "      <td>0x06012c8cf97bead5deae237070f9587f8e7a266d</td>\n",
       "      <td>0x8dfe62240ffe991106b3c9254be693920cf0a98717f30e829b5a69a712edd68c</td>\n",
       "      <td>0x4e9d90</td>\n",
       "      <td>0x000000000000000000000000b1690c08e213a35ed9bab7b318de14420fb57d8c...</td>\n",
       "      <td>0x64</td>\n",
       "      <td>False</td>\n",
       "      <td>[0xddf252ad1be2c89b69c2b068fc378daa952ba7f163c4a11628f55a4df523b3ef]</td>\n",
       "      <td>0xe887638f16b1a52a193a41936fabbca2b1caa7ef4c388d5c9ce52630afe20b08</td>\n",
       "      <td>0x7c</td>\n",
       "      <td>core</td>\n",
       "      <td>Transfer</td>\n",
       "    </tr>\n",
       "  </tbody>\n",
       "</table>\n",
       "</div>"
      ],
      "text/plain": [
       "                                      address  \\\n",
       "0  0x06012c8cf97bead5deae237070f9587f8e7a266d   \n",
       "1  0x06012c8cf97bead5deae237070f9587f8e7a266d   \n",
       "2  0x06012c8cf97bead5deae237070f9587f8e7a266d   \n",
       "3  0x06012c8cf97bead5deae237070f9587f8e7a266d   \n",
       "4  0x06012c8cf97bead5deae237070f9587f8e7a266d   \n",
       "\n",
       "                                                            blockHash  \\\n",
       "0  0x8dfe62240ffe991106b3c9254be693920cf0a98717f30e829b5a69a712edd68c   \n",
       "1  0x8dfe62240ffe991106b3c9254be693920cf0a98717f30e829b5a69a712edd68c   \n",
       "2  0x8dfe62240ffe991106b3c9254be693920cf0a98717f30e829b5a69a712edd68c   \n",
       "3  0x8dfe62240ffe991106b3c9254be693920cf0a98717f30e829b5a69a712edd68c   \n",
       "4  0x8dfe62240ffe991106b3c9254be693920cf0a98717f30e829b5a69a712edd68c   \n",
       "\n",
       "  blockNumber  \\\n",
       "0    0x4e9d90   \n",
       "1    0x4e9d90   \n",
       "2    0x4e9d90   \n",
       "3    0x4e9d90   \n",
       "4    0x4e9d90   \n",
       "\n",
       "                                                                    data  \\\n",
       "0  0x0000000000000000000000007866a4e8c7309414d65665d0d4b9a4e4324333e3...   \n",
       "1  0x0000000000000000000000000000000000000000000000000000000000000000...   \n",
       "2  0x000000000000000000000000a110546519b9c6dfcebb58cd6a46859ac10abef0...   \n",
       "3  0x00000000000000000000000028527fdd12fc78eba71fb989f546fd077c152293...   \n",
       "4  0x000000000000000000000000b1690c08e213a35ed9bab7b318de14420fb57d8c...   \n",
       "\n",
       "  logIndex  removed  \\\n",
       "0      0xd    False   \n",
       "1      0xe    False   \n",
       "2     0x3a    False   \n",
       "3     0x3b    False   \n",
       "4     0x64    False   \n",
       "\n",
       "                                                                 topics  \\\n",
       "0  [0x0a5311bd2a6608f08a180df2ee7c5946819a649b204b554bb8e39825b2c50ad5]   \n",
       "1  [0xddf252ad1be2c89b69c2b068fc378daa952ba7f163c4a11628f55a4df523b3ef]   \n",
       "2  [0x241ea03ca20251805084d27d4440371c34a0b85ff108f6bb5611248f73818b80]   \n",
       "3  [0x241ea03ca20251805084d27d4440371c34a0b85ff108f6bb5611248f73818b80]   \n",
       "4  [0xddf252ad1be2c89b69c2b068fc378daa952ba7f163c4a11628f55a4df523b3ef]   \n",
       "\n",
       "                                                      transactionHash  \\\n",
       "0  0x6abc53518e14cb8ab71cc464b8b93c819abeebb5c11c44727592edfdca660a13   \n",
       "1  0x6abc53518e14cb8ab71cc464b8b93c819abeebb5c11c44727592edfdca660a13   \n",
       "2  0x7f0c0b2a7c53eb9b183c98e913b3c8f0c9ac8ad3a6a5681053f36ccd6954cdd9   \n",
       "3  0x8063ca759841f0980d043e14a5d90ac920913fb33934faa0ca642e23b1e51251   \n",
       "4  0xe887638f16b1a52a193a41936fabbca2b1caa7ef4c388d5c9ce52630afe20b08   \n",
       "\n",
       "  transactionIndex contract     event  \n",
       "0              0xf     core     Birth  \n",
       "1              0xf     core  Transfer  \n",
       "2             0x3f     core  Pregnant  \n",
       "3             0x41     core  Pregnant  \n",
       "4             0x7c     core  Transfer  "
      ]
     },
     "execution_count": 82,
     "metadata": {},
     "output_type": "execute_result"
    }
   ],
   "source": [
    "def getEvents(_address, _from_block, _to_block):\n",
    "    json = eth_getLogs(from_block=_from_block, \n",
    "                       to_block=_to_block,\n",
    "                       address=_address)\n",
    "    df = pd.DataFrame.from_dict(json)\n",
    "    df['contract'] = df['address'].apply(lambda x: contracts[x])\n",
    "    df['event'] = df['topics'].apply(lambda x: events_hashes[x[0]])\n",
    "    return df\n",
    "\n",
    "from_block = hex(eth_blockNumber() - 10000)\n",
    "to_block = hex(eth_blockNumber())\n",
    "\n",
    "events = None\n",
    "\n",
    "for c in contracts:\n",
    "    if events is None:\n",
    "        events = getEvents(c, from_block, to_block)\n",
    "    else:\n",
    "        e = getEvents(c, from_block, to_block)\n",
    "        events = events.append(e, ignore_index=True)\n",
    "events.head()"
   ]
  },
  {
   "cell_type": "code",
   "execution_count": 83,
   "metadata": {},
   "outputs": [
    {
     "data": {
      "text/html": [
       "<div>\n",
       "<style>\n",
       "    .dataframe thead tr:only-child th {\n",
       "        text-align: right;\n",
       "    }\n",
       "\n",
       "    .dataframe thead th {\n",
       "        text-align: left;\n",
       "    }\n",
       "\n",
       "    .dataframe tbody tr th {\n",
       "        vertical-align: top;\n",
       "    }\n",
       "</style>\n",
       "<table border=\"1\" class=\"dataframe\">\n",
       "  <thead>\n",
       "    <tr style=\"text-align: right;\">\n",
       "      <th></th>\n",
       "      <th>contract</th>\n",
       "      <th>event</th>\n",
       "    </tr>\n",
       "  </thead>\n",
       "  <tbody>\n",
       "    <tr>\n",
       "      <th>0</th>\n",
       "      <td>core</td>\n",
       "      <td>Birth</td>\n",
       "    </tr>\n",
       "    <tr>\n",
       "      <th>1</th>\n",
       "      <td>core</td>\n",
       "      <td>Transfer</td>\n",
       "    </tr>\n",
       "    <tr>\n",
       "      <th>2</th>\n",
       "      <td>core</td>\n",
       "      <td>Pregnant</td>\n",
       "    </tr>\n",
       "    <tr>\n",
       "      <th>13639</th>\n",
       "      <td>core</td>\n",
       "      <td>Approval</td>\n",
       "    </tr>\n",
       "    <tr>\n",
       "      <th>43039</th>\n",
       "      <td>siringAuction</td>\n",
       "      <td>AuctionCreated</td>\n",
       "    </tr>\n",
       "    <tr>\n",
       "      <th>43040</th>\n",
       "      <td>siringAuction</td>\n",
       "      <td>AuctionSuccessful</td>\n",
       "    </tr>\n",
       "    <tr>\n",
       "      <th>43041</th>\n",
       "      <td>siringAuction</td>\n",
       "      <td>AuctionCancelled</td>\n",
       "    </tr>\n",
       "    <tr>\n",
       "      <th>45585</th>\n",
       "      <td>saleAuction</td>\n",
       "      <td>AuctionSuccessful</td>\n",
       "    </tr>\n",
       "    <tr>\n",
       "      <th>45586</th>\n",
       "      <td>saleAuction</td>\n",
       "      <td>AuctionCreated</td>\n",
       "    </tr>\n",
       "    <tr>\n",
       "      <th>45593</th>\n",
       "      <td>saleAuction</td>\n",
       "      <td>AuctionCancelled</td>\n",
       "    </tr>\n",
       "  </tbody>\n",
       "</table>\n",
       "</div>"
      ],
      "text/plain": [
       "            contract              event\n",
       "0               core              Birth\n",
       "1               core           Transfer\n",
       "2               core           Pregnant\n",
       "13639           core           Approval\n",
       "43039  siringAuction     AuctionCreated\n",
       "43040  siringAuction  AuctionSuccessful\n",
       "43041  siringAuction   AuctionCancelled\n",
       "45585    saleAuction  AuctionSuccessful\n",
       "45586    saleAuction     AuctionCreated\n",
       "45593    saleAuction   AuctionCancelled"
      ]
     },
     "execution_count": 83,
     "metadata": {},
     "output_type": "execute_result"
    }
   ],
   "source": [
    "events[['contract','event']].drop_duplicates()"
   ]
  },
  {
   "cell_type": "code",
   "execution_count": 84,
   "metadata": {},
   "outputs": [
    {
     "data": {
      "text/plain": [
       "<matplotlib.axes._subplots.AxesSubplot at 0x113183a90>"
      ]
     },
     "execution_count": 84,
     "metadata": {},
     "output_type": "execute_result"
    },
    {
     "data": {
      "image/png": "[encoded data removed]",
      "text/plain": [
       "<matplotlib.figure.Figure at 0x112fcbf28>"
      ]
     },
     "metadata": {},
     "output_type": "display_data"
    }
   ],
   "source": [
    "events.groupby(['contract','event']).transactionHash.count().plot(kind='pie')"
   ]
  },
  {
   "cell_type": "code",
   "execution_count": 85,
   "metadata": {},
   "outputs": [
    {
     "data": {
      "text/plain": [
       "<matplotlib.axes._subplots.AxesSubplot at 0x11a22b0f0>"
      ]
     },
     "execution_count": 85,
     "metadata": {},
     "output_type": "execute_result"
    },
    {
     "data": {
      "image/png": "[encoded data removed]",
      "text/plain": [
       "<matplotlib.figure.Figure at 0x113175cc0>"
      ]
     },
     "metadata": {},
     "output_type": "display_data"
    }
   ],
   "source": [
    "events.groupby(['contract','event']).transactionHash.count().plot(kind='bar')"
   ]
  },
  {
   "cell_type": "code",
   "execution_count": 86,
   "metadata": {},
   "outputs": [
    {
     "data": {
      "text/html": [
       "<div>\n",
       "<style>\n",
       "    .dataframe thead tr:only-child th {\n",
       "        text-align: right;\n",
       "    }\n",
       "\n",
       "    .dataframe thead th {\n",
       "        text-align: left;\n",
       "    }\n",
       "\n",
       "    .dataframe tbody tr th {\n",
       "        vertical-align: top;\n",
       "    }\n",
       "</style>\n",
       "<table border=\"1\" class=\"dataframe\">\n",
       "  <thead>\n",
       "    <tr style=\"text-align: right;\">\n",
       "      <th></th>\n",
       "      <th>address</th>\n",
       "      <th>blockHash</th>\n",
       "      <th>blockNumber</th>\n",
       "      <th>data</th>\n",
       "      <th>logIndex</th>\n",
       "      <th>removed</th>\n",
       "      <th>topics</th>\n",
       "      <th>transactionHash</th>\n",
       "      <th>transactionIndex</th>\n",
       "      <th>contract</th>\n",
       "      <th>event</th>\n",
       "    </tr>\n",
       "  </thead>\n",
       "  <tbody>\n",
       "    <tr>\n",
       "      <th>2</th>\n",
       "      <td>0x06012c8cf97bead5deae237070f9587f8e7a266d</td>\n",
       "      <td>0x8dfe62240ffe991106b3c9254be693920cf0a98717f30e829b5a69a712edd68c</td>\n",
       "      <td>0x4e9d90</td>\n",
       "      <td>0x000000000000000000000000a110546519b9c6dfcebb58cd6a46859ac10abef0...</td>\n",
       "      <td>0x3a</td>\n",
       "      <td>False</td>\n",
       "      <td>[0x241ea03ca20251805084d27d4440371c34a0b85ff108f6bb5611248f73818b80]</td>\n",
       "      <td>0x7f0c0b2a7c53eb9b183c98e913b3c8f0c9ac8ad3a6a5681053f36ccd6954cdd9</td>\n",
       "      <td>0x3f</td>\n",
       "      <td>core</td>\n",
       "      <td>Pregnant</td>\n",
       "    </tr>\n",
       "    <tr>\n",
       "      <th>3</th>\n",
       "      <td>0x06012c8cf97bead5deae237070f9587f8e7a266d</td>\n",
       "      <td>0x8dfe62240ffe991106b3c9254be693920cf0a98717f30e829b5a69a712edd68c</td>\n",
       "      <td>0x4e9d90</td>\n",
       "      <td>0x00000000000000000000000028527fdd12fc78eba71fb989f546fd077c152293...</td>\n",
       "      <td>0x3b</td>\n",
       "      <td>False</td>\n",
       "      <td>[0x241ea03ca20251805084d27d4440371c34a0b85ff108f6bb5611248f73818b80]</td>\n",
       "      <td>0x8063ca759841f0980d043e14a5d90ac920913fb33934faa0ca642e23b1e51251</td>\n",
       "      <td>0x41</td>\n",
       "      <td>core</td>\n",
       "      <td>Pregnant</td>\n",
       "    </tr>\n",
       "    <tr>\n",
       "      <th>45585</th>\n",
       "      <td>0xb1690c08e213a35ed9bab7b318de14420fb57d8c</td>\n",
       "      <td>0x8dfe62240ffe991106b3c9254be693920cf0a98717f30e829b5a69a712edd68c</td>\n",
       "      <td>0x4e9d90</td>\n",
       "      <td>0x0000000000000000000000000000000000000000000000000000000000083e33...</td>\n",
       "      <td>0x63</td>\n",
       "      <td>False</td>\n",
       "      <td>[0x4fcc30d90a842164dd58501ab874a101a3749c3d4747139cefe7c876f4ccebd2]</td>\n",
       "      <td>0xe887638f16b1a52a193a41936fabbca2b1caa7ef4c388d5c9ce52630afe20b08</td>\n",
       "      <td>0x7c</td>\n",
       "      <td>saleAuction</td>\n",
       "      <td>AuctionSuccessful</td>\n",
       "    </tr>\n",
       "    <tr>\n",
       "      <th>4</th>\n",
       "      <td>0x06012c8cf97bead5deae237070f9587f8e7a266d</td>\n",
       "      <td>0x8dfe62240ffe991106b3c9254be693920cf0a98717f30e829b5a69a712edd68c</td>\n",
       "      <td>0x4e9d90</td>\n",
       "      <td>0x000000000000000000000000b1690c08e213a35ed9bab7b318de14420fb57d8c...</td>\n",
       "      <td>0x64</td>\n",
       "      <td>False</td>\n",
       "      <td>[0xddf252ad1be2c89b69c2b068fc378daa952ba7f163c4a11628f55a4df523b3ef]</td>\n",
       "      <td>0xe887638f16b1a52a193a41936fabbca2b1caa7ef4c388d5c9ce52630afe20b08</td>\n",
       "      <td>0x7c</td>\n",
       "      <td>core</td>\n",
       "      <td>Transfer</td>\n",
       "    </tr>\n",
       "    <tr>\n",
       "      <th>0</th>\n",
       "      <td>0x06012c8cf97bead5deae237070f9587f8e7a266d</td>\n",
       "      <td>0x8dfe62240ffe991106b3c9254be693920cf0a98717f30e829b5a69a712edd68c</td>\n",
       "      <td>0x4e9d90</td>\n",
       "      <td>0x0000000000000000000000007866a4e8c7309414d65665d0d4b9a4e4324333e3...</td>\n",
       "      <td>0xd</td>\n",
       "      <td>False</td>\n",
       "      <td>[0x0a5311bd2a6608f08a180df2ee7c5946819a649b204b554bb8e39825b2c50ad5]</td>\n",
       "      <td>0x6abc53518e14cb8ab71cc464b8b93c819abeebb5c11c44727592edfdca660a13</td>\n",
       "      <td>0xf</td>\n",
       "      <td>core</td>\n",
       "      <td>Birth</td>\n",
       "    </tr>\n",
       "    <tr>\n",
       "      <th>1</th>\n",
       "      <td>0x06012c8cf97bead5deae237070f9587f8e7a266d</td>\n",
       "      <td>0x8dfe62240ffe991106b3c9254be693920cf0a98717f30e829b5a69a712edd68c</td>\n",
       "      <td>0x4e9d90</td>\n",
       "      <td>0x0000000000000000000000000000000000000000000000000000000000000000...</td>\n",
       "      <td>0xe</td>\n",
       "      <td>False</td>\n",
       "      <td>[0xddf252ad1be2c89b69c2b068fc378daa952ba7f163c4a11628f55a4df523b3ef]</td>\n",
       "      <td>0x6abc53518e14cb8ab71cc464b8b93c819abeebb5c11c44727592edfdca660a13</td>\n",
       "      <td>0xf</td>\n",
       "      <td>core</td>\n",
       "      <td>Transfer</td>\n",
       "    </tr>\n",
       "    <tr>\n",
       "      <th>5</th>\n",
       "      <td>0x06012c8cf97bead5deae237070f9587f8e7a266d</td>\n",
       "      <td>0xe4fb997491235d6e1845c0ff1dddcea222403b240831e33528757299b75889ef</td>\n",
       "      <td>0x4e9d93</td>\n",
       "      <td>0x000000000000000000000000619a19246f238811ea21875e0fca1f3f1e0c8497...</td>\n",
       "      <td>0x2e</td>\n",
       "      <td>False</td>\n",
       "      <td>[0x241ea03ca20251805084d27d4440371c34a0b85ff108f6bb5611248f73818b80]</td>\n",
       "      <td>0x2518198cd8f15a6bbe2c13e67ce768e2063718d7c2321d6b9cb45170087cd688</td>\n",
       "      <td>0x6a</td>\n",
       "      <td>core</td>\n",
       "      <td>Pregnant</td>\n",
       "    </tr>\n",
       "    <tr>\n",
       "      <th>6</th>\n",
       "      <td>0x06012c8cf97bead5deae237070f9587f8e7a266d</td>\n",
       "      <td>0xe4fb997491235d6e1845c0ff1dddcea222403b240831e33528757299b75889ef</td>\n",
       "      <td>0x4e9d93</td>\n",
       "      <td>0x00000000000000000000000017d0e82ebdef0516e196d71a1d5f1b7acadafba3...</td>\n",
       "      <td>0x6e</td>\n",
       "      <td>False</td>\n",
       "      <td>[0xddf252ad1be2c89b69c2b068fc378daa952ba7f163c4a11628f55a4df523b3ef]</td>\n",
       "      <td>0xa473322bcd3ba1a6def23f1ef261116f233c76edba2a9195ea99022996286f62</td>\n",
       "      <td>0xaa</td>\n",
       "      <td>core</td>\n",
       "      <td>Transfer</td>\n",
       "    </tr>\n",
       "    <tr>\n",
       "      <th>45586</th>\n",
       "      <td>0xb1690c08e213a35ed9bab7b318de14420fb57d8c</td>\n",
       "      <td>0xe4fb997491235d6e1845c0ff1dddcea222403b240831e33528757299b75889ef</td>\n",
       "      <td>0x4e9d93</td>\n",
       "      <td>0x000000000000000000000000000000000000000000000000000000000007009b...</td>\n",
       "      <td>0x6f</td>\n",
       "      <td>False</td>\n",
       "      <td>[0xa9c8dfcda5664a5a124c713e386da27de87432d5b668e79458501eb296389ba7]</td>\n",
       "      <td>0xa473322bcd3ba1a6def23f1ef261116f233c76edba2a9195ea99022996286f62</td>\n",
       "      <td>0xaa</td>\n",
       "      <td>saleAuction</td>\n",
       "      <td>AuctionCreated</td>\n",
       "    </tr>\n",
       "    <tr>\n",
       "      <th>7</th>\n",
       "      <td>0x06012c8cf97bead5deae237070f9587f8e7a266d</td>\n",
       "      <td>0xe4fb997491235d6e1845c0ff1dddcea222403b240831e33528757299b75889ef</td>\n",
       "      <td>0x4e9d93</td>\n",
       "      <td>0x00000000000000000000000083dca1463395be54649ad9a6f0a571ebbbde10ab...</td>\n",
       "      <td>0x76</td>\n",
       "      <td>False</td>\n",
       "      <td>[0x241ea03ca20251805084d27d4440371c34a0b85ff108f6bb5611248f73818b80]</td>\n",
       "      <td>0x5108d86b203c0b653e9a48d09fa0393e8dd4b0f082645365ec6316d6d28cdd26</td>\n",
       "      <td>0xb0</td>\n",
       "      <td>core</td>\n",
       "      <td>Pregnant</td>\n",
       "    </tr>\n",
       "    <tr>\n",
       "      <th>8</th>\n",
       "      <td>0x06012c8cf97bead5deae237070f9587f8e7a266d</td>\n",
       "      <td>0xe4fb997491235d6e1845c0ff1dddcea222403b240831e33528757299b75889ef</td>\n",
       "      <td>0x4e9d93</td>\n",
       "      <td>0x00000000000000000000000098aec1e4e88564a48331e55b4366f6f4b2e48f24...</td>\n",
       "      <td>0x79</td>\n",
       "      <td>False</td>\n",
       "      <td>[0x241ea03ca20251805084d27d4440371c34a0b85ff108f6bb5611248f73818b80]</td>\n",
       "      <td>0x6cef50a0cfb8235e5d46d1c6109f2729645d349bdae83db3eeaa645174444d74</td>\n",
       "      <td>0xb4</td>\n",
       "      <td>core</td>\n",
       "      <td>Pregnant</td>\n",
       "    </tr>\n",
       "    <tr>\n",
       "      <th>45587</th>\n",
       "      <td>0xb1690c08e213a35ed9bab7b318de14420fb57d8c</td>\n",
       "      <td>0x827ff33d0396029ae9e2a3dd1fc45323611f2ff02d1bd7cbdaa5066483bdc34f</td>\n",
       "      <td>0x4e9d94</td>\n",
       "      <td>0x0000000000000000000000000000000000000000000000000000000000084d44...</td>\n",
       "      <td>0x54</td>\n",
       "      <td>False</td>\n",
       "      <td>[0x4fcc30d90a842164dd58501ab874a101a3749c3d4747139cefe7c876f4ccebd2]</td>\n",
       "      <td>0x77710d81f964916822e366b24a7f58ebec3b2a471306b324293048a1f762c450</td>\n",
       "      <td>0x70</td>\n",
       "      <td>saleAuction</td>\n",
       "      <td>AuctionSuccessful</td>\n",
       "    </tr>\n",
       "    <tr>\n",
       "      <th>9</th>\n",
       "      <td>0x06012c8cf97bead5deae237070f9587f8e7a266d</td>\n",
       "      <td>0x827ff33d0396029ae9e2a3dd1fc45323611f2ff02d1bd7cbdaa5066483bdc34f</td>\n",
       "      <td>0x4e9d94</td>\n",
       "      <td>0x000000000000000000000000b1690c08e213a35ed9bab7b318de14420fb57d8c...</td>\n",
       "      <td>0x55</td>\n",
       "      <td>False</td>\n",
       "      <td>[0xddf252ad1be2c89b69c2b068fc378daa952ba7f163c4a11628f55a4df523b3ef]</td>\n",
       "      <td>0x77710d81f964916822e366b24a7f58ebec3b2a471306b324293048a1f762c450</td>\n",
       "      <td>0x70</td>\n",
       "      <td>core</td>\n",
       "      <td>Transfer</td>\n",
       "    </tr>\n",
       "    <tr>\n",
       "      <th>10</th>\n",
       "      <td>0x06012c8cf97bead5deae237070f9587f8e7a266d</td>\n",
       "      <td>0x827ff33d0396029ae9e2a3dd1fc45323611f2ff02d1bd7cbdaa5066483bdc34f</td>\n",
       "      <td>0x4e9d94</td>\n",
       "      <td>0x00000000000000000000000048386386f3bdf3c6dc0de6f53bc5957fc4e1e30d...</td>\n",
       "      <td>0x57</td>\n",
       "      <td>False</td>\n",
       "      <td>[0x241ea03ca20251805084d27d4440371c34a0b85ff108f6bb5611248f73818b80]</td>\n",
       "      <td>0x63db3f674356541ee8641e05d850b60a635d6581058b7da84d8e1c7e071049bc</td>\n",
       "      <td>0x76</td>\n",
       "      <td>core</td>\n",
       "      <td>Pregnant</td>\n",
       "    </tr>\n",
       "    <tr>\n",
       "      <th>11</th>\n",
       "      <td>0x06012c8cf97bead5deae237070f9587f8e7a266d</td>\n",
       "      <td>0x827ff33d0396029ae9e2a3dd1fc45323611f2ff02d1bd7cbdaa5066483bdc34f</td>\n",
       "      <td>0x4e9d94</td>\n",
       "      <td>0x000000000000000000000000f6f492809677f2f17c16b8b7b5c0f7ff65549df7...</td>\n",
       "      <td>0x5e</td>\n",
       "      <td>False</td>\n",
       "      <td>[0xddf252ad1be2c89b69c2b068fc378daa952ba7f163c4a11628f55a4df523b3ef]</td>\n",
       "      <td>0xbb948eef2dca557ebd43fb8038213f33f2d7a1643e929e3317f8bb0701262729</td>\n",
       "      <td>0x7f</td>\n",
       "      <td>core</td>\n",
       "      <td>Transfer</td>\n",
       "    </tr>\n",
       "    <tr>\n",
       "      <th>43039</th>\n",
       "      <td>0xc7af99fe5513eb6710e6d5f44f9989da40f27f26</td>\n",
       "      <td>0x827ff33d0396029ae9e2a3dd1fc45323611f2ff02d1bd7cbdaa5066483bdc34f</td>\n",
       "      <td>0x4e9d94</td>\n",
       "      <td>0x000000000000000000000000000000000000000000000000000000000005ca8f...</td>\n",
       "      <td>0x5f</td>\n",
       "      <td>False</td>\n",
       "      <td>[0xa9c8dfcda5664a5a124c713e386da27de87432d5b668e79458501eb296389ba7]</td>\n",
       "      <td>0xbb948eef2dca557ebd43fb8038213f33f2d7a1643e929e3317f8bb0701262729</td>\n",
       "      <td>0x7f</td>\n",
       "      <td>siringAuction</td>\n",
       "      <td>AuctionCreated</td>\n",
       "    </tr>\n",
       "    <tr>\n",
       "      <th>12</th>\n",
       "      <td>0x06012c8cf97bead5deae237070f9587f8e7a266d</td>\n",
       "      <td>0x827ff33d0396029ae9e2a3dd1fc45323611f2ff02d1bd7cbdaa5066483bdc34f</td>\n",
       "      <td>0x4e9d94</td>\n",
       "      <td>0x000000000000000000000000bae25a69a6eb7341ee834be7635e247e22a1e57a...</td>\n",
       "      <td>0x61</td>\n",
       "      <td>False</td>\n",
       "      <td>[0x241ea03ca20251805084d27d4440371c34a0b85ff108f6bb5611248f73818b80]</td>\n",
       "      <td>0xfa447f0f6d7b9caf1070ae280f79bcb894bd42604733770c967bb4bdcd5d4492</td>\n",
       "      <td>0x81</td>\n",
       "      <td>core</td>\n",
       "      <td>Pregnant</td>\n",
       "    </tr>\n",
       "    <tr>\n",
       "      <th>13</th>\n",
       "      <td>0x06012c8cf97bead5deae237070f9587f8e7a266d</td>\n",
       "      <td>0x827ff33d0396029ae9e2a3dd1fc45323611f2ff02d1bd7cbdaa5066483bdc34f</td>\n",
       "      <td>0x4e9d94</td>\n",
       "      <td>0x000000000000000000000000bf5ea51349cd73f4db2217438146e1323d0a95f5...</td>\n",
       "      <td>0x62</td>\n",
       "      <td>False</td>\n",
       "      <td>[0x241ea03ca20251805084d27d4440371c34a0b85ff108f6bb5611248f73818b80]</td>\n",
       "      <td>0x6c819bc1182a1b11bad0f561a0c633cdfc3cf64826d20f221ea8cce900cefca8</td>\n",
       "      <td>0x82</td>\n",
       "      <td>core</td>\n",
       "      <td>Pregnant</td>\n",
       "    </tr>\n",
       "    <tr>\n",
       "      <th>14</th>\n",
       "      <td>0x06012c8cf97bead5deae237070f9587f8e7a266d</td>\n",
       "      <td>0x827ff33d0396029ae9e2a3dd1fc45323611f2ff02d1bd7cbdaa5066483bdc34f</td>\n",
       "      <td>0x4e9d94</td>\n",
       "      <td>0x000000000000000000000000a037655751185dc8eb7f4e0d6e1ebcbb8298c17d...</td>\n",
       "      <td>0x65</td>\n",
       "      <td>False</td>\n",
       "      <td>[0xddf252ad1be2c89b69c2b068fc378daa952ba7f163c4a11628f55a4df523b3ef]</td>\n",
       "      <td>0x1abb528c290990ddbeb2339b1eea7a22b94d583acd91e32e6ed613e1ab28d6b0</td>\n",
       "      <td>0x89</td>\n",
       "      <td>core</td>\n",
       "      <td>Transfer</td>\n",
       "    </tr>\n",
       "    <tr>\n",
       "      <th>45588</th>\n",
       "      <td>0xb1690c08e213a35ed9bab7b318de14420fb57d8c</td>\n",
       "      <td>0x827ff33d0396029ae9e2a3dd1fc45323611f2ff02d1bd7cbdaa5066483bdc34f</td>\n",
       "      <td>0x4e9d94</td>\n",
       "      <td>0x0000000000000000000000000000000000000000000000000000000000085edb...</td>\n",
       "      <td>0x66</td>\n",
       "      <td>False</td>\n",
       "      <td>[0xa9c8dfcda5664a5a124c713e386da27de87432d5b668e79458501eb296389ba7]</td>\n",
       "      <td>0x1abb528c290990ddbeb2339b1eea7a22b94d583acd91e32e6ed613e1ab28d6b0</td>\n",
       "      <td>0x89</td>\n",
       "      <td>saleAuction</td>\n",
       "      <td>AuctionCreated</td>\n",
       "    </tr>\n",
       "  </tbody>\n",
       "</table>\n",
       "</div>"
      ],
      "text/plain": [
       "                                          address  \\\n",
       "2      0x06012c8cf97bead5deae237070f9587f8e7a266d   \n",
       "3      0x06012c8cf97bead5deae237070f9587f8e7a266d   \n",
       "45585  0xb1690c08e213a35ed9bab7b318de14420fb57d8c   \n",
       "4      0x06012c8cf97bead5deae237070f9587f8e7a266d   \n",
       "0      0x06012c8cf97bead5deae237070f9587f8e7a266d   \n",
       "1      0x06012c8cf97bead5deae237070f9587f8e7a266d   \n",
       "5      0x06012c8cf97bead5deae237070f9587f8e7a266d   \n",
       "6      0x06012c8cf97bead5deae237070f9587f8e7a266d   \n",
       "45586  0xb1690c08e213a35ed9bab7b318de14420fb57d8c   \n",
       "7      0x06012c8cf97bead5deae237070f9587f8e7a266d   \n",
       "8      0x06012c8cf97bead5deae237070f9587f8e7a266d   \n",
       "45587  0xb1690c08e213a35ed9bab7b318de14420fb57d8c   \n",
       "9      0x06012c8cf97bead5deae237070f9587f8e7a266d   \n",
       "10     0x06012c8cf97bead5deae237070f9587f8e7a266d   \n",
       "11     0x06012c8cf97bead5deae237070f9587f8e7a266d   \n",
       "43039  0xc7af99fe5513eb6710e6d5f44f9989da40f27f26   \n",
       "12     0x06012c8cf97bead5deae237070f9587f8e7a266d   \n",
       "13     0x06012c8cf97bead5deae237070f9587f8e7a266d   \n",
       "14     0x06012c8cf97bead5deae237070f9587f8e7a266d   \n",
       "45588  0xb1690c08e213a35ed9bab7b318de14420fb57d8c   \n",
       "\n",
       "                                                                blockHash  \\\n",
       "2      0x8dfe62240ffe991106b3c9254be693920cf0a98717f30e829b5a69a712edd68c   \n",
       "3      0x8dfe62240ffe991106b3c9254be693920cf0a98717f30e829b5a69a712edd68c   \n",
       "45585  0x8dfe62240ffe991106b3c9254be693920cf0a98717f30e829b5a69a712edd68c   \n",
       "4      0x8dfe62240ffe991106b3c9254be693920cf0a98717f30e829b5a69a712edd68c   \n",
       "0      0x8dfe62240ffe991106b3c9254be693920cf0a98717f30e829b5a69a712edd68c   \n",
       "1      0x8dfe62240ffe991106b3c9254be693920cf0a98717f30e829b5a69a712edd68c   \n",
       "5      0xe4fb997491235d6e1845c0ff1dddcea222403b240831e33528757299b75889ef   \n",
       "6      0xe4fb997491235d6e1845c0ff1dddcea222403b240831e33528757299b75889ef   \n",
       "45586  0xe4fb997491235d6e1845c0ff1dddcea222403b240831e33528757299b75889ef   \n",
       "7      0xe4fb997491235d6e1845c0ff1dddcea222403b240831e33528757299b75889ef   \n",
       "8      0xe4fb997491235d6e1845c0ff1dddcea222403b240831e33528757299b75889ef   \n",
       "45587  0x827ff33d0396029ae9e2a3dd1fc45323611f2ff02d1bd7cbdaa5066483bdc34f   \n",
       "9      0x827ff33d0396029ae9e2a3dd1fc45323611f2ff02d1bd7cbdaa5066483bdc34f   \n",
       "10     0x827ff33d0396029ae9e2a3dd1fc45323611f2ff02d1bd7cbdaa5066483bdc34f   \n",
       "11     0x827ff33d0396029ae9e2a3dd1fc45323611f2ff02d1bd7cbdaa5066483bdc34f   \n",
       "43039  0x827ff33d0396029ae9e2a3dd1fc45323611f2ff02d1bd7cbdaa5066483bdc34f   \n",
       "12     0x827ff33d0396029ae9e2a3dd1fc45323611f2ff02d1bd7cbdaa5066483bdc34f   \n",
       "13     0x827ff33d0396029ae9e2a3dd1fc45323611f2ff02d1bd7cbdaa5066483bdc34f   \n",
       "14     0x827ff33d0396029ae9e2a3dd1fc45323611f2ff02d1bd7cbdaa5066483bdc34f   \n",
       "45588  0x827ff33d0396029ae9e2a3dd1fc45323611f2ff02d1bd7cbdaa5066483bdc34f   \n",
       "\n",
       "      blockNumber  \\\n",
       "2        0x4e9d90   \n",
       "3        0x4e9d90   \n",
       "45585    0x4e9d90   \n",
       "4        0x4e9d90   \n",
       "0        0x4e9d90   \n",
       "1        0x4e9d90   \n",
       "5        0x4e9d93   \n",
       "6        0x4e9d93   \n",
       "45586    0x4e9d93   \n",
       "7        0x4e9d93   \n",
       "8        0x4e9d93   \n",
       "45587    0x4e9d94   \n",
       "9        0x4e9d94   \n",
       "10       0x4e9d94   \n",
       "11       0x4e9d94   \n",
       "43039    0x4e9d94   \n",
       "12       0x4e9d94   \n",
       "13       0x4e9d94   \n",
       "14       0x4e9d94   \n",
       "45588    0x4e9d94   \n",
       "\n",
       "                                                                        data  \\\n",
       "2      0x000000000000000000000000a110546519b9c6dfcebb58cd6a46859ac10abef0...   \n",
       "3      0x00000000000000000000000028527fdd12fc78eba71fb989f546fd077c152293...   \n",
       "45585  0x0000000000000000000000000000000000000000000000000000000000083e33...   \n",
       "4      0x000000000000000000000000b1690c08e213a35ed9bab7b318de14420fb57d8c...   \n",
       "0      0x0000000000000000000000007866a4e8c7309414d65665d0d4b9a4e4324333e3...   \n",
       "1      0x0000000000000000000000000000000000000000000000000000000000000000...   \n",
       "5      0x000000000000000000000000619a19246f238811ea21875e0fca1f3f1e0c8497...   \n",
       "6      0x00000000000000000000000017d0e82ebdef0516e196d71a1d5f1b7acadafba3...   \n",
       "45586  0x000000000000000000000000000000000000000000000000000000000007009b...   \n",
       "7      0x00000000000000000000000083dca1463395be54649ad9a6f0a571ebbbde10ab...   \n",
       "8      0x00000000000000000000000098aec1e4e88564a48331e55b4366f6f4b2e48f24...   \n",
       "45587  0x0000000000000000000000000000000000000000000000000000000000084d44...   \n",
       "9      0x000000000000000000000000b1690c08e213a35ed9bab7b318de14420fb57d8c...   \n",
       "10     0x00000000000000000000000048386386f3bdf3c6dc0de6f53bc5957fc4e1e30d...   \n",
       "11     0x000000000000000000000000f6f492809677f2f17c16b8b7b5c0f7ff65549df7...   \n",
       "43039  0x000000000000000000000000000000000000000000000000000000000005ca8f...   \n",
       "12     0x000000000000000000000000bae25a69a6eb7341ee834be7635e247e22a1e57a...   \n",
       "13     0x000000000000000000000000bf5ea51349cd73f4db2217438146e1323d0a95f5...   \n",
       "14     0x000000000000000000000000a037655751185dc8eb7f4e0d6e1ebcbb8298c17d...   \n",
       "45588  0x0000000000000000000000000000000000000000000000000000000000085edb...   \n",
       "\n",
       "      logIndex  removed  \\\n",
       "2         0x3a    False   \n",
       "3         0x3b    False   \n",
       "45585     0x63    False   \n",
       "4         0x64    False   \n",
       "0          0xd    False   \n",
       "1          0xe    False   \n",
       "5         0x2e    False   \n",
       "6         0x6e    False   \n",
       "45586     0x6f    False   \n",
       "7         0x76    False   \n",
       "8         0x79    False   \n",
       "45587     0x54    False   \n",
       "9         0x55    False   \n",
       "10        0x57    False   \n",
       "11        0x5e    False   \n",
       "43039     0x5f    False   \n",
       "12        0x61    False   \n",
       "13        0x62    False   \n",
       "14        0x65    False   \n",
       "45588     0x66    False   \n",
       "\n",
       "                                                                     topics  \\\n",
       "2      [0x241ea03ca20251805084d27d4440371c34a0b85ff108f6bb5611248f73818b80]   \n",
       "3      [0x241ea03ca20251805084d27d4440371c34a0b85ff108f6bb5611248f73818b80]   \n",
       "45585  [0x4fcc30d90a842164dd58501ab874a101a3749c3d4747139cefe7c876f4ccebd2]   \n",
       "4      [0xddf252ad1be2c89b69c2b068fc378daa952ba7f163c4a11628f55a4df523b3ef]   \n",
       "0      [0x0a5311bd2a6608f08a180df2ee7c5946819a649b204b554bb8e39825b2c50ad5]   \n",
       "1      [0xddf252ad1be2c89b69c2b068fc378daa952ba7f163c4a11628f55a4df523b3ef]   \n",
       "5      [0x241ea03ca20251805084d27d4440371c34a0b85ff108f6bb5611248f73818b80]   \n",
       "6      [0xddf252ad1be2c89b69c2b068fc378daa952ba7f163c4a11628f55a4df523b3ef]   \n",
       "45586  [0xa9c8dfcda5664a5a124c713e386da27de87432d5b668e79458501eb296389ba7]   \n",
       "7      [0x241ea03ca20251805084d27d4440371c34a0b85ff108f6bb5611248f73818b80]   \n",
       "8      [0x241ea03ca20251805084d27d4440371c34a0b85ff108f6bb5611248f73818b80]   \n",
       "45587  [0x4fcc30d90a842164dd58501ab874a101a3749c3d4747139cefe7c876f4ccebd2]   \n",
       "9      [0xddf252ad1be2c89b69c2b068fc378daa952ba7f163c4a11628f55a4df523b3ef]   \n",
       "10     [0x241ea03ca20251805084d27d4440371c34a0b85ff108f6bb5611248f73818b80]   \n",
       "11     [0xddf252ad1be2c89b69c2b068fc378daa952ba7f163c4a11628f55a4df523b3ef]   \n",
       "43039  [0xa9c8dfcda5664a5a124c713e386da27de87432d5b668e79458501eb296389ba7]   \n",
       "12     [0x241ea03ca20251805084d27d4440371c34a0b85ff108f6bb5611248f73818b80]   \n",
       "13     [0x241ea03ca20251805084d27d4440371c34a0b85ff108f6bb5611248f73818b80]   \n",
       "14     [0xddf252ad1be2c89b69c2b068fc378daa952ba7f163c4a11628f55a4df523b3ef]   \n",
       "45588  [0xa9c8dfcda5664a5a124c713e386da27de87432d5b668e79458501eb296389ba7]   \n",
       "\n",
       "                                                          transactionHash  \\\n",
       "2      0x7f0c0b2a7c53eb9b183c98e913b3c8f0c9ac8ad3a6a5681053f36ccd6954cdd9   \n",
       "3      0x8063ca759841f0980d043e14a5d90ac920913fb33934faa0ca642e23b1e51251   \n",
       "45585  0xe887638f16b1a52a193a41936fabbca2b1caa7ef4c388d5c9ce52630afe20b08   \n",
       "4      0xe887638f16b1a52a193a41936fabbca2b1caa7ef4c388d5c9ce52630afe20b08   \n",
       "0      0x6abc53518e14cb8ab71cc464b8b93c819abeebb5c11c44727592edfdca660a13   \n",
       "1      0x6abc53518e14cb8ab71cc464b8b93c819abeebb5c11c44727592edfdca660a13   \n",
       "5      0x2518198cd8f15a6bbe2c13e67ce768e2063718d7c2321d6b9cb45170087cd688   \n",
       "6      0xa473322bcd3ba1a6def23f1ef261116f233c76edba2a9195ea99022996286f62   \n",
       "45586  0xa473322bcd3ba1a6def23f1ef261116f233c76edba2a9195ea99022996286f62   \n",
       "7      0x5108d86b203c0b653e9a48d09fa0393e8dd4b0f082645365ec6316d6d28cdd26   \n",
       "8      0x6cef50a0cfb8235e5d46d1c6109f2729645d349bdae83db3eeaa645174444d74   \n",
       "45587  0x77710d81f964916822e366b24a7f58ebec3b2a471306b324293048a1f762c450   \n",
       "9      0x77710d81f964916822e366b24a7f58ebec3b2a471306b324293048a1f762c450   \n",
       "10     0x63db3f674356541ee8641e05d850b60a635d6581058b7da84d8e1c7e071049bc   \n",
       "11     0xbb948eef2dca557ebd43fb8038213f33f2d7a1643e929e3317f8bb0701262729   \n",
       "43039  0xbb948eef2dca557ebd43fb8038213f33f2d7a1643e929e3317f8bb0701262729   \n",
       "12     0xfa447f0f6d7b9caf1070ae280f79bcb894bd42604733770c967bb4bdcd5d4492   \n",
       "13     0x6c819bc1182a1b11bad0f561a0c633cdfc3cf64826d20f221ea8cce900cefca8   \n",
       "14     0x1abb528c290990ddbeb2339b1eea7a22b94d583acd91e32e6ed613e1ab28d6b0   \n",
       "45588  0x1abb528c290990ddbeb2339b1eea7a22b94d583acd91e32e6ed613e1ab28d6b0   \n",
       "\n",
       "      transactionIndex       contract              event  \n",
       "2                 0x3f           core           Pregnant  \n",
       "3                 0x41           core           Pregnant  \n",
       "45585             0x7c    saleAuction  AuctionSuccessful  \n",
       "4                 0x7c           core           Transfer  \n",
       "0                  0xf           core              Birth  \n",
       "1                  0xf           core           Transfer  \n",
       "5                 0x6a           core           Pregnant  \n",
       "6                 0xaa           core           Transfer  \n",
       "45586             0xaa    saleAuction     AuctionCreated  \n",
       "7                 0xb0           core           Pregnant  \n",
       "8                 0xb4           core           Pregnant  \n",
       "45587             0x70    saleAuction  AuctionSuccessful  \n",
       "9                 0x70           core           Transfer  \n",
       "10                0x76           core           Pregnant  \n",
       "11                0x7f           core           Transfer  \n",
       "43039             0x7f  siringAuction     AuctionCreated  \n",
       "12                0x81           core           Pregnant  \n",
       "13                0x82           core           Pregnant  \n",
       "14                0x89           core           Transfer  \n",
       "45588             0x89    saleAuction     AuctionCreated  "
      ]
     },
     "execution_count": 86,
     "metadata": {},
     "output_type": "execute_result"
    }
   ],
   "source": [
    "events.sort_values(['blockNumber', 'transactionIndex', 'logIndex']).head(20)"
   ]
  },
  {
   "cell_type": "markdown",
   "metadata": {},
   "source": [
    "## Strange transactions: lots of births and transfers\n",
    "\n",
    "0xdc3d978d88daa791b8e898ae74cd95a7bb5a38cab4555aac3c6da59dc09d62e0\n",
    "0x58a5d848c63a0ced69c671eff4d6decb01ae57bfa8dd315ac1a758e5aa192e6e\n",
    "0x5d91e6170d1cb8bf9642e4d319b87bd824b17ec52cd6b3d9a14f3f8f83e90b75\n",
    "\n",
    "Looks like smart contracts (0xF8Fb76B05fd854cc6f35d5088B9D241CbbF616C3, 0xD18785571AE7F3b100e5B8788E3827120282f170) that call giveBirth on all pregnant kitties whose gestation period has passed"
   ]
  },
  {
   "cell_type": "markdown",
   "metadata": {},
   "source": [
    "### Who is calling giveBirth?"
   ]
  },
  {
   "cell_type": "code",
   "execution_count": 87,
   "metadata": {},
   "outputs": [
    {
     "data": {
      "text/html": [
       "<div>\n",
       "<style>\n",
       "    .dataframe thead tr:only-child th {\n",
       "        text-align: right;\n",
       "    }\n",
       "\n",
       "    .dataframe thead th {\n",
       "        text-align: left;\n",
       "    }\n",
       "\n",
       "    .dataframe tbody tr th {\n",
       "        vertical-align: top;\n",
       "    }\n",
       "</style>\n",
       "<table border=\"1\" class=\"dataframe\">\n",
       "  <thead>\n",
       "    <tr style=\"text-align: right;\">\n",
       "      <th></th>\n",
       "      <th>address</th>\n",
       "      <th>blockHash</th>\n",
       "      <th>blockNumber</th>\n",
       "      <th>data</th>\n",
       "      <th>logIndex</th>\n",
       "      <th>removed</th>\n",
       "      <th>topics</th>\n",
       "      <th>transactionHash</th>\n",
       "      <th>transactionIndex</th>\n",
       "      <th>contract</th>\n",
       "      <th>event</th>\n",
       "    </tr>\n",
       "  </thead>\n",
       "  <tbody>\n",
       "    <tr>\n",
       "      <th>0</th>\n",
       "      <td>0x06012c8cf97bead5deae237070f9587f8e7a266d</td>\n",
       "      <td>0x8dfe62240ffe991106b3c9254be693920cf0a98717f30e829b5a69a712edd68c</td>\n",
       "      <td>0x4e9d90</td>\n",
       "      <td>0x0000000000000000000000007866a4e8c7309414d65665d0d4b9a4e4324333e3...</td>\n",
       "      <td>0xd</td>\n",
       "      <td>False</td>\n",
       "      <td>[0x0a5311bd2a6608f08a180df2ee7c5946819a649b204b554bb8e39825b2c50ad5]</td>\n",
       "      <td>0x6abc53518e14cb8ab71cc464b8b93c819abeebb5c11c44727592edfdca660a13</td>\n",
       "      <td>0xf</td>\n",
       "      <td>core</td>\n",
       "      <td>Birth</td>\n",
       "    </tr>\n",
       "    <tr>\n",
       "      <th>18</th>\n",
       "      <td>0x06012c8cf97bead5deae237070f9587f8e7a266d</td>\n",
       "      <td>0x415d61345ed10f55490f007fa24ee523815c94bab1ad162d0e6774963e9feaaa</td>\n",
       "      <td>0x4e9d95</td>\n",
       "      <td>0x0000000000000000000000008abda881c2009f4de8688de9fdb7c03d5681df47...</td>\n",
       "      <td>0x13</td>\n",
       "      <td>False</td>\n",
       "      <td>[0x0a5311bd2a6608f08a180df2ee7c5946819a649b204b554bb8e39825b2c50ad5]</td>\n",
       "      <td>0x5cd3d5df1007d6d8de2694b90bf1a56b49bfe071f88b1621c37699d03dab317e</td>\n",
       "      <td>0x2b</td>\n",
       "      <td>core</td>\n",
       "      <td>Birth</td>\n",
       "    </tr>\n",
       "    <tr>\n",
       "      <th>20</th>\n",
       "      <td>0x06012c8cf97bead5deae237070f9587f8e7a266d</td>\n",
       "      <td>0xdfb86c8d6581019d5d33570d33fe32384996b5cae2a9394afec5b5607de76493</td>\n",
       "      <td>0x4e9d96</td>\n",
       "      <td>0x000000000000000000000000ae41f73635b6f5f9556cd3b0d3970ada5fb0c1b5...</td>\n",
       "      <td>0x8</td>\n",
       "      <td>False</td>\n",
       "      <td>[0x0a5311bd2a6608f08a180df2ee7c5946819a649b204b554bb8e39825b2c50ad5]</td>\n",
       "      <td>0x9925c2cd3c42ed218e280b68cbc2b9e4f28cc6c6f3a74ae62452e7a9644505a5</td>\n",
       "      <td>0x15</td>\n",
       "      <td>core</td>\n",
       "      <td>Birth</td>\n",
       "    </tr>\n",
       "    <tr>\n",
       "      <th>31</th>\n",
       "      <td>0x06012c8cf97bead5deae237070f9587f8e7a266d</td>\n",
       "      <td>0x36918bed18c7b9e77d8c2bcc17a002764447cba57beead0a839a798a410a45ca</td>\n",
       "      <td>0x4e9d97</td>\n",
       "      <td>0x0000000000000000000000000429c8d18b916dffa9d3ac0bc56d34d9014456ef...</td>\n",
       "      <td>0x9</td>\n",
       "      <td>False</td>\n",
       "      <td>[0x0a5311bd2a6608f08a180df2ee7c5946819a649b204b554bb8e39825b2c50ad5]</td>\n",
       "      <td>0x84e1d6b39feda8123ebb3975bbdba7fb7d81c7d92210ed277fdac3d8771363b0</td>\n",
       "      <td>0x14</td>\n",
       "      <td>core</td>\n",
       "      <td>Birth</td>\n",
       "    </tr>\n",
       "    <tr>\n",
       "      <th>37</th>\n",
       "      <td>0x06012c8cf97bead5deae237070f9587f8e7a266d</td>\n",
       "      <td>0x56bab89d8912795e26aec612f63af11beb8a31274774f2ced83f7cff74c22862</td>\n",
       "      <td>0x4e9d98</td>\n",
       "      <td>0x00000000000000000000000041b302849e7ea16332ce7ac887c88be19dc2d3c6...</td>\n",
       "      <td>0x6f</td>\n",
       "      <td>False</td>\n",
       "      <td>[0x0a5311bd2a6608f08a180df2ee7c5946819a649b204b554bb8e39825b2c50ad5]</td>\n",
       "      <td>0x4ad2fdd625a6174df927a49ec110506f839fe25cf9ca53217b065b119d4c26c1</td>\n",
       "      <td>0x9b</td>\n",
       "      <td>core</td>\n",
       "      <td>Birth</td>\n",
       "    </tr>\n",
       "  </tbody>\n",
       "</table>\n",
       "</div>"
      ],
      "text/plain": [
       "                                       address  \\\n",
       "0   0x06012c8cf97bead5deae237070f9587f8e7a266d   \n",
       "18  0x06012c8cf97bead5deae237070f9587f8e7a266d   \n",
       "20  0x06012c8cf97bead5deae237070f9587f8e7a266d   \n",
       "31  0x06012c8cf97bead5deae237070f9587f8e7a266d   \n",
       "37  0x06012c8cf97bead5deae237070f9587f8e7a266d   \n",
       "\n",
       "                                                             blockHash  \\\n",
       "0   0x8dfe62240ffe991106b3c9254be693920cf0a98717f30e829b5a69a712edd68c   \n",
       "18  0x415d61345ed10f55490f007fa24ee523815c94bab1ad162d0e6774963e9feaaa   \n",
       "20  0xdfb86c8d6581019d5d33570d33fe32384996b5cae2a9394afec5b5607de76493   \n",
       "31  0x36918bed18c7b9e77d8c2bcc17a002764447cba57beead0a839a798a410a45ca   \n",
       "37  0x56bab89d8912795e26aec612f63af11beb8a31274774f2ced83f7cff74c22862   \n",
       "\n",
       "   blockNumber  \\\n",
       "0     0x4e9d90   \n",
       "18    0x4e9d95   \n",
       "20    0x4e9d96   \n",
       "31    0x4e9d97   \n",
       "37    0x4e9d98   \n",
       "\n",
       "                                                                     data  \\\n",
       "0   0x0000000000000000000000007866a4e8c7309414d65665d0d4b9a4e4324333e3...   \n",
       "18  0x0000000000000000000000008abda881c2009f4de8688de9fdb7c03d5681df47...   \n",
       "20  0x000000000000000000000000ae41f73635b6f5f9556cd3b0d3970ada5fb0c1b5...   \n",
       "31  0x0000000000000000000000000429c8d18b916dffa9d3ac0bc56d34d9014456ef...   \n",
       "37  0x00000000000000000000000041b302849e7ea16332ce7ac887c88be19dc2d3c6...   \n",
       "\n",
       "   logIndex  removed  \\\n",
       "0       0xd    False   \n",
       "18     0x13    False   \n",
       "20      0x8    False   \n",
       "31      0x9    False   \n",
       "37     0x6f    False   \n",
       "\n",
       "                                                                  topics  \\\n",
       "0   [0x0a5311bd2a6608f08a180df2ee7c5946819a649b204b554bb8e39825b2c50ad5]   \n",
       "18  [0x0a5311bd2a6608f08a180df2ee7c5946819a649b204b554bb8e39825b2c50ad5]   \n",
       "20  [0x0a5311bd2a6608f08a180df2ee7c5946819a649b204b554bb8e39825b2c50ad5]   \n",
       "31  [0x0a5311bd2a6608f08a180df2ee7c5946819a649b204b554bb8e39825b2c50ad5]   \n",
       "37  [0x0a5311bd2a6608f08a180df2ee7c5946819a649b204b554bb8e39825b2c50ad5]   \n",
       "\n",
       "                                                       transactionHash  \\\n",
       "0   0x6abc53518e14cb8ab71cc464b8b93c819abeebb5c11c44727592edfdca660a13   \n",
       "18  0x5cd3d5df1007d6d8de2694b90bf1a56b49bfe071f88b1621c37699d03dab317e   \n",
       "20  0x9925c2cd3c42ed218e280b68cbc2b9e4f28cc6c6f3a74ae62452e7a9644505a5   \n",
       "31  0x84e1d6b39feda8123ebb3975bbdba7fb7d81c7d92210ed277fdac3d8771363b0   \n",
       "37  0x4ad2fdd625a6174df927a49ec110506f839fe25cf9ca53217b065b119d4c26c1   \n",
       "\n",
       "   transactionIndex contract  event  \n",
       "0               0xf     core  Birth  \n",
       "18             0x2b     core  Birth  \n",
       "20             0x15     core  Birth  \n",
       "31             0x14     core  Birth  \n",
       "37             0x9b     core  Birth  "
      ]
     },
     "execution_count": 87,
     "metadata": {},
     "output_type": "execute_result"
    }
   ],
   "source": [
    "births = events[events['event'] == 'Birth']\n",
    "births.head()"
   ]
  },
  {
   "cell_type": "code",
   "execution_count": 138,
   "metadata": {},
   "outputs": [
    {
     "data": {
      "text/plain": [
       "<matplotlib.axes._subplots.AxesSubplot at 0x14bc1ffd0>"
      ]
     },
     "execution_count": 138,
     "metadata": {},
     "output_type": "execute_result"
    },
    {
     "data": {
      "image/png": "[encoded data removed]",
      "text/plain": [
       "<matplotlib.figure.Figure at 0x1264ab4e0>"
      ]
     },
     "metadata": {},
     "output_type": "display_data"
    }
   ],
   "source": [
    "births.groupby(['transactionHash']).transactionHash.count().plot(kind='bar', xticks=[])"
   ]
  },
  {
   "cell_type": "code",
   "execution_count": null,
   "metadata": {},
   "outputs": [],
   "source": [
    "births['caller'] = births['transactionHash'].apply(lambda x: eth_getTransactionByHash(x)['from'])\n",
    "births['called'] = births['transactionHash'].apply(lambda x: eth_getTransactionByHash(x)['to'])"
   ]
  },
  {
   "cell_type": "code",
   "execution_count": null,
   "metadata": {},
   "outputs": [],
   "source": [
    "births['gas'] = births['transactionHash'].apply(lambda x: int(eth_getTransactionByHash(x)['gas'],16))\n",
    "births['gasPrice'] = births['transactionHash'].apply(lambda x: int(eth_getTransactionByHash(x)['gasPrice'],16))"
   ]
  },
  {
   "cell_type": "code",
   "execution_count": 91,
   "metadata": {},
   "outputs": [
    {
     "data": {
      "text/plain": [
       "<matplotlib.axes._subplots.AxesSubplot at 0x11883ff28>"
      ]
     },
     "execution_count": 91,
     "metadata": {},
     "output_type": "execute_result"
    },
    {
     "data": {
      "image/png": "[encoded data removed]",
      "text/plain": [
       "<matplotlib.figure.Figure at 0x11953ea20>"
      ]
     },
     "metadata": {},
     "output_type": "display_data"
    }
   ],
   "source": [
    "births.groupby(['caller']).data.count().plot(kind='bar')"
   ]
  },
  {
   "cell_type": "code",
   "execution_count": 92,
   "metadata": {},
   "outputs": [
    {
     "data": {
      "text/plain": [
       "<matplotlib.axes._subplots.AxesSubplot at 0x1162bc860>"
      ]
     },
     "execution_count": 92,
     "metadata": {},
     "output_type": "execute_result"
    },
    {
     "data": {
      "image/png": "[encoded data removed]",
      "text/plain": [
       "<matplotlib.figure.Figure at 0x112fb5048>"
      ]
     },
     "metadata": {},
     "output_type": "display_data"
    }
   ],
   "source": [
    "births.groupby(['called']).data.count().plot(kind='bar')"
   ]
  },
  {
   "cell_type": "code",
   "execution_count": 92,
   "metadata": {},
   "outputs": [
    {
     "data": {
      "text/plain": [
       "<matplotlib.axes._subplots.AxesSubplot at 0x1162bc860>"
      ]
     },
     "execution_count": 92,
     "metadata": {},
     "output_type": "execute_result"
    },
    {
     "data": {
      "image/png": "[encoded data removed]",
      "text/plain": [
       "<matplotlib.figure.Figure at 0x112fb5048>"
      ]
     },
     "metadata": {},
     "output_type": "display_data"
    }
   ],
   "source": [
    "births.groupby(['called']).data.count().plot(kind='bar')"
   ]
  },
  {
   "cell_type": "code",
   "execution_count": 139,
   "metadata": {},
   "outputs": [
    {
     "name": "stderr",
     "output_type": "stream",
     "text": [
      "/anaconda3/lib/python3.6/site-packages/numpy/core/fromnumeric.py:57: FutureWarning: reshape is deprecated and will raise in a subsequent release. Please use .values.reshape(...) instead\n",
      "  return getattr(obj, method)(*args, **kwds)\n"
     ]
    },
    {
     "data": {
      "text/plain": [
       "<matplotlib.axes._subplots.AxesSubplot at 0x145b93400>"
      ]
     },
     "execution_count": 139,
     "metadata": {},
     "output_type": "execute_result"
    },
    {
     "data": {
      "image/png": "[encoded data removed]",
      "text/plain": [
       "<matplotlib.figure.Figure at 0x1494d30b8>"
      ]
     },
     "metadata": {},
     "output_type": "display_data"
    }
   ],
   "source": [
    "births.boxplot(column='gasPrice',by='called')"
   ]
  },
  {
   "cell_type": "code",
   "execution_count": 94,
   "metadata": {},
   "outputs": [
    {
     "name": "stderr",
     "output_type": "stream",
     "text": [
      "/anaconda3/lib/python3.6/site-packages/numpy/core/fromnumeric.py:57: FutureWarning: reshape is deprecated and will raise in a subsequent release. Please use .values.reshape(...) instead\n",
      "  return getattr(obj, method)(*args, **kwds)\n"
     ]
    },
    {
     "data": {
      "text/plain": [
       "<matplotlib.axes._subplots.AxesSubplot at 0x123d4f4e0>"
      ]
     },
     "execution_count": 94,
     "metadata": {},
     "output_type": "execute_result"
    },
    {
     "data": {
      "image/png": "[encoded data removed]",
      "text/plain": [
       "<matplotlib.figure.Figure at 0x123f22f60>"
      ]
     },
     "metadata": {},
     "output_type": "display_data"
    }
   ],
   "source": [
    "births.boxplot(column='gas',by='called')"
   ]
  },
  {
   "cell_type": "code",
   "execution_count": 95,
   "metadata": {},
   "outputs": [
    {
     "data": {
      "text/plain": [
       "array(['0x903625318d13a3529fb4309fd57dd8d105fcd39c',\n",
       "       '0xd18785571ae7f3b100e5b8788e3827120282f170',\n",
       "       '0x39243a59d34169eeb0cac2752a21b982408a0194',\n",
       "       '0x06012c8cf97bead5deae237070f9587f8e7a266d',\n",
       "       '0xae93ad74daaa4c1c00c5e40cbb213f185889871d',\n",
       "       '0xd99b6e04d6911f032d2e9139bd3309d2641dc706',\n",
       "       '0xccc1d3102703418cfda055ce688867268563b3e6',\n",
       "       '0xf8fb76b05fd854cc6f35d5088b9d241cbbf616c3',\n",
       "       '0x14eed70d71679d0bd7e79539851e4cd99a4fff52',\n",
       "       '0x19843af6a5eb12ca54c47fa202c3e4deab6702e6',\n",
       "       '0xb76edce7eb76214498092c5b789fceb568005467',\n",
       "       '0x550d4cb67bebda75bdcf600fdd6f247b805f6380',\n",
       "       '0x97e46522e754da786487ec752a1f1c495b9665c1'], dtype=object)"
      ]
     },
     "execution_count": 95,
     "metadata": {},
     "output_type": "execute_result"
    }
   ],
   "source": [
    "births.called.unique()"
   ]
  },
  {
   "cell_type": "code",
   "execution_count": null,
   "metadata": {},
   "outputs": [],
   "source": [
    "births['matronId'] = births['data'].apply(lambda x: x[130:194])\n",
    "births['matronId_dec'] = births['data'].apply(lambda x: int(x[130:194],16))\n",
    "births['blockNumber_dec'] = births['blockNumber'].apply(lambda x: int(x,16))"
   ]
  },
  {
   "cell_type": "code",
   "execution_count": 141,
   "metadata": {},
   "outputs": [
    {
     "data": {
      "text/html": [
       "<div>\n",
       "<style>\n",
       "    .dataframe thead tr:only-child th {\n",
       "        text-align: right;\n",
       "    }\n",
       "\n",
       "    .dataframe thead th {\n",
       "        text-align: left;\n",
       "    }\n",
       "\n",
       "    .dataframe tbody tr th {\n",
       "        vertical-align: top;\n",
       "    }\n",
       "</style>\n",
       "<table border=\"1\" class=\"dataframe\">\n",
       "  <thead>\n",
       "    <tr style=\"text-align: right;\">\n",
       "      <th></th>\n",
       "      <th>address</th>\n",
       "      <th>blockHash</th>\n",
       "      <th>blockNumber</th>\n",
       "      <th>data</th>\n",
       "      <th>logIndex</th>\n",
       "      <th>removed</th>\n",
       "      <th>topics</th>\n",
       "      <th>transactionHash</th>\n",
       "      <th>transactionIndex</th>\n",
       "      <th>contract</th>\n",
       "      <th>event</th>\n",
       "      <th>caller</th>\n",
       "      <th>called</th>\n",
       "      <th>gas</th>\n",
       "      <th>gasPrice</th>\n",
       "      <th>matronId</th>\n",
       "      <th>matronId_dec</th>\n",
       "      <th>blockNumber_dec</th>\n",
       "    </tr>\n",
       "  </thead>\n",
       "  <tbody>\n",
       "    <tr>\n",
       "      <th>0</th>\n",
       "      <td>0x06012c8cf97bead5deae237070f9587f8e7a266d</td>\n",
       "      <td>0x8dfe62240ffe991106b3c9254be693920cf0a98717f30e829b5a69a712edd68c</td>\n",
       "      <td>0x4e9d90</td>\n",
       "      <td>0x0000000000000000000000007866a4e8c7309414d65665d0d4b9a4e4324333e3...</td>\n",
       "      <td>0xd</td>\n",
       "      <td>False</td>\n",
       "      <td>[0x0a5311bd2a6608f08a180df2ee7c5946819a649b204b554bb8e39825b2c50ad5]</td>\n",
       "      <td>0x6abc53518e14cb8ab71cc464b8b93c819abeebb5c11c44727592edfdca660a13</td>\n",
       "      <td>0xf</td>\n",
       "      <td>core</td>\n",
       "      <td>Birth</td>\n",
       "      <td>0xc5b373618d4d01a38f822f56ca6d2ff5080cc4f2</td>\n",
       "      <td>0x903625318d13a3529fb4309fd57dd8d105fcd39c</td>\n",
       "      <td>360000</td>\n",
       "      <td>33588671923</td>\n",
       "      <td>00000000000000000000000000000000000000000000000000000000000814c3</td>\n",
       "      <td>529603</td>\n",
       "      <td>5152144</td>\n",
       "    </tr>\n",
       "    <tr>\n",
       "      <th>18</th>\n",
       "      <td>0x06012c8cf97bead5deae237070f9587f8e7a266d</td>\n",
       "      <td>0x415d61345ed10f55490f007fa24ee523815c94bab1ad162d0e6774963e9feaaa</td>\n",
       "      <td>0x4e9d95</td>\n",
       "      <td>0x0000000000000000000000008abda881c2009f4de8688de9fdb7c03d5681df47...</td>\n",
       "      <td>0x13</td>\n",
       "      <td>False</td>\n",
       "      <td>[0x0a5311bd2a6608f08a180df2ee7c5946819a649b204b554bb8e39825b2c50ad5]</td>\n",
       "      <td>0x5cd3d5df1007d6d8de2694b90bf1a56b49bfe071f88b1621c37699d03dab317e</td>\n",
       "      <td>0x2b</td>\n",
       "      <td>core</td>\n",
       "      <td>Birth</td>\n",
       "      <td>0xed9878336d5187949e4ca33359d2c47c846c9dd3</td>\n",
       "      <td>0x903625318d13a3529fb4309fd57dd8d105fcd39c</td>\n",
       "      <td>360000</td>\n",
       "      <td>33588671923</td>\n",
       "      <td>00000000000000000000000000000000000000000000000000000000000841e7</td>\n",
       "      <td>541159</td>\n",
       "      <td>5152149</td>\n",
       "    </tr>\n",
       "    <tr>\n",
       "      <th>20</th>\n",
       "      <td>0x06012c8cf97bead5deae237070f9587f8e7a266d</td>\n",
       "      <td>0xdfb86c8d6581019d5d33570d33fe32384996b5cae2a9394afec5b5607de76493</td>\n",
       "      <td>0x4e9d96</td>\n",
       "      <td>0x000000000000000000000000ae41f73635b6f5f9556cd3b0d3970ada5fb0c1b5...</td>\n",
       "      <td>0x8</td>\n",
       "      <td>False</td>\n",
       "      <td>[0x0a5311bd2a6608f08a180df2ee7c5946819a649b204b554bb8e39825b2c50ad5]</td>\n",
       "      <td>0x9925c2cd3c42ed218e280b68cbc2b9e4f28cc6c6f3a74ae62452e7a9644505a5</td>\n",
       "      <td>0x15</td>\n",
       "      <td>core</td>\n",
       "      <td>Birth</td>\n",
       "      <td>0x80cfd274937d40c5e3d0e910a81d3330f3c10898</td>\n",
       "      <td>0xd18785571ae7f3b100e5b8788e3827120282f170</td>\n",
       "      <td>360000</td>\n",
       "      <td>20000000000</td>\n",
       "      <td>0000000000000000000000000000000000000000000000000000000000085d49</td>\n",
       "      <td>548169</td>\n",
       "      <td>5152150</td>\n",
       "    </tr>\n",
       "    <tr>\n",
       "      <th>31</th>\n",
       "      <td>0x06012c8cf97bead5deae237070f9587f8e7a266d</td>\n",
       "      <td>0x36918bed18c7b9e77d8c2bcc17a002764447cba57beead0a839a798a410a45ca</td>\n",
       "      <td>0x4e9d97</td>\n",
       "      <td>0x0000000000000000000000000429c8d18b916dffa9d3ac0bc56d34d9014456ef...</td>\n",
       "      <td>0x9</td>\n",
       "      <td>False</td>\n",
       "      <td>[0x0a5311bd2a6608f08a180df2ee7c5946819a649b204b554bb8e39825b2c50ad5]</td>\n",
       "      <td>0x84e1d6b39feda8123ebb3975bbdba7fb7d81c7d92210ed277fdac3d8771363b0</td>\n",
       "      <td>0x14</td>\n",
       "      <td>core</td>\n",
       "      <td>Birth</td>\n",
       "      <td>0xed9878336d5187949e4ca33359d2c47c846c9dd3</td>\n",
       "      <td>0xd18785571ae7f3b100e5b8788e3827120282f170</td>\n",
       "      <td>360000</td>\n",
       "      <td>33588671923</td>\n",
       "      <td>00000000000000000000000000000000000000000000000000000000000856c9</td>\n",
       "      <td>546505</td>\n",
       "      <td>5152151</td>\n",
       "    </tr>\n",
       "    <tr>\n",
       "      <th>37</th>\n",
       "      <td>0x06012c8cf97bead5deae237070f9587f8e7a266d</td>\n",
       "      <td>0x56bab89d8912795e26aec612f63af11beb8a31274774f2ced83f7cff74c22862</td>\n",
       "      <td>0x4e9d98</td>\n",
       "      <td>0x00000000000000000000000041b302849e7ea16332ce7ac887c88be19dc2d3c6...</td>\n",
       "      <td>0x6f</td>\n",
       "      <td>False</td>\n",
       "      <td>[0x0a5311bd2a6608f08a180df2ee7c5946819a649b204b554bb8e39825b2c50ad5]</td>\n",
       "      <td>0x4ad2fdd625a6174df927a49ec110506f839fe25cf9ca53217b065b119d4c26c1</td>\n",
       "      <td>0x9b</td>\n",
       "      <td>core</td>\n",
       "      <td>Birth</td>\n",
       "      <td>0x00716f816f11bf40335a66bde9466e0753f44cae</td>\n",
       "      <td>0x39243a59d34169eeb0cac2752a21b982408a0194</td>\n",
       "      <td>1080000</td>\n",
       "      <td>3100110000</td>\n",
       "      <td>0000000000000000000000000000000000000000000000000000000000084961</td>\n",
       "      <td>543073</td>\n",
       "      <td>5152152</td>\n",
       "    </tr>\n",
       "  </tbody>\n",
       "</table>\n",
       "</div>"
      ],
      "text/plain": [
       "                                       address  \\\n",
       "0   0x06012c8cf97bead5deae237070f9587f8e7a266d   \n",
       "18  0x06012c8cf97bead5deae237070f9587f8e7a266d   \n",
       "20  0x06012c8cf97bead5deae237070f9587f8e7a266d   \n",
       "31  0x06012c8cf97bead5deae237070f9587f8e7a266d   \n",
       "37  0x06012c8cf97bead5deae237070f9587f8e7a266d   \n",
       "\n",
       "                                                             blockHash  \\\n",
       "0   0x8dfe62240ffe991106b3c9254be693920cf0a98717f30e829b5a69a712edd68c   \n",
       "18  0x415d61345ed10f55490f007fa24ee523815c94bab1ad162d0e6774963e9feaaa   \n",
       "20  0xdfb86c8d6581019d5d33570d33fe32384996b5cae2a9394afec5b5607de76493   \n",
       "31  0x36918bed18c7b9e77d8c2bcc17a002764447cba57beead0a839a798a410a45ca   \n",
       "37  0x56bab89d8912795e26aec612f63af11beb8a31274774f2ced83f7cff74c22862   \n",
       "\n",
       "   blockNumber  \\\n",
       "0     0x4e9d90   \n",
       "18    0x4e9d95   \n",
       "20    0x4e9d96   \n",
       "31    0x4e9d97   \n",
       "37    0x4e9d98   \n",
       "\n",
       "                                                                     data  \\\n",
       "0   0x0000000000000000000000007866a4e8c7309414d65665d0d4b9a4e4324333e3...   \n",
       "18  0x0000000000000000000000008abda881c2009f4de8688de9fdb7c03d5681df47...   \n",
       "20  0x000000000000000000000000ae41f73635b6f5f9556cd3b0d3970ada5fb0c1b5...   \n",
       "31  0x0000000000000000000000000429c8d18b916dffa9d3ac0bc56d34d9014456ef...   \n",
       "37  0x00000000000000000000000041b302849e7ea16332ce7ac887c88be19dc2d3c6...   \n",
       "\n",
       "   logIndex  removed  \\\n",
       "0       0xd    False   \n",
       "18     0x13    False   \n",
       "20      0x8    False   \n",
       "31      0x9    False   \n",
       "37     0x6f    False   \n",
       "\n",
       "                                                                  topics  \\\n",
       "0   [0x0a5311bd2a6608f08a180df2ee7c5946819a649b204b554bb8e39825b2c50ad5]   \n",
       "18  [0x0a5311bd2a6608f08a180df2ee7c5946819a649b204b554bb8e39825b2c50ad5]   \n",
       "20  [0x0a5311bd2a6608f08a180df2ee7c5946819a649b204b554bb8e39825b2c50ad5]   \n",
       "31  [0x0a5311bd2a6608f08a180df2ee7c5946819a649b204b554bb8e39825b2c50ad5]   \n",
       "37  [0x0a5311bd2a6608f08a180df2ee7c5946819a649b204b554bb8e39825b2c50ad5]   \n",
       "\n",
       "                                                       transactionHash  \\\n",
       "0   0x6abc53518e14cb8ab71cc464b8b93c819abeebb5c11c44727592edfdca660a13   \n",
       "18  0x5cd3d5df1007d6d8de2694b90bf1a56b49bfe071f88b1621c37699d03dab317e   \n",
       "20  0x9925c2cd3c42ed218e280b68cbc2b9e4f28cc6c6f3a74ae62452e7a9644505a5   \n",
       "31  0x84e1d6b39feda8123ebb3975bbdba7fb7d81c7d92210ed277fdac3d8771363b0   \n",
       "37  0x4ad2fdd625a6174df927a49ec110506f839fe25cf9ca53217b065b119d4c26c1   \n",
       "\n",
       "   transactionIndex contract  event  \\\n",
       "0               0xf     core  Birth   \n",
       "18             0x2b     core  Birth   \n",
       "20             0x15     core  Birth   \n",
       "31             0x14     core  Birth   \n",
       "37             0x9b     core  Birth   \n",
       "\n",
       "                                        caller  \\\n",
       "0   0xc5b373618d4d01a38f822f56ca6d2ff5080cc4f2   \n",
       "18  0xed9878336d5187949e4ca33359d2c47c846c9dd3   \n",
       "20  0x80cfd274937d40c5e3d0e910a81d3330f3c10898   \n",
       "31  0xed9878336d5187949e4ca33359d2c47c846c9dd3   \n",
       "37  0x00716f816f11bf40335a66bde9466e0753f44cae   \n",
       "\n",
       "                                        called      gas     gasPrice  \\\n",
       "0   0x903625318d13a3529fb4309fd57dd8d105fcd39c   360000  33588671923   \n",
       "18  0x903625318d13a3529fb4309fd57dd8d105fcd39c   360000  33588671923   \n",
       "20  0xd18785571ae7f3b100e5b8788e3827120282f170   360000  20000000000   \n",
       "31  0xd18785571ae7f3b100e5b8788e3827120282f170   360000  33588671923   \n",
       "37  0x39243a59d34169eeb0cac2752a21b982408a0194  1080000   3100110000   \n",
       "\n",
       "                                                            matronId  \\\n",
       "0   00000000000000000000000000000000000000000000000000000000000814c3   \n",
       "18  00000000000000000000000000000000000000000000000000000000000841e7   \n",
       "20  0000000000000000000000000000000000000000000000000000000000085d49   \n",
       "31  00000000000000000000000000000000000000000000000000000000000856c9   \n",
       "37  0000000000000000000000000000000000000000000000000000000000084961   \n",
       "\n",
       "    matronId_dec  blockNumber_dec  \n",
       "0         529603          5152144  \n",
       "18        541159          5152149  \n",
       "20        548169          5152150  \n",
       "31        546505          5152151  \n",
       "37        543073          5152152  "
      ]
     },
     "execution_count": 141,
     "metadata": {},
     "output_type": "execute_result"
    }
   ],
   "source": [
    "births.head()"
   ]
  },
  {
   "cell_type": "markdown",
   "metadata": {},
   "source": [
    "## Most wanted genes\n",
    "We can get the genetic sequence of the most recent breeds to try to see what the most wanted genes are"
   ]
  },
  {
   "cell_type": "code",
   "execution_count": 98,
   "metadata": {},
   "outputs": [
    {
     "data": {
      "text/html": [
       "<div>\n",
       "<style>\n",
       "    .dataframe thead tr:only-child th {\n",
       "        text-align: right;\n",
       "    }\n",
       "\n",
       "    .dataframe thead th {\n",
       "        text-align: left;\n",
       "    }\n",
       "\n",
       "    .dataframe tbody tr th {\n",
       "        vertical-align: top;\n",
       "    }\n",
       "</style>\n",
       "<table border=\"1\" class=\"dataframe\">\n",
       "  <thead>\n",
       "    <tr style=\"text-align: right;\">\n",
       "      <th></th>\n",
       "      <th>address</th>\n",
       "      <th>blockHash</th>\n",
       "      <th>blockNumber</th>\n",
       "      <th>data</th>\n",
       "      <th>logIndex</th>\n",
       "      <th>removed</th>\n",
       "      <th>topics</th>\n",
       "      <th>transactionHash</th>\n",
       "      <th>transactionIndex</th>\n",
       "      <th>contract</th>\n",
       "      <th>event</th>\n",
       "    </tr>\n",
       "  </thead>\n",
       "  <tbody>\n",
       "    <tr>\n",
       "      <th>2</th>\n",
       "      <td>0x06012c8cf97bead5deae237070f9587f8e7a266d</td>\n",
       "      <td>0x8dfe62240ffe991106b3c9254be693920cf0a98717f30e829b5a69a712edd68c</td>\n",
       "      <td>0x4e9d90</td>\n",
       "      <td>0x000000000000000000000000a110546519b9c6dfcebb58cd6a46859ac10abef0...</td>\n",
       "      <td>0x3a</td>\n",
       "      <td>False</td>\n",
       "      <td>[0x241ea03ca20251805084d27d4440371c34a0b85ff108f6bb5611248f73818b80]</td>\n",
       "      <td>0x7f0c0b2a7c53eb9b183c98e913b3c8f0c9ac8ad3a6a5681053f36ccd6954cdd9</td>\n",
       "      <td>0x3f</td>\n",
       "      <td>core</td>\n",
       "      <td>Pregnant</td>\n",
       "    </tr>\n",
       "    <tr>\n",
       "      <th>3</th>\n",
       "      <td>0x06012c8cf97bead5deae237070f9587f8e7a266d</td>\n",
       "      <td>0x8dfe62240ffe991106b3c9254be693920cf0a98717f30e829b5a69a712edd68c</td>\n",
       "      <td>0x4e9d90</td>\n",
       "      <td>0x00000000000000000000000028527fdd12fc78eba71fb989f546fd077c152293...</td>\n",
       "      <td>0x3b</td>\n",
       "      <td>False</td>\n",
       "      <td>[0x241ea03ca20251805084d27d4440371c34a0b85ff108f6bb5611248f73818b80]</td>\n",
       "      <td>0x8063ca759841f0980d043e14a5d90ac920913fb33934faa0ca642e23b1e51251</td>\n",
       "      <td>0x41</td>\n",
       "      <td>core</td>\n",
       "      <td>Pregnant</td>\n",
       "    </tr>\n",
       "    <tr>\n",
       "      <th>5</th>\n",
       "      <td>0x06012c8cf97bead5deae237070f9587f8e7a266d</td>\n",
       "      <td>0xe4fb997491235d6e1845c0ff1dddcea222403b240831e33528757299b75889ef</td>\n",
       "      <td>0x4e9d93</td>\n",
       "      <td>0x000000000000000000000000619a19246f238811ea21875e0fca1f3f1e0c8497...</td>\n",
       "      <td>0x2e</td>\n",
       "      <td>False</td>\n",
       "      <td>[0x241ea03ca20251805084d27d4440371c34a0b85ff108f6bb5611248f73818b80]</td>\n",
       "      <td>0x2518198cd8f15a6bbe2c13e67ce768e2063718d7c2321d6b9cb45170087cd688</td>\n",
       "      <td>0x6a</td>\n",
       "      <td>core</td>\n",
       "      <td>Pregnant</td>\n",
       "    </tr>\n",
       "    <tr>\n",
       "      <th>7</th>\n",
       "      <td>0x06012c8cf97bead5deae237070f9587f8e7a266d</td>\n",
       "      <td>0xe4fb997491235d6e1845c0ff1dddcea222403b240831e33528757299b75889ef</td>\n",
       "      <td>0x4e9d93</td>\n",
       "      <td>0x00000000000000000000000083dca1463395be54649ad9a6f0a571ebbbde10ab...</td>\n",
       "      <td>0x76</td>\n",
       "      <td>False</td>\n",
       "      <td>[0x241ea03ca20251805084d27d4440371c34a0b85ff108f6bb5611248f73818b80]</td>\n",
       "      <td>0x5108d86b203c0b653e9a48d09fa0393e8dd4b0f082645365ec6316d6d28cdd26</td>\n",
       "      <td>0xb0</td>\n",
       "      <td>core</td>\n",
       "      <td>Pregnant</td>\n",
       "    </tr>\n",
       "    <tr>\n",
       "      <th>8</th>\n",
       "      <td>0x06012c8cf97bead5deae237070f9587f8e7a266d</td>\n",
       "      <td>0xe4fb997491235d6e1845c0ff1dddcea222403b240831e33528757299b75889ef</td>\n",
       "      <td>0x4e9d93</td>\n",
       "      <td>0x00000000000000000000000098aec1e4e88564a48331e55b4366f6f4b2e48f24...</td>\n",
       "      <td>0x79</td>\n",
       "      <td>False</td>\n",
       "      <td>[0x241ea03ca20251805084d27d4440371c34a0b85ff108f6bb5611248f73818b80]</td>\n",
       "      <td>0x6cef50a0cfb8235e5d46d1c6109f2729645d349bdae83db3eeaa645174444d74</td>\n",
       "      <td>0xb4</td>\n",
       "      <td>core</td>\n",
       "      <td>Pregnant</td>\n",
       "    </tr>\n",
       "  </tbody>\n",
       "</table>\n",
       "</div>"
      ],
      "text/plain": [
       "                                      address  \\\n",
       "2  0x06012c8cf97bead5deae237070f9587f8e7a266d   \n",
       "3  0x06012c8cf97bead5deae237070f9587f8e7a266d   \n",
       "5  0x06012c8cf97bead5deae237070f9587f8e7a266d   \n",
       "7  0x06012c8cf97bead5deae237070f9587f8e7a266d   \n",
       "8  0x06012c8cf97bead5deae237070f9587f8e7a266d   \n",
       "\n",
       "                                                            blockHash  \\\n",
       "2  0x8dfe62240ffe991106b3c9254be693920cf0a98717f30e829b5a69a712edd68c   \n",
       "3  0x8dfe62240ffe991106b3c9254be693920cf0a98717f30e829b5a69a712edd68c   \n",
       "5  0xe4fb997491235d6e1845c0ff1dddcea222403b240831e33528757299b75889ef   \n",
       "7  0xe4fb997491235d6e1845c0ff1dddcea222403b240831e33528757299b75889ef   \n",
       "8  0xe4fb997491235d6e1845c0ff1dddcea222403b240831e33528757299b75889ef   \n",
       "\n",
       "  blockNumber  \\\n",
       "2    0x4e9d90   \n",
       "3    0x4e9d90   \n",
       "5    0x4e9d93   \n",
       "7    0x4e9d93   \n",
       "8    0x4e9d93   \n",
       "\n",
       "                                                                    data  \\\n",
       "2  0x000000000000000000000000a110546519b9c6dfcebb58cd6a46859ac10abef0...   \n",
       "3  0x00000000000000000000000028527fdd12fc78eba71fb989f546fd077c152293...   \n",
       "5  0x000000000000000000000000619a19246f238811ea21875e0fca1f3f1e0c8497...   \n",
       "7  0x00000000000000000000000083dca1463395be54649ad9a6f0a571ebbbde10ab...   \n",
       "8  0x00000000000000000000000098aec1e4e88564a48331e55b4366f6f4b2e48f24...   \n",
       "\n",
       "  logIndex  removed  \\\n",
       "2     0x3a    False   \n",
       "3     0x3b    False   \n",
       "5     0x2e    False   \n",
       "7     0x76    False   \n",
       "8     0x79    False   \n",
       "\n",
       "                                                                 topics  \\\n",
       "2  [0x241ea03ca20251805084d27d4440371c34a0b85ff108f6bb5611248f73818b80]   \n",
       "3  [0x241ea03ca20251805084d27d4440371c34a0b85ff108f6bb5611248f73818b80]   \n",
       "5  [0x241ea03ca20251805084d27d4440371c34a0b85ff108f6bb5611248f73818b80]   \n",
       "7  [0x241ea03ca20251805084d27d4440371c34a0b85ff108f6bb5611248f73818b80]   \n",
       "8  [0x241ea03ca20251805084d27d4440371c34a0b85ff108f6bb5611248f73818b80]   \n",
       "\n",
       "                                                      transactionHash  \\\n",
       "2  0x7f0c0b2a7c53eb9b183c98e913b3c8f0c9ac8ad3a6a5681053f36ccd6954cdd9   \n",
       "3  0x8063ca759841f0980d043e14a5d90ac920913fb33934faa0ca642e23b1e51251   \n",
       "5  0x2518198cd8f15a6bbe2c13e67ce768e2063718d7c2321d6b9cb45170087cd688   \n",
       "7  0x5108d86b203c0b653e9a48d09fa0393e8dd4b0f082645365ec6316d6d28cdd26   \n",
       "8  0x6cef50a0cfb8235e5d46d1c6109f2729645d349bdae83db3eeaa645174444d74   \n",
       "\n",
       "  transactionIndex contract     event  \n",
       "2             0x3f     core  Pregnant  \n",
       "3             0x41     core  Pregnant  \n",
       "5             0x6a     core  Pregnant  \n",
       "7             0xb0     core  Pregnant  \n",
       "8             0xb4     core  Pregnant  "
      ]
     },
     "execution_count": 98,
     "metadata": {},
     "output_type": "execute_result"
    }
   ],
   "source": [
    "pregnancies = events[events['event'] == 'Pregnant']\n",
    "pregnancies.head()"
   ]
  },
  {
   "cell_type": "markdown",
   "metadata": {},
   "source": [
    "The data field of a Pregnant should be structured as such:\n",
    "1. '0x'\n",
    "1. '000000000000000000000000' - 24 zeros before the owner address\n",
    "1. owner address (40 hex characters)\n",
    "1. matronId (64 hex characters)\n",
    "1. sireId (64 hex characters)\n",
    "1. cooldownEndBlock (64 hex characters)"
   ]
  },
  {
   "cell_type": "code",
   "execution_count": null,
   "metadata": {
    "collapsed": true
   },
   "outputs": [],
   "source": [
    "pregnancies['owner'] = '0x' + pregnancies['data'].apply(lambda x: x[26:66])\n",
    "pregnancies['matronId'] = pregnancies['data'].apply(lambda x: x[66:130])\n",
    "pregnancies['sireId'] = pregnancies['data'].apply(lambda x: x[130:194])\n",
    "pregnancies['matronId_dec'] = pregnancies['data'].apply(lambda x: int(x[66:130],16))\n",
    "pregnancies['sireId_dec'] = pregnancies['data'].apply(lambda x: int(x[130:194],16))"
   ]
  },
  {
   "cell_type": "code",
   "execution_count": 140,
   "metadata": {},
   "outputs": [
    {
     "data": {
      "text/html": [
       "<div>\n",
       "<style>\n",
       "    .dataframe thead tr:only-child th {\n",
       "        text-align: right;\n",
       "    }\n",
       "\n",
       "    .dataframe thead th {\n",
       "        text-align: left;\n",
       "    }\n",
       "\n",
       "    .dataframe tbody tr th {\n",
       "        vertical-align: top;\n",
       "    }\n",
       "</style>\n",
       "<table border=\"1\" class=\"dataframe\">\n",
       "  <thead>\n",
       "    <tr style=\"text-align: right;\">\n",
       "      <th></th>\n",
       "      <th>address</th>\n",
       "      <th>blockHash</th>\n",
       "      <th>blockNumber</th>\n",
       "      <th>data</th>\n",
       "      <th>logIndex</th>\n",
       "      <th>removed</th>\n",
       "      <th>topics</th>\n",
       "      <th>transactionHash</th>\n",
       "      <th>transactionIndex</th>\n",
       "      <th>contract</th>\n",
       "      <th>event</th>\n",
       "      <th>owner</th>\n",
       "      <th>matronId</th>\n",
       "      <th>sireId</th>\n",
       "      <th>matronId_dec</th>\n",
       "      <th>sireId_dec</th>\n",
       "      <th>preg_endBlock</th>\n",
       "      <th>preg_endBlock_dec</th>\n",
       "      <th>matronGenes</th>\n",
       "      <th>sireGenes</th>\n",
       "    </tr>\n",
       "  </thead>\n",
       "  <tbody>\n",
       "    <tr>\n",
       "      <th>2</th>\n",
       "      <td>0x06012c8cf97bead5deae237070f9587f8e7a266d</td>\n",
       "      <td>0x8dfe62240ffe991106b3c9254be693920cf0a98717f30e829b5a69a712edd68c</td>\n",
       "      <td>0x4e9d90</td>\n",
       "      <td>0x000000000000000000000000a110546519b9c6dfcebb58cd6a46859ac10abef0...</td>\n",
       "      <td>0x3a</td>\n",
       "      <td>False</td>\n",
       "      <td>[0x241ea03ca20251805084d27d4440371c34a0b85ff108f6bb5611248f73818b80]</td>\n",
       "      <td>0x7f0c0b2a7c53eb9b183c98e913b3c8f0c9ac8ad3a6a5681053f36ccd6954cdd9</td>\n",
       "      <td>0x3f</td>\n",
       "      <td>core</td>\n",
       "      <td>Pregnant</td>\n",
       "      <td>0xa110546519b9c6dfcebb58cd6a46859ac10abef0</td>\n",
       "      <td>000000000000000000000000000000000000000000000000000000000007e577</td>\n",
       "      <td>000000000000000000000000000000000000000000000000000000000007e4c9</td>\n",
       "      <td>517495</td>\n",
       "      <td>517321</td>\n",
       "      <td>00000000000000000000000000000000000000000000000000000000004ea150</td>\n",
       "      <td>5153104</td>\n",
       "      <td>0x000062589094a5718665a80f01c056008e2acb631d43184230a1624274c53da3</td>\n",
       "      <td>0x00005b18909c2649821701ca130071988e6bacb00cc31044641c65433487b963</td>\n",
       "    </tr>\n",
       "    <tr>\n",
       "      <th>3</th>\n",
       "      <td>0x06012c8cf97bead5deae237070f9587f8e7a266d</td>\n",
       "      <td>0x8dfe62240ffe991106b3c9254be693920cf0a98717f30e829b5a69a712edd68c</td>\n",
       "      <td>0x4e9d90</td>\n",
       "      <td>0x00000000000000000000000028527fdd12fc78eba71fb989f546fd077c152293...</td>\n",
       "      <td>0x3b</td>\n",
       "      <td>False</td>\n",
       "      <td>[0x241ea03ca20251805084d27d4440371c34a0b85ff108f6bb5611248f73818b80]</td>\n",
       "      <td>0x8063ca759841f0980d043e14a5d90ac920913fb33934faa0ca642e23b1e51251</td>\n",
       "      <td>0x41</td>\n",
       "      <td>core</td>\n",
       "      <td>Pregnant</td>\n",
       "      <td>0x28527fdd12fc78eba71fb989f546fd077c152293</td>\n",
       "      <td>0000000000000000000000000000000000000000000000000000000000073157</td>\n",
       "      <td>0000000000000000000000000000000000000000000000000000000000073e45</td>\n",
       "      <td>471383</td>\n",
       "      <td>474693</td>\n",
       "      <td>00000000000000000000000000000000000000000000000000000000004e9db8</td>\n",
       "      <td>5152184</td>\n",
       "      <td>0x00006210921492484697b9c819400218c46b18a20c23214c6084a1725296b1ad</td>\n",
       "      <td>0x00004a16b29cf3198214252e014a209863735c828546298e6388e262949085ad</td>\n",
       "    </tr>\n",
       "    <tr>\n",
       "      <th>5</th>\n",
       "      <td>0x06012c8cf97bead5deae237070f9587f8e7a266d</td>\n",
       "      <td>0xe4fb997491235d6e1845c0ff1dddcea222403b240831e33528757299b75889ef</td>\n",
       "      <td>0x4e9d93</td>\n",
       "      <td>0x000000000000000000000000619a19246f238811ea21875e0fca1f3f1e0c8497...</td>\n",
       "      <td>0x2e</td>\n",
       "      <td>False</td>\n",
       "      <td>[0x241ea03ca20251805084d27d4440371c34a0b85ff108f6bb5611248f73818b80]</td>\n",
       "      <td>0x2518198cd8f15a6bbe2c13e67ce768e2063718d7c2321d6b9cb45170087cd688</td>\n",
       "      <td>0x6a</td>\n",
       "      <td>core</td>\n",
       "      <td>Pregnant</td>\n",
       "      <td>0x619a19246f238811ea21875e0fca1f3f1e0c8497</td>\n",
       "      <td>0000000000000000000000000000000000000000000000000000000000080d81</td>\n",
       "      <td>000000000000000000000000000000000000000000000000000000000000e70a</td>\n",
       "      <td>527745</td>\n",
       "      <td>59146</td>\n",
       "      <td>00000000000000000000000000000000000000000000000000000000004e9da7</td>\n",
       "      <td>5152167</td>\n",
       "      <td>0x000062d290988530d2e4b9c810cf171084319a452812304e63206763df40b82f</td>\n",
       "      <td>0x00006312821c851b8c35292a0140311c84331cc30020214e7114624a1e953529</td>\n",
       "    </tr>\n",
       "    <tr>\n",
       "      <th>7</th>\n",
       "      <td>0x06012c8cf97bead5deae237070f9587f8e7a266d</td>\n",
       "      <td>0xe4fb997491235d6e1845c0ff1dddcea222403b240831e33528757299b75889ef</td>\n",
       "      <td>0x4e9d93</td>\n",
       "      <td>0x00000000000000000000000083dca1463395be54649ad9a6f0a571ebbbde10ab...</td>\n",
       "      <td>0x76</td>\n",
       "      <td>False</td>\n",
       "      <td>[0x241ea03ca20251805084d27d4440371c34a0b85ff108f6bb5611248f73818b80]</td>\n",
       "      <td>0x5108d86b203c0b653e9a48d09fa0393e8dd4b0f082645365ec6316d6d28cdd26</td>\n",
       "      <td>0xb0</td>\n",
       "      <td>core</td>\n",
       "      <td>Pregnant</td>\n",
       "      <td>0x83dca1463395be54649ad9a6f0a571ebbbde10ab</td>\n",
       "      <td>000000000000000000000000000000000000000000000000000000000004100c</td>\n",
       "      <td>0000000000000000000000000000000000000000000000000000000000069849</td>\n",
       "      <td>266252</td>\n",
       "      <td>432201</td>\n",
       "      <td>00000000000000000000000000000000000000000000000000000000004e9e0b</td>\n",
       "      <td>5152267</td>\n",
       "      <td>0x00005a189394b20a4c31a9292b18c210844358d0108338cc6304277398972dad</td>\n",
       "      <td>0x000062d8b3964571869a3d483818c310d04254a000d0288e708c514a9e96bdeb</td>\n",
       "    </tr>\n",
       "    <tr>\n",
       "      <th>8</th>\n",
       "      <td>0x06012c8cf97bead5deae237070f9587f8e7a266d</td>\n",
       "      <td>0xe4fb997491235d6e1845c0ff1dddcea222403b240831e33528757299b75889ef</td>\n",
       "      <td>0x4e9d93</td>\n",
       "      <td>0x00000000000000000000000098aec1e4e88564a48331e55b4366f6f4b2e48f24...</td>\n",
       "      <td>0x79</td>\n",
       "      <td>False</td>\n",
       "      <td>[0x241ea03ca20251805084d27d4440371c34a0b85ff108f6bb5611248f73818b80]</td>\n",
       "      <td>0x6cef50a0cfb8235e5d46d1c6109f2729645d349bdae83db3eeaa645174444d74</td>\n",
       "      <td>0xb4</td>\n",
       "      <td>core</td>\n",
       "      <td>Pregnant</td>\n",
       "      <td>0x98aec1e4e88564a48331e55b4366f6f4b2e48f24</td>\n",
       "      <td>00000000000000000000000000000000000000000000000000000000000856ad</td>\n",
       "      <td>0000000000000000000000000000000000000000000000000000000000069b30</td>\n",
       "      <td>546477</td>\n",
       "      <td>432944</td>\n",
       "      <td>00000000000000000000000000000000000000000000000000000000004e9e0b</td>\n",
       "      <td>5152267</td>\n",
       "      <td>0x00004a1883908408d234a94a01400398c45994d2a8212cc6731c677310c539d6</td>\n",
       "      <td>0x00005b16821ca508dce401e9180e031026329861847038cb3198e74a98c73d76</td>\n",
       "    </tr>\n",
       "  </tbody>\n",
       "</table>\n",
       "</div>"
      ],
      "text/plain": [
       "                                      address  \\\n",
       "2  0x06012c8cf97bead5deae237070f9587f8e7a266d   \n",
       "3  0x06012c8cf97bead5deae237070f9587f8e7a266d   \n",
       "5  0x06012c8cf97bead5deae237070f9587f8e7a266d   \n",
       "7  0x06012c8cf97bead5deae237070f9587f8e7a266d   \n",
       "8  0x06012c8cf97bead5deae237070f9587f8e7a266d   \n",
       "\n",
       "                                                            blockHash  \\\n",
       "2  0x8dfe62240ffe991106b3c9254be693920cf0a98717f30e829b5a69a712edd68c   \n",
       "3  0x8dfe62240ffe991106b3c9254be693920cf0a98717f30e829b5a69a712edd68c   \n",
       "5  0xe4fb997491235d6e1845c0ff1dddcea222403b240831e33528757299b75889ef   \n",
       "7  0xe4fb997491235d6e1845c0ff1dddcea222403b240831e33528757299b75889ef   \n",
       "8  0xe4fb997491235d6e1845c0ff1dddcea222403b240831e33528757299b75889ef   \n",
       "\n",
       "  blockNumber  \\\n",
       "2    0x4e9d90   \n",
       "3    0x4e9d90   \n",
       "5    0x4e9d93   \n",
       "7    0x4e9d93   \n",
       "8    0x4e9d93   \n",
       "\n",
       "                                                                    data  \\\n",
       "2  0x000000000000000000000000a110546519b9c6dfcebb58cd6a46859ac10abef0...   \n",
       "3  0x00000000000000000000000028527fdd12fc78eba71fb989f546fd077c152293...   \n",
       "5  0x000000000000000000000000619a19246f238811ea21875e0fca1f3f1e0c8497...   \n",
       "7  0x00000000000000000000000083dca1463395be54649ad9a6f0a571ebbbde10ab...   \n",
       "8  0x00000000000000000000000098aec1e4e88564a48331e55b4366f6f4b2e48f24...   \n",
       "\n",
       "  logIndex  removed  \\\n",
       "2     0x3a    False   \n",
       "3     0x3b    False   \n",
       "5     0x2e    False   \n",
       "7     0x76    False   \n",
       "8     0x79    False   \n",
       "\n",
       "                                                                 topics  \\\n",
       "2  [0x241ea03ca20251805084d27d4440371c34a0b85ff108f6bb5611248f73818b80]   \n",
       "3  [0x241ea03ca20251805084d27d4440371c34a0b85ff108f6bb5611248f73818b80]   \n",
       "5  [0x241ea03ca20251805084d27d4440371c34a0b85ff108f6bb5611248f73818b80]   \n",
       "7  [0x241ea03ca20251805084d27d4440371c34a0b85ff108f6bb5611248f73818b80]   \n",
       "8  [0x241ea03ca20251805084d27d4440371c34a0b85ff108f6bb5611248f73818b80]   \n",
       "\n",
       "                                                      transactionHash  \\\n",
       "2  0x7f0c0b2a7c53eb9b183c98e913b3c8f0c9ac8ad3a6a5681053f36ccd6954cdd9   \n",
       "3  0x8063ca759841f0980d043e14a5d90ac920913fb33934faa0ca642e23b1e51251   \n",
       "5  0x2518198cd8f15a6bbe2c13e67ce768e2063718d7c2321d6b9cb45170087cd688   \n",
       "7  0x5108d86b203c0b653e9a48d09fa0393e8dd4b0f082645365ec6316d6d28cdd26   \n",
       "8  0x6cef50a0cfb8235e5d46d1c6109f2729645d349bdae83db3eeaa645174444d74   \n",
       "\n",
       "  transactionIndex contract     event  \\\n",
       "2             0x3f     core  Pregnant   \n",
       "3             0x41     core  Pregnant   \n",
       "5             0x6a     core  Pregnant   \n",
       "7             0xb0     core  Pregnant   \n",
       "8             0xb4     core  Pregnant   \n",
       "\n",
       "                                        owner  \\\n",
       "2  0xa110546519b9c6dfcebb58cd6a46859ac10abef0   \n",
       "3  0x28527fdd12fc78eba71fb989f546fd077c152293   \n",
       "5  0x619a19246f238811ea21875e0fca1f3f1e0c8497   \n",
       "7  0x83dca1463395be54649ad9a6f0a571ebbbde10ab   \n",
       "8  0x98aec1e4e88564a48331e55b4366f6f4b2e48f24   \n",
       "\n",
       "                                                           matronId  \\\n",
       "2  000000000000000000000000000000000000000000000000000000000007e577   \n",
       "3  0000000000000000000000000000000000000000000000000000000000073157   \n",
       "5  0000000000000000000000000000000000000000000000000000000000080d81   \n",
       "7  000000000000000000000000000000000000000000000000000000000004100c   \n",
       "8  00000000000000000000000000000000000000000000000000000000000856ad   \n",
       "\n",
       "                                                             sireId  \\\n",
       "2  000000000000000000000000000000000000000000000000000000000007e4c9   \n",
       "3  0000000000000000000000000000000000000000000000000000000000073e45   \n",
       "5  000000000000000000000000000000000000000000000000000000000000e70a   \n",
       "7  0000000000000000000000000000000000000000000000000000000000069849   \n",
       "8  0000000000000000000000000000000000000000000000000000000000069b30   \n",
       "\n",
       "   matronId_dec  sireId_dec  \\\n",
       "2        517495      517321   \n",
       "3        471383      474693   \n",
       "5        527745       59146   \n",
       "7        266252      432201   \n",
       "8        546477      432944   \n",
       "\n",
       "                                                      preg_endBlock  \\\n",
       "2  00000000000000000000000000000000000000000000000000000000004ea150   \n",
       "3  00000000000000000000000000000000000000000000000000000000004e9db8   \n",
       "5  00000000000000000000000000000000000000000000000000000000004e9da7   \n",
       "7  00000000000000000000000000000000000000000000000000000000004e9e0b   \n",
       "8  00000000000000000000000000000000000000000000000000000000004e9e0b   \n",
       "\n",
       "   preg_endBlock_dec  \\\n",
       "2            5153104   \n",
       "3            5152184   \n",
       "5            5152167   \n",
       "7            5152267   \n",
       "8            5152267   \n",
       "\n",
       "                                                          matronGenes  \\\n",
       "2  0x000062589094a5718665a80f01c056008e2acb631d43184230a1624274c53da3   \n",
       "3  0x00006210921492484697b9c819400218c46b18a20c23214c6084a1725296b1ad   \n",
       "5  0x000062d290988530d2e4b9c810cf171084319a452812304e63206763df40b82f   \n",
       "7  0x00005a189394b20a4c31a9292b18c210844358d0108338cc6304277398972dad   \n",
       "8  0x00004a1883908408d234a94a01400398c45994d2a8212cc6731c677310c539d6   \n",
       "\n",
       "                                                            sireGenes  \n",
       "2  0x00005b18909c2649821701ca130071988e6bacb00cc31044641c65433487b963  \n",
       "3  0x00004a16b29cf3198214252e014a209863735c828546298e6388e262949085ad  \n",
       "5  0x00006312821c851b8c35292a0140311c84331cc30020214e7114624a1e953529  \n",
       "7  0x000062d8b3964571869a3d483818c310d04254a000d0288e708c514a9e96bdeb  \n",
       "8  0x00005b16821ca508dce401e9180e031026329861847038cb3198e74a98c73d76  "
      ]
     },
     "execution_count": 140,
     "metadata": {},
     "output_type": "execute_result"
    }
   ],
   "source": [
    "pregnancies.head()"
   ]
  },
  {
   "cell_type": "code",
   "execution_count": null,
   "metadata": {},
   "outputs": [],
   "source": [
    "pregnancies['preg_endBlock'] = pregnancies['data'].apply(lambda x: x[194:258])\n",
    "pregnancies['preg_endBlock_dec'] = pregnancies['data'].apply(lambda x: int(x[194:258],16))"
   ]
  },
  {
   "cell_type": "code",
   "execution_count": null,
   "metadata": {},
   "outputs": [],
   "source": [
    "def getKittyGenes(kittyId):\n",
    "    kitty = eth_call(to_address=coreContract, data='0xe98b7f4d'+kittyId)\n",
    "    return kitty[-64:]\n",
    "\n",
    "pregnancies['matronGenes'] = pregnancies['matronId'].apply(lambda x: '0x'+getKittyGenes(x))\n",
    "pregnancies['sireGenes'] = pregnancies['sireId'].apply(lambda x: '0x'+getKittyGenes(x))"
   ]
  },
  {
   "cell_type": "code",
   "execution_count": 103,
   "metadata": {},
   "outputs": [
    {
     "data": {
      "text/html": [
       "<div>\n",
       "<style>\n",
       "    .dataframe thead tr:only-child th {\n",
       "        text-align: right;\n",
       "    }\n",
       "\n",
       "    .dataframe thead th {\n",
       "        text-align: left;\n",
       "    }\n",
       "\n",
       "    .dataframe tbody tr th {\n",
       "        vertical-align: top;\n",
       "    }\n",
       "</style>\n",
       "<table border=\"1\" class=\"dataframe\">\n",
       "  <thead>\n",
       "    <tr style=\"text-align: right;\">\n",
       "      <th></th>\n",
       "      <th>address</th>\n",
       "      <th>blockHash</th>\n",
       "      <th>blockNumber</th>\n",
       "      <th>data</th>\n",
       "      <th>logIndex</th>\n",
       "      <th>removed</th>\n",
       "      <th>topics</th>\n",
       "      <th>transactionHash</th>\n",
       "      <th>transactionIndex</th>\n",
       "      <th>contract</th>\n",
       "      <th>event</th>\n",
       "      <th>owner</th>\n",
       "      <th>matronId</th>\n",
       "      <th>sireId</th>\n",
       "      <th>matronId_dec</th>\n",
       "      <th>sireId_dec</th>\n",
       "      <th>preg_endBlock</th>\n",
       "      <th>preg_endBlock_dec</th>\n",
       "      <th>matronGenes</th>\n",
       "      <th>sireGenes</th>\n",
       "    </tr>\n",
       "  </thead>\n",
       "  <tbody>\n",
       "    <tr>\n",
       "      <th>2</th>\n",
       "      <td>0x06012c8cf97bead5deae237070f9587f8e7a266d</td>\n",
       "      <td>0x8dfe62240ffe991106b3c9254be693920cf0a98717f30e829b5a69a712edd68c</td>\n",
       "      <td>0x4e9d90</td>\n",
       "      <td>0x000000000000000000000000a110546519b9c6dfcebb58cd6a46859ac10abef0...</td>\n",
       "      <td>0x3a</td>\n",
       "      <td>False</td>\n",
       "      <td>[0x241ea03ca20251805084d27d4440371c34a0b85ff108f6bb5611248f73818b80]</td>\n",
       "      <td>0x7f0c0b2a7c53eb9b183c98e913b3c8f0c9ac8ad3a6a5681053f36ccd6954cdd9</td>\n",
       "      <td>0x3f</td>\n",
       "      <td>core</td>\n",
       "      <td>Pregnant</td>\n",
       "      <td>0xa110546519b9c6dfcebb58cd6a46859ac10abef0</td>\n",
       "      <td>000000000000000000000000000000000000000000000000000000000007e577</td>\n",
       "      <td>000000000000000000000000000000000000000000000000000000000007e4c9</td>\n",
       "      <td>517495</td>\n",
       "      <td>517321</td>\n",
       "      <td>00000000000000000000000000000000000000000000000000000000004ea150</td>\n",
       "      <td>5153104</td>\n",
       "      <td>0x000062589094a5718665a80f01c056008e2acb631d43184230a1624274c53da3</td>\n",
       "      <td>0x00005b18909c2649821701ca130071988e6bacb00cc31044641c65433487b963</td>\n",
       "    </tr>\n",
       "    <tr>\n",
       "      <th>3</th>\n",
       "      <td>0x06012c8cf97bead5deae237070f9587f8e7a266d</td>\n",
       "      <td>0x8dfe62240ffe991106b3c9254be693920cf0a98717f30e829b5a69a712edd68c</td>\n",
       "      <td>0x4e9d90</td>\n",
       "      <td>0x00000000000000000000000028527fdd12fc78eba71fb989f546fd077c152293...</td>\n",
       "      <td>0x3b</td>\n",
       "      <td>False</td>\n",
       "      <td>[0x241ea03ca20251805084d27d4440371c34a0b85ff108f6bb5611248f73818b80]</td>\n",
       "      <td>0x8063ca759841f0980d043e14a5d90ac920913fb33934faa0ca642e23b1e51251</td>\n",
       "      <td>0x41</td>\n",
       "      <td>core</td>\n",
       "      <td>Pregnant</td>\n",
       "      <td>0x28527fdd12fc78eba71fb989f546fd077c152293</td>\n",
       "      <td>0000000000000000000000000000000000000000000000000000000000073157</td>\n",
       "      <td>0000000000000000000000000000000000000000000000000000000000073e45</td>\n",
       "      <td>471383</td>\n",
       "      <td>474693</td>\n",
       "      <td>00000000000000000000000000000000000000000000000000000000004e9db8</td>\n",
       "      <td>5152184</td>\n",
       "      <td>0x00006210921492484697b9c819400218c46b18a20c23214c6084a1725296b1ad</td>\n",
       "      <td>0x00004a16b29cf3198214252e014a209863735c828546298e6388e262949085ad</td>\n",
       "    </tr>\n",
       "    <tr>\n",
       "      <th>5</th>\n",
       "      <td>0x06012c8cf97bead5deae237070f9587f8e7a266d</td>\n",
       "      <td>0xe4fb997491235d6e1845c0ff1dddcea222403b240831e33528757299b75889ef</td>\n",
       "      <td>0x4e9d93</td>\n",
       "      <td>0x000000000000000000000000619a19246f238811ea21875e0fca1f3f1e0c8497...</td>\n",
       "      <td>0x2e</td>\n",
       "      <td>False</td>\n",
       "      <td>[0x241ea03ca20251805084d27d4440371c34a0b85ff108f6bb5611248f73818b80]</td>\n",
       "      <td>0x2518198cd8f15a6bbe2c13e67ce768e2063718d7c2321d6b9cb45170087cd688</td>\n",
       "      <td>0x6a</td>\n",
       "      <td>core</td>\n",
       "      <td>Pregnant</td>\n",
       "      <td>0x619a19246f238811ea21875e0fca1f3f1e0c8497</td>\n",
       "      <td>0000000000000000000000000000000000000000000000000000000000080d81</td>\n",
       "      <td>000000000000000000000000000000000000000000000000000000000000e70a</td>\n",
       "      <td>527745</td>\n",
       "      <td>59146</td>\n",
       "      <td>00000000000000000000000000000000000000000000000000000000004e9da7</td>\n",
       "      <td>5152167</td>\n",
       "      <td>0x000062d290988530d2e4b9c810cf171084319a452812304e63206763df40b82f</td>\n",
       "      <td>0x00006312821c851b8c35292a0140311c84331cc30020214e7114624a1e953529</td>\n",
       "    </tr>\n",
       "    <tr>\n",
       "      <th>7</th>\n",
       "      <td>0x06012c8cf97bead5deae237070f9587f8e7a266d</td>\n",
       "      <td>0xe4fb997491235d6e1845c0ff1dddcea222403b240831e33528757299b75889ef</td>\n",
       "      <td>0x4e9d93</td>\n",
       "      <td>0x00000000000000000000000083dca1463395be54649ad9a6f0a571ebbbde10ab...</td>\n",
       "      <td>0x76</td>\n",
       "      <td>False</td>\n",
       "      <td>[0x241ea03ca20251805084d27d4440371c34a0b85ff108f6bb5611248f73818b80]</td>\n",
       "      <td>0x5108d86b203c0b653e9a48d09fa0393e8dd4b0f082645365ec6316d6d28cdd26</td>\n",
       "      <td>0xb0</td>\n",
       "      <td>core</td>\n",
       "      <td>Pregnant</td>\n",
       "      <td>0x83dca1463395be54649ad9a6f0a571ebbbde10ab</td>\n",
       "      <td>000000000000000000000000000000000000000000000000000000000004100c</td>\n",
       "      <td>0000000000000000000000000000000000000000000000000000000000069849</td>\n",
       "      <td>266252</td>\n",
       "      <td>432201</td>\n",
       "      <td>00000000000000000000000000000000000000000000000000000000004e9e0b</td>\n",
       "      <td>5152267</td>\n",
       "      <td>0x00005a189394b20a4c31a9292b18c210844358d0108338cc6304277398972dad</td>\n",
       "      <td>0x000062d8b3964571869a3d483818c310d04254a000d0288e708c514a9e96bdeb</td>\n",
       "    </tr>\n",
       "    <tr>\n",
       "      <th>8</th>\n",
       "      <td>0x06012c8cf97bead5deae237070f9587f8e7a266d</td>\n",
       "      <td>0xe4fb997491235d6e1845c0ff1dddcea222403b240831e33528757299b75889ef</td>\n",
       "      <td>0x4e9d93</td>\n",
       "      <td>0x00000000000000000000000098aec1e4e88564a48331e55b4366f6f4b2e48f24...</td>\n",
       "      <td>0x79</td>\n",
       "      <td>False</td>\n",
       "      <td>[0x241ea03ca20251805084d27d4440371c34a0b85ff108f6bb5611248f73818b80]</td>\n",
       "      <td>0x6cef50a0cfb8235e5d46d1c6109f2729645d349bdae83db3eeaa645174444d74</td>\n",
       "      <td>0xb4</td>\n",
       "      <td>core</td>\n",
       "      <td>Pregnant</td>\n",
       "      <td>0x98aec1e4e88564a48331e55b4366f6f4b2e48f24</td>\n",
       "      <td>00000000000000000000000000000000000000000000000000000000000856ad</td>\n",
       "      <td>0000000000000000000000000000000000000000000000000000000000069b30</td>\n",
       "      <td>546477</td>\n",
       "      <td>432944</td>\n",
       "      <td>00000000000000000000000000000000000000000000000000000000004e9e0b</td>\n",
       "      <td>5152267</td>\n",
       "      <td>0x00004a1883908408d234a94a01400398c45994d2a8212cc6731c677310c539d6</td>\n",
       "      <td>0x00005b16821ca508dce401e9180e031026329861847038cb3198e74a98c73d76</td>\n",
       "    </tr>\n",
       "  </tbody>\n",
       "</table>\n",
       "</div>"
      ],
      "text/plain": [
       "                                      address  \\\n",
       "2  0x06012c8cf97bead5deae237070f9587f8e7a266d   \n",
       "3  0x06012c8cf97bead5deae237070f9587f8e7a266d   \n",
       "5  0x06012c8cf97bead5deae237070f9587f8e7a266d   \n",
       "7  0x06012c8cf97bead5deae237070f9587f8e7a266d   \n",
       "8  0x06012c8cf97bead5deae237070f9587f8e7a266d   \n",
       "\n",
       "                                                            blockHash  \\\n",
       "2  0x8dfe62240ffe991106b3c9254be693920cf0a98717f30e829b5a69a712edd68c   \n",
       "3  0x8dfe62240ffe991106b3c9254be693920cf0a98717f30e829b5a69a712edd68c   \n",
       "5  0xe4fb997491235d6e1845c0ff1dddcea222403b240831e33528757299b75889ef   \n",
       "7  0xe4fb997491235d6e1845c0ff1dddcea222403b240831e33528757299b75889ef   \n",
       "8  0xe4fb997491235d6e1845c0ff1dddcea222403b240831e33528757299b75889ef   \n",
       "\n",
       "  blockNumber  \\\n",
       "2    0x4e9d90   \n",
       "3    0x4e9d90   \n",
       "5    0x4e9d93   \n",
       "7    0x4e9d93   \n",
       "8    0x4e9d93   \n",
       "\n",
       "                                                                    data  \\\n",
       "2  0x000000000000000000000000a110546519b9c6dfcebb58cd6a46859ac10abef0...   \n",
       "3  0x00000000000000000000000028527fdd12fc78eba71fb989f546fd077c152293...   \n",
       "5  0x000000000000000000000000619a19246f238811ea21875e0fca1f3f1e0c8497...   \n",
       "7  0x00000000000000000000000083dca1463395be54649ad9a6f0a571ebbbde10ab...   \n",
       "8  0x00000000000000000000000098aec1e4e88564a48331e55b4366f6f4b2e48f24...   \n",
       "\n",
       "  logIndex  removed  \\\n",
       "2     0x3a    False   \n",
       "3     0x3b    False   \n",
       "5     0x2e    False   \n",
       "7     0x76    False   \n",
       "8     0x79    False   \n",
       "\n",
       "                                                                 topics  \\\n",
       "2  [0x241ea03ca20251805084d27d4440371c34a0b85ff108f6bb5611248f73818b80]   \n",
       "3  [0x241ea03ca20251805084d27d4440371c34a0b85ff108f6bb5611248f73818b80]   \n",
       "5  [0x241ea03ca20251805084d27d4440371c34a0b85ff108f6bb5611248f73818b80]   \n",
       "7  [0x241ea03ca20251805084d27d4440371c34a0b85ff108f6bb5611248f73818b80]   \n",
       "8  [0x241ea03ca20251805084d27d4440371c34a0b85ff108f6bb5611248f73818b80]   \n",
       "\n",
       "                                                      transactionHash  \\\n",
       "2  0x7f0c0b2a7c53eb9b183c98e913b3c8f0c9ac8ad3a6a5681053f36ccd6954cdd9   \n",
       "3  0x8063ca759841f0980d043e14a5d90ac920913fb33934faa0ca642e23b1e51251   \n",
       "5  0x2518198cd8f15a6bbe2c13e67ce768e2063718d7c2321d6b9cb45170087cd688   \n",
       "7  0x5108d86b203c0b653e9a48d09fa0393e8dd4b0f082645365ec6316d6d28cdd26   \n",
       "8  0x6cef50a0cfb8235e5d46d1c6109f2729645d349bdae83db3eeaa645174444d74   \n",
       "\n",
       "  transactionIndex contract     event  \\\n",
       "2             0x3f     core  Pregnant   \n",
       "3             0x41     core  Pregnant   \n",
       "5             0x6a     core  Pregnant   \n",
       "7             0xb0     core  Pregnant   \n",
       "8             0xb4     core  Pregnant   \n",
       "\n",
       "                                        owner  \\\n",
       "2  0xa110546519b9c6dfcebb58cd6a46859ac10abef0   \n",
       "3  0x28527fdd12fc78eba71fb989f546fd077c152293   \n",
       "5  0x619a19246f238811ea21875e0fca1f3f1e0c8497   \n",
       "7  0x83dca1463395be54649ad9a6f0a571ebbbde10ab   \n",
       "8  0x98aec1e4e88564a48331e55b4366f6f4b2e48f24   \n",
       "\n",
       "                                                           matronId  \\\n",
       "2  000000000000000000000000000000000000000000000000000000000007e577   \n",
       "3  0000000000000000000000000000000000000000000000000000000000073157   \n",
       "5  0000000000000000000000000000000000000000000000000000000000080d81   \n",
       "7  000000000000000000000000000000000000000000000000000000000004100c   \n",
       "8  00000000000000000000000000000000000000000000000000000000000856ad   \n",
       "\n",
       "                                                             sireId  \\\n",
       "2  000000000000000000000000000000000000000000000000000000000007e4c9   \n",
       "3  0000000000000000000000000000000000000000000000000000000000073e45   \n",
       "5  000000000000000000000000000000000000000000000000000000000000e70a   \n",
       "7  0000000000000000000000000000000000000000000000000000000000069849   \n",
       "8  0000000000000000000000000000000000000000000000000000000000069b30   \n",
       "\n",
       "   matronId_dec  sireId_dec  \\\n",
       "2        517495      517321   \n",
       "3        471383      474693   \n",
       "5        527745       59146   \n",
       "7        266252      432201   \n",
       "8        546477      432944   \n",
       "\n",
       "                                                      preg_endBlock  \\\n",
       "2  00000000000000000000000000000000000000000000000000000000004ea150   \n",
       "3  00000000000000000000000000000000000000000000000000000000004e9db8   \n",
       "5  00000000000000000000000000000000000000000000000000000000004e9da7   \n",
       "7  00000000000000000000000000000000000000000000000000000000004e9e0b   \n",
       "8  00000000000000000000000000000000000000000000000000000000004e9e0b   \n",
       "\n",
       "   preg_endBlock_dec  \\\n",
       "2            5153104   \n",
       "3            5152184   \n",
       "5            5152167   \n",
       "7            5152267   \n",
       "8            5152267   \n",
       "\n",
       "                                                          matronGenes  \\\n",
       "2  0x000062589094a5718665a80f01c056008e2acb631d43184230a1624274c53da3   \n",
       "3  0x00006210921492484697b9c819400218c46b18a20c23214c6084a1725296b1ad   \n",
       "5  0x000062d290988530d2e4b9c810cf171084319a452812304e63206763df40b82f   \n",
       "7  0x00005a189394b20a4c31a9292b18c210844358d0108338cc6304277398972dad   \n",
       "8  0x00004a1883908408d234a94a01400398c45994d2a8212cc6731c677310c539d6   \n",
       "\n",
       "                                                            sireGenes  \n",
       "2  0x00005b18909c2649821701ca130071988e6bacb00cc31044641c65433487b963  \n",
       "3  0x00004a16b29cf3198214252e014a209863735c828546298e6388e262949085ad  \n",
       "5  0x00006312821c851b8c35292a0140311c84331cc30020214e7114624a1e953529  \n",
       "7  0x000062d8b3964571869a3d483818c310d04254a000d0288e708c514a9e96bdeb  \n",
       "8  0x00005b16821ca508dce401e9180e031026329861847038cb3198e74a98c73d76  "
      ]
     },
     "execution_count": 103,
     "metadata": {},
     "output_type": "execute_result"
    }
   ],
   "source": [
    "pregnancies.head()"
   ]
  },
  {
   "cell_type": "code",
   "execution_count": 148,
   "metadata": {},
   "outputs": [
    {
     "data": {
      "text/plain": [
       "'0x000062589094a5718665a80f01c056008e2acb631d43184230a1624274c53da3'"
      ]
     },
     "execution_count": 148,
     "metadata": {},
     "output_type": "execute_result"
    }
   ],
   "source": [
    "pregnancies.loc[2, 'matronGenes']"
   ]
  },
  {
   "cell_type": "code",
   "execution_count": 149,
   "metadata": {},
   "outputs": [
    {
     "data": {
      "text/plain": [
       "'0x00005b18909c2649821701ca130071988e6bacb00cc31044641c65433487b963'"
      ]
     },
     "execution_count": 149,
     "metadata": {},
     "output_type": "execute_result"
    }
   ],
   "source": [
    "pregnancies.loc[2, 'sireGenes']"
   ]
  },
  {
   "cell_type": "code",
   "execution_count": 172,
   "metadata": {},
   "outputs": [],
   "source": [
    "s = \"{0:#0{1}b}\".format(int(pregnancies.loc[2, 'sireGenes'],16),258)\n",
    "b = \"{0:#0{1}b}\".format(int(pregnancies.loc[2, 'matronGenes'],16),258)"
   ]
  },
  {
   "cell_type": "code",
   "execution_count": 173,
   "metadata": {},
   "outputs": [
    {
     "data": {
      "text/plain": [
       "'0b0000000000000000010110110001100010010000100111000010011001001001100000100001011100000001110010100001001100000000011100011001100010001110011010111010110010110000000011001100001100010000010001000110010000011100011001010100001100110100100001111011100101100011'"
      ]
     },
     "execution_count": 173,
     "metadata": {},
     "output_type": "execute_result"
    }
   ],
   "source": [
    "s"
   ]
  },
  {
   "cell_type": "code",
   "execution_count": 174,
   "metadata": {},
   "outputs": [
    {
     "data": {
      "text/plain": [
       "'0b0000000000000000011000100101100010010000100101001010010101110001100001100110010110101000000011110000000111000000010101100000000010001110001010101100101101100011000111010100001100011000010000100011000010100001011000100100001001110100110001010011110110100011'"
      ]
     },
     "execution_count": 174,
     "metadata": {},
     "output_type": "execute_result"
    }
   ],
   "source": [
    "b"
   ]
  },
  {
   "cell_type": "code",
   "execution_count": null,
   "metadata": {
    "collapsed": true
   },
   "outputs": [],
   "source": []
  }
 ],
 "metadata": {
  "kernelspec": {
   "display_name": "Python 3",
   "language": "python",
   "name": "python3"
  },
  "language_info": {
   "codemirror_mode": {
    "name": "ipython",
    "version": 3
   },
   "file_extension": ".py",
   "mimetype": "text/x-python",
   "name": "python",
   "nbconvert_exporter": "python",
   "pygments_lexer": "ipython3",
   "version": "3.6.3"
  }
 },
 "nbformat": 4,
 "nbformat_minor": 2
}
