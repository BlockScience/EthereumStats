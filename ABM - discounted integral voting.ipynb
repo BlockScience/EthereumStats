{
 "cells": [
  {
   "cell_type": "code",
   "execution_count": 1,
   "metadata": {},
   "outputs": [],
   "source": [
    "import pandas as pd\n",
    "import numpy as np\n",
    "import matplotlib.pyplot as plt\n",
    "import seaborn as sns\n",
    "import random\n",
    "\n",
    "from scipy.stats import gamma\n",
    "\n",
    "%matplotlib inline"
   ]
  },
  {
   "cell_type": "markdown",
   "metadata": {},
   "source": [
    "# Discounted integral Voting"
   ]
  },
  {
   "cell_type": "markdown",
   "metadata": {},
   "source": [
    "Simple model proposed for implementing and testing a voting scheme\n",
    "\n",
    "- Assume a dynamic supply of governance tokens accessed by a bonding ETH (linear bonding curve)\n",
    "- Assume this tokens also represent a stake in a revenue generating process\n",
    "- The revenue generating process is has one parameter which is \"governed\" \n",
    "- The revenue generated is random and there is a true \"best parameter\" unknown to the voters which may change\n",
    "- The goal of the voting system is for the selected parameter to track the \"best parameter\""
   ]
  },
  {
   "cell_type": "code",
   "execution_count": 2,
   "metadata": {},
   "outputs": [],
   "source": [
    "#Define the Revenue generating process\n",
    "def revenue(true_best_param,current_voted_param ):\n",
    "    #use an concave function with unique maximum as true_best_param = current_voted_param\n",
    "    base_scale = 1\n",
    "    scale = base_scale*np.exp(-(true_best_param-current_voted_param)**2)\n",
    "    shape = .5\n",
    "    return gamma(scale, shape).rvs()"
   ]
  },
  {
   "cell_type": "code",
   "execution_count": 3,
   "metadata": {},
   "outputs": [
    {
     "data": {
      "image/png": "[encoded data removed]",
      "text/plain": [
       "<matplotlib.figure.Figure at 0x1136a1f98>"
      ]
     },
     "metadata": {},
     "output_type": "display_data"
    }
   ],
   "source": [
    "#test the revenue random variable as a function of how right the param is\n",
    "N = 1000\n",
    "bins = 10\n",
    "d11=np.zeros(N)\n",
    "d12=np.zeros(N)\n",
    "d21=np.zeros(N)\n",
    "d110=np.zeros(N)\n",
    "d101=np.zeros(N)\n",
    "for i in range(N):\n",
    "    d11[i] = revenue(1,1)\n",
    "    d12[i] = revenue(1,2)\n",
    "    d21[i] = revenue(2,1)\n",
    "    d110[i] = revenue(1,10)\n",
    "    d101[i] = revenue(10,1)\n",
    "\n",
    "plt.hist(d11, bins, alpha=0.5, label='d11')\n",
    "plt.hist(d12, bins, alpha=0.5, label='d12')\n",
    "plt.hist(d21, bins, alpha=0.5, label='d21')\n",
    "plt.hist(d110, bins, alpha=0.5, label='d110')\n",
    "plt.hist(d101, bins, alpha=0.5, label='d101')\n",
    "\n",
    "plt.legend(loc='upper right')\n",
    "plt.show()"
   ]
  },
  {
   "cell_type": "code",
   "execution_count": 4,
   "metadata": {},
   "outputs": [],
   "source": [
    "#Lets assuming that all tokens in existence is given by T\n",
    "\n",
    "def bond_mint(eth, Eth, Tokens):\n",
    "    return eth*Tokens/Eth\n",
    "\n",
    "def burn_withdraw(tokens, Eth, Tokens):\n",
    "    return tokens*Eth/Tokens\n"
   ]
  },
  {
   "cell_type": "code",
   "execution_count": 5,
   "metadata": {},
   "outputs": [],
   "source": [
    "#define a set of agents\n",
    "agents = {}\n",
    "\n",
    "#for simplicity we just assume that any tokens owned a staked to vote\n",
    "def add_agent(eth, true_best_param, Eth, Tokens):\n",
    "    agents[str(len(agents))] = {\"eth\":eth,\n",
    "                           \"tokens\":0,\n",
    "                           \"param_belief\": 2*true_best_param*np.random.uniform(),\n",
    "                           \"value_belief\":2*Tokens/Eth*np.random.uniform()}\n",
    "    \n",
    "\n",
    "def agent_acts(a, Eth, Tokens, r, p):\n",
    "    #update value belief\n",
    "    agents[a][\"value_belief\"] = 2*Tokens/Eth*np.random.uniform()\n",
    "    \n",
    "    #update tokens held -- buy or sell -- pretty naive with random belief and random amount\n",
    "    if agents[a][\"value_belief\"]<Tokens/Eth:\n",
    "        urv =np.random.uniform() \n",
    "        burn = agents[a][\"tokens\"]*urv\n",
    "        eth_out = burn_withdraw(burn, Eth, Tokens)\n",
    "        \n",
    "        agents[a][\"tokens\"] = agents[a][\"tokens\"]-burn\n",
    "        agents[a][\"eth\"] = agents[a][\"eth\"] + eth_out\n",
    "        Tokens = Tokens - burn\n",
    "        Eth = Eth - eth_out\n",
    "        \n",
    "    else:\n",
    "        \n",
    "        urv =np.random.uniform() \n",
    "        bond =agents[a][\"eth\"]*urv\n",
    "        mint = bond_mint(bond, Eth, Tokens)\n",
    "        \n",
    "        agents[a][\"tokens\"] = agents[a][\"tokens\"]+mint\n",
    "        agents[a][\"eth\"] = agents[a][\"eth\"] -bond\n",
    "        Tokens = Tokens + mint\n",
    "        Eth = Eth + bond\n",
    "        \n",
    "    #update believe by taking a tiny step along slope of observations\n",
    "    \n",
    "    agents[a][\"param_belief\"] = np.max([0,agents[a][\"param_belief\"] + np.random.uniform()*np.polyfit(p, r, 1)[0]])\n",
    "\n",
    "    #print(agents[a][\"value_belief\"])\n",
    "    return Eth, Tokens, agents[a]\n",
    "\n",
    "\n"
   ]
  },
  {
   "cell_type": "code",
   "execution_count": 6,
   "metadata": {},
   "outputs": [],
   "source": [
    "K= 30000\n",
    "alpha=.95 #forgetfulness\n",
    "true_best_param = 5*np.ones(K) \n",
    "#throw a step change in there to mix things up\n",
    "#true_best_param[:int(K/2)] =.5*true_best_param[:int(K/2)]\n",
    "\n",
    "\n",
    "E=np.zeros(K)\n",
    "T=np.zeros(K)\n",
    "\n",
    "Eth =1\n",
    "Tokens =100\n",
    "E[0] = Eth\n",
    "T[0] = Tokens\n",
    "\n",
    "agents = {}\n",
    "add_agent(gamma(5,1).rvs(), true_best_param[0], Eth, Tokens)\n",
    "\n",
    "votes=np.zeros(K)\n",
    "count=np.zeros(K)\n",
    "param=np.zeros(K)\n",
    "rev=np.zeros(K)\n",
    "\n",
    "n = np.zeros(K)\n",
    "n[0]=1\n",
    "\n",
    "for k in range(1,K):\n",
    "    Eth = E[k-1]\n",
    "    Tokens = T[k-1]\n",
    "    #resolve governance -- what is the belief of the param\n",
    "    votes[k] = (np.sum([agents[a][\"tokens\"]*agents[a][\"param_belief\"] for a in list(agents.keys())])+ alpha*votes[k-1])\n",
    "    count[k] = (np.sum([agents[a][\"tokens\"] for a in list(agents.keys())])+ alpha*count[k-1])\n",
    "    if count[k]>0:\n",
    "        param[k] = votes[k]/count[k]\n",
    "    else:\n",
    "        param[k] = 1\n",
    "    rev[k] = revenue(true_best_param[k],param[k])\n",
    "    Eth = Eth+rev[k]\n",
    "    \n",
    "    #new agents join\n",
    "    if np.random.uniform()< np.log10(K/k):\n",
    "        new = int(2*np.random.uniform())\n",
    "        for i in range(new):\n",
    "            add_agent(gamma(5,1).rvs(), true_best_param[k], Eth, Tokens)\n",
    "    n[k]=len(agents)\n",
    "        \n",
    "    #pick some to update on the order of log of agents\n",
    "    active = random.sample(list(agents.keys()), int(np.log2(len(agents))))\n",
    "    for a in active:\n",
    "        Eth, Tokens, val = agent_acts(a, Eth, Tokens, rev[:k+1], param[:k+1])\n",
    "        agents[a] = val\n",
    "        \n",
    "    E[k] = Eth\n",
    "    T[k] = Tokens\n",
    "    "
   ]
  },
  {
   "cell_type": "code",
   "execution_count": 7,
   "metadata": {},
   "outputs": [
    {
     "data": {
      "text/plain": [
       "29999"
      ]
     },
     "execution_count": 7,
     "metadata": {},
     "output_type": "execute_result"
    }
   ],
   "source": [
    "k"
   ]
  },
  {
   "cell_type": "code",
   "execution_count": 8,
   "metadata": {},
   "outputs": [
    {
     "data": {
      "text/plain": [
       "[<matplotlib.lines.Line2D at 0x10d9d1198>]"
      ]
     },
     "execution_count": 8,
     "metadata": {},
     "output_type": "execute_result"
    },
    {
     "data": {
      "image/png": "[encoded data removed]",
      "text/plain": [
       "<matplotlib.figure.Figure at 0x1138e7f28>"
      ]
     },
     "metadata": {},
     "output_type": "display_data"
    }
   ],
   "source": [
    "plt.plot(range(K),n)"
   ]
  },
  {
   "cell_type": "code",
   "execution_count": 9,
   "metadata": {},
   "outputs": [
    {
     "data": {
      "text/plain": [
       "(array([1.5019e+04, 1.0267e+04, 3.2000e+03, 1.0190e+03, 3.3800e+02,\n",
       "        1.0400e+02, 3.6000e+01, 9.0000e+00, 5.0000e+00, 3.0000e+00]),\n",
       " array([ 0.        ,  1.09558229,  2.19116458,  3.28674686,  4.38232915,\n",
       "         5.47791144,  6.57349373,  7.66907602,  8.76465831,  9.86024059,\n",
       "        10.95582288]),\n",
       " <a list of 10 Patch objects>)"
      ]
     },
     "execution_count": 9,
     "metadata": {},
     "output_type": "execute_result"
    },
    {
     "data": {
      "image/png": "[encoded data removed]",
      "text/plain": [
       "<matplotlib.figure.Figure at 0x1138837b8>"
      ]
     },
     "metadata": {},
     "output_type": "display_data"
    }
   ],
   "source": [
    "plt.hist(rev)"
   ]
  },
  {
   "cell_type": "code",
   "execution_count": 10,
   "metadata": {},
   "outputs": [
    {
     "data": {
      "text/plain": [
       "(array([2.00000000e+00, 5.00000000e-01, 1.50000179e+00, 5.00000000e-01,\n",
       "        5.00000001e-01, 5.01052386e-01, 1.61778462e+01, 2.68853863e+03,\n",
       "        8.20332653e+03, 9.16435732e+03, 2.14804582e+04, 3.49353597e+02,\n",
       "        0.00000000e+00, 0.00000000e+00, 0.00000000e+00, 0.00000000e+00,\n",
       "        0.00000000e+00, 0.00000000e+00, 0.00000000e+00, 0.00000000e+00,\n",
       "        0.00000000e+00, 2.00000000e+00, 0.00000000e+00, 0.00000000e+00,\n",
       "        0.00000000e+00]),\n",
       " array([-3.01701255, -2.69633204, -2.37565154, -2.05497104, -1.73429054,\n",
       "        -1.41361004, -1.09292954, -0.77224903, -0.45156853, -0.13088803,\n",
       "         0.18979247,  0.51047297,  0.83115348,  1.15183398,  1.47251448,\n",
       "         1.79319498,  2.11387548,  2.43455599,  2.75523649,  3.07591699,\n",
       "         3.39659749,  3.71727799,  4.03795849,  4.358639  ,  4.6793195 ,\n",
       "         5.        ]),\n",
       " <a list of 25 Patch objects>)"
      ]
     },
     "execution_count": 10,
     "metadata": {},
     "output_type": "execute_result"
    },
    {
     "data": {
      "image/png": "[encoded data removed]",
      "text/plain": [
       "<matplotlib.figure.Figure at 0x1144540b8>"
      ]
     },
     "metadata": {},
     "output_type": "display_data"
    }
   ],
   "source": [
    "plt.hist(true_best_param-param, weights = rev, bins=25)"
   ]
  },
  {
   "cell_type": "code",
   "execution_count": 11,
   "metadata": {},
   "outputs": [
    {
     "data": {
      "text/plain": [
       "[<matplotlib.lines.Line2D at 0x11403ab00>,\n",
       " <matplotlib.lines.Line2D at 0x1140536d8>]"
      ]
     },
     "execution_count": 11,
     "metadata": {},
     "output_type": "execute_result"
    },
    {
     "data": {
      "image/png": "[encoded data removed]",
      "text/plain": [
       "<matplotlib.figure.Figure at 0x1a1dc1d9e8>"
      ]
     },
     "metadata": {},
     "output_type": "display_data"
    }
   ],
   "source": [
    "plt.plot(range(K), true_best_param, range(K), param )"
   ]
  },
  {
   "cell_type": "code",
   "execution_count": 12,
   "metadata": {},
   "outputs": [
    {
     "data": {
      "text/plain": [
       "[<matplotlib.lines.Line2D at 0x113908f28>]"
      ]
     },
     "execution_count": 12,
     "metadata": {},
     "output_type": "execute_result"
    },
    {
     "data": {
      "image/png": "[encoded data removed]",
      "text/plain": [
       "<matplotlib.figure.Figure at 0x113fdcb00>"
      ]
     },
     "metadata": {},
     "output_type": "display_data"
    }
   ],
   "source": [
    "plt.plot(range(K), E/T)"
   ]
  },
  {
   "cell_type": "code",
   "execution_count": null,
   "metadata": {},
   "outputs": [],
   "source": []
  }
 ],
 "metadata": {
  "kernelspec": {
   "display_name": "Python 3",
   "language": "python",
   "name": "python3"
  },
  "language_info": {
   "codemirror_mode": {
    "name": "ipython",
    "version": 3
   },
   "file_extension": ".py",
   "mimetype": "text/x-python",
   "name": "python",
   "nbconvert_exporter": "python",
   "pygments_lexer": "ipython3",
   "version": "3.6.4"
  }
 },
 "nbformat": 4,
 "nbformat_minor": 2
}
